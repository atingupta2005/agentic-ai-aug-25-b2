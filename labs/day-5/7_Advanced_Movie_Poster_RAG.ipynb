{
  "cells": [
    {
      "cell_type": "markdown",
      "metadata": {
        "id": "QptZcwMEBim2"
      },
      "source": [
        "# Advanced Agentic AI: Multi-Modal RAG for Images\n",
        "\n",
        "This notebook builds a production-grade, multi-modal RAG agent. This advanced version includes:\n",
        "\n",
        "1.  **Conversational Memory**: The RAG agent remembers past questions for follow-up queries.\n",
        "2.  **Advanced Retrieval**: It extracts entities from queries to perform metadata filtering for more accurate results.\n",
        "3.  **Self-Correction Loop**: The agent validates its retrieval results and can ask for clarification if needed.\n",
        "4.  **Enhanced Explainability**: The final output shows the exact context used by the LLM to generate an answer."
      ]
    },
    {
      "cell_type": "markdown",
      "metadata": {
        "id": "es7WBTftBim7"
      },
      "source": [
        "## 1. Setup and Installation"
      ]
    },
    {
      "cell_type": "code",
      "execution_count": 6,
      "metadata": {
        "id": "NoYZFzcrBim8"
      },
      "outputs": [],
      "source": [
        "!pip install -q langgraph openai pinecone python-dotenv pillow tqdm langchain langchain_openai langgraph-checkpoint-sqlite"
      ]
    },
    {
      "cell_type": "markdown",
      "metadata": {
        "id": "_dXEElTOBim9"
      },
      "source": [
        "## 2. Imports and Configuration Loading"
      ]
    },
    {
      "cell_type": "code",
      "execution_count": 7,
      "metadata": {
        "id": "se9LvuH5Bim-"
      },
      "outputs": [],
      "source": [
        "import os  # For interacting with the operating system, like managing file paths.\n",
        "import base64  # For encoding image files into a text string to send to vision models.\n",
        "import configparser  # For reading settings and prompts from the .ini configuration files.\n",
        "import sqlite3  # For creating the connection to the local SQLite database for memory.\n",
        "import uuid  # For generating unique IDs for each conversational thread.\n",
        "from dotenv import load_dotenv  # For loading secret API keys from the .env file.\n",
        "from openai import OpenAI  # The main client for making API calls to OpenAI models.\n",
        "from pinecone import Pinecone as PineconeClient, ServerlessSpec  # The client for managing the Pinecone vector database.\n",
        "from IPython.display import Markdown, display, Image as IPImage  # For displaying formatted text and images in the notebook output.\n",
        "from typing import TypedDict, List, Dict, Annotated  # For creating typed data structures for our agent's state.\n",
        "from langgraph.graph import StateGraph, END, START  # Core components for building the agent's workflow graph.\n",
        "from langgraph.checkpoint.sqlite import SqliteSaver  # The specific class for saving the agent's state to a SQLite file.\n",
        "from langgraph.graph.message import add_messages  # A helper to correctly manage conversational history in the state.\n",
        "from langchain_core.messages import BaseMessage, HumanMessage, AIMessage  # Standard classes for representing messages in the chat history.\n",
        "from PIL import Image  # The Python Imaging Library, used for opening and processing image files.\n",
        "from tqdm import tqdm  # A library for creating progress bars to monitor long loops.\n",
        "import warnings  # For managing warning messages displayed in the notebook.\n",
        "\n",
        "# Suppress common, non-critical warnings to keep the output clean.\n",
        "warnings.filterwarnings('ignore')"
      ]
    },
    {
      "cell_type": "code",
      "execution_count": 8,
      "metadata": {
        "id": "riulkzJ0Bim_",
        "colab": {
          "base_uri": "https://localhost:8080/"
        },
        "outputId": "9eda3c3a-0cef-4cb4-b186-b1652de9f67a"
      },
      "outputs": [
        {
          "output_type": "stream",
          "name": "stdout",
          "text": [
            "API keys loaded.\n",
            "Configuration loaded.\n"
          ]
        }
      ],
      "source": [
        "try:\n",
        "    load_dotenv(\"dev.env\")\n",
        "    OPENAI_API_KEY = os.getenv(\"OPENAI_API_KEY\")\n",
        "    PINECONE_API_KEY = os.getenv(\"PINECONE_API_KEY\")\n",
        "    if not OPENAI_API_KEY or not PINECONE_API_KEY:\n",
        "        raise ValueError(\"API keys not found.\")\n",
        "    print(\"API keys loaded.\")\n",
        "\n",
        "    config = configparser.ConfigParser()\n",
        "    config.read('7-config.ini')\n",
        "\n",
        "    IMAGE_DIRECTORY = config.get('Paths', 'image_directory')\n",
        "    OCR_MODEL = config.get('Models', 'ocr_model')\n",
        "    DESCRIPTION_MODEL = config.get('Models', 'description_model')\n",
        "    EMBEDDING_MODEL = config.get('Models', 'embedding_model')\n",
        "    RAG_MODEL = config.get('Models', 'rag_model')\n",
        "    FAST_REASONING_MODEL = config.get('Models', 'fast_reasoning_model')\n",
        "    PINECONE_INDEX_NAME = config.get('Pinecone', 'index_name')\n",
        "    IMAGE_LIMIT = config.getint('Parameters', 'image_limit', fallback=0)\n",
        "    PINECONE_BATCH_SIZE = config.getint('Parameters', 'pinecone_batch_size', fallback=100)\n",
        "    TOP_K_RETRIEVAL = config.getint('Parameters', 'top_k_retrieval', fallback=3)\n",
        "    OCR_PROMPT = config.get('Prompts', 'ocr_prompt')\n",
        "    DESCRIPTION_PROMPT = config.get('Prompts', 'description_prompt')\n",
        "    RAG_PROMPT = config.get('Prompts', 'rag_prompt')\n",
        "    print(\"Configuration loaded.\")\n",
        "\n",
        "except Exception as e:\n",
        "    print(f\"Error during setup: {e}\")"
      ]
    },
    {
      "cell_type": "code",
      "source": [
        "IMAGE_DIRECTORY"
      ],
      "metadata": {
        "colab": {
          "base_uri": "https://localhost:8080/",
          "height": 35
        },
        "id": "w_3g2wMfR_Yh",
        "outputId": "20a24053-4acb-49b4-d9c5-40797622553b"
      },
      "execution_count": 9,
      "outputs": [
        {
          "output_type": "execute_result",
          "data": {
            "text/plain": [
              "'./rag-data/'"
            ],
            "application/vnd.google.colaboratory.intrinsic+json": {
              "type": "string"
            }
          },
          "metadata": {},
          "execution_count": 9
        }
      ]
    },
    {
      "cell_type": "markdown",
      "metadata": {
        "id": "3gESb9kVBim_"
      },
      "source": [
        "# Phase 1: The Indexing Pipeline (Unchanged)\n",
        "\n",
        "This phase remains the same. It is a one-time process to build our knowledge base in Pinecone. If you have already run this successfully, you can skip these cells."
      ]
    },
    {
      "cell_type": "code",
      "execution_count": 10,
      "metadata": {
        "id": "0rs7CvNlBim_"
      },
      "outputs": [],
      "source": [
        "# ======================================================================================\n",
        "# This class defines the 'state' for our Indexing Pipeline.\n",
        "# Think of it as a structured \"job folder\" that gets passed between each step (node)\n",
        "# in our graph. Using a TypedDict ensures that the data at each step has a\n",
        "# consistent and predictable structure, which helps prevent bugs.\n",
        "#\n",
        "# Fields:\n",
        "#   - image_paths: A list that will hold the file paths of all images found\n",
        "#                  in the source directory.\n",
        "#   - processed_data: A list that will store the results of the analysis. Each item\n",
        "#                     will be a dictionary containing the extracted text and visual\n",
        "#                     description for a single image.\n",
        "#   - error_message: A string that acts as a status flag. If any node encounters\n",
        "#                    a problem, it will record the error message here, allowing\n",
        "#                    the graph to handle failures gracefully.\n",
        "# ======================================================================================\n",
        "\n",
        "class IndexingState(TypedDict):\n",
        "    image_paths: List[str]\n",
        "    # Add new fields to store paths to text and video files\n",
        "    text_paths: List[str]\n",
        "    video_paths: List[str]\n",
        "    # The processed data list will now store all data types\n",
        "    processed_data: List[Dict]\n",
        "    error_message: str"
      ]
    },
    {
      "cell_type": "code",
      "source": [
        "def image_to_base64(image_path):\n",
        "    try:\n",
        "        with Image.open(image_path) as img:\n",
        "            img = img.convert(\"RGB\")\n",
        "            img.thumbnail((1024, 1024))\n",
        "            import io\n",
        "            buffer = io.BytesIO()\n",
        "            img.save(buffer, format=\"JPEG\")\n",
        "            return base64.b64encode(buffer.getvalue()).decode('utf-8')\n",
        "    except Exception as e:\n",
        "        return None"
      ],
      "metadata": {
        "id": "Kc0HlOJ1Eq3Q"
      },
      "execution_count": 11,
      "outputs": []
    },
    {
      "cell_type": "code",
      "source": [
        "client = OpenAI()"
      ],
      "metadata": {
        "id": "DKlTUIVVEqt0"
      },
      "execution_count": 12,
      "outputs": []
    },
    {
      "cell_type": "code",
      "source": [
        "def load_image_paths_node(state: IndexingState):\n",
        "    print(\"--- NODE: Loading Image Paths ---\")\n",
        "    try:\n",
        "        paths = [os.path.join(IMAGE_DIRECTORY, f) for f in os.listdir(IMAGE_DIRECTORY) if f.lower().endswith(('.png', '.jpg', '.jpeg'))]\n",
        "        if IMAGE_LIMIT > 0:\n",
        "            paths = paths[:IMAGE_LIMIT]\n",
        "        print(f\"Found {len(paths)} images to process.\")\n",
        "        return {\"image_paths\": paths}\n",
        "    except Exception as e:\n",
        "        return {\"error_message\": f\"Failed to load images: {e}\"}\n",
        "\n"
      ],
      "metadata": {
        "id": "Pm87ZOqUEqYB"
      },
      "execution_count": 13,
      "outputs": []
    },
    {
      "cell_type": "code",
      "source": [
        "def load_text_and_video_paths_node(state: IndexingState):\n",
        "    print(\"--- NODE: Loading Text and Video Paths ---\")\n",
        "    try:\n",
        "        # Load text file paths\n",
        "        text_paths = [os.path.join(IMAGE_DIRECTORY, f) for f in os.listdir(IMAGE_DIRECTORY) if f.lower().endswith(('.txt'))]\n",
        "\n",
        "        # Load video file paths (conceptual for this example)\n",
        "        video_paths = [os.path.join(IMAGE_DIRECTORY, f) for f in os.listdir(IMAGE_DIRECTORY) if f.lower().endswith(('.mp4', '.avi'))]\n",
        "\n",
        "        print(f\"Found {len(text_paths)} text files and {len(video_paths)} video files.\")\n",
        "        return {\"text_paths\": text_paths, \"video_paths\": video_paths}\n",
        "    except Exception as e:\n",
        "        return {\"error_message\": f\"Failed to load text/video paths: {e}\"}"
      ],
      "metadata": {
        "id": "CVb46YabVGMw"
      },
      "execution_count": 14,
      "outputs": []
    },
    {
      "cell_type": "code",
      "source": [
        "def save_text_to_file(text_content, file_path):\n",
        "    \"\"\"Saves the given text content to a specified file path.\"\"\"\n",
        "    try:\n",
        "        with open(file_path, 'w', encoding='utf-8') as f:\n",
        "            f.write(text_content)\n",
        "        print(f\"Saved OCR text to {file_path}\")\n",
        "    except Exception as e:\n",
        "        print(f\"Error saving file {file_path}: {e}\")"
      ],
      "metadata": {
        "id": "oN2-LAGSUJbS"
      },
      "execution_count": 15,
      "outputs": []
    },
    {
      "cell_type": "code",
      "source": [
        "def analyze_images_node(state: IndexingState):\n",
        "    # Print a heading to indicate this processing stage\n",
        "    print(\"--- NODE: Analyzing Images ---\")\n",
        "    pc = PineconeClient(api_key=PINECONE_API_KEY)\n",
        "\n",
        "    # Check if the index already exists\n",
        "    if PINECONE_INDEX_NAME not in pc.list_indexes().names():\n",
        "        # If the index does not exist, create it\n",
        "        pc.create_index(\n",
        "            name=PINECONE_INDEX_NAME,\n",
        "            dimension=1536,  # dimensionality of the embedding vector\n",
        "            metric=\"cosine\", # similarity metric\n",
        "            spec=ServerlessSpec(cloud=\"aws\", region=\"us-east-1\") # serverless index config\n",
        "        )\n",
        "\n",
        "    index = pc.Index(PINECONE_INDEX_NAME)\n",
        "\n",
        "    # List to store the final processed results\n",
        "    processed_data = []\n",
        "\n",
        "    # Loop through all image paths using tqdm for progress bar display\n",
        "    ktr=0\n",
        "    for path in tqdm(state['image_paths'], desc=\"Analyzing Images\"):\n",
        "        if ktr>10:\n",
        "          break\n",
        "        ktr=ktr+1\n",
        "        vector_id = os.path.basename(path)\n",
        "        # Query Pinecone to check if vector exists\n",
        "        result = index.fetch(ids=[vector_id])\n",
        "\n",
        "        if result.vectors:\n",
        "          print(f\"Skipping analysis for {vector_id}, vector already exists.\")\n",
        "          continue\n",
        "\n",
        "        # Convert the image at the given path to a base64-encoded string\n",
        "        base64_image = image_to_base64(path)\n",
        "\n",
        "        # Skip the image if conversion failed or returned empty\n",
        "        if not base64_image:\n",
        "            continue\n",
        "\n",
        "        try:\n",
        "            # Step 1: Perform OCR (Optical Character Recognition) using a language model API\n",
        "            ocr_response = client.chat.completions.create(\n",
        "                model=OCR_MODEL,  # model used for OCR\n",
        "                messages=[\n",
        "                    {\"role\": \"user\", \"content\": [\n",
        "                        {\"type\": \"text\", \"text\": OCR_PROMPT},  # instruction prompt\n",
        "                        {\"type\": \"image_url\", \"image_url\": {\"url\": f\"data:image/jpeg;base64,{base64_image}\"}}  # image data\n",
        "                    ]}\n",
        "                ]\n",
        "            )\n",
        "            # Extract the OCR result text from the response\n",
        "            ocr_text = ocr_response.choices[0].message.content\n",
        "            if not \"I'm sorry\" in ocr_text:\n",
        "              base_filename = os.path.splitext(os.path.basename(path))[0]\n",
        "              txt_path = os.path.join(IMAGE_DIRECTORY, f\"{base_filename}.txt\")\n",
        "              save_text_to_file(ocr_text, txt_path)\n",
        "            else:\n",
        "              print(\"Can't extract the text\")\n",
        "\n",
        "            # Step 2: Generate a description of the image using another model\n",
        "            desc_response = client.chat.completions.create(\n",
        "                model=DESCRIPTION_MODEL,  # model used for generating descriptions\n",
        "                messages=[\n",
        "                    {\"role\": \"user\", \"content\": [\n",
        "                        {\"type\": \"text\", \"text\": DESCRIPTION_PROMPT},  # instruction prompt\n",
        "                        {\"type\": \"image_url\", \"image_url\": {\"url\": f\"data:image/jpeg;base64,{base64_image}\"}}  # same image data\n",
        "                    ]}\n",
        "                ]\n",
        "            )\n",
        "            # Extract the description result text\n",
        "            description = desc_response.choices[0].message.content\n",
        "\n",
        "            # Append the result to processed_data with image filename, OCR text, and description\n",
        "            processed_data.append({\n",
        "                \"id\": os.path.basename(path),  # filename of the image\n",
        "                \"ocr_text\": ocr_text,\n",
        "                \"description\": description\n",
        "            })\n",
        "\n",
        "        except Exception as e:\n",
        "            # If something goes wrong during processing, log the error and move to the next image\n",
        "            print(f\"Error analyzing image {path}: {e}\")\n",
        "            continue\n",
        "\n",
        "    print(\"processed_data\", processed_data)\n",
        "\n",
        "    # Return the processed data in a dictionary\n",
        "    return {\"processed_data\": processed_data}\n"
      ],
      "metadata": {
        "id": "m0vh2ADgEqKw"
      },
      "execution_count": 16,
      "outputs": []
    },
    {
      "cell_type": "code",
      "source": [
        "import cv2"
      ],
      "metadata": {
        "id": "BrYbb5kzly-7"
      },
      "execution_count": 17,
      "outputs": []
    },
    {
      "cell_type": "code",
      "source": [
        "def process_video_with_vision_model(video_path):\n",
        "    \"\"\"\n",
        "    Conceptual function to analyze a video by extracting keyframes\n",
        "    and generating a comprehensive description using a multi-modal model.\n",
        "    \"\"\"\n",
        "    print(f\"  - Starting video analysis for {os.path.basename(video_path)}\")\n",
        "    video_description = \"\"\n",
        "\n",
        "    try:\n",
        "        # Use a library like OpenCV to read the video file\n",
        "        cap = cv2.VideoCapture(video_path)\n",
        "        fps = cap.get(cv2.CAP_PROP_FPS)\n",
        "        frame_interval = int(fps * 5)  # Sample a frame every 5 seconds\n",
        "\n",
        "        frame_count = 0\n",
        "        descriptions = []\n",
        "\n",
        "        while True:\n",
        "            ret, frame = cap.read()\n",
        "            if not ret:\n",
        "                break\n",
        "\n",
        "            # Process only frames at the specified interval\n",
        "            if frame_count % frame_interval == 0:\n",
        "                # Convert the frame to a format suitable for an API call\n",
        "                _, buffer = cv2.imencode('.jpg', frame)\n",
        "                encoded_image = base64.b64encode(buffer).decode('utf-8')\n",
        "\n",
        "                # --- This is where a real-world API call would go ---\n",
        "                # A vision model would analyze the encoded_image with a prompt like:\n",
        "                # \"Describe the key activities, text, and objects in this scene.\"\n",
        "                # The response would then be appended to descriptions.\n",
        "\n",
        "                # Placeholder for the actual model response\n",
        "                descriptions.append(f\"Scene description from video frame {frame_count}: This is a placeholder description.\")\n",
        "\n",
        "            frame_count += 1\n",
        "\n",
        "        cap.release()\n",
        "\n",
        "        # Combine all frame descriptions into a single summary\n",
        "        video_description = \" \".join(descriptions)\n",
        "\n",
        "    except Exception as e:\n",
        "        print(f\"Error processing video file {video_path}: {e}\")\n",
        "        return None\n",
        "\n",
        "    return video_description"
      ],
      "metadata": {
        "id": "u98dD16klzl3"
      },
      "execution_count": 18,
      "outputs": []
    },
    {
      "cell_type": "code",
      "source": [
        "def analyze_text_and_video_node(state: IndexingState):\n",
        "    print(\"--- NODE: Analyzing Text and Video ---\")\n",
        "\n",
        "    # Get the processed data from the previous node\n",
        "    processed_data = state.get(\"processed_data\", [])\n",
        "\n",
        "    # Process text files\n",
        "    for path in tqdm(state['text_paths'], desc=\"Analyzing Text\"):\n",
        "        try:\n",
        "            with open(path, 'r', encoding='utf-8') as f:\n",
        "                text_content = f.read()\n",
        "\n",
        "            # Append the text data to the processed data list\n",
        "            processed_data.append({\n",
        "                \"id\": os.path.basename(path),\n",
        "                \"text_data\": text_content,\n",
        "                \"description\": f\"Extracted text from file: {text_content}\"\n",
        "            })\n",
        "        except Exception as e:\n",
        "            print(f\"Error reading text file {path}: {e}\")\n",
        "\n",
        "    # Process video files\n",
        "    for path in tqdm(state['video_paths'], desc=\"Analyzing Videos\"):\n",
        "        try:\n",
        "            # Use the new function to get a detailed description of the video\n",
        "            video_description = process_video_with_vision_model(path)\n",
        "\n",
        "            if video_description:\n",
        "                # Append the video description to the processed data list\n",
        "                processed_data.append({\n",
        "                    \"id\": os.path.basename(path),\n",
        "                    \"text_data\": video_description,\n",
        "                    \"description\": video_description, # Use the same description for both fields\n",
        "                    \"file_path\": path # Store the original video file path\n",
        "                })\n",
        "            else:\n",
        "                print(f\"Warning: Could not extract useful data from video {path}.\")\n",
        "\n",
        "        except Exception as e:\n",
        "            print(f\"Error analyzing video {path}: {e}\")\n",
        "\n",
        "    print(\"processed_data\", processed_data)\n",
        "    return {\"processed_data\": processed_data}"
      ],
      "metadata": {
        "id": "tg2osnUgVMbK"
      },
      "execution_count": 19,
      "outputs": []
    },
    {
      "cell_type": "code",
      "source": [
        "def chunk_text(text, max_tokens=1000, overlap=100):\n",
        "    \"\"\"Splits a long text into smaller chunks.\"\"\"\n",
        "    from langchain.text_splitter import RecursiveCharacterTextSplitter\n",
        "    text_splitter = RecursiveCharacterTextSplitter(\n",
        "        chunk_size=max_tokens,\n",
        "        chunk_overlap=overlap,\n",
        "        length_function=len\n",
        "    )\n",
        "    return text_splitter.split_text(text)"
      ],
      "metadata": {
        "id": "AXYByoCuhqVI"
      },
      "execution_count": 20,
      "outputs": []
    },
    {
      "cell_type": "code",
      "source": [
        "!rm -rf rag-data/"
      ],
      "metadata": {
        "id": "h9S2DYU2PS3k"
      },
      "execution_count": 21,
      "outputs": []
    },
    {
      "cell_type": "code",
      "source": [
        "def embed_and_upsert_node(state: IndexingState):\n",
        "    print(\"--- NODE: Embedding and Upserting to Pinecone ---\")\n",
        "\n",
        "    try:\n",
        "        pc = PineconeClient(api_key=PINECONE_API_KEY)\n",
        "\n",
        "        if PINECONE_INDEX_NAME not in pc.list_indexes().names():\n",
        "            pc.create_index(\n",
        "                name=PINECONE_INDEX_NAME,\n",
        "                dimension=1536,\n",
        "                metric=\"cosine\",\n",
        "                spec=ServerlessSpec(cloud=\"aws\", region=\"us-east-1\")\n",
        "            )\n",
        "\n",
        "        index = pc.Index(PINECONE_INDEX_NAME)\n",
        "        vectors_to_upsert = []\n",
        "\n",
        "        print(\"index: \", index)\n",
        "\n",
        "        print(\"state['processed_data']: \", state['processed_data'])\n",
        "\n",
        "        # Iterate over all processed data\n",
        "        for item in tqdm(state['processed_data'], desc=\"Embedding & Uploading\"):\n",
        "            # Combine all available text data from the item\n",
        "            combined_text = \"\"\n",
        "            if \"ocr_text\" in item:\n",
        "                print(\"There is ocr text\")\n",
        "                combined_text += f\"OCR text from image: {item['ocr_text']}. \"\n",
        "            if \"text_data\" in item:\n",
        "                print(\"There is text data\")\n",
        "                combined_text += f\"Extracted text from file: {item['text_data']}. \"\n",
        "            if \"description\" in item:\n",
        "                print(\"There is desciption\")\n",
        "                combined_text += f\"Visual/Summary description: {item['description']}. \"\n",
        "\n",
        "            if not combined_text:\n",
        "                print(\"Not found anything in combined_text. Skipping\")\n",
        "                continue\n",
        "\n",
        "            # Chunk the combined text\n",
        "            chunks = chunk_text(combined_text)\n",
        "\n",
        "            # Generate and upsert an embedding for each chunk\n",
        "            for i, chunk in enumerate(chunks):\n",
        "                if i % 100 == 0:\n",
        "                  print(f\"Working on chunk - {i} of {len(chunks)}\")\n",
        "                  chunk_id = f\"{item['id']}_chunk_{i}\"\n",
        "\n",
        "                # Check if the chunk already exists in Pinecone\n",
        "                #result = index.fetch(ids=[chunk_id])\n",
        "                #if result.vectors:\n",
        "                #    continue\n",
        "\n",
        "                embedding = client.embeddings.create(\n",
        "                    input=[chunk],\n",
        "                    model=EMBEDDING_MODEL\n",
        "                ).data[0].embedding\n",
        "\n",
        "                vectors_to_upsert.append({\n",
        "                    \"id\": chunk_id,\n",
        "                    \"values\": embedding,\n",
        "                    \"metadata\": {\n",
        "                        \"text\": chunk,\n",
        "                        \"original_id\": item['id'],\n",
        "                        \"file_path\": item.get('file_path', os.path.join(IMAGE_DIRECTORY, item['id']))\n",
        "                    }\n",
        "                })\n",
        "\n",
        "        if vectors_to_upsert:\n",
        "            index.upsert(vectors=vectors_to_upsert, batch_size=PINECONE_BATCH_SIZE)\n",
        "            print(f\"Successfully upserted {len(vectors_to_upsert)} vectors.\")\n",
        "        else:\n",
        "            print(\"No new vectors to upsert.\")\n",
        "\n",
        "        return {}\n",
        "\n",
        "    except Exception as e:\n",
        "        return {\"error_message\": f\"Failed to upsert to Pinecone: {e}\"}"
      ],
      "metadata": {
        "id": "C39xf--bE5sb"
      },
      "execution_count": 22,
      "outputs": []
    },
    {
      "cell_type": "code",
      "source": [
        "indexing_workflow = StateGraph(IndexingState)"
      ],
      "metadata": {
        "id": "oXCy4wuzFFjS"
      },
      "execution_count": 23,
      "outputs": []
    },
    {
      "cell_type": "code",
      "execution_count": 24,
      "metadata": {
        "id": "Znkn4OTbBinA",
        "colab": {
          "base_uri": "https://localhost:8080/"
        },
        "outputId": "ff566608-186e-47f2-8300-0dba002df152"
      },
      "outputs": [
        {
          "output_type": "execute_result",
          "data": {
            "text/plain": [
              "<langgraph.graph.state.StateGraph at 0x789989c11110>"
            ]
          },
          "metadata": {},
          "execution_count": 24
        }
      ],
      "source": [
        "# Add the node that loads image file paths into the workflow\n",
        "indexing_workflow.add_node(\"load_paths\", load_image_paths_node)\n",
        "\n",
        "# Add the new node that loads text and video file paths\n",
        "indexing_workflow.add_node(\"load_text_and_video\", load_text_and_video_paths_node)\n",
        "\n",
        "# Add the node that analyzes the images (e.g., OCR and description)\n",
        "indexing_workflow.add_node(\"analyze_images\", analyze_images_node)\n",
        "\n",
        "# Add the new node that analyzes text and video files\n",
        "indexing_workflow.add_node(\"analyze_text_and_video\", analyze_text_and_video_node)\n",
        "\n",
        "# Add the node that generates embeddings and uploads them to Pinecone\n",
        "indexing_workflow.add_node(\"embed_and_upsert\", embed_and_upsert_node)\n",
        "\n",
        "# Define the order of execution: start with loading image paths\n",
        "indexing_workflow.add_edge(START, \"load_paths\")\n",
        "\n",
        "# After loading image paths, proceed to loading text and video paths\n",
        "indexing_workflow.add_edge(\"load_paths\", \"load_text_and_video\")\n",
        "\n",
        "# After loading text and video paths, proceed to analyzing images\n",
        "indexing_workflow.add_edge(\"load_text_and_video\", \"analyze_images\")\n",
        "\n",
        "# After analyzing images, proceed to analyzing text and video\n",
        "indexing_workflow.add_edge(\"analyze_images\", \"analyze_text_and_video\")\n",
        "\n",
        "# After analyzing text and video, proceed to embedding and upserting\n",
        "indexing_workflow.add_edge(\"analyze_text_and_video\", \"embed_and_upsert\")\n",
        "\n",
        "# Mark the final node as the end of the workflow\n",
        "indexing_workflow.add_edge(\"embed_and_upsert\", END)"
      ]
    },
    {
      "cell_type": "code",
      "source": [
        "# Compile the defined workflow into an executable app or pipeline\n",
        "indexing_app = indexing_workflow.compile()"
      ],
      "metadata": {
        "id": "QFH9zXYpFBOG"
      },
      "execution_count": 25,
      "outputs": []
    },
    {
      "cell_type": "code",
      "source": [
        "# Log the start of the indexing pipeline execution\n",
        "print(\"--- Invoking Indexing Pipeline ---\")\n",
        "\n",
        "# Define the initial state passed into the pipeline\n",
        "initial_state = {\n",
        "    \"image_paths\": [],       # Will be populated by the 'load_paths' node\n",
        "    \"processed_data\": []     # Will be filled by later stages (analyze, embed, etc.)\n",
        "}\n",
        "\n",
        "# Invoke the compiled workflow with the initial state\n",
        "final_indexing_state = indexing_app.invoke(initial_state)\n",
        "\n",
        "# Check for any error returned in the final state and print appropriate message\n",
        "if final_indexing_state.get('error_message'):\n",
        "    print(f\"\\nIndexing failed: {final_indexing_state['error_message']}\")\n",
        "else:\n",
        "    print(\"\\n--- Indexing Pipeline Complete! ---\")\n"
      ],
      "metadata": {
        "colab": {
          "base_uri": "https://localhost:8080/",
          "height": 971,
          "referenced_widgets": [
            "4108243a51184c928fddb1b93e9da5d8",
            "f10c4d989242415ab0cbc2a968a5a57d",
            "6caad8d41b054e2d812290db53d4f2fb",
            "4f66931bb1c1404ebc2727b1cbeaad23",
            "bafd4edc86604444b49be2117293dc8a",
            "5a1ef0ccc2a745e098b4929d65ad0d02",
            "bfff0886942848b3932f3534f1e237d7",
            "aedd788b3b4240bbacff3217782cd4e1",
            "5387083b4eab4471b7af387569dcdc16",
            "c46ef3dd69a640e39cf7915965043795",
            "dfa92482bf2941b181374bebbc4e4309"
          ]
        },
        "id": "EMecShw7FA8e",
        "outputId": "51d19b3f-bca8-4939-f9e4-8bc6e5bc4a2d"
      },
      "execution_count": 27,
      "outputs": [
        {
          "output_type": "stream",
          "name": "stdout",
          "text": [
            "--- Invoking Indexing Pipeline ---\n",
            "--- NODE: Loading Image Paths ---\n",
            "Found 4 images to process.\n",
            "--- NODE: Loading Text and Video Paths ---\n",
            "Found 3 text files and 2 video files.\n",
            "--- NODE: Analyzing Images ---\n"
          ]
        },
        {
          "output_type": "stream",
          "name": "stderr",
          "text": [
            "\rAnalyzing Images:   0%|          | 0/4 [00:00<?, ?it/s]"
          ]
        },
        {
          "output_type": "stream",
          "name": "stdout",
          "text": [
            "Saved OCR text to ./rag-data/tt0085461.txt\n"
          ]
        },
        {
          "output_type": "stream",
          "name": "stderr",
          "text": [
            "\rAnalyzing Images:  25%|██▌       | 1/4 [00:16<00:50, 16.83s/it]"
          ]
        },
        {
          "output_type": "stream",
          "name": "stdout",
          "text": [
            "Saved OCR text to ./rag-data/tt0085470.txt\n"
          ]
        },
        {
          "output_type": "stream",
          "name": "stderr",
          "text": [
            "\rAnalyzing Images:  50%|█████     | 2/4 [00:32<00:32, 16.20s/it]"
          ]
        },
        {
          "output_type": "stream",
          "name": "stdout",
          "text": [
            "Saved OCR text to ./rag-data/tt0085450.txt\n"
          ]
        },
        {
          "output_type": "stream",
          "name": "stderr",
          "text": [
            "\rAnalyzing Images:  75%|███████▌  | 3/4 [00:41<00:12, 12.65s/it]"
          ]
        },
        {
          "output_type": "stream",
          "name": "stdout",
          "text": [
            "Saved OCR text to ./rag-data/tt0085473.txt\n"
          ]
        },
        {
          "output_type": "stream",
          "name": "stderr",
          "text": [
            "Analyzing Images: 100%|██████████| 4/4 [00:56<00:00, 14.02s/it]\n"
          ]
        },
        {
          "output_type": "stream",
          "name": "stdout",
          "text": [
            "processed_data [{'id': 'tt0085461.jpg', 'ocr_text': '**Extracted Text:**\\n\\n\"ONE OF THE YEAR\\'S 10 BEST.\"  \\n—National Board of Review, Delayed Release; David Denby, New York  \\nKnxt-Day: Bernard Dreeman, New York Post; Jeffrey Lyons, WCBS-TV; Kathleen Carroll, New York Daily Nevys\\n\\n\"The Dresser,\" Ronald Harwood\\'s eloquently funny and moving backstage tour de force.\\n—Vincent Canby, The New York Times\\n\\n\" \\'The Dresser\\' moves from great laughs to a knuckle-biting suspenseful finish. What makes it work is an actor\\'s performance.\"  \\n—Gary Arnold, Washington Post\\n\\n\"The Dresser seems to have sprung from some particular inner impulse or necessity. Scrupulously directed by Peter Yates, it unfolds with the tautness and economy of well-crafted suspense.\"  \\n—David Denby, New York Knxt-Day\\n\\n\"The Dresser succeeds on strength of its superb performances-the work of Finney and Courtenay is certainly impressive.. this movie will be remembered for their virtuoso interplay.\"  \\n—Gregory Quinn, Channel 9 News, WOR TV\\n\\nIn \"The Dresser\" two of our finest actors provide extraordinary contrast as the fatally wounded \"Sir\" of Shakespeare\\'s Macbeth, and the fiercely devoted dresser who understands his master\\'s every mood-and every motive. Working together, Albert Finney (as \"Sir\") and Tom Courtenay (as the dresser) give perhaps the finest performances of their distinguished careers. \"The Dresser\" is based on a celebrated play by Ronald Harwood, adapted to the screen by the author, directed by Peter Yates (\"Breaking Away,\" \"The Deep\") and produced by Peter Yates and Ronald Harwood.\\n\\nJOHNSON/LINO PICTURE \\n\\nPETER YATES\\n\"THE DRESS\"\\n\\nALBERT FINNEY-TOM COURTENAY \\n\\nas \"Sir\" as Norman\\n\\nThe dresser\\n\\nwith\\n\\nTHE\\n\\nBYRON JENNINGS and\\n\\nEILEEN RICHARDSON \\n\\nBY PAUL HEARD Estacate THE DRESSER written by RONALD HARWOOD\\nby\\nRONALD\\nPETER HARWOOD YATES\\n\\nA Columbia Johnson Films - Enterprises Production   \\n\\nIn Technicolor® A J.D.S. Film Release ©1983 Columbia Pictures Industries, Inc. All Rights Reserved\\n\\nFOR PRIVATE REVIEWING PURPOSES ONLY  \\n\\nNOT FOR PUBLIC EXHIBITION  \\n\\n**Details of Other Objects:**\\n\\n- The image is a poster for the movie \"The Dresser.\"\\n- It includes an illustration with a scene depicting two men, one standing before a mirror adjusting his tie, reflecting the theme of theater and dressing.\\n- The background is a faded color with text in various fonts and sizes detailing reviews and cast information.\\n- Decorative lamps are visible above the mirror in the illustration.', 'description': 'The image is a movie poster for \"The Dresser.\" It features several key visual elements:\\n\\n1. **Title and Tagline**: The title \"THE DRESSER\" is prominently displayed at the bottom, likely in a bold and stylized font. Above it, there\\'s a tagline or quote that emphasizes the film\\'s acclaim.\\n\\n2. **Imagery**: The poster likely includes an illustration or photograph of characters related to the story, possibly in a theatrical setting, focusing on the theme of performance.\\n\\n3. **Color Palette**: The colors may be muted or dramatic, reflecting the film\\'s serious tone. Dark hues are common in dramatic movie posters, often creating a somber or intense atmosphere.\\n\\n4. **Text Information**: Along the sides or bottom, there are details about the cast, crew, and critical reviews, providing context about the film and its reception. \\n\\n5. **Layout and Design**: The overall design may balance the visual elements with text to guide the viewer\\'s eye through the important information, creating an engaging composition.\\n\\nThese elements work together to convey the film\\'s genre and themes, drawing the audience\\'s interest.'}, {'id': 'tt0085470.jpg', 'ocr_text': \"**Visible Text:**\\n\\n- NO CHEATING!\\n- NO GAMBLING!\\n- NO BOOZE!\\n- NO SMOKING!\\n- NO PIZZA!\\n- NO NOTHIN'!\\n  \\n- We're taking all the fun out of life - and putting it into a movie!\\n\\n- RODNEY DANGERFIELD\\n\\n- EA$Y MONEY\\n\\n- RODNEY DANGERFIELD\\n- JOE PESCI GERALDINE FITZGERALD CANDICE AZZARA JENNIFER JASON LEIGH\\n- with TAYLOR NEGRON VAL AVERY TOM NOONAN and JEFFREY JONES\\n- Written by JERRY BELSON MICHAEL ENDLER P.J. O'ROURKE \\n- BILL ZEIGEL ADAPTATION BY MITCH MARKOWITZ\\n- Produced by ROBERT GREENHUT Directed by JAMES SIGNORELLI\\n- Co-Executive Producers ROBERT SHAPIRO & SAMUEL Z. ARKOFF\\n- Executive Producers DENNIS BLAIR LENNY KARMAN\\n- Music by IRA NEWBORN Associate Producer THOMAS SCHLAMME\\n- Edited by RALPH ROSENBLUM \\n- Director of Photography RALPH BODE\\n- Distributed by ORION PICTURES \\n- R\\n\\n**Details of Other Objects:**\\n\\n- A cartoon-style caricature of a man's head with an exaggerated expression.\\n- The head appears to be part of a movie poster design.\\n- The color scheme is vibrant, with a focus on the facial illustration.\\n- The illustration has prominent features such as a wide-open mouth and expressive eyes.\\n- The text is integrated into the design, placed around the caricature.\", 'description': 'The image is a movie poster for \"Easy Money,\" featuring a cartoonish caricature of Rodney Dangerfield. \\n\\n### Visual Elements:\\n- **Color Scheme**: The poster uses a bright color palette, mainly featuring yellows and reds, which adds to the comedic tone.\\n- **Main Character**: Rodney Dangerfield is depicted with exaggerated facial features, emphasizing his expressions.\\n- **Text**: The poster includes bold, stylized text at the top and bottom, with lines like \"NO CHEATING!\", \"NO GAMBLING!\", and \"NO BOOZE!\" in a playful, attention-grabbing font.\\n- **Tagline**: A tagline in the center reads, \"We\\'re taking all the fun out of life - and putting it into a movie!\" in a smaller font, supporting the humorous theme.\\n- **Layout**: The character is centered against a plain background, which emphasizes his expressive face and the surrounding text.\\n\\nOverall, the design aims to convey a light-hearted and comedic vibe that aligns with the film\\'s content.'}, {'id': 'tt0085450.jpg', 'ocr_text': '**Extracted Text:**\\n\\n- He’s making the world safe for insanity.\\n- DAN AYKROYD\\n- DOCTOR DETROIT\\n- © 1983 Universal City Studios, Inc. All Rights Reserved.\\n- UNIVERSAL\\n\\n**Image Details:**\\n\\n- A person wearing a bright yellow jacket, green pants, and a tie, with a playful pose holding onto a rope.\\n- Four women in various colorful dresses are in the background.\\n- The design has a retro and dynamic style, with a purple and yellow color scheme around the title.\\n- Universal logo is present at the bottom.', 'description': 'The image features a vibrant movie poster for \"Doctor Detroit.\" At the center is a character portrayed by Dan Aykroyd, dressed in a bright green suit with a yellow shirt, who appears to be enthusiastically swinging from a chain. Surrounding him are four women in glamorous dresses, each with distinct hairstyles and colors, adding to the overall lively and chaotic theme.\\n\\nThe title \"Doctor Detroit\" is prominently displayed in bold yellow letters against a purple background, creating a striking contrast. Above the title, there is a tagline reading \"He\\'s making the world safe for insanity,\" which adds a playful and humorous tone to the poster. The overall design employs a bright color palette, contributing to a fun and energetic vibe typical of 1980s cinema.'}, {'id': 'tt0085473.jpg', 'ocr_text': \"**Extracted Text:**\\n\\n- Eddie Macon is running from a nightmare... \\n- running to a dream... and running for his life.\\n\\n- EDDIE MACON'S RUN\\n\\n- KIRK DOUGLAS  JOHN SCHNEIDER\\n- EDDIE MACON'S RUN\\n- A LORENZO SEMPLE JR Production \\n- starring KIRK DOUGLAS  JOHN SCHNEIDER\\n- produced by MARTIN BREGMAN  LOU ADELSON  RICK ROSENBERG\\n- written for the screen by LORENZO SEMPLE, JR.\\n- based on the novel EDDIE MACON'S RUN by JAMES McLENDON\\n- directed by JEFF KANEW\\n\\n**Objects and Details:**\\n\\n- The poster features two main characters: a man holding a gun on the left and another character in a sleeveless shirt on the right.\\n- There's an image of a family, including an adult holding a child, placed below the central character.\\n- The central figure is running, with the title split vertically across the image.\\n- The style of the poster suggests it is promoting a dramatic or action film.\", 'description': 'The image is a movie poster for \"Eddie Macon\\'s Run.\" \\n\\n**Visual Elements:**\\n\\n1. **Color Scheme**: The poster features a mix of bold colors, primarily yellows, blacks, and reds, creating a dramatic effect.\\n\\n2. **Central Figures**: There are two main characters positioned on either side of the poster. One is wearing a fedora and holding a gun, suggesting a sense of danger or authority. The other character appears more casual in a sleeveless shirt, reflecting a more relatable or vulnerable persona.\\n\\n3. **Title and Text**: The title \"EDDIE MACON\\'S RUN\" is prominently displayed in bold red letters, centered between the images of the characters. The tagline underneath brings attention to the theme of escaping danger and pursuing dreams.\\n\\n4. **Background**: The background is mostly plain, allowing the characters and text to stand out. The use of black and white elements contrasts against the vibrant title colors.\\n\\n5. **Additional Characters**: In the middle, there are two smaller figures—presumably representing family or companions—adding emotional depth to the storyline being represented.\\n\\nOverall, the poster conveys a sense of urgency and drama through its visual composition.'}]\n",
            "--- NODE: Analyzing Text and Video ---\n"
          ]
        },
        {
          "output_type": "stream",
          "name": "stderr",
          "text": [
            "Analyzing Text: 100%|██████████| 3/3 [00:00<00:00, 5053.38it/s]\n",
            "Analyzing Videos:   0%|          | 0/2 [00:00<?, ?it/s]"
          ]
        },
        {
          "output_type": "stream",
          "name": "stdout",
          "text": [
            "  - Starting video analysis for v-1.mp4\n"
          ]
        },
        {
          "output_type": "stream",
          "name": "stderr",
          "text": [
            "\rAnalyzing Videos:  50%|█████     | 1/2 [00:04<00:04,  4.89s/it]"
          ]
        },
        {
          "output_type": "stream",
          "name": "stdout",
          "text": [
            "  - Starting video analysis for v-2.mp4\n"
          ]
        },
        {
          "output_type": "stream",
          "name": "stderr",
          "text": [
            "Analyzing Videos: 100%|██████████| 2/2 [00:05<00:00,  2.97s/it]\n"
          ]
        },
        {
          "output_type": "stream",
          "name": "stdout",
          "text": [
            "processed_data [{'id': 'tt0085461.jpg', 'ocr_text': '**Extracted Text:**\\n\\n\"ONE OF THE YEAR\\'S 10 BEST.\"  \\n—National Board of Review, Delayed Release; David Denby, New York  \\nKnxt-Day: Bernard Dreeman, New York Post; Jeffrey Lyons, WCBS-TV; Kathleen Carroll, New York Daily Nevys\\n\\n\"The Dresser,\" Ronald Harwood\\'s eloquently funny and moving backstage tour de force.\\n—Vincent Canby, The New York Times\\n\\n\" \\'The Dresser\\' moves from great laughs to a knuckle-biting suspenseful finish. What makes it work is an actor\\'s performance.\"  \\n—Gary Arnold, Washington Post\\n\\n\"The Dresser seems to have sprung from some particular inner impulse or necessity. Scrupulously directed by Peter Yates, it unfolds with the tautness and economy of well-crafted suspense.\"  \\n—David Denby, New York Knxt-Day\\n\\n\"The Dresser succeeds on strength of its superb performances-the work of Finney and Courtenay is certainly impressive.. this movie will be remembered for their virtuoso interplay.\"  \\n—Gregory Quinn, Channel 9 News, WOR TV\\n\\nIn \"The Dresser\" two of our finest actors provide extraordinary contrast as the fatally wounded \"Sir\" of Shakespeare\\'s Macbeth, and the fiercely devoted dresser who understands his master\\'s every mood-and every motive. Working together, Albert Finney (as \"Sir\") and Tom Courtenay (as the dresser) give perhaps the finest performances of their distinguished careers. \"The Dresser\" is based on a celebrated play by Ronald Harwood, adapted to the screen by the author, directed by Peter Yates (\"Breaking Away,\" \"The Deep\") and produced by Peter Yates and Ronald Harwood.\\n\\nJOHNSON/LINO PICTURE \\n\\nPETER YATES\\n\"THE DRESS\"\\n\\nALBERT FINNEY-TOM COURTENAY \\n\\nas \"Sir\" as Norman\\n\\nThe dresser\\n\\nwith\\n\\nTHE\\n\\nBYRON JENNINGS and\\n\\nEILEEN RICHARDSON \\n\\nBY PAUL HEARD Estacate THE DRESSER written by RONALD HARWOOD\\nby\\nRONALD\\nPETER HARWOOD YATES\\n\\nA Columbia Johnson Films - Enterprises Production   \\n\\nIn Technicolor® A J.D.S. Film Release ©1983 Columbia Pictures Industries, Inc. All Rights Reserved\\n\\nFOR PRIVATE REVIEWING PURPOSES ONLY  \\n\\nNOT FOR PUBLIC EXHIBITION  \\n\\n**Details of Other Objects:**\\n\\n- The image is a poster for the movie \"The Dresser.\"\\n- It includes an illustration with a scene depicting two men, one standing before a mirror adjusting his tie, reflecting the theme of theater and dressing.\\n- The background is a faded color with text in various fonts and sizes detailing reviews and cast information.\\n- Decorative lamps are visible above the mirror in the illustration.', 'description': 'The image is a movie poster for \"The Dresser.\" It features several key visual elements:\\n\\n1. **Title and Tagline**: The title \"THE DRESSER\" is prominently displayed at the bottom, likely in a bold and stylized font. Above it, there\\'s a tagline or quote that emphasizes the film\\'s acclaim.\\n\\n2. **Imagery**: The poster likely includes an illustration or photograph of characters related to the story, possibly in a theatrical setting, focusing on the theme of performance.\\n\\n3. **Color Palette**: The colors may be muted or dramatic, reflecting the film\\'s serious tone. Dark hues are common in dramatic movie posters, often creating a somber or intense atmosphere.\\n\\n4. **Text Information**: Along the sides or bottom, there are details about the cast, crew, and critical reviews, providing context about the film and its reception. \\n\\n5. **Layout and Design**: The overall design may balance the visual elements with text to guide the viewer\\'s eye through the important information, creating an engaging composition.\\n\\nThese elements work together to convey the film\\'s genre and themes, drawing the audience\\'s interest.'}, {'id': 'tt0085470.jpg', 'ocr_text': \"**Visible Text:**\\n\\n- NO CHEATING!\\n- NO GAMBLING!\\n- NO BOOZE!\\n- NO SMOKING!\\n- NO PIZZA!\\n- NO NOTHIN'!\\n  \\n- We're taking all the fun out of life - and putting it into a movie!\\n\\n- RODNEY DANGERFIELD\\n\\n- EA$Y MONEY\\n\\n- RODNEY DANGERFIELD\\n- JOE PESCI GERALDINE FITZGERALD CANDICE AZZARA JENNIFER JASON LEIGH\\n- with TAYLOR NEGRON VAL AVERY TOM NOONAN and JEFFREY JONES\\n- Written by JERRY BELSON MICHAEL ENDLER P.J. O'ROURKE \\n- BILL ZEIGEL ADAPTATION BY MITCH MARKOWITZ\\n- Produced by ROBERT GREENHUT Directed by JAMES SIGNORELLI\\n- Co-Executive Producers ROBERT SHAPIRO & SAMUEL Z. ARKOFF\\n- Executive Producers DENNIS BLAIR LENNY KARMAN\\n- Music by IRA NEWBORN Associate Producer THOMAS SCHLAMME\\n- Edited by RALPH ROSENBLUM \\n- Director of Photography RALPH BODE\\n- Distributed by ORION PICTURES \\n- R\\n\\n**Details of Other Objects:**\\n\\n- A cartoon-style caricature of a man's head with an exaggerated expression.\\n- The head appears to be part of a movie poster design.\\n- The color scheme is vibrant, with a focus on the facial illustration.\\n- The illustration has prominent features such as a wide-open mouth and expressive eyes.\\n- The text is integrated into the design, placed around the caricature.\", 'description': 'The image is a movie poster for \"Easy Money,\" featuring a cartoonish caricature of Rodney Dangerfield. \\n\\n### Visual Elements:\\n- **Color Scheme**: The poster uses a bright color palette, mainly featuring yellows and reds, which adds to the comedic tone.\\n- **Main Character**: Rodney Dangerfield is depicted with exaggerated facial features, emphasizing his expressions.\\n- **Text**: The poster includes bold, stylized text at the top and bottom, with lines like \"NO CHEATING!\", \"NO GAMBLING!\", and \"NO BOOZE!\" in a playful, attention-grabbing font.\\n- **Tagline**: A tagline in the center reads, \"We\\'re taking all the fun out of life - and putting it into a movie!\" in a smaller font, supporting the humorous theme.\\n- **Layout**: The character is centered against a plain background, which emphasizes his expressive face and the surrounding text.\\n\\nOverall, the design aims to convey a light-hearted and comedic vibe that aligns with the film\\'s content.'}, {'id': 'tt0085450.jpg', 'ocr_text': '**Extracted Text:**\\n\\n- He’s making the world safe for insanity.\\n- DAN AYKROYD\\n- DOCTOR DETROIT\\n- © 1983 Universal City Studios, Inc. All Rights Reserved.\\n- UNIVERSAL\\n\\n**Image Details:**\\n\\n- A person wearing a bright yellow jacket, green pants, and a tie, with a playful pose holding onto a rope.\\n- Four women in various colorful dresses are in the background.\\n- The design has a retro and dynamic style, with a purple and yellow color scheme around the title.\\n- Universal logo is present at the bottom.', 'description': 'The image features a vibrant movie poster for \"Doctor Detroit.\" At the center is a character portrayed by Dan Aykroyd, dressed in a bright green suit with a yellow shirt, who appears to be enthusiastically swinging from a chain. Surrounding him are four women in glamorous dresses, each with distinct hairstyles and colors, adding to the overall lively and chaotic theme.\\n\\nThe title \"Doctor Detroit\" is prominently displayed in bold yellow letters against a purple background, creating a striking contrast. Above the title, there is a tagline reading \"He\\'s making the world safe for insanity,\" which adds a playful and humorous tone to the poster. The overall design employs a bright color palette, contributing to a fun and energetic vibe typical of 1980s cinema.'}, {'id': 'tt0085473.jpg', 'ocr_text': \"**Extracted Text:**\\n\\n- Eddie Macon is running from a nightmare... \\n- running to a dream... and running for his life.\\n\\n- EDDIE MACON'S RUN\\n\\n- KIRK DOUGLAS  JOHN SCHNEIDER\\n- EDDIE MACON'S RUN\\n- A LORENZO SEMPLE JR Production \\n- starring KIRK DOUGLAS  JOHN SCHNEIDER\\n- produced by MARTIN BREGMAN  LOU ADELSON  RICK ROSENBERG\\n- written for the screen by LORENZO SEMPLE, JR.\\n- based on the novel EDDIE MACON'S RUN by JAMES McLENDON\\n- directed by JEFF KANEW\\n\\n**Objects and Details:**\\n\\n- The poster features two main characters: a man holding a gun on the left and another character in a sleeveless shirt on the right.\\n- There's an image of a family, including an adult holding a child, placed below the central character.\\n- The central figure is running, with the title split vertically across the image.\\n- The style of the poster suggests it is promoting a dramatic or action film.\", 'description': 'The image is a movie poster for \"Eddie Macon\\'s Run.\" \\n\\n**Visual Elements:**\\n\\n1. **Color Scheme**: The poster features a mix of bold colors, primarily yellows, blacks, and reds, creating a dramatic effect.\\n\\n2. **Central Figures**: There are two main characters positioned on either side of the poster. One is wearing a fedora and holding a gun, suggesting a sense of danger or authority. The other character appears more casual in a sleeveless shirt, reflecting a more relatable or vulnerable persona.\\n\\n3. **Title and Text**: The title \"EDDIE MACON\\'S RUN\" is prominently displayed in bold red letters, centered between the images of the characters. The tagline underneath brings attention to the theme of escaping danger and pursuing dreams.\\n\\n4. **Background**: The background is mostly plain, allowing the characters and text to stand out. The use of black and white elements contrasts against the vibrant title colors.\\n\\n5. **Additional Characters**: In the middle, there are two smaller figures—presumably representing family or companions—adding emotional depth to the storyline being represented.\\n\\nOverall, the poster conveys a sense of urgency and drama through its visual composition.'}, {'id': '66413.txt', 'text_data': \"Newsgroups: comp.windows.x\\nPath: cantaloupe.srv.cs.cmu.edu!crabapple.srv.cs.cmu.edu!fs7.ece.cmu.edu!europa.eng.gtefsd.com!howland.reston.ans.net!wupost!uunet!pipex!sunic!ericom!eos.ericsson.se!etxmesa\\nFrom: etxmesa@eos.ericsson.se (Michael Salmon)\\nSubject: Re: Help building X11R5 with gcc\\nMessage-ID: <1993Apr6.091041.7691@ericsson.se>\\nKeywords: X11R5, gcc\\nSender: etxmesa@eos6c02 (Michael Salmon)\\nNntp-Posting-Host: eos6c02.ericsson.se\\nReply-To: etxmesa@eos.ericsson.se (Michael Salmon)\\nOrganization: Ericsson Telecom AB\\nReferences:  <1993Apr6.024257.8480@etrog.se.citri.edu.au>\\nDate: Tue, 6 Apr 1993 09:10:41 GMT\\nLines: 23\\n\\nIn article <1993Apr6.024257.8480@etrog.se.citri.edu.au>\\ntim@kimba.catt.citri.edu.au (Tim Liddelow) writes:\\n|> Can people please send me any hints on building X11R5 with gcc 2.3.3 ?  Is\\n|> there any pitfalls to be avoided ?  Any hints ?  I would appreciate hearing other\\n|> peoples' stories on this.\\n\\nI have been building X11 with gcc since 2.1 and the only time I had\\ntrouble was when the position independant code option broke (so I\\ncouldn't use gcc to build Sun shared libraries). The important thing to\\ndo is to follow the tips given in the gcc release. Gcc generates code\\nthat requires libgcc2 and you should take that into account when\\ndeciding which compiler to use for the libraries.\\n\\n-- \\n\\nMichael Salmon\\n\\n#include\\t<standard.disclaimer>\\n#include\\t<witty.saying>\\n#include\\t<fancy.pseudo.graphics>\\n\\nEricsson Telecom AB\\nStockholm\\n\", 'description': \"Extracted text from file: Newsgroups: comp.windows.x\\nPath: cantaloupe.srv.cs.cmu.edu!crabapple.srv.cs.cmu.edu!fs7.ece.cmu.edu!europa.eng.gtefsd.com!howland.reston.ans.net!wupost!uunet!pipex!sunic!ericom!eos.ericsson.se!etxmesa\\nFrom: etxmesa@eos.ericsson.se (Michael Salmon)\\nSubject: Re: Help building X11R5 with gcc\\nMessage-ID: <1993Apr6.091041.7691@ericsson.se>\\nKeywords: X11R5, gcc\\nSender: etxmesa@eos6c02 (Michael Salmon)\\nNntp-Posting-Host: eos6c02.ericsson.se\\nReply-To: etxmesa@eos.ericsson.se (Michael Salmon)\\nOrganization: Ericsson Telecom AB\\nReferences:  <1993Apr6.024257.8480@etrog.se.citri.edu.au>\\nDate: Tue, 6 Apr 1993 09:10:41 GMT\\nLines: 23\\n\\nIn article <1993Apr6.024257.8480@etrog.se.citri.edu.au>\\ntim@kimba.catt.citri.edu.au (Tim Liddelow) writes:\\n|> Can people please send me any hints on building X11R5 with gcc 2.3.3 ?  Is\\n|> there any pitfalls to be avoided ?  Any hints ?  I would appreciate hearing other\\n|> peoples' stories on this.\\n\\nI have been building X11 with gcc since 2.1 and the only time I had\\ntrouble was when the position independant code option broke (so I\\ncouldn't use gcc to build Sun shared libraries). The important thing to\\ndo is to follow the tips given in the gcc release. Gcc generates code\\nthat requires libgcc2 and you should take that into account when\\ndeciding which compiler to use for the libraries.\\n\\n-- \\n\\nMichael Salmon\\n\\n#include\\t<standard.disclaimer>\\n#include\\t<witty.saying>\\n#include\\t<fancy.pseudo.graphics>\\n\\nEricsson Telecom AB\\nStockholm\\n\"}, {'id': '66400.txt', 'text_data': \"Newsgroups: comp.windows.x\\nPath: cantaloupe.srv.cs.cmu.edu!crabapple.srv.cs.cmu.edu!fs7.ece.cmu.edu!europa.eng.gtefsd.com!howland.reston.ans.net!noc.near.net!uunet!decwrl!netcomsv!netcom.com!zack\\nFrom: zack@netcom.com (Zack T. Smith)\\nSubject: Strange exposure problem\\nMessage-ID: <zackC519wy.Gy4@netcom.com>\\nOrganization: NETCOM On-line Communication Services (408 241-9760 guest)\\nDate: Mon, 5 Apr 1993 23:14:57 GMT\\nLines: 19\\n\\nHi, \\n\\nI'm trying to write a Motif program on an Interactive Unix machine, and I'm\\nobserving very strange behavior when my program attempts to expose a\\nDrawingArea. Namely, some Xlib operations work, and some do not. In\\nparticular, the expose consist of two XFillRectangle calls followed by some\\nXDrawPoint calls, and for reasons unknown to me the point calls are failing\\nwhenever a pulldown or popup up menu is (clicked on and) moved in the\\nrightward direction over the drawing area, but after the move, is still on\\nsome part of the drawing area. This also happens less consistently when the\\npulldown/popup is moved in the leftward direction.\\n\\nAssuming that my code is not doing anything incredibly odd, is this a server\\nbug?\\n\\nThanks,\\n\\nZack T. Smith\\n\\n\", 'description': \"Extracted text from file: Newsgroups: comp.windows.x\\nPath: cantaloupe.srv.cs.cmu.edu!crabapple.srv.cs.cmu.edu!fs7.ece.cmu.edu!europa.eng.gtefsd.com!howland.reston.ans.net!noc.near.net!uunet!decwrl!netcomsv!netcom.com!zack\\nFrom: zack@netcom.com (Zack T. Smith)\\nSubject: Strange exposure problem\\nMessage-ID: <zackC519wy.Gy4@netcom.com>\\nOrganization: NETCOM On-line Communication Services (408 241-9760 guest)\\nDate: Mon, 5 Apr 1993 23:14:57 GMT\\nLines: 19\\n\\nHi, \\n\\nI'm trying to write a Motif program on an Interactive Unix machine, and I'm\\nobserving very strange behavior when my program attempts to expose a\\nDrawingArea. Namely, some Xlib operations work, and some do not. In\\nparticular, the expose consist of two XFillRectangle calls followed by some\\nXDrawPoint calls, and for reasons unknown to me the point calls are failing\\nwhenever a pulldown or popup up menu is (clicked on and) moved in the\\nrightward direction over the drawing area, but after the move, is still on\\nsome part of the drawing area. This also happens less consistently when the\\npulldown/popup is moved in the leftward direction.\\n\\nAssuming that my code is not doing anything incredibly odd, is this a server\\nbug?\\n\\nThanks,\\n\\nZack T. Smith\\n\\n\"}, {'id': '64830.txt', 'text_data': 'Xref: cantaloupe.srv.cs.cmu.edu comp.lang.c:65945 comp.sources.d:9009 comp.unix.wizards:34201 alt.sources:7705 misc.misc:19347 comp.windows.x:64830\\nPath: cantaloupe.srv.cs.cmu.edu!das-news.harvard.edu!ogicse!network.ucsd.edu!pacbell.com!toad.com!chongo\\nFrom: chongo@toad.com (Landon C. Noll)\\nNewsgroups: comp.lang.c,comp.sources.d,comp.unix.wizards,alt.sources,misc.misc,comp.windows.x\\nSubject: 10th International Obfuscated C Code Contest Opening (1 of 2)\\nKeywords: ioccc\\nMessage-ID: <32194@toad.com>\\nDate: 1 Mar 93 12:08:28 GMT\\nArticle-I.D.: toad.32194\\nExpires: 7 May 93 00:00:00 GMT\\nReply-To: chongo@toad.com.UUCP (Landon C. Noll)\\nDistribution: world\\nOrganization: Nebula Consultants in San Francisco\\nLines: 850\\n\\nEnclosed are the rules, guidelines and related information for the 10th\\nInternational Obfuscated C Code Contest.  (This is part 1 of a 2 part\\nshar file).\\n\\nEnjoy!\\n\\nchongo <Landon Curt Noll> /\\\\oo/\\\\ \\nLarry Bassel\\n\\n=-=\\n\\n#!/bin/sh\\n# This is a shell archive (shar 3.32)\\n# made 03/01/1993 12:01 UTC by chongo@toad.com\\n# Source directory /tmp\\n#\\n# existing files WILL be overwritten\\n#\\n# This shar contains:\\n# length  mode       name\\n# ------ ---------- ------------------------------------------\\n#   8585 -r--r--r-- rules\\n#  25375 -r--r--r-- guidelines\\n#  33961 -r--r--r-- mkentry.c\\n#   6257 -r--r--r-- obfuscate.info\\n#\\n# ============= rules ==============\\necho \"x - extracting rules (Text)\"\\nsed \\'s/^X//\\' << \\'SHAR_EOF\\' > rules &&\\nX10th International Obfuscated C Code Contest Rules\\nX\\nXCopyright (c) Landon Curt Noll & Larry Bassel, 1993.  \\nXAll Rights Reserved.  Permission for personal, education or non-profit use is \\nXgranted provided this this copyright and notice are included in its entirety \\nXand remains unaltered.  All other uses must receive prior permission in writing \\nXfrom both Landon Curt Noll and Larry Bassel.\\nX\\nX    Obfuscate:  tr.v.  -cated, -cating, -cates.  1. a.  To render obscure.\\nX\\t\\tb.  To darken.  2. To confuse:  his emotions obfuscated his\\nX\\t\\tjudgment.  [LLat. obfuscare, to darken : ob(intensive) +\\nX\\t\\tLat. fuscare, to darken < fuscus, dark.] -obfuscation n.\\nX\\t\\tobfuscatory adj.\\nX\\nX\\nXGOALS OF THE CONTEST:\\nX\\nX    * To write the most Obscure/Obfuscated C program under the rules below.\\nX    * To show the importance of programming style, in an ironic way.\\nX    * To stress C compilers with unusual code.\\nX    * To illustrate some of the subtleties of the C language.\\nX    * To provide a safe forum for poor C code.  :-)\\nX\\nX\\nXRULES:\\nX\\nX    To help us with the volume of entries, we ask that you follow these rules:\\nX\\nX    1) Your entry must be a complete program.\\nX\\nX    2) Your entry must be <= 3217 bytes in length.  The number of characters\\nX       excluding whitespace (tab, space, newline), and excluding any ; { or }\\nX       followed by either whitespace or end of file, must be <= 1536.\\nX\\nX    3) Your entry must be submitted in the following format:\\nX\\nX---entry---\\nXrule:\\t1993\\nXfix:\\ty or n   (n => this is a new entry, y => this replaces an older entry)\\nXtitle:\\ttitle of entry  \\t\\t    (see comments below)\\nXentry:\\tEntry number from 0 to 7 inclusive  (your 1st entry should by 0)\\nXdate:\\tDate/time of submission in UTC\\t    (see comments below)\\nXhost:\\tMachine(s) and OS(s) under which your entry was tested\\nX\\tUse tab indented lines if needed\\nX---remark---\\nX    Place remarks about this entry in this section.  It would be helpful if\\nX    you were to indent your remarks with 4 spaces, though it is not a\\nX    requirement.  Also, if possible, try to avoid going beyond the 79th\\nX    column.  Blank lines are permitted.\\nX---author---\\nXname:\\tyour name\\nXorg:\\tSchool/Company/Organization\\nXaddr:\\tpostal address\\nX\\tuse tab indented lines to continue\\nX\\tdon\\'t forget to include the country\\nXemail:  Email address from a well known site or registered domain.\\nX        If you give several forms, list them on separate tab indented lines.\\nXanon:\\ty or n   (y => remain anonymous, n => ok to publish this info)\\nX---info---\\nXIf your program needs an info file, place a uuencoded copy of it in\\nXthis section.  In the case of multiple info files, use multiple info\\nXsections.  If your entry does not need a info file, skip this section.\\nX---build---\\nXPlace a uuencoded copy of the command(s) used to compile/build your program\\nXin this section.  It must uudecode into a file named \\'build\\'.  The resulting\\nXfile must be 255 bytes or less.\\nX---program---\\nXPlace a uuencoded copy of your program in this section.  It must uudecode\\nXinto a file named is \\'prog.c\\'.  The resulting file must follow rule #2.\\nX---end---\\nX\\nX      Regarding the above format:\\nX\\nX\\t* The title must match the expression: [a-zA-Z0-9_=][a-zA-Z0-9_=+-]*\\nX\\t  and must be 1 to 12 characters in length.\\nX\\nX\\t  It is suggested, but not required, that the title should\\nX\\t  incorporate your username; in the case of multiple authors,\\nX\\t  consider using parts of the usernames of the authors.\\nX\\nX\\t* The date in the ---entry--- section should be given with respect\\nX\\t  to UTC.  The format of the date should be as returned by asctime() \\nX\\t  using the C locale.  (see guidelines for more info)\\nX\\nX\\t* You may correct/revise a previously submitted entry by sending\\nX\\t  it to the contest email address.  Be sure to set \\'fix\\' in the \\nX\\t  ---entry--- section to \\'n\\'.  The corrected entry must use the same \\nX\\t  title and entry number as submittion that is being corrected.  Be \\nX\\t  sure that you note the resubmittion in the ---remark--- as well.\\nX\\nX\\t* With the exception of the header, all text outside of the above \\nX\\t  format may be ignored by the judges.  If you need tell the judges\\nX\\t  something, put it in the ---remark--- section, or send a separate\\nX\\t  Email message to the judges.\\nX\\nX\\t* Information from the ---author--- section will be published unless \\nX\\t  \\'y\\' was given to the respective author\\'s \\'anon\\' line.\\nX\\nX\\t* To credit multiple authors, include an ---author--- section for\\nX\\t  each author.  Each should start with ---author--- line, and\\nX\\t  should be found between the ---entry--- and ---build--- sections.\\nX\\nX\\t* The entry\\'s remarks should include:\\nX\\t    - what this program does\\nX\\t    - how to run the program (sample args or input)\\nX\\t    - special compile or execution instructions, if any\\nX\\t    - special filename requirements (see rule 4 and 5)\\nX\\t    - information about any ---data--- files\\nX\\t    - why you think the program is obfuscated\\nX\\t    - note if this entry is a re-submission of a previous entry.\\nX\\t    - any other remarks (humorous or otherwise)\\nX\\nX\\t* Do not rot13 your entry\\'s remarks.  You may suggest that certain\\nX\\t  portions of your remarks be rot13ed if your entry wins an award.\\nX\\nX        * Info files should be used only to supplement your entry.  They \\nX\\t  should not be required to exist.\\nX\\nX\\t  If your entry does not need an info file, skip the ---info---\\nX\\t  section.  If your entry needs multiple info files, use multiple \\nX\\t  ---info--- sections, one per info file.  You should describe\\nX\\t  each info file in the ---remark--- section.\\nX\\nX    4) If your entry is selected as a winner, it will be modified as follows:\\nX\\nX\\t   \\'build\\' is incorporated into a makefile, and \\'build\\' is removed\\nX\\t   \\'prog.c\\' is renamed to your entry\\'s title, followed by an optional\\nX\\t       digit, followed by \\'.c\\'\\nX\\t   your entry is compiled into a file with the name of your entry\\'s\\nX\\t       title, possibly followed by a digit\\nX\\nX       If your entry requires that a build file exist, state so in your\\nX       entry\\'s remark section.  The makefile will be arranged to execute a\\nX       build shell script containing the \\'build\\' information.  The name of\\nX       this build shell script will be your entry\\'s title, possibly followed\\nX       by a digit, followed by \\'.sh\\'.\\nX\\nX       If needed, your entry\\'s remarks should indicate how your entry must\\nX       be changed in order to deal with the new filenames.\\nX\\nX    5) The build file, the source and the resulting executable should be\\nX       treated as read-only files.  If your entry needs to modify these files,\\nX       it should make and modify a copy of the appropriate file.  If this\\nX       occurs, state so in your entry\\'s remarks.\\nX\\nX    6) Entries that cannot be compiled by an ANSI C compiler will be rejected.\\nX       Use of common C (K&R + extensions) is permitted, as long as it does not \\nX       cause compile errors for ANSI C compilers.\\nX\\nX    7) The program must be of original work.  All programs must be in the\\nX       public domain.  All copyrighted programs will be rejected.\\nX\\nX    8) Entries must be received prior to 07-May-93 0:00 UTC.  (UTC is\\nX       essentially equivalent to Greenwich Mean Time)  Email your entries to:\\nX\\nX\\t\\t...!{apple,pyramid,sun,uunet}!hoptoad!obfuscate\\nX\\t\\tobfuscate@toad.com\\nX\\nX       We request that your message use the subject \\'ioccc entry\\'.\\nX\\nX       If possible, we request that you hold off on Emailing your entries\\nX       until 1-Mar-93 0:00 UTC.  Early entries will be accepted, however.\\nX       We will attempt to email a confirmation to the the first author for\\nX       all entries received after 1-Mar-93 0:00 UTC.\\nX\\nX    9) Each person may submit up to 8 entries per contest year.  Each entry\\nX       must be sent in a separate Email letter.\\nX\\nX   10) Entries requiring human interaction to be built are not allowed.  \\nX       Compiling an entry produce a file (or files) which may be executed.\\nX\\nX   11) Programs that require special privileges (setuid, setgid, super-user,\\nX       special owner or group) are not allowed.\\nX    \\nX\\nXFOR MORE INFORMATION:\\nX\\nX    The Judging will be done by Landon Noll and Larry Bassel.  Please send\\nX    questions or comments (but not entries) about the contest, to:\\nX\\nX\\t...!{apple,pyramid,sun,uunet}!hoptoad!judges\\nX\\tjudges@toad.com\\nX\\nX    The rules and the guidelines may (and often do) change from year to\\nX    year.  You should be sure you have the current rules and guidelines\\nX    prior to submitting entries.  To obtain all 3 of them, send Email\\nX    to the address above and use the subject \\'send rules\\'.\\nX\\nX    One may also obtain them via anonymous ftp from:\\nX\\nX\\thost: ftp.uu.net\\t(137.39.1.9)\\nX\\tuser: anonymous\\nX\\tpass: yourname@yourhost\\nX\\tdir:  /pub/ioccc\\nX\\nX\\nXchongo <Landon Curt Noll> /\\\\cc/\\\\  \\thoptoad!chongo\\nXLarry Bassel\\t\\t\\t  \\t{uunet,ucbvax,cbosgd}|sun!lab\\nSHAR_EOF\\nchmod 0444 rules ||\\necho \"restore of rules failed\"\\nset `wc -c rules`;Wc_c=$1\\nif test \"$Wc_c\" != \"8585\"; then\\n\\techo original size 8585, current size $Wc_c\\nfi\\n# ============= guidelines ==============\\necho \"x - extracting guidelines (Text)\"\\nsed \\'s/^X//\\' << \\'SHAR_EOF\\' > guidelines &&\\nX10th International Obfuscated C Code Contest Guidelines, Hints and Comments\\nX\\nXCopyright (c) Landon Curt Noll & Larry Bassel, 1993.  \\nXAll Rights Reserved.  Permission for personal, education or non-profit use is \\nXgranted provided this this copyright and notice are included in its entirety \\nXand remains unaltered.  All other uses must receive prior permission in writing \\nXfrom both Landon Curt Noll and Larry Bassel.\\nX\\nXABOUT THIS FILE:\\nX\\nX    This file is intended to help people who wish to submit entries to\\nX    the International Obfuscated C Code Contest (IOCCC for short).\\nX\\nX    This is not the IOCCC rules, though it does contain comments about\\nX    them.  The guidelines should be viewed as hints and suggestions.\\nX    Entries that violate the guidelines but remain within the rules are\\nX    allowed.  Even so, you are safer if you remain within the guidelines.\\nX\\nX    You should read the current IOCCC rules, prior to submitting entries.\\nX    The rules are typically sent out with these guidelines.\\nX\\nX\\nXWHAT IS NEW IN 1993:\\nX\\nX    The entry format is better (for us anyway).  The program mkentry.c\\nX    has been updated.  See ENTRY FORMAT.\\nX\\nX    We will reject entries that cannot be compiled using an ANSI C\\nX    compiler.  Certain old Obfuscation hacks that cause ANSI C compilers \\nX    fits are no longer permitted.  Some of the new issues deal with \\nX    non-integral array types, variable number of arguments, C preprocessor \\nX    directives and the exit() function.  See OUR LIKES AND DISLIKES.\\nX\\nX\\nXHINTS AND SUGGESTIONS:\\nX\\nX    You are encouraged to examine the winners of previous contests.  See\\nX    FOR MORE INFORMATION for details on how to get previous winners.\\nX\\nX    Keep in mind that rules change from year to year, so some winning entries\\nX    may not be valid entries this year.  What was unique and novel one year\\nX    might be \\'old\\' the next year.\\nX\\nX    An entry is usually examined in a number of ways.  We typically apply\\nX    a number of tests to an entry:\\nX\\nX\\t* look at the original source\\nX\\t* convert ANSI tri-graphs to ASCII\\nX\\t* C pre-process the source ignoring \\'#include\\' lines\\nX\\t* C pre-process the source ignoring \\'#define\\' and \\'#include\\' lines\\nX\\t* run it through a C beautifier\\nX\\t* examine the algorithm\\nX\\t* lint it\\nX\\t* compile it\\nX\\t* execute it\\nX\\nX    You should consider how your entry looks in each of the above tests.\\nX    You should ask yourself if your entry remains obscure after it has been\\nX    \\'cleaned up\\' by the C pre-processor and a C beautifier.\\nX\\nX    Your entry need not do well under all, or in most tests.  In certain\\nX    cases, a test is not important.  Entries that compete for the\\nX    \\'strangest/most creative source layout\\' need not do as well as\\nX    others in terms of their algorithm.  On the other hand, given\\nX    two such entries, we are more inclined to pick the entry that\\nX    does something interesting when you run it.\\nX\\nX    We try to avoid limiting creativity in our rules.  As such, we leave\\nX    the contest open for creative rule interpretation.  As in real life\\nX    programming, interpreting a requirements document or a customer request\\nX    is important.  For this reason, we often award \\'worst abuse of the\\nX    rules\\' to an entry that illustrates this point in an ironic way.\\nX\\nX    If you do plan to abuse the rules, we suggest that you let us know\\nX    in the remarks section.  Please note that an invitation to abuse\\nX    is not an invitation to break.  We are strict when it comes to the\\nX    3217 byte size limit.  Also, abusing the entry format tends to\\nX    annoy more than amuse.\\nX\\nX    We do realize that there are holes in the rules, and invite entries\\nX    to attempt to exploit them.  We will award \\'worst abuse of the rules\\'\\nX    and then plug the hole next year.  Even so, we will attempt to use\\nX    the smallest plug needed, if not smaller.  :-)\\nX\\nX    Check out your program and be sure that it works.  We sometimes make\\nX    the effort to debug an entry that has a slight problem, particularly\\nX    in or near the final round.  On the other hand, we have seen some\\nX    of the best entries fall down because they didn\\'t work.\\nX\\nX    We tend to look down on a prime number printer, that claims that\\nX    16 is a prime number.  If you do have a bug, you are better off\\nX    documenting it.  Noting \"this entry sometimes prints the 4th power\\nX    of a prime by mistake\" would save the above entry.  And sometimes,\\nX    a strange bug/feature can even help the entry!  Of course, a correctly\\nX    working entry is best.\\nX\\nX\\nXOUR LIKES AND DISLIKES:\\nX\\nX    Doing masses of #defines to obscure the source has become \\'old\\'.  We\\nX    tend to \\'see thru\\' masses of #defines due to our pre-processor tests\\nX    that we apply.  Simply abusing #defines or -Dfoo=bar won\\'t go as far\\nX    as a program that is more well rounded in confusion.\\nX\\nX    Many ANSI C compilers dislike the following code, and so do we:\\nX\\nX\\t#define d define\\nX\\t#d foo\\t\\t   <-- don\\'t expect this to turn into #define foo\\nX\\nX\\tint i;\\nX\\tj;\\t\\t   <-- don\\'t use such implicit type declaration\\nX\\tint k;\\nX\\nX    We suggest that you compile your entry with an ANSI C compiler.  If you \\nX    must use non-ANSI C, such as K&R C, you must avoid areas that result in \\nX    compile/link errors for ANSI C compilers.\\nX\\nX    Unfortunately, ANSI C requires array indexes to be of integral type.\\nX    Thus, the following classical obfuscation hacks are no longer allowed:\\nX\\nX\\tint i;\\nX\\tchar *c;\\nX\\ti[c];\\t\\t   <--- use c[i] instead\\nX\\t(i+3)[\"string\"];   <--- use \"string\"[i+3] instead\\nX\\nX    If your entry uses functions that have a variable number of\\nX    arguments, be careful. Systems implement va_list as a wide variety\\nX    of ways.  Because of this, a number of operations using va_list are\\nX    not portable and must not be used:\\nX\\nX\\t* assigning a non-va_list variable to/from a va_list variable\\nX\\t* casting a non-va_list variable into/from a va_list variable\\nX\\t* passing a va_list variable to a function expecting a non-va_list arg\\nX\\t* passing a non-va_list variable to a function expecting a va_list arg\\nX\\t* performing arithmetic on va_list variables\\nX\\t* using va_list as a structure or union\\nX\\nX    In particular, do not treat va_list variables as if they were a char **\\'s.\\nX\\nX    Avoid using <varargs.h>, use <stdarg.h> instead.\\nX\\nX    If you use C preprocessor directives (#define, #if, #ifdef, ...),\\nX    the leading \\'#\\' must be the first character on a line.  While some\\nX    C preprocessors allow whitespace the leading \\'#\\', many do not.\\nX\\nX    Because the exit() function returns void on some systems, entries\\nX    must not assume that it returns an int.\\nX\\nX    Small programs are best when they are short, obscure and concise.\\nX    While such programs are not as complex as other winners, they do\\nX    serve a useful purpose.  They are often the only program that people\\nX    attempt to completely understand.  For this reason, we look for\\nX    programs that are compact, and are instructional.\\nX\\nX    One line programs should be short one line programs, say around 80\\nX    bytes long.  Getting close to 160 bytes is a bit too long in our opinion.\\nX\\nX    We tend to dislike programs that:\\nX\\nX\\t* are very hardware specific\\nX\\t* are very OS or Un*x version specific\\nX\\t     (index/strchr differences are ok, but socket/streams specific\\nX\\t      code is likely not to be)\\nX\\t* dump core or have compiler warnings\\nX\\t     (it is ok only if you warn us in the \\'remark\\' header item)\\nX\\t* won\\'t compile under both BSD or SYS V Un*x\\nX\\t* abusing the build file to get around the size limit\\nX\\t* obfuscate by excessive use of ANSI tri-graphs\\nX\\t* are longer than they need to be\\nX\\t* are similar to previous winners\\nX\\t* are identical to previous losers  :-)\\nX\\nX    Unless you are cramped for space, or unless you are entering the\\nX    \\'best one liner\\' category, we suggest that you format your program\\nX    in a more creative way than simply forming excessively long lines.\\nX\\nX    The build file should not be used to try and get around the size\\nX    limit.  It is one thing to make use of a several -D\\'s to help out,\\nX    but it is quite another to use 200+ bytes of -D\\'s in order to\\nX    try and squeeze the source under the size limit.  You should feel\\nX    free to make use of the build file space, but you are better off\\nX    if you show some amount of restraint.\\nX\\nX    We allowed whitespace, and in certain cases ; { or } do not impact\\nX    your program size (up to a certain point), because we want to get\\nX    away from source that is simply a compact blob of characters.\\nX\\nX    Given two versions of the same program, one that is a compact blob\\nX    of code, and the other that is formatted more like a typical C\\nX    program, we tend to favor the second version.  Of course, a third\\nX    version of the same program that is formatted in an interesting\\nX    and/or obfuscated way, would definitely win over the first two!\\nX\\nX    We suggest that you avoid trying for the \\'smallest self-replicating\\'\\nX    program.  We are amazed at the many different sizes that claim\\nX    to be the smallest.  There is nothing wrong with self-replicating\\nX    programs.  In fact, a number of winners have been self-replicating.\\nX    You might want to avoid the claim of \\'smallest\\', lest we (or others)\\nX    know of a smaller one!\\nX\\nX    X client entries should be as portable as possible.  Entries that\\nX    adapt to a wide collection of environments will be favored.  Don\\'t\\nX    depend on a particular type of display.  For example, don\\'t depend\\nX    on color or a given size.  Don\\'t require backing store.\\nX\\nX    X client entries should avoid using X related libraries and\\nX    software that is not in wide spread use.  We ask that such X client\\nX    entries restrict themselves to only the low level Xlib and the\\nX    Athena widget set (libX11.a, libXaw.a, libXmu.a and libXt.a).\\nX    Don\\'t use M*tif, Xv*ew, or OpenL*ok toolkits, since not everyone\\nX    has them.  Avoid depending on a particular window manager.  Not\\nX    everyone has X11r5, and some people are stuck back in X11r4 (or\\nX    earlier), so try to target X11r5 without requiring X11r5.  Better\\nX    yet, try to make your entry run on all version 11 X Window Systems.\\nX\\nX    X client entries should not to depend on particular items on\\nX    .Xdefaults.  If you must do so, be sure to note the required lines\\nX    in the ---remark--- section.\\nX\\nX    We like programs that:\\nX\\nX\\t* are as concise and small as they need to be\\nX\\t* do something at least quasi-interesting\\nX\\t* pass lint without complaint (not a requirement, but it is nice)\\nX\\t* are portable\\nX\\t* are unique or novel in their obfuscation style\\nX\\t* MAKE USE OF A NUMBER OF DIFFERENT TYPES OF OBFUSCATION\\nX\\t* make us laugh and/or throw up  :-)\\nX\\nX    Some types of programs can\\'t excel in some areas.  Of course, your\\nX    program doesn\\'t have to excel in all areas, but doing well in several\\nX    areas really does help.\\nX\\nX    We freely admit that interesting, creative or humorous comments in\\nX    the ---remark--- section helps your chance of winning.  If you had to\\nX    read of many twisted entries, you too would enjoy a good laugh or two.\\nX    We think the readers of the contest winners do as well.\\nX\\nX    Be creative!\\nX\\nX\\nXENTRY FORMAT:\\nX\\nX    In order to help us process the many entries, we must request your\\nX    assistance by formatting your entries in a certain way.  This format,\\nX    in addition, allows us to quickly separate information about the\\nX    author from the program itself.  (see JUDGING PROCESS)\\nX\\nX    We have provided the program, mkentry, as an example of how to\\nX    format entries.  You should be aware of the following warning that\\nX    is found in mkentry.c:\\nX\\nX\\tThis program attempts to implement the IOCCC rules.  Every\\nX\\tattempt has been made to make sure that this program produces\\nX\\tan entry that conforms to the contest rules.  In all cases,\\nX\\twhere this program differs from the contest rules, the\\nX\\tcontest rules will be used.  Be sure to check with the\\nX\\tcontest rules before submitting an entry.\\nX\\nX    You are not required to use mkentry.  It is convenient, however,\\nX    as it attempts to uuencode the needed files, and attempt to check\\nX    the entry against the size rules.\\nX\\nX    If you have any suggestions, comments, fixes or complaints about\\nX    the mkentry.c program, please send Email to the judges.  (see below)\\nX\\nX    The following is a sample entry:\\nX\\nX---entry---\\nXrule:\\t1993\\nXfix:\\tn\\nXtitle:\\tchonglab\\nXentry:\\t0\\nXdate:\\tMon Mar  1 08:45:20 1993\\nXhost:\\tUn*x v6, pdp11/45\\nX\\t2.9BSD, pdp11/70\\nX---remark---\\nX    This is a non-obfuscated obfuscated C program.\\nX\\nX    It is likely not to win a prize.  But what do you expect from\\nX    a short example!\\nX---author---\\nXname:\\tLandon Curt Noll\\nXorg:\\tIOCCC Judging Group\\nXaddr:\\tToad Hall\\nX\\tPO Box 170608\\nX\\tSan Francisco, California\\nX\\t94117-0608\\nX\\tUSA\\nXemail:\\tchongo@toad.com\\nXanon:\\tn\\nX---author---\\nXname:\\tLarry Bassel\\nXorg:\\tIOCCC Judging Group\\nXaddr:\\tToad Hall\\nX\\tPO Box 170608\\nX\\tSan Francisco, California\\nX\\t94117-0608\\nX\\tUSA\\nXemail:\\thoptoad!sun!lab\\nX\\tlab@sun.com\\nXanon:\\tn\\nX---info---\\nXbegin 444 info.file\\nXM0V]P>7)I9VAT(\"AC*2!,86YD;VX@0W5R=\"!.;VQL+\"`Q.3DS+@I!;&P@4FEG\\nXM:\\'1S(%)E<V5R=F5D+B`@4&5R;6ES<VEO;B!F;W(@<&5R<V]N86PL(&5D=6-A\\nXM=&EO;B!O<B!N;VXM<\\')O9FET(\\'5S92!I<PIG<F%N=&5D(\\'!R;W9I9&5D(\\'1H\\nXM:7,@=&AI<R!C;W!Y<FEG:\\'0@86YD(&YO=&EC92!A<F4@:6YC;\\'5D960@:6X@\\nXM:71S(&5N=&ER971Y\"F%N9\"!R96UA:6YS(\\'5N86QT97)E9\"X@($%L;\"!O=&AE\\nXM<B!U<V5S(&UU<W0@<F5C96EV92!P<FEO<B!P97)M:7-S:6]N(&EN(\\'=R:71I\\nXM;F<*9G)O;2!,86YD;VX@0W5R=\"!.;VQL+@H*5&AA=\"!T:&%T(&ES+\"!I<RX*\\nXM5&AA=\"!T:&%T(&ES(&YO=\"P*(\"`@(&ES(&YO=\"!T:&%T(\\'1H870@;F]T(&ES\\nXM+@I4:&%T(&ES+\"!T:&%T(\\'1H870@:7,@;F]T+\"!I<R$*\"@D)+2T@8VAO;F=O\\nXM(#$Y-S0*\"DQA<W0@>65A<BP@;VYE(\\'!E<G-O;B!T;VQD(\\'5S(\\'1H870@=&AE\\nXM>2!A8W1U86QL>2!D96-O9&5D(\\'1H:7,@9FEL92X*22!W;VYD97(@:&]W(&UA\\nX9;GD@=VEL;\"!D;R!I=\"!T:&ES(\\'EE87(_\"@``\\nX`\\nXend\\nX---build---\\nXbegin 444 build\\nX28V,@<\\')O9RYC(\"UO(\\'!R;V<*\\nX`\\nXend\\nX---program---\\nXbegin 444 prog.c\\nXM;6%I;B@I\"GL*(VEF(&1E9FEN960H05]214=)4U1%4D5$7U9/5$527TE.7U-5\\nXM3DY95D%,15]#04Q)1D]23DE!7U5302D*(\"`@(\\'!R:6YT9B@B5F]T92!,86YD\\nXM;VX@3F]L;\"!F;W(@4W5N;GEV86QE($-I=\\'D@0V]U;F-I;\"!S96%T(\",Q+EQN\\nX:(BD[\"B-E;F1I9@H@(\"`@97AI=\"@P*3L*?0H`\\nX`\\nXend\\nX---end---\\nX\\nX    Typically the build file should assume that the source is prog.c\\nX    and will compile into prog.  If an entry wins, we will rename\\nX    its source and binary to avoid filename collision.  By tradition,\\nX    we use the name of the entry\\'s title, followed by an optional\\nX    digit in case of name conflicts.\\nX\\nX    If the above entry somehow won the \\'least likely to win\\' award,\\nX    we would use chonglab.c and chonglab.\\nX\\nX    If your entry depends on, or requires that your build, source\\nX    and/or binary files be a particular name, please say so in the\\nX    ---remark--- section.  If this case applies, it would be be helpful\\nX    if you did one of the following:\\nX\\nX\\t* Tell us how to change the filename(s) in your entry.\\nX\\nX\\t* Have the build file make copies of the files.  For example:\\nX\\nX\\t\\tcc prog.c -o special_name\\t\\tneed special binary\\nX\\nX\\t    or  rm -f special_src.c\\t\\t\\tneed special source\\nX\\t\\tcp prog.c special_src.c\\nX\\t\\tcc special_src.c -o special_name\\nX\\nX\\t    or  rm -f special_build\\t\\t\\tneed special build\\nX\\t\\ttail +4 build > special_build\\nX\\t\\tsh < special_build\\nX\\nX\\t* Assume that we will use the entry title.  Send us a version of \\nX\\t  your build/program files that uses the name convention.  You \\nX\\t  should uuencode these files in ---data--- sections.\\nX\\nX    If your entry needs to modify its source, info or binary files,\\nX    please say so in the ---remark--- section.  You should try to avoid\\nX    touching your original build, source and binary files.  You should\\nX    arrange to make copies of the files you intend to modify.  This\\nX    will allow people to re-generate your entry from scratch.\\nX\\nX    Remember that your entry may be built without a build file.  We\\nX    typically incorporate the build lines into a Makefile.  If the\\nX    build file must exist, say so in the ---remark--- section.\\nX\\nX    If your entry needs special info files, you should uuencode them\\nX    into ---info--- sections.  In the case of multiple info files,\\nX    use multiple ---info--- sections.  If no info files are needed,\\nX    then skip the ---info--- section.\\nX\\nX    Info files are intended to be input, or detailed information that\\nX    does not fit well into the ---remark--- section.  For example, an\\nX    entry that implements a compiler might want to provide some sample\\nX    programs for the user to compile.  An entry might want to include a\\nX    lengthy design document, that might not be appropriate for a\\nX    \\'hints\\' file.\\nX\\nX    Info files should be used only to supplement your entry.  For\\nX    example, info files may provide sample input or detailed\\nX    information about your entry.  Because they are supplemental,\\nX    the entry should not require them exist.\\nX\\nX    In some cases, your info files might be renamed to avoid name\\nX    conflicts.  If info files should not be renamed for some reason,\\nX    say so in the ---remark--- section.\\nX\\nX    Info files must uudecode into the current directory.  If they\\nX    absolutely must be renamed, or moved into a sub-directory, say\\nX    so in the ---remark--- section.\\nX\\nX    When submitting multiple entries, be sure that each entry has\\nX    a unique entry number from 0 to 7.  Your first entry should\\nX    have entry number 0.\\nX\\nX    With the exception of the header, all text outside of the entry\\nX    format may be ignored.  That is, don\\'t place text outside of the\\nX    entry and expect the judges to see it.  (Our decoding tools aren\\'t\\nX    AI progs!) If you need tell the the something, put it in the \\nX    ---remark--- section, or send a Email to the judges at:\\nX\\nX\\t...!{apple,pyramid,sun,uunet}!hoptoad!judges\\t(not the address for\\nX\\tjudges@toad.com\\t\\t\\t\\t\\t submitting entries)\\nX    \\nX    The date should be given with respect to UTC.  (Some systems refer \\nX    to this as GMT or GMT0)  The format of the date should be that as \\nX    returned by asctime() in the C locale.  An example of such a string is:\\nX\\nX\\tThr Apr 01 00:47:00 1993\\nX\\nX    This format is similar to the output of the date(1) command.  The\\nX    string does not include the timezone name before the year.  On many \\nX    systems, one of the following command will produce a similar string:\\nX\\nX\\tdate -u \"+%a %h %d %T 19%y\"\\nX\\tdate -u | sed -e \\'s/... \\\\(19[0-9][0-9]\\\\)$/\\\\1/\\'\\nX\\tsh -c \\'TZ=UTC date | sed -e \"s/... \\\\(19[0-9][0-9]\\\\)$/\\\\1/\"\\'\\nX\\tsh -c \\'TZ=GMT date | sed -e \"s/... \\\\(19[0-9][0-9]\\\\)$/\\\\1/\"\\'\\nX\\tsh -c \\'TZ=GMT0 date | sed -e \"s/... \\\\(19[0-9][0-9]\\\\)$/\\\\1/\"\\'\\nX\\nX    You are allowed to update/fix/revise your entry.  To do so, set\\nX    the \\'fix\\' line in the ---entry--- section to \\'y\\' instead of \\'n\\'.\\nX    Be sure that the resubmittion uses the same title and entry number\\nX    as well, as these are used to determine which entry is to be\\nX    replaced.\\nX\\nX\\nXJUDGING PROCESS:\\nX\\nX    Entries are judged by Larry Bassel and Landon Curt Noll.\\nX\\nX    Entries are unpacked into individual directories.  The Email message\\nX    is unpacked into individual files, each containing:\\nX\\nX\\t---entry--- section\\nX\\tall ---author--- sections\\nX\\tall ---info--- sections\\nX\\t---build--- section\\nX\\t---program--- section\\nX\\tany other text, including the Email message headers\\nX\\nX    Prior to judging, the \\'any other text\\' file is scanned to be sure\\nX    it does not contain useful information (or in case the entry was\\nX    malformed and did not unpack correctly).  Information from the\\nX    ---author--- sections are not read until the judging process is\\nX    complete, and then only from entries that have won an award.\\nX\\nX    The above process helps keep us biased for/against any one particular\\nX    individual.  We are usually kept in the dark as much as you are\\nX    until the final awards are given.  We like the surprise of finding\\nX    out in the end, who won and where they were from.\\nX\\nX    We attempt to keep all entries anonymous, unless they win an award.\\nX    Because the main \\'prize\\' of winning is being announced, we make all\\nX    attempts to send non-winners into oblivion.  We remove all non-winning\\nX    files, and shred all related paper.  By tradition, we do not even\\nX    reveal the number of entries that we received.  (for the curious,\\nX    we do indicate the volume of paper consumed when presenting the IOCCC\\nX    winners at talks)\\nX\\nX    After the Usenix announcement, we attempt to send Email to the\\nX    authors of the winning entries.  One reason we do this is to give\\nX    the authors a chance to comment on the way we have presented their\\nX    entry.  They are given the chance to correct mistakes, typos.  We\\nX    often accept their suggestions/comments about our remarks as well.\\nX    This is done prior to posting the winners to the wide world.\\nX\\nX    Judging consists of a number of elimination rounds.  During a round,\\nX    the collection of entries are divided into two roughly equal piles;\\nX    the pile that advances on to the next round, and the pile that does\\nX    not.  We also re-examine the entries that were eliminated in the\\nX    previous round.  Thus, an entry gets at least two readings.\\nX\\nX    A reading consists of a number of actions:\\nX\\nX\\t* reading the ---entry--- section\\nX\\t* reading the uudecoded ---build--- section\\nX\\t* reading the uudecoded ---program--- section\\nX\\t* reading the uudecoded ---info--- section(s), if any\\nX\\t* passing the source thru the C pre-processor\\nX\\t    shipping over any #include files\\nX\\t* performing a number of C beautify/cleanup edits on the source\\nX\\t* passing the beautified source thru the C pre-processor\\nX\\t    shipping over any #include files\\nX\\nX    In later rounds, other actions are performed:\\nX\\nX\\t* linting the source\\nX\\t* compiling/building the source\\nX\\t* running the program\\nX\\t* performing misc tests on the source and binary\\nX\\nX    Until we reduce the stack of entries down to about 25 entries, entries\\nX    are judged on an individual basis.  An entry is set aside because it\\nX    does not, in our opinion, meet the standard established by the round.\\nX    When the number of entries thins to about 25 entries, we begin to form\\nX    award categories.  Entries begin to compete with each other for awards.\\nX    An entry often will compete in several categories.\\nX\\nX    The actual award category list will vary depending on the types of entries\\nX    we receive.  A typical category list might be:\\nX\\nX\\t* best small one line program\\nX\\t* best small program\\nX\\t* strangest/most creative source layout\\nX\\t* most useful obfuscated program\\nX\\t* best game that is obfuscated\\nX\\t* most creatively obfuscated program\\nX\\t* most deceptive C code\\nX\\t* best X client (see OUR LIKES AND DISLIKES)\\nX\\t* best abuse of ANSI C\\nX\\t* worst abuse of the rules\\nX\\t* <anything else so strange that it deserves an award>\\nX\\nX    We do not limit ourselves to this list.  For example, a few entries are so\\nX    good/bad that they are declared winners at the start of the final round.\\nX    We will invent awards categories for them, if necessary.\\nX\\nX    In the final round process, we perform the difficult tasks of\\nX    reducing the remaining entries (typically about 25) down to 8 or 10\\nX    winners.  Often we are confident that the entries that make it into\\nX    the final round are definitely better than the ones that do not\\nX    make it.  The selection of the winners out of the final round, is\\nX    less clear cut.\\nX\\nX    Sometimes a final round entry good enough to win, but is beat out\\nX    by a similar, but slightly better entry.  For this reason, it is\\nX    sometimes worthwhile to re-enter an improved version of an entry \\nX    that failed to win in a previous year.  This assumes, of course, \\nX    that the entry is worth improving in the first place!\\nX\\nX    More often that not, we select a small entry (usually one line), a\\nX    strange/creative layout entry, and an entry that abuses the contest\\nX    rules in some way.\\nX\\nX    In the end, we traditionally pick one entry as \\'best\\'.  Sometimes such\\nX    an entry simply far exceeds any of the other entry.  More often, the\\nX    \\'best\\' is picked because it does well in a number of categories.\\nX\\nX\\nXANNOUNCEMENT OF WINNERS:\\nX\\nX    The first announcement, occurs at a Summer Usenix conference.  By tradition,\\nX    this is done during the latter part of the UUNET/IOCCC BOF, just prior to\\nX    the Berkeley BSD, and BSDI BOF.\\nX\\nX    Winning entries will be posted in late June to the following groups:\\nX\\nX\\t    comp.lang.c\\t\\t  comp.unix.wizards\\talt.sources\\nX\\nX    In addition, pointers to these postings are posted to the following\\nX\\nX\\t    comp.sources.d\\t  alt.sources.d\\t\\tmisc.misc\\nX\\t    comp.sources.misc\\t  comp.windows.x\\nX\\nX    Winning entries will be deposited into the uunet archives.  See\\nX    below for details.\\nX\\nX    Often, winning entries are published in selected magazines.  Winners \\nX    have appeared in books (\"The New Hackers Dictionary\") and on T-Shirts.\\nX\\nX    Last, but not least, winners receive international fame and flames!  :-)\\nX\\nX\\nXFOR MORE INFORMATION:\\nX\\nX    You may contact the judges by sending Email to the following address:\\nX\\nX\\t...!{apple,pyramid,sun,uunet}!hoptoad!judges\\t(not the address for\\nX\\tjudges@toad.com\\t\\t\\t\\t\\t submitting entries)\\nX\\nX    Questions and comments about the contest are welcome.\\nX\\nX    One may obtain a copy of the current rules, guidelines or mkentry\\nX    program.  To obtain all 3 of them, send Email to the address above \\nX    and use the subject \\'send rules\\'.\\nX\\nX    One may also obtain the above items, we well as winners of previous\\nX    contests, via anonymous ftp from:\\nX\\nX\\thost: ftp.uu.net\\t(137.39.1.9)\\nX\\tuser: anonymous\\nX\\tpass: yourname@yourhost\\nX\\tdir:  pub/ioccc\\nX\\nX    Often, contest rules, guidelines and winners are available from\\nX    archive sites.  Check comp.sources.unix archives, for example.\\nX    You may also request previous winners by Email, using the judges\\nX    Email address, though we ask that you do this as a last resort.\\nX\\nX\\nXchongo <Landon Curt Noll> /\\\\cc/\\\\  \\thoptoad!chongo\\nXLarry Bassel\\t\\t\\t  \\t{uunet,ucbvax,cbosgd}|sun!lab\\nSHAR_EOF\\nchmod 0444 guidelines ||\\necho \"restore of guidelines failed\"\\nset `wc -c guidelines`;Wc_c=$1\\nif test \"$Wc_c\" != \"25375\"; then\\n\\techo original size 25375, current size $Wc_c\\nfi\\necho \"End of part 1, continue with part 2\"\\nexit 0\\n-- \\nSunnyvale residents: Vote Landon Noll for Sunnyvale City Council seat 1.\\n', 'description': 'Extracted text from file: Xref: cantaloupe.srv.cs.cmu.edu comp.lang.c:65945 comp.sources.d:9009 comp.unix.wizards:34201 alt.sources:7705 misc.misc:19347 comp.windows.x:64830\\nPath: cantaloupe.srv.cs.cmu.edu!das-news.harvard.edu!ogicse!network.ucsd.edu!pacbell.com!toad.com!chongo\\nFrom: chongo@toad.com (Landon C. Noll)\\nNewsgroups: comp.lang.c,comp.sources.d,comp.unix.wizards,alt.sources,misc.misc,comp.windows.x\\nSubject: 10th International Obfuscated C Code Contest Opening (1 of 2)\\nKeywords: ioccc\\nMessage-ID: <32194@toad.com>\\nDate: 1 Mar 93 12:08:28 GMT\\nArticle-I.D.: toad.32194\\nExpires: 7 May 93 00:00:00 GMT\\nReply-To: chongo@toad.com.UUCP (Landon C. Noll)\\nDistribution: world\\nOrganization: Nebula Consultants in San Francisco\\nLines: 850\\n\\nEnclosed are the rules, guidelines and related information for the 10th\\nInternational Obfuscated C Code Contest.  (This is part 1 of a 2 part\\nshar file).\\n\\nEnjoy!\\n\\nchongo <Landon Curt Noll> /\\\\oo/\\\\ \\nLarry Bassel\\n\\n=-=\\n\\n#!/bin/sh\\n# This is a shell archive (shar 3.32)\\n# made 03/01/1993 12:01 UTC by chongo@toad.com\\n# Source directory /tmp\\n#\\n# existing files WILL be overwritten\\n#\\n# This shar contains:\\n# length  mode       name\\n# ------ ---------- ------------------------------------------\\n#   8585 -r--r--r-- rules\\n#  25375 -r--r--r-- guidelines\\n#  33961 -r--r--r-- mkentry.c\\n#   6257 -r--r--r-- obfuscate.info\\n#\\n# ============= rules ==============\\necho \"x - extracting rules (Text)\"\\nsed \\'s/^X//\\' << \\'SHAR_EOF\\' > rules &&\\nX10th International Obfuscated C Code Contest Rules\\nX\\nXCopyright (c) Landon Curt Noll & Larry Bassel, 1993.  \\nXAll Rights Reserved.  Permission for personal, education or non-profit use is \\nXgranted provided this this copyright and notice are included in its entirety \\nXand remains unaltered.  All other uses must receive prior permission in writing \\nXfrom both Landon Curt Noll and Larry Bassel.\\nX\\nX    Obfuscate:  tr.v.  -cated, -cating, -cates.  1. a.  To render obscure.\\nX\\t\\tb.  To darken.  2. To confuse:  his emotions obfuscated his\\nX\\t\\tjudgment.  [LLat. obfuscare, to darken : ob(intensive) +\\nX\\t\\tLat. fuscare, to darken < fuscus, dark.] -obfuscation n.\\nX\\t\\tobfuscatory adj.\\nX\\nX\\nXGOALS OF THE CONTEST:\\nX\\nX    * To write the most Obscure/Obfuscated C program under the rules below.\\nX    * To show the importance of programming style, in an ironic way.\\nX    * To stress C compilers with unusual code.\\nX    * To illustrate some of the subtleties of the C language.\\nX    * To provide a safe forum for poor C code.  :-)\\nX\\nX\\nXRULES:\\nX\\nX    To help us with the volume of entries, we ask that you follow these rules:\\nX\\nX    1) Your entry must be a complete program.\\nX\\nX    2) Your entry must be <= 3217 bytes in length.  The number of characters\\nX       excluding whitespace (tab, space, newline), and excluding any ; { or }\\nX       followed by either whitespace or end of file, must be <= 1536.\\nX\\nX    3) Your entry must be submitted in the following format:\\nX\\nX---entry---\\nXrule:\\t1993\\nXfix:\\ty or n   (n => this is a new entry, y => this replaces an older entry)\\nXtitle:\\ttitle of entry  \\t\\t    (see comments below)\\nXentry:\\tEntry number from 0 to 7 inclusive  (your 1st entry should by 0)\\nXdate:\\tDate/time of submission in UTC\\t    (see comments below)\\nXhost:\\tMachine(s) and OS(s) under which your entry was tested\\nX\\tUse tab indented lines if needed\\nX---remark---\\nX    Place remarks about this entry in this section.  It would be helpful if\\nX    you were to indent your remarks with 4 spaces, though it is not a\\nX    requirement.  Also, if possible, try to avoid going beyond the 79th\\nX    column.  Blank lines are permitted.\\nX---author---\\nXname:\\tyour name\\nXorg:\\tSchool/Company/Organization\\nXaddr:\\tpostal address\\nX\\tuse tab indented lines to continue\\nX\\tdon\\'t forget to include the country\\nXemail:  Email address from a well known site or registered domain.\\nX        If you give several forms, list them on separate tab indented lines.\\nXanon:\\ty or n   (y => remain anonymous, n => ok to publish this info)\\nX---info---\\nXIf your program needs an info file, place a uuencoded copy of it in\\nXthis section.  In the case of multiple info files, use multiple info\\nXsections.  If your entry does not need a info file, skip this section.\\nX---build---\\nXPlace a uuencoded copy of the command(s) used to compile/build your program\\nXin this section.  It must uudecode into a file named \\'build\\'.  The resulting\\nXfile must be 255 bytes or less.\\nX---program---\\nXPlace a uuencoded copy of your program in this section.  It must uudecode\\nXinto a file named is \\'prog.c\\'.  The resulting file must follow rule #2.\\nX---end---\\nX\\nX      Regarding the above format:\\nX\\nX\\t* The title must match the expression: [a-zA-Z0-9_=][a-zA-Z0-9_=+-]*\\nX\\t  and must be 1 to 12 characters in length.\\nX\\nX\\t  It is suggested, but not required, that the title should\\nX\\t  incorporate your username; in the case of multiple authors,\\nX\\t  consider using parts of the usernames of the authors.\\nX\\nX\\t* The date in the ---entry--- section should be given with respect\\nX\\t  to UTC.  The format of the date should be as returned by asctime() \\nX\\t  using the C locale.  (see guidelines for more info)\\nX\\nX\\t* You may correct/revise a previously submitted entry by sending\\nX\\t  it to the contest email address.  Be sure to set \\'fix\\' in the \\nX\\t  ---entry--- section to \\'n\\'.  The corrected entry must use the same \\nX\\t  title and entry number as submittion that is being corrected.  Be \\nX\\t  sure that you note the resubmittion in the ---remark--- as well.\\nX\\nX\\t* With the exception of the header, all text outside of the above \\nX\\t  format may be ignored by the judges.  If you need tell the judges\\nX\\t  something, put it in the ---remark--- section, or send a separate\\nX\\t  Email message to the judges.\\nX\\nX\\t* Information from the ---author--- section will be published unless \\nX\\t  \\'y\\' was given to the respective author\\'s \\'anon\\' line.\\nX\\nX\\t* To credit multiple authors, include an ---author--- section for\\nX\\t  each author.  Each should start with ---author--- line, and\\nX\\t  should be found between the ---entry--- and ---build--- sections.\\nX\\nX\\t* The entry\\'s remarks should include:\\nX\\t    - what this program does\\nX\\t    - how to run the program (sample args or input)\\nX\\t    - special compile or execution instructions, if any\\nX\\t    - special filename requirements (see rule 4 and 5)\\nX\\t    - information about any ---data--- files\\nX\\t    - why you think the program is obfuscated\\nX\\t    - note if this entry is a re-submission of a previous entry.\\nX\\t    - any other remarks (humorous or otherwise)\\nX\\nX\\t* Do not rot13 your entry\\'s remarks.  You may suggest that certain\\nX\\t  portions of your remarks be rot13ed if your entry wins an award.\\nX\\nX        * Info files should be used only to supplement your entry.  They \\nX\\t  should not be required to exist.\\nX\\nX\\t  If your entry does not need an info file, skip the ---info---\\nX\\t  section.  If your entry needs multiple info files, use multiple \\nX\\t  ---info--- sections, one per info file.  You should describe\\nX\\t  each info file in the ---remark--- section.\\nX\\nX    4) If your entry is selected as a winner, it will be modified as follows:\\nX\\nX\\t   \\'build\\' is incorporated into a makefile, and \\'build\\' is removed\\nX\\t   \\'prog.c\\' is renamed to your entry\\'s title, followed by an optional\\nX\\t       digit, followed by \\'.c\\'\\nX\\t   your entry is compiled into a file with the name of your entry\\'s\\nX\\t       title, possibly followed by a digit\\nX\\nX       If your entry requires that a build file exist, state so in your\\nX       entry\\'s remark section.  The makefile will be arranged to execute a\\nX       build shell script containing the \\'build\\' information.  The name of\\nX       this build shell script will be your entry\\'s title, possibly followed\\nX       by a digit, followed by \\'.sh\\'.\\nX\\nX       If needed, your entry\\'s remarks should indicate how your entry must\\nX       be changed in order to deal with the new filenames.\\nX\\nX    5) The build file, the source and the resulting executable should be\\nX       treated as read-only files.  If your entry needs to modify these files,\\nX       it should make and modify a copy of the appropriate file.  If this\\nX       occurs, state so in your entry\\'s remarks.\\nX\\nX    6) Entries that cannot be compiled by an ANSI C compiler will be rejected.\\nX       Use of common C (K&R + extensions) is permitted, as long as it does not \\nX       cause compile errors for ANSI C compilers.\\nX\\nX    7) The program must be of original work.  All programs must be in the\\nX       public domain.  All copyrighted programs will be rejected.\\nX\\nX    8) Entries must be received prior to 07-May-93 0:00 UTC.  (UTC is\\nX       essentially equivalent to Greenwich Mean Time)  Email your entries to:\\nX\\nX\\t\\t...!{apple,pyramid,sun,uunet}!hoptoad!obfuscate\\nX\\t\\tobfuscate@toad.com\\nX\\nX       We request that your message use the subject \\'ioccc entry\\'.\\nX\\nX       If possible, we request that you hold off on Emailing your entries\\nX       until 1-Mar-93 0:00 UTC.  Early entries will be accepted, however.\\nX       We will attempt to email a confirmation to the the first author for\\nX       all entries received after 1-Mar-93 0:00 UTC.\\nX\\nX    9) Each person may submit up to 8 entries per contest year.  Each entry\\nX       must be sent in a separate Email letter.\\nX\\nX   10) Entries requiring human interaction to be built are not allowed.  \\nX       Compiling an entry produce a file (or files) which may be executed.\\nX\\nX   11) Programs that require special privileges (setuid, setgid, super-user,\\nX       special owner or group) are not allowed.\\nX    \\nX\\nXFOR MORE INFORMATION:\\nX\\nX    The Judging will be done by Landon Noll and Larry Bassel.  Please send\\nX    questions or comments (but not entries) about the contest, to:\\nX\\nX\\t...!{apple,pyramid,sun,uunet}!hoptoad!judges\\nX\\tjudges@toad.com\\nX\\nX    The rules and the guidelines may (and often do) change from year to\\nX    year.  You should be sure you have the current rules and guidelines\\nX    prior to submitting entries.  To obtain all 3 of them, send Email\\nX    to the address above and use the subject \\'send rules\\'.\\nX\\nX    One may also obtain them via anonymous ftp from:\\nX\\nX\\thost: ftp.uu.net\\t(137.39.1.9)\\nX\\tuser: anonymous\\nX\\tpass: yourname@yourhost\\nX\\tdir:  /pub/ioccc\\nX\\nX\\nXchongo <Landon Curt Noll> /\\\\cc/\\\\  \\thoptoad!chongo\\nXLarry Bassel\\t\\t\\t  \\t{uunet,ucbvax,cbosgd}|sun!lab\\nSHAR_EOF\\nchmod 0444 rules ||\\necho \"restore of rules failed\"\\nset `wc -c rules`;Wc_c=$1\\nif test \"$Wc_c\" != \"8585\"; then\\n\\techo original size 8585, current size $Wc_c\\nfi\\n# ============= guidelines ==============\\necho \"x - extracting guidelines (Text)\"\\nsed \\'s/^X//\\' << \\'SHAR_EOF\\' > guidelines &&\\nX10th International Obfuscated C Code Contest Guidelines, Hints and Comments\\nX\\nXCopyright (c) Landon Curt Noll & Larry Bassel, 1993.  \\nXAll Rights Reserved.  Permission for personal, education or non-profit use is \\nXgranted provided this this copyright and notice are included in its entirety \\nXand remains unaltered.  All other uses must receive prior permission in writing \\nXfrom both Landon Curt Noll and Larry Bassel.\\nX\\nXABOUT THIS FILE:\\nX\\nX    This file is intended to help people who wish to submit entries to\\nX    the International Obfuscated C Code Contest (IOCCC for short).\\nX\\nX    This is not the IOCCC rules, though it does contain comments about\\nX    them.  The guidelines should be viewed as hints and suggestions.\\nX    Entries that violate the guidelines but remain within the rules are\\nX    allowed.  Even so, you are safer if you remain within the guidelines.\\nX\\nX    You should read the current IOCCC rules, prior to submitting entries.\\nX    The rules are typically sent out with these guidelines.\\nX\\nX\\nXWHAT IS NEW IN 1993:\\nX\\nX    The entry format is better (for us anyway).  The program mkentry.c\\nX    has been updated.  See ENTRY FORMAT.\\nX\\nX    We will reject entries that cannot be compiled using an ANSI C\\nX    compiler.  Certain old Obfuscation hacks that cause ANSI C compilers \\nX    fits are no longer permitted.  Some of the new issues deal with \\nX    non-integral array types, variable number of arguments, C preprocessor \\nX    directives and the exit() function.  See OUR LIKES AND DISLIKES.\\nX\\nX\\nXHINTS AND SUGGESTIONS:\\nX\\nX    You are encouraged to examine the winners of previous contests.  See\\nX    FOR MORE INFORMATION for details on how to get previous winners.\\nX\\nX    Keep in mind that rules change from year to year, so some winning entries\\nX    may not be valid entries this year.  What was unique and novel one year\\nX    might be \\'old\\' the next year.\\nX\\nX    An entry is usually examined in a number of ways.  We typically apply\\nX    a number of tests to an entry:\\nX\\nX\\t* look at the original source\\nX\\t* convert ANSI tri-graphs to ASCII\\nX\\t* C pre-process the source ignoring \\'#include\\' lines\\nX\\t* C pre-process the source ignoring \\'#define\\' and \\'#include\\' lines\\nX\\t* run it through a C beautifier\\nX\\t* examine the algorithm\\nX\\t* lint it\\nX\\t* compile it\\nX\\t* execute it\\nX\\nX    You should consider how your entry looks in each of the above tests.\\nX    You should ask yourself if your entry remains obscure after it has been\\nX    \\'cleaned up\\' by the C pre-processor and a C beautifier.\\nX\\nX    Your entry need not do well under all, or in most tests.  In certain\\nX    cases, a test is not important.  Entries that compete for the\\nX    \\'strangest/most creative source layout\\' need not do as well as\\nX    others in terms of their algorithm.  On the other hand, given\\nX    two such entries, we are more inclined to pick the entry that\\nX    does something interesting when you run it.\\nX\\nX    We try to avoid limiting creativity in our rules.  As such, we leave\\nX    the contest open for creative rule interpretation.  As in real life\\nX    programming, interpreting a requirements document or a customer request\\nX    is important.  For this reason, we often award \\'worst abuse of the\\nX    rules\\' to an entry that illustrates this point in an ironic way.\\nX\\nX    If you do plan to abuse the rules, we suggest that you let us know\\nX    in the remarks section.  Please note that an invitation to abuse\\nX    is not an invitation to break.  We are strict when it comes to the\\nX    3217 byte size limit.  Also, abusing the entry format tends to\\nX    annoy more than amuse.\\nX\\nX    We do realize that there are holes in the rules, and invite entries\\nX    to attempt to exploit them.  We will award \\'worst abuse of the rules\\'\\nX    and then plug the hole next year.  Even so, we will attempt to use\\nX    the smallest plug needed, if not smaller.  :-)\\nX\\nX    Check out your program and be sure that it works.  We sometimes make\\nX    the effort to debug an entry that has a slight problem, particularly\\nX    in or near the final round.  On the other hand, we have seen some\\nX    of the best entries fall down because they didn\\'t work.\\nX\\nX    We tend to look down on a prime number printer, that claims that\\nX    16 is a prime number.  If you do have a bug, you are better off\\nX    documenting it.  Noting \"this entry sometimes prints the 4th power\\nX    of a prime by mistake\" would save the above entry.  And sometimes,\\nX    a strange bug/feature can even help the entry!  Of course, a correctly\\nX    working entry is best.\\nX\\nX\\nXOUR LIKES AND DISLIKES:\\nX\\nX    Doing masses of #defines to obscure the source has become \\'old\\'.  We\\nX    tend to \\'see thru\\' masses of #defines due to our pre-processor tests\\nX    that we apply.  Simply abusing #defines or -Dfoo=bar won\\'t go as far\\nX    as a program that is more well rounded in confusion.\\nX\\nX    Many ANSI C compilers dislike the following code, and so do we:\\nX\\nX\\t#define d define\\nX\\t#d foo\\t\\t   <-- don\\'t expect this to turn into #define foo\\nX\\nX\\tint i;\\nX\\tj;\\t\\t   <-- don\\'t use such implicit type declaration\\nX\\tint k;\\nX\\nX    We suggest that you compile your entry with an ANSI C compiler.  If you \\nX    must use non-ANSI C, such as K&R C, you must avoid areas that result in \\nX    compile/link errors for ANSI C compilers.\\nX\\nX    Unfortunately, ANSI C requires array indexes to be of integral type.\\nX    Thus, the following classical obfuscation hacks are no longer allowed:\\nX\\nX\\tint i;\\nX\\tchar *c;\\nX\\ti[c];\\t\\t   <--- use c[i] instead\\nX\\t(i+3)[\"string\"];   <--- use \"string\"[i+3] instead\\nX\\nX    If your entry uses functions that have a variable number of\\nX    arguments, be careful. Systems implement va_list as a wide variety\\nX    of ways.  Because of this, a number of operations using va_list are\\nX    not portable and must not be used:\\nX\\nX\\t* assigning a non-va_list variable to/from a va_list variable\\nX\\t* casting a non-va_list variable into/from a va_list variable\\nX\\t* passing a va_list variable to a function expecting a non-va_list arg\\nX\\t* passing a non-va_list variable to a function expecting a va_list arg\\nX\\t* performing arithmetic on va_list variables\\nX\\t* using va_list as a structure or union\\nX\\nX    In particular, do not treat va_list variables as if they were a char **\\'s.\\nX\\nX    Avoid using <varargs.h>, use <stdarg.h> instead.\\nX\\nX    If you use C preprocessor directives (#define, #if, #ifdef, ...),\\nX    the leading \\'#\\' must be the first character on a line.  While some\\nX    C preprocessors allow whitespace the leading \\'#\\', many do not.\\nX\\nX    Because the exit() function returns void on some systems, entries\\nX    must not assume that it returns an int.\\nX\\nX    Small programs are best when they are short, obscure and concise.\\nX    While such programs are not as complex as other winners, they do\\nX    serve a useful purpose.  They are often the only program that people\\nX    attempt to completely understand.  For this reason, we look for\\nX    programs that are compact, and are instructional.\\nX\\nX    One line programs should be short one line programs, say around 80\\nX    bytes long.  Getting close to 160 bytes is a bit too long in our opinion.\\nX\\nX    We tend to dislike programs that:\\nX\\nX\\t* are very hardware specific\\nX\\t* are very OS or Un*x version specific\\nX\\t     (index/strchr differences are ok, but socket/streams specific\\nX\\t      code is likely not to be)\\nX\\t* dump core or have compiler warnings\\nX\\t     (it is ok only if you warn us in the \\'remark\\' header item)\\nX\\t* won\\'t compile under both BSD or SYS V Un*x\\nX\\t* abusing the build file to get around the size limit\\nX\\t* obfuscate by excessive use of ANSI tri-graphs\\nX\\t* are longer than they need to be\\nX\\t* are similar to previous winners\\nX\\t* are identical to previous losers  :-)\\nX\\nX    Unless you are cramped for space, or unless you are entering the\\nX    \\'best one liner\\' category, we suggest that you format your program\\nX    in a more creative way than simply forming excessively long lines.\\nX\\nX    The build file should not be used to try and get around the size\\nX    limit.  It is one thing to make use of a several -D\\'s to help out,\\nX    but it is quite another to use 200+ bytes of -D\\'s in order to\\nX    try and squeeze the source under the size limit.  You should feel\\nX    free to make use of the build file space, but you are better off\\nX    if you show some amount of restraint.\\nX\\nX    We allowed whitespace, and in certain cases ; { or } do not impact\\nX    your program size (up to a certain point), because we want to get\\nX    away from source that is simply a compact blob of characters.\\nX\\nX    Given two versions of the same program, one that is a compact blob\\nX    of code, and the other that is formatted more like a typical C\\nX    program, we tend to favor the second version.  Of course, a third\\nX    version of the same program that is formatted in an interesting\\nX    and/or obfuscated way, would definitely win over the first two!\\nX\\nX    We suggest that you avoid trying for the \\'smallest self-replicating\\'\\nX    program.  We are amazed at the many different sizes that claim\\nX    to be the smallest.  There is nothing wrong with self-replicating\\nX    programs.  In fact, a number of winners have been self-replicating.\\nX    You might want to avoid the claim of \\'smallest\\', lest we (or others)\\nX    know of a smaller one!\\nX\\nX    X client entries should be as portable as possible.  Entries that\\nX    adapt to a wide collection of environments will be favored.  Don\\'t\\nX    depend on a particular type of display.  For example, don\\'t depend\\nX    on color or a given size.  Don\\'t require backing store.\\nX\\nX    X client entries should avoid using X related libraries and\\nX    software that is not in wide spread use.  We ask that such X client\\nX    entries restrict themselves to only the low level Xlib and the\\nX    Athena widget set (libX11.a, libXaw.a, libXmu.a and libXt.a).\\nX    Don\\'t use M*tif, Xv*ew, or OpenL*ok toolkits, since not everyone\\nX    has them.  Avoid depending on a particular window manager.  Not\\nX    everyone has X11r5, and some people are stuck back in X11r4 (or\\nX    earlier), so try to target X11r5 without requiring X11r5.  Better\\nX    yet, try to make your entry run on all version 11 X Window Systems.\\nX\\nX    X client entries should not to depend on particular items on\\nX    .Xdefaults.  If you must do so, be sure to note the required lines\\nX    in the ---remark--- section.\\nX\\nX    We like programs that:\\nX\\nX\\t* are as concise and small as they need to be\\nX\\t* do something at least quasi-interesting\\nX\\t* pass lint without complaint (not a requirement, but it is nice)\\nX\\t* are portable\\nX\\t* are unique or novel in their obfuscation style\\nX\\t* MAKE USE OF A NUMBER OF DIFFERENT TYPES OF OBFUSCATION\\nX\\t* make us laugh and/or throw up  :-)\\nX\\nX    Some types of programs can\\'t excel in some areas.  Of course, your\\nX    program doesn\\'t have to excel in all areas, but doing well in several\\nX    areas really does help.\\nX\\nX    We freely admit that interesting, creative or humorous comments in\\nX    the ---remark--- section helps your chance of winning.  If you had to\\nX    read of many twisted entries, you too would enjoy a good laugh or two.\\nX    We think the readers of the contest winners do as well.\\nX\\nX    Be creative!\\nX\\nX\\nXENTRY FORMAT:\\nX\\nX    In order to help us process the many entries, we must request your\\nX    assistance by formatting your entries in a certain way.  This format,\\nX    in addition, allows us to quickly separate information about the\\nX    author from the program itself.  (see JUDGING PROCESS)\\nX\\nX    We have provided the program, mkentry, as an example of how to\\nX    format entries.  You should be aware of the following warning that\\nX    is found in mkentry.c:\\nX\\nX\\tThis program attempts to implement the IOCCC rules.  Every\\nX\\tattempt has been made to make sure that this program produces\\nX\\tan entry that conforms to the contest rules.  In all cases,\\nX\\twhere this program differs from the contest rules, the\\nX\\tcontest rules will be used.  Be sure to check with the\\nX\\tcontest rules before submitting an entry.\\nX\\nX    You are not required to use mkentry.  It is convenient, however,\\nX    as it attempts to uuencode the needed files, and attempt to check\\nX    the entry against the size rules.\\nX\\nX    If you have any suggestions, comments, fixes or complaints about\\nX    the mkentry.c program, please send Email to the judges.  (see below)\\nX\\nX    The following is a sample entry:\\nX\\nX---entry---\\nXrule:\\t1993\\nXfix:\\tn\\nXtitle:\\tchonglab\\nXentry:\\t0\\nXdate:\\tMon Mar  1 08:45:20 1993\\nXhost:\\tUn*x v6, pdp11/45\\nX\\t2.9BSD, pdp11/70\\nX---remark---\\nX    This is a non-obfuscated obfuscated C program.\\nX\\nX    It is likely not to win a prize.  But what do you expect from\\nX    a short example!\\nX---author---\\nXname:\\tLandon Curt Noll\\nXorg:\\tIOCCC Judging Group\\nXaddr:\\tToad Hall\\nX\\tPO Box 170608\\nX\\tSan Francisco, California\\nX\\t94117-0608\\nX\\tUSA\\nXemail:\\tchongo@toad.com\\nXanon:\\tn\\nX---author---\\nXname:\\tLarry Bassel\\nXorg:\\tIOCCC Judging Group\\nXaddr:\\tToad Hall\\nX\\tPO Box 170608\\nX\\tSan Francisco, California\\nX\\t94117-0608\\nX\\tUSA\\nXemail:\\thoptoad!sun!lab\\nX\\tlab@sun.com\\nXanon:\\tn\\nX---info---\\nXbegin 444 info.file\\nXM0V]P>7)I9VAT(\"AC*2!,86YD;VX@0W5R=\"!.;VQL+\"`Q.3DS+@I!;&P@4FEG\\nXM:\\'1S(%)E<V5R=F5D+B`@4&5R;6ES<VEO;B!F;W(@<&5R<V]N86PL(&5D=6-A\\nXM=&EO;B!O<B!N;VXM<\\')O9FET(\\'5S92!I<PIG<F%N=&5D(\\'!R;W9I9&5D(\\'1H\\nXM:7,@=&AI<R!C;W!Y<FEG:\\'0@86YD(&YO=&EC92!A<F4@:6YC;\\'5D960@:6X@\\nXM:71S(&5N=&ER971Y\"F%N9\"!R96UA:6YS(\\'5N86QT97)E9\"X@($%L;\"!O=&AE\\nXM<B!U<V5S(&UU<W0@<F5C96EV92!P<FEO<B!P97)M:7-S:6]N(&EN(\\'=R:71I\\nXM;F<*9G)O;2!,86YD;VX@0W5R=\"!.;VQL+@H*5&AA=\"!T:&%T(&ES+\"!I<RX*\\nXM5&AA=\"!T:&%T(&ES(&YO=\"P*(\"`@(&ES(&YO=\"!T:&%T(\\'1H870@;F]T(&ES\\nXM+@I4:&%T(&ES+\"!T:&%T(\\'1H870@:7,@;F]T+\"!I<R$*\"@D)+2T@8VAO;F=O\\nXM(#$Y-S0*\"DQA<W0@>65A<BP@;VYE(\\'!E<G-O;B!T;VQD(\\'5S(\\'1H870@=&AE\\nXM>2!A8W1U86QL>2!D96-O9&5D(\\'1H:7,@9FEL92X*22!W;VYD97(@:&]W(&UA\\nX9;GD@=VEL;\"!D;R!I=\"!T:&ES(\\'EE87(_\"@``\\nX`\\nXend\\nX---build---\\nXbegin 444 build\\nX28V,@<\\')O9RYC(\"UO(\\'!R;V<*\\nX`\\nXend\\nX---program---\\nXbegin 444 prog.c\\nXM;6%I;B@I\"GL*(VEF(&1E9FEN960H05]214=)4U1%4D5$7U9/5$527TE.7U-5\\nXM3DY95D%,15]#04Q)1D]23DE!7U5302D*(\"`@(\\'!R:6YT9B@B5F]T92!,86YD\\nXM;VX@3F]L;\"!F;W(@4W5N;GEV86QE($-I=\\'D@0V]U;F-I;\"!S96%T(\",Q+EQN\\nX:(BD[\"B-E;F1I9@H@(\"`@97AI=\"@P*3L*?0H`\\nX`\\nXend\\nX---end---\\nX\\nX    Typically the build file should assume that the source is prog.c\\nX    and will compile into prog.  If an entry wins, we will rename\\nX    its source and binary to avoid filename collision.  By tradition,\\nX    we use the name of the entry\\'s title, followed by an optional\\nX    digit in case of name conflicts.\\nX\\nX    If the above entry somehow won the \\'least likely to win\\' award,\\nX    we would use chonglab.c and chonglab.\\nX\\nX    If your entry depends on, or requires that your build, source\\nX    and/or binary files be a particular name, please say so in the\\nX    ---remark--- section.  If this case applies, it would be be helpful\\nX    if you did one of the following:\\nX\\nX\\t* Tell us how to change the filename(s) in your entry.\\nX\\nX\\t* Have the build file make copies of the files.  For example:\\nX\\nX\\t\\tcc prog.c -o special_name\\t\\tneed special binary\\nX\\nX\\t    or  rm -f special_src.c\\t\\t\\tneed special source\\nX\\t\\tcp prog.c special_src.c\\nX\\t\\tcc special_src.c -o special_name\\nX\\nX\\t    or  rm -f special_build\\t\\t\\tneed special build\\nX\\t\\ttail +4 build > special_build\\nX\\t\\tsh < special_build\\nX\\nX\\t* Assume that we will use the entry title.  Send us a version of \\nX\\t  your build/program files that uses the name convention.  You \\nX\\t  should uuencode these files in ---data--- sections.\\nX\\nX    If your entry needs to modify its source, info or binary files,\\nX    please say so in the ---remark--- section.  You should try to avoid\\nX    touching your original build, source and binary files.  You should\\nX    arrange to make copies of the files you intend to modify.  This\\nX    will allow people to re-generate your entry from scratch.\\nX\\nX    Remember that your entry may be built without a build file.  We\\nX    typically incorporate the build lines into a Makefile.  If the\\nX    build file must exist, say so in the ---remark--- section.\\nX\\nX    If your entry needs special info files, you should uuencode them\\nX    into ---info--- sections.  In the case of multiple info files,\\nX    use multiple ---info--- sections.  If no info files are needed,\\nX    then skip the ---info--- section.\\nX\\nX    Info files are intended to be input, or detailed information that\\nX    does not fit well into the ---remark--- section.  For example, an\\nX    entry that implements a compiler might want to provide some sample\\nX    programs for the user to compile.  An entry might want to include a\\nX    lengthy design document, that might not be appropriate for a\\nX    \\'hints\\' file.\\nX\\nX    Info files should be used only to supplement your entry.  For\\nX    example, info files may provide sample input or detailed\\nX    information about your entry.  Because they are supplemental,\\nX    the entry should not require them exist.\\nX\\nX    In some cases, your info files might be renamed to avoid name\\nX    conflicts.  If info files should not be renamed for some reason,\\nX    say so in the ---remark--- section.\\nX\\nX    Info files must uudecode into the current directory.  If they\\nX    absolutely must be renamed, or moved into a sub-directory, say\\nX    so in the ---remark--- section.\\nX\\nX    When submitting multiple entries, be sure that each entry has\\nX    a unique entry number from 0 to 7.  Your first entry should\\nX    have entry number 0.\\nX\\nX    With the exception of the header, all text outside of the entry\\nX    format may be ignored.  That is, don\\'t place text outside of the\\nX    entry and expect the judges to see it.  (Our decoding tools aren\\'t\\nX    AI progs!) If you need tell the the something, put it in the \\nX    ---remark--- section, or send a Email to the judges at:\\nX\\nX\\t...!{apple,pyramid,sun,uunet}!hoptoad!judges\\t(not the address for\\nX\\tjudges@toad.com\\t\\t\\t\\t\\t submitting entries)\\nX    \\nX    The date should be given with respect to UTC.  (Some systems refer \\nX    to this as GMT or GMT0)  The format of the date should be that as \\nX    returned by asctime() in the C locale.  An example of such a string is:\\nX\\nX\\tThr Apr 01 00:47:00 1993\\nX\\nX    This format is similar to the output of the date(1) command.  The\\nX    string does not include the timezone name before the year.  On many \\nX    systems, one of the following command will produce a similar string:\\nX\\nX\\tdate -u \"+%a %h %d %T 19%y\"\\nX\\tdate -u | sed -e \\'s/... \\\\(19[0-9][0-9]\\\\)$/\\\\1/\\'\\nX\\tsh -c \\'TZ=UTC date | sed -e \"s/... \\\\(19[0-9][0-9]\\\\)$/\\\\1/\"\\'\\nX\\tsh -c \\'TZ=GMT date | sed -e \"s/... \\\\(19[0-9][0-9]\\\\)$/\\\\1/\"\\'\\nX\\tsh -c \\'TZ=GMT0 date | sed -e \"s/... \\\\(19[0-9][0-9]\\\\)$/\\\\1/\"\\'\\nX\\nX    You are allowed to update/fix/revise your entry.  To do so, set\\nX    the \\'fix\\' line in the ---entry--- section to \\'y\\' instead of \\'n\\'.\\nX    Be sure that the resubmittion uses the same title and entry number\\nX    as well, as these are used to determine which entry is to be\\nX    replaced.\\nX\\nX\\nXJUDGING PROCESS:\\nX\\nX    Entries are judged by Larry Bassel and Landon Curt Noll.\\nX\\nX    Entries are unpacked into individual directories.  The Email message\\nX    is unpacked into individual files, each containing:\\nX\\nX\\t---entry--- section\\nX\\tall ---author--- sections\\nX\\tall ---info--- sections\\nX\\t---build--- section\\nX\\t---program--- section\\nX\\tany other text, including the Email message headers\\nX\\nX    Prior to judging, the \\'any other text\\' file is scanned to be sure\\nX    it does not contain useful information (or in case the entry was\\nX    malformed and did not unpack correctly).  Information from the\\nX    ---author--- sections are not read until the judging process is\\nX    complete, and then only from entries that have won an award.\\nX\\nX    The above process helps keep us biased for/against any one particular\\nX    individual.  We are usually kept in the dark as much as you are\\nX    until the final awards are given.  We like the surprise of finding\\nX    out in the end, who won and where they were from.\\nX\\nX    We attempt to keep all entries anonymous, unless they win an award.\\nX    Because the main \\'prize\\' of winning is being announced, we make all\\nX    attempts to send non-winners into oblivion.  We remove all non-winning\\nX    files, and shred all related paper.  By tradition, we do not even\\nX    reveal the number of entries that we received.  (for the curious,\\nX    we do indicate the volume of paper consumed when presenting the IOCCC\\nX    winners at talks)\\nX\\nX    After the Usenix announcement, we attempt to send Email to the\\nX    authors of the winning entries.  One reason we do this is to give\\nX    the authors a chance to comment on the way we have presented their\\nX    entry.  They are given the chance to correct mistakes, typos.  We\\nX    often accept their suggestions/comments about our remarks as well.\\nX    This is done prior to posting the winners to the wide world.\\nX\\nX    Judging consists of a number of elimination rounds.  During a round,\\nX    the collection of entries are divided into two roughly equal piles;\\nX    the pile that advances on to the next round, and the pile that does\\nX    not.  We also re-examine the entries that were eliminated in the\\nX    previous round.  Thus, an entry gets at least two readings.\\nX\\nX    A reading consists of a number of actions:\\nX\\nX\\t* reading the ---entry--- section\\nX\\t* reading the uudecoded ---build--- section\\nX\\t* reading the uudecoded ---program--- section\\nX\\t* reading the uudecoded ---info--- section(s), if any\\nX\\t* passing the source thru the C pre-processor\\nX\\t    shipping over any #include files\\nX\\t* performing a number of C beautify/cleanup edits on the source\\nX\\t* passing the beautified source thru the C pre-processor\\nX\\t    shipping over any #include files\\nX\\nX    In later rounds, other actions are performed:\\nX\\nX\\t* linting the source\\nX\\t* compiling/building the source\\nX\\t* running the program\\nX\\t* performing misc tests on the source and binary\\nX\\nX    Until we reduce the stack of entries down to about 25 entries, entries\\nX    are judged on an individual basis.  An entry is set aside because it\\nX    does not, in our opinion, meet the standard established by the round.\\nX    When the number of entries thins to about 25 entries, we begin to form\\nX    award categories.  Entries begin to compete with each other for awards.\\nX    An entry often will compete in several categories.\\nX\\nX    The actual award category list will vary depending on the types of entries\\nX    we receive.  A typical category list might be:\\nX\\nX\\t* best small one line program\\nX\\t* best small program\\nX\\t* strangest/most creative source layout\\nX\\t* most useful obfuscated program\\nX\\t* best game that is obfuscated\\nX\\t* most creatively obfuscated program\\nX\\t* most deceptive C code\\nX\\t* best X client (see OUR LIKES AND DISLIKES)\\nX\\t* best abuse of ANSI C\\nX\\t* worst abuse of the rules\\nX\\t* <anything else so strange that it deserves an award>\\nX\\nX    We do not limit ourselves to this list.  For example, a few entries are so\\nX    good/bad that they are declared winners at the start of the final round.\\nX    We will invent awards categories for them, if necessary.\\nX\\nX    In the final round process, we perform the difficult tasks of\\nX    reducing the remaining entries (typically about 25) down to 8 or 10\\nX    winners.  Often we are confident that the entries that make it into\\nX    the final round are definitely better than the ones that do not\\nX    make it.  The selection of the winners out of the final round, is\\nX    less clear cut.\\nX\\nX    Sometimes a final round entry good enough to win, but is beat out\\nX    by a similar, but slightly better entry.  For this reason, it is\\nX    sometimes worthwhile to re-enter an improved version of an entry \\nX    that failed to win in a previous year.  This assumes, of course, \\nX    that the entry is worth improving in the first place!\\nX\\nX    More often that not, we select a small entry (usually one line), a\\nX    strange/creative layout entry, and an entry that abuses the contest\\nX    rules in some way.\\nX\\nX    In the end, we traditionally pick one entry as \\'best\\'.  Sometimes such\\nX    an entry simply far exceeds any of the other entry.  More often, the\\nX    \\'best\\' is picked because it does well in a number of categories.\\nX\\nX\\nXANNOUNCEMENT OF WINNERS:\\nX\\nX    The first announcement, occurs at a Summer Usenix conference.  By tradition,\\nX    this is done during the latter part of the UUNET/IOCCC BOF, just prior to\\nX    the Berkeley BSD, and BSDI BOF.\\nX\\nX    Winning entries will be posted in late June to the following groups:\\nX\\nX\\t    comp.lang.c\\t\\t  comp.unix.wizards\\talt.sources\\nX\\nX    In addition, pointers to these postings are posted to the following\\nX\\nX\\t    comp.sources.d\\t  alt.sources.d\\t\\tmisc.misc\\nX\\t    comp.sources.misc\\t  comp.windows.x\\nX\\nX    Winning entries will be deposited into the uunet archives.  See\\nX    below for details.\\nX\\nX    Often, winning entries are published in selected magazines.  Winners \\nX    have appeared in books (\"The New Hackers Dictionary\") and on T-Shirts.\\nX\\nX    Last, but not least, winners receive international fame and flames!  :-)\\nX\\nX\\nXFOR MORE INFORMATION:\\nX\\nX    You may contact the judges by sending Email to the following address:\\nX\\nX\\t...!{apple,pyramid,sun,uunet}!hoptoad!judges\\t(not the address for\\nX\\tjudges@toad.com\\t\\t\\t\\t\\t submitting entries)\\nX\\nX    Questions and comments about the contest are welcome.\\nX\\nX    One may obtain a copy of the current rules, guidelines or mkentry\\nX    program.  To obtain all 3 of them, send Email to the address above \\nX    and use the subject \\'send rules\\'.\\nX\\nX    One may also obtain the above items, we well as winners of previous\\nX    contests, via anonymous ftp from:\\nX\\nX\\thost: ftp.uu.net\\t(137.39.1.9)\\nX\\tuser: anonymous\\nX\\tpass: yourname@yourhost\\nX\\tdir:  pub/ioccc\\nX\\nX    Often, contest rules, guidelines and winners are available from\\nX    archive sites.  Check comp.sources.unix archives, for example.\\nX    You may also request previous winners by Email, using the judges\\nX    Email address, though we ask that you do this as a last resort.\\nX\\nX\\nXchongo <Landon Curt Noll> /\\\\cc/\\\\  \\thoptoad!chongo\\nXLarry Bassel\\t\\t\\t  \\t{uunet,ucbvax,cbosgd}|sun!lab\\nSHAR_EOF\\nchmod 0444 guidelines ||\\necho \"restore of guidelines failed\"\\nset `wc -c guidelines`;Wc_c=$1\\nif test \"$Wc_c\" != \"25375\"; then\\n\\techo original size 25375, current size $Wc_c\\nfi\\necho \"End of part 1, continue with part 2\"\\nexit 0\\n-- \\nSunnyvale residents: Vote Landon Noll for Sunnyvale City Council seat 1.\\n'}, {'id': 'v-1.mp4', 'text_data': 'Scene description from video frame 0: This is a placeholder description. Scene description from video frame 125: This is a placeholder description. Scene description from video frame 250: This is a placeholder description. Scene description from video frame 375: This is a placeholder description.', 'description': 'Scene description from video frame 0: This is a placeholder description. Scene description from video frame 125: This is a placeholder description. Scene description from video frame 250: This is a placeholder description. Scene description from video frame 375: This is a placeholder description.', 'file_path': './rag-data/v-1.mp4'}, {'id': 'v-2.mp4', 'text_data': 'Scene description from video frame 0: This is a placeholder description. Scene description from video frame 125: This is a placeholder description. Scene description from video frame 250: This is a placeholder description. Scene description from video frame 375: This is a placeholder description. Scene description from video frame 500: This is a placeholder description. Scene description from video frame 625: This is a placeholder description. Scene description from video frame 750: This is a placeholder description.', 'description': 'Scene description from video frame 0: This is a placeholder description. Scene description from video frame 125: This is a placeholder description. Scene description from video frame 250: This is a placeholder description. Scene description from video frame 375: This is a placeholder description. Scene description from video frame 500: This is a placeholder description. Scene description from video frame 625: This is a placeholder description. Scene description from video frame 750: This is a placeholder description.', 'file_path': './rag-data/v-2.mp4'}]\n",
            "--- NODE: Embedding and Upserting to Pinecone ---\n",
            "index:  <pinecone.db_data.index.Index object at 0x789978c234d0>\n",
            "state['processed_data']:  [{'id': 'tt0085461.jpg', 'ocr_text': '**Extracted Text:**\\n\\n\"ONE OF THE YEAR\\'S 10 BEST.\"  \\n—National Board of Review, Delayed Release; David Denby, New York  \\nKnxt-Day: Bernard Dreeman, New York Post; Jeffrey Lyons, WCBS-TV; Kathleen Carroll, New York Daily Nevys\\n\\n\"The Dresser,\" Ronald Harwood\\'s eloquently funny and moving backstage tour de force.\\n—Vincent Canby, The New York Times\\n\\n\" \\'The Dresser\\' moves from great laughs to a knuckle-biting suspenseful finish. What makes it work is an actor\\'s performance.\"  \\n—Gary Arnold, Washington Post\\n\\n\"The Dresser seems to have sprung from some particular inner impulse or necessity. Scrupulously directed by Peter Yates, it unfolds with the tautness and economy of well-crafted suspense.\"  \\n—David Denby, New York Knxt-Day\\n\\n\"The Dresser succeeds on strength of its superb performances-the work of Finney and Courtenay is certainly impressive.. this movie will be remembered for their virtuoso interplay.\"  \\n—Gregory Quinn, Channel 9 News, WOR TV\\n\\nIn \"The Dresser\" two of our finest actors provide extraordinary contrast as the fatally wounded \"Sir\" of Shakespeare\\'s Macbeth, and the fiercely devoted dresser who understands his master\\'s every mood-and every motive. Working together, Albert Finney (as \"Sir\") and Tom Courtenay (as the dresser) give perhaps the finest performances of their distinguished careers. \"The Dresser\" is based on a celebrated play by Ronald Harwood, adapted to the screen by the author, directed by Peter Yates (\"Breaking Away,\" \"The Deep\") and produced by Peter Yates and Ronald Harwood.\\n\\nJOHNSON/LINO PICTURE \\n\\nPETER YATES\\n\"THE DRESS\"\\n\\nALBERT FINNEY-TOM COURTENAY \\n\\nas \"Sir\" as Norman\\n\\nThe dresser\\n\\nwith\\n\\nTHE\\n\\nBYRON JENNINGS and\\n\\nEILEEN RICHARDSON \\n\\nBY PAUL HEARD Estacate THE DRESSER written by RONALD HARWOOD\\nby\\nRONALD\\nPETER HARWOOD YATES\\n\\nA Columbia Johnson Films - Enterprises Production   \\n\\nIn Technicolor® A J.D.S. Film Release ©1983 Columbia Pictures Industries, Inc. All Rights Reserved\\n\\nFOR PRIVATE REVIEWING PURPOSES ONLY  \\n\\nNOT FOR PUBLIC EXHIBITION  \\n\\n**Details of Other Objects:**\\n\\n- The image is a poster for the movie \"The Dresser.\"\\n- It includes an illustration with a scene depicting two men, one standing before a mirror adjusting his tie, reflecting the theme of theater and dressing.\\n- The background is a faded color with text in various fonts and sizes detailing reviews and cast information.\\n- Decorative lamps are visible above the mirror in the illustration.', 'description': 'The image is a movie poster for \"The Dresser.\" It features several key visual elements:\\n\\n1. **Title and Tagline**: The title \"THE DRESSER\" is prominently displayed at the bottom, likely in a bold and stylized font. Above it, there\\'s a tagline or quote that emphasizes the film\\'s acclaim.\\n\\n2. **Imagery**: The poster likely includes an illustration or photograph of characters related to the story, possibly in a theatrical setting, focusing on the theme of performance.\\n\\n3. **Color Palette**: The colors may be muted or dramatic, reflecting the film\\'s serious tone. Dark hues are common in dramatic movie posters, often creating a somber or intense atmosphere.\\n\\n4. **Text Information**: Along the sides or bottom, there are details about the cast, crew, and critical reviews, providing context about the film and its reception. \\n\\n5. **Layout and Design**: The overall design may balance the visual elements with text to guide the viewer\\'s eye through the important information, creating an engaging composition.\\n\\nThese elements work together to convey the film\\'s genre and themes, drawing the audience\\'s interest.'}, {'id': 'tt0085470.jpg', 'ocr_text': \"**Visible Text:**\\n\\n- NO CHEATING!\\n- NO GAMBLING!\\n- NO BOOZE!\\n- NO SMOKING!\\n- NO PIZZA!\\n- NO NOTHIN'!\\n  \\n- We're taking all the fun out of life - and putting it into a movie!\\n\\n- RODNEY DANGERFIELD\\n\\n- EA$Y MONEY\\n\\n- RODNEY DANGERFIELD\\n- JOE PESCI GERALDINE FITZGERALD CANDICE AZZARA JENNIFER JASON LEIGH\\n- with TAYLOR NEGRON VAL AVERY TOM NOONAN and JEFFREY JONES\\n- Written by JERRY BELSON MICHAEL ENDLER P.J. O'ROURKE \\n- BILL ZEIGEL ADAPTATION BY MITCH MARKOWITZ\\n- Produced by ROBERT GREENHUT Directed by JAMES SIGNORELLI\\n- Co-Executive Producers ROBERT SHAPIRO & SAMUEL Z. ARKOFF\\n- Executive Producers DENNIS BLAIR LENNY KARMAN\\n- Music by IRA NEWBORN Associate Producer THOMAS SCHLAMME\\n- Edited by RALPH ROSENBLUM \\n- Director of Photography RALPH BODE\\n- Distributed by ORION PICTURES \\n- R\\n\\n**Details of Other Objects:**\\n\\n- A cartoon-style caricature of a man's head with an exaggerated expression.\\n- The head appears to be part of a movie poster design.\\n- The color scheme is vibrant, with a focus on the facial illustration.\\n- The illustration has prominent features such as a wide-open mouth and expressive eyes.\\n- The text is integrated into the design, placed around the caricature.\", 'description': 'The image is a movie poster for \"Easy Money,\" featuring a cartoonish caricature of Rodney Dangerfield. \\n\\n### Visual Elements:\\n- **Color Scheme**: The poster uses a bright color palette, mainly featuring yellows and reds, which adds to the comedic tone.\\n- **Main Character**: Rodney Dangerfield is depicted with exaggerated facial features, emphasizing his expressions.\\n- **Text**: The poster includes bold, stylized text at the top and bottom, with lines like \"NO CHEATING!\", \"NO GAMBLING!\", and \"NO BOOZE!\" in a playful, attention-grabbing font.\\n- **Tagline**: A tagline in the center reads, \"We\\'re taking all the fun out of life - and putting it into a movie!\" in a smaller font, supporting the humorous theme.\\n- **Layout**: The character is centered against a plain background, which emphasizes his expressive face and the surrounding text.\\n\\nOverall, the design aims to convey a light-hearted and comedic vibe that aligns with the film\\'s content.'}, {'id': 'tt0085450.jpg', 'ocr_text': '**Extracted Text:**\\n\\n- He’s making the world safe for insanity.\\n- DAN AYKROYD\\n- DOCTOR DETROIT\\n- © 1983 Universal City Studios, Inc. All Rights Reserved.\\n- UNIVERSAL\\n\\n**Image Details:**\\n\\n- A person wearing a bright yellow jacket, green pants, and a tie, with a playful pose holding onto a rope.\\n- Four women in various colorful dresses are in the background.\\n- The design has a retro and dynamic style, with a purple and yellow color scheme around the title.\\n- Universal logo is present at the bottom.', 'description': 'The image features a vibrant movie poster for \"Doctor Detroit.\" At the center is a character portrayed by Dan Aykroyd, dressed in a bright green suit with a yellow shirt, who appears to be enthusiastically swinging from a chain. Surrounding him are four women in glamorous dresses, each with distinct hairstyles and colors, adding to the overall lively and chaotic theme.\\n\\nThe title \"Doctor Detroit\" is prominently displayed in bold yellow letters against a purple background, creating a striking contrast. Above the title, there is a tagline reading \"He\\'s making the world safe for insanity,\" which adds a playful and humorous tone to the poster. The overall design employs a bright color palette, contributing to a fun and energetic vibe typical of 1980s cinema.'}, {'id': 'tt0085473.jpg', 'ocr_text': \"**Extracted Text:**\\n\\n- Eddie Macon is running from a nightmare... \\n- running to a dream... and running for his life.\\n\\n- EDDIE MACON'S RUN\\n\\n- KIRK DOUGLAS  JOHN SCHNEIDER\\n- EDDIE MACON'S RUN\\n- A LORENZO SEMPLE JR Production \\n- starring KIRK DOUGLAS  JOHN SCHNEIDER\\n- produced by MARTIN BREGMAN  LOU ADELSON  RICK ROSENBERG\\n- written for the screen by LORENZO SEMPLE, JR.\\n- based on the novel EDDIE MACON'S RUN by JAMES McLENDON\\n- directed by JEFF KANEW\\n\\n**Objects and Details:**\\n\\n- The poster features two main characters: a man holding a gun on the left and another character in a sleeveless shirt on the right.\\n- There's an image of a family, including an adult holding a child, placed below the central character.\\n- The central figure is running, with the title split vertically across the image.\\n- The style of the poster suggests it is promoting a dramatic or action film.\", 'description': 'The image is a movie poster for \"Eddie Macon\\'s Run.\" \\n\\n**Visual Elements:**\\n\\n1. **Color Scheme**: The poster features a mix of bold colors, primarily yellows, blacks, and reds, creating a dramatic effect.\\n\\n2. **Central Figures**: There are two main characters positioned on either side of the poster. One is wearing a fedora and holding a gun, suggesting a sense of danger or authority. The other character appears more casual in a sleeveless shirt, reflecting a more relatable or vulnerable persona.\\n\\n3. **Title and Text**: The title \"EDDIE MACON\\'S RUN\" is prominently displayed in bold red letters, centered between the images of the characters. The tagline underneath brings attention to the theme of escaping danger and pursuing dreams.\\n\\n4. **Background**: The background is mostly plain, allowing the characters and text to stand out. The use of black and white elements contrasts against the vibrant title colors.\\n\\n5. **Additional Characters**: In the middle, there are two smaller figures—presumably representing family or companions—adding emotional depth to the storyline being represented.\\n\\nOverall, the poster conveys a sense of urgency and drama through its visual composition.'}, {'id': '66413.txt', 'text_data': \"Newsgroups: comp.windows.x\\nPath: cantaloupe.srv.cs.cmu.edu!crabapple.srv.cs.cmu.edu!fs7.ece.cmu.edu!europa.eng.gtefsd.com!howland.reston.ans.net!wupost!uunet!pipex!sunic!ericom!eos.ericsson.se!etxmesa\\nFrom: etxmesa@eos.ericsson.se (Michael Salmon)\\nSubject: Re: Help building X11R5 with gcc\\nMessage-ID: <1993Apr6.091041.7691@ericsson.se>\\nKeywords: X11R5, gcc\\nSender: etxmesa@eos6c02 (Michael Salmon)\\nNntp-Posting-Host: eos6c02.ericsson.se\\nReply-To: etxmesa@eos.ericsson.se (Michael Salmon)\\nOrganization: Ericsson Telecom AB\\nReferences:  <1993Apr6.024257.8480@etrog.se.citri.edu.au>\\nDate: Tue, 6 Apr 1993 09:10:41 GMT\\nLines: 23\\n\\nIn article <1993Apr6.024257.8480@etrog.se.citri.edu.au>\\ntim@kimba.catt.citri.edu.au (Tim Liddelow) writes:\\n|> Can people please send me any hints on building X11R5 with gcc 2.3.3 ?  Is\\n|> there any pitfalls to be avoided ?  Any hints ?  I would appreciate hearing other\\n|> peoples' stories on this.\\n\\nI have been building X11 with gcc since 2.1 and the only time I had\\ntrouble was when the position independant code option broke (so I\\ncouldn't use gcc to build Sun shared libraries). The important thing to\\ndo is to follow the tips given in the gcc release. Gcc generates code\\nthat requires libgcc2 and you should take that into account when\\ndeciding which compiler to use for the libraries.\\n\\n-- \\n\\nMichael Salmon\\n\\n#include\\t<standard.disclaimer>\\n#include\\t<witty.saying>\\n#include\\t<fancy.pseudo.graphics>\\n\\nEricsson Telecom AB\\nStockholm\\n\", 'description': \"Extracted text from file: Newsgroups: comp.windows.x\\nPath: cantaloupe.srv.cs.cmu.edu!crabapple.srv.cs.cmu.edu!fs7.ece.cmu.edu!europa.eng.gtefsd.com!howland.reston.ans.net!wupost!uunet!pipex!sunic!ericom!eos.ericsson.se!etxmesa\\nFrom: etxmesa@eos.ericsson.se (Michael Salmon)\\nSubject: Re: Help building X11R5 with gcc\\nMessage-ID: <1993Apr6.091041.7691@ericsson.se>\\nKeywords: X11R5, gcc\\nSender: etxmesa@eos6c02 (Michael Salmon)\\nNntp-Posting-Host: eos6c02.ericsson.se\\nReply-To: etxmesa@eos.ericsson.se (Michael Salmon)\\nOrganization: Ericsson Telecom AB\\nReferences:  <1993Apr6.024257.8480@etrog.se.citri.edu.au>\\nDate: Tue, 6 Apr 1993 09:10:41 GMT\\nLines: 23\\n\\nIn article <1993Apr6.024257.8480@etrog.se.citri.edu.au>\\ntim@kimba.catt.citri.edu.au (Tim Liddelow) writes:\\n|> Can people please send me any hints on building X11R5 with gcc 2.3.3 ?  Is\\n|> there any pitfalls to be avoided ?  Any hints ?  I would appreciate hearing other\\n|> peoples' stories on this.\\n\\nI have been building X11 with gcc since 2.1 and the only time I had\\ntrouble was when the position independant code option broke (so I\\ncouldn't use gcc to build Sun shared libraries). The important thing to\\ndo is to follow the tips given in the gcc release. Gcc generates code\\nthat requires libgcc2 and you should take that into account when\\ndeciding which compiler to use for the libraries.\\n\\n-- \\n\\nMichael Salmon\\n\\n#include\\t<standard.disclaimer>\\n#include\\t<witty.saying>\\n#include\\t<fancy.pseudo.graphics>\\n\\nEricsson Telecom AB\\nStockholm\\n\"}, {'id': '66400.txt', 'text_data': \"Newsgroups: comp.windows.x\\nPath: cantaloupe.srv.cs.cmu.edu!crabapple.srv.cs.cmu.edu!fs7.ece.cmu.edu!europa.eng.gtefsd.com!howland.reston.ans.net!noc.near.net!uunet!decwrl!netcomsv!netcom.com!zack\\nFrom: zack@netcom.com (Zack T. Smith)\\nSubject: Strange exposure problem\\nMessage-ID: <zackC519wy.Gy4@netcom.com>\\nOrganization: NETCOM On-line Communication Services (408 241-9760 guest)\\nDate: Mon, 5 Apr 1993 23:14:57 GMT\\nLines: 19\\n\\nHi, \\n\\nI'm trying to write a Motif program on an Interactive Unix machine, and I'm\\nobserving very strange behavior when my program attempts to expose a\\nDrawingArea. Namely, some Xlib operations work, and some do not. In\\nparticular, the expose consist of two XFillRectangle calls followed by some\\nXDrawPoint calls, and for reasons unknown to me the point calls are failing\\nwhenever a pulldown or popup up menu is (clicked on and) moved in the\\nrightward direction over the drawing area, but after the move, is still on\\nsome part of the drawing area. This also happens less consistently when the\\npulldown/popup is moved in the leftward direction.\\n\\nAssuming that my code is not doing anything incredibly odd, is this a server\\nbug?\\n\\nThanks,\\n\\nZack T. Smith\\n\\n\", 'description': \"Extracted text from file: Newsgroups: comp.windows.x\\nPath: cantaloupe.srv.cs.cmu.edu!crabapple.srv.cs.cmu.edu!fs7.ece.cmu.edu!europa.eng.gtefsd.com!howland.reston.ans.net!noc.near.net!uunet!decwrl!netcomsv!netcom.com!zack\\nFrom: zack@netcom.com (Zack T. Smith)\\nSubject: Strange exposure problem\\nMessage-ID: <zackC519wy.Gy4@netcom.com>\\nOrganization: NETCOM On-line Communication Services (408 241-9760 guest)\\nDate: Mon, 5 Apr 1993 23:14:57 GMT\\nLines: 19\\n\\nHi, \\n\\nI'm trying to write a Motif program on an Interactive Unix machine, and I'm\\nobserving very strange behavior when my program attempts to expose a\\nDrawingArea. Namely, some Xlib operations work, and some do not. In\\nparticular, the expose consist of two XFillRectangle calls followed by some\\nXDrawPoint calls, and for reasons unknown to me the point calls are failing\\nwhenever a pulldown or popup up menu is (clicked on and) moved in the\\nrightward direction over the drawing area, but after the move, is still on\\nsome part of the drawing area. This also happens less consistently when the\\npulldown/popup is moved in the leftward direction.\\n\\nAssuming that my code is not doing anything incredibly odd, is this a server\\nbug?\\n\\nThanks,\\n\\nZack T. Smith\\n\\n\"}, {'id': '64830.txt', 'text_data': 'Xref: cantaloupe.srv.cs.cmu.edu comp.lang.c:65945 comp.sources.d:9009 comp.unix.wizards:34201 alt.sources:7705 misc.misc:19347 comp.windows.x:64830\\nPath: cantaloupe.srv.cs.cmu.edu!das-news.harvard.edu!ogicse!network.ucsd.edu!pacbell.com!toad.com!chongo\\nFrom: chongo@toad.com (Landon C. Noll)\\nNewsgroups: comp.lang.c,comp.sources.d,comp.unix.wizards,alt.sources,misc.misc,comp.windows.x\\nSubject: 10th International Obfuscated C Code Contest Opening (1 of 2)\\nKeywords: ioccc\\nMessage-ID: <32194@toad.com>\\nDate: 1 Mar 93 12:08:28 GMT\\nArticle-I.D.: toad.32194\\nExpires: 7 May 93 00:00:00 GMT\\nReply-To: chongo@toad.com.UUCP (Landon C. Noll)\\nDistribution: world\\nOrganization: Nebula Consultants in San Francisco\\nLines: 850\\n\\nEnclosed are the rules, guidelines and related information for the 10th\\nInternational Obfuscated C Code Contest.  (This is part 1 of a 2 part\\nshar file).\\n\\nEnjoy!\\n\\nchongo <Landon Curt Noll> /\\\\oo/\\\\ \\nLarry Bassel\\n\\n=-=\\n\\n#!/bin/sh\\n# This is a shell archive (shar 3.32)\\n# made 03/01/1993 12:01 UTC by chongo@toad.com\\n# Source directory /tmp\\n#\\n# existing files WILL be overwritten\\n#\\n# This shar contains:\\n# length  mode       name\\n# ------ ---------- ------------------------------------------\\n#   8585 -r--r--r-- rules\\n#  25375 -r--r--r-- guidelines\\n#  33961 -r--r--r-- mkentry.c\\n#   6257 -r--r--r-- obfuscate.info\\n#\\n# ============= rules ==============\\necho \"x - extracting rules (Text)\"\\nsed \\'s/^X//\\' << \\'SHAR_EOF\\' > rules &&\\nX10th International Obfuscated C Code Contest Rules\\nX\\nXCopyright (c) Landon Curt Noll & Larry Bassel, 1993.  \\nXAll Rights Reserved.  Permission for personal, education or non-profit use is \\nXgranted provided this this copyright and notice are included in its entirety \\nXand remains unaltered.  All other uses must receive prior permission in writing \\nXfrom both Landon Curt Noll and Larry Bassel.\\nX\\nX    Obfuscate:  tr.v.  -cated, -cating, -cates.  1. a.  To render obscure.\\nX\\t\\tb.  To darken.  2. To confuse:  his emotions obfuscated his\\nX\\t\\tjudgment.  [LLat. obfuscare, to darken : ob(intensive) +\\nX\\t\\tLat. fuscare, to darken < fuscus, dark.] -obfuscation n.\\nX\\t\\tobfuscatory adj.\\nX\\nX\\nXGOALS OF THE CONTEST:\\nX\\nX    * To write the most Obscure/Obfuscated C program under the rules below.\\nX    * To show the importance of programming style, in an ironic way.\\nX    * To stress C compilers with unusual code.\\nX    * To illustrate some of the subtleties of the C language.\\nX    * To provide a safe forum for poor C code.  :-)\\nX\\nX\\nXRULES:\\nX\\nX    To help us with the volume of entries, we ask that you follow these rules:\\nX\\nX    1) Your entry must be a complete program.\\nX\\nX    2) Your entry must be <= 3217 bytes in length.  The number of characters\\nX       excluding whitespace (tab, space, newline), and excluding any ; { or }\\nX       followed by either whitespace or end of file, must be <= 1536.\\nX\\nX    3) Your entry must be submitted in the following format:\\nX\\nX---entry---\\nXrule:\\t1993\\nXfix:\\ty or n   (n => this is a new entry, y => this replaces an older entry)\\nXtitle:\\ttitle of entry  \\t\\t    (see comments below)\\nXentry:\\tEntry number from 0 to 7 inclusive  (your 1st entry should by 0)\\nXdate:\\tDate/time of submission in UTC\\t    (see comments below)\\nXhost:\\tMachine(s) and OS(s) under which your entry was tested\\nX\\tUse tab indented lines if needed\\nX---remark---\\nX    Place remarks about this entry in this section.  It would be helpful if\\nX    you were to indent your remarks with 4 spaces, though it is not a\\nX    requirement.  Also, if possible, try to avoid going beyond the 79th\\nX    column.  Blank lines are permitted.\\nX---author---\\nXname:\\tyour name\\nXorg:\\tSchool/Company/Organization\\nXaddr:\\tpostal address\\nX\\tuse tab indented lines to continue\\nX\\tdon\\'t forget to include the country\\nXemail:  Email address from a well known site or registered domain.\\nX        If you give several forms, list them on separate tab indented lines.\\nXanon:\\ty or n   (y => remain anonymous, n => ok to publish this info)\\nX---info---\\nXIf your program needs an info file, place a uuencoded copy of it in\\nXthis section.  In the case of multiple info files, use multiple info\\nXsections.  If your entry does not need a info file, skip this section.\\nX---build---\\nXPlace a uuencoded copy of the command(s) used to compile/build your program\\nXin this section.  It must uudecode into a file named \\'build\\'.  The resulting\\nXfile must be 255 bytes or less.\\nX---program---\\nXPlace a uuencoded copy of your program in this section.  It must uudecode\\nXinto a file named is \\'prog.c\\'.  The resulting file must follow rule #2.\\nX---end---\\nX\\nX      Regarding the above format:\\nX\\nX\\t* The title must match the expression: [a-zA-Z0-9_=][a-zA-Z0-9_=+-]*\\nX\\t  and must be 1 to 12 characters in length.\\nX\\nX\\t  It is suggested, but not required, that the title should\\nX\\t  incorporate your username; in the case of multiple authors,\\nX\\t  consider using parts of the usernames of the authors.\\nX\\nX\\t* The date in the ---entry--- section should be given with respect\\nX\\t  to UTC.  The format of the date should be as returned by asctime() \\nX\\t  using the C locale.  (see guidelines for more info)\\nX\\nX\\t* You may correct/revise a previously submitted entry by sending\\nX\\t  it to the contest email address.  Be sure to set \\'fix\\' in the \\nX\\t  ---entry--- section to \\'n\\'.  The corrected entry must use the same \\nX\\t  title and entry number as submittion that is being corrected.  Be \\nX\\t  sure that you note the resubmittion in the ---remark--- as well.\\nX\\nX\\t* With the exception of the header, all text outside of the above \\nX\\t  format may be ignored by the judges.  If you need tell the judges\\nX\\t  something, put it in the ---remark--- section, or send a separate\\nX\\t  Email message to the judges.\\nX\\nX\\t* Information from the ---author--- section will be published unless \\nX\\t  \\'y\\' was given to the respective author\\'s \\'anon\\' line.\\nX\\nX\\t* To credit multiple authors, include an ---author--- section for\\nX\\t  each author.  Each should start with ---author--- line, and\\nX\\t  should be found between the ---entry--- and ---build--- sections.\\nX\\nX\\t* The entry\\'s remarks should include:\\nX\\t    - what this program does\\nX\\t    - how to run the program (sample args or input)\\nX\\t    - special compile or execution instructions, if any\\nX\\t    - special filename requirements (see rule 4 and 5)\\nX\\t    - information about any ---data--- files\\nX\\t    - why you think the program is obfuscated\\nX\\t    - note if this entry is a re-submission of a previous entry.\\nX\\t    - any other remarks (humorous or otherwise)\\nX\\nX\\t* Do not rot13 your entry\\'s remarks.  You may suggest that certain\\nX\\t  portions of your remarks be rot13ed if your entry wins an award.\\nX\\nX        * Info files should be used only to supplement your entry.  They \\nX\\t  should not be required to exist.\\nX\\nX\\t  If your entry does not need an info file, skip the ---info---\\nX\\t  section.  If your entry needs multiple info files, use multiple \\nX\\t  ---info--- sections, one per info file.  You should describe\\nX\\t  each info file in the ---remark--- section.\\nX\\nX    4) If your entry is selected as a winner, it will be modified as follows:\\nX\\nX\\t   \\'build\\' is incorporated into a makefile, and \\'build\\' is removed\\nX\\t   \\'prog.c\\' is renamed to your entry\\'s title, followed by an optional\\nX\\t       digit, followed by \\'.c\\'\\nX\\t   your entry is compiled into a file with the name of your entry\\'s\\nX\\t       title, possibly followed by a digit\\nX\\nX       If your entry requires that a build file exist, state so in your\\nX       entry\\'s remark section.  The makefile will be arranged to execute a\\nX       build shell script containing the \\'build\\' information.  The name of\\nX       this build shell script will be your entry\\'s title, possibly followed\\nX       by a digit, followed by \\'.sh\\'.\\nX\\nX       If needed, your entry\\'s remarks should indicate how your entry must\\nX       be changed in order to deal with the new filenames.\\nX\\nX    5) The build file, the source and the resulting executable should be\\nX       treated as read-only files.  If your entry needs to modify these files,\\nX       it should make and modify a copy of the appropriate file.  If this\\nX       occurs, state so in your entry\\'s remarks.\\nX\\nX    6) Entries that cannot be compiled by an ANSI C compiler will be rejected.\\nX       Use of common C (K&R + extensions) is permitted, as long as it does not \\nX       cause compile errors for ANSI C compilers.\\nX\\nX    7) The program must be of original work.  All programs must be in the\\nX       public domain.  All copyrighted programs will be rejected.\\nX\\nX    8) Entries must be received prior to 07-May-93 0:00 UTC.  (UTC is\\nX       essentially equivalent to Greenwich Mean Time)  Email your entries to:\\nX\\nX\\t\\t...!{apple,pyramid,sun,uunet}!hoptoad!obfuscate\\nX\\t\\tobfuscate@toad.com\\nX\\nX       We request that your message use the subject \\'ioccc entry\\'.\\nX\\nX       If possible, we request that you hold off on Emailing your entries\\nX       until 1-Mar-93 0:00 UTC.  Early entries will be accepted, however.\\nX       We will attempt to email a confirmation to the the first author for\\nX       all entries received after 1-Mar-93 0:00 UTC.\\nX\\nX    9) Each person may submit up to 8 entries per contest year.  Each entry\\nX       must be sent in a separate Email letter.\\nX\\nX   10) Entries requiring human interaction to be built are not allowed.  \\nX       Compiling an entry produce a file (or files) which may be executed.\\nX\\nX   11) Programs that require special privileges (setuid, setgid, super-user,\\nX       special owner or group) are not allowed.\\nX    \\nX\\nXFOR MORE INFORMATION:\\nX\\nX    The Judging will be done by Landon Noll and Larry Bassel.  Please send\\nX    questions or comments (but not entries) about the contest, to:\\nX\\nX\\t...!{apple,pyramid,sun,uunet}!hoptoad!judges\\nX\\tjudges@toad.com\\nX\\nX    The rules and the guidelines may (and often do) change from year to\\nX    year.  You should be sure you have the current rules and guidelines\\nX    prior to submitting entries.  To obtain all 3 of them, send Email\\nX    to the address above and use the subject \\'send rules\\'.\\nX\\nX    One may also obtain them via anonymous ftp from:\\nX\\nX\\thost: ftp.uu.net\\t(137.39.1.9)\\nX\\tuser: anonymous\\nX\\tpass: yourname@yourhost\\nX\\tdir:  /pub/ioccc\\nX\\nX\\nXchongo <Landon Curt Noll> /\\\\cc/\\\\  \\thoptoad!chongo\\nXLarry Bassel\\t\\t\\t  \\t{uunet,ucbvax,cbosgd}|sun!lab\\nSHAR_EOF\\nchmod 0444 rules ||\\necho \"restore of rules failed\"\\nset `wc -c rules`;Wc_c=$1\\nif test \"$Wc_c\" != \"8585\"; then\\n\\techo original size 8585, current size $Wc_c\\nfi\\n# ============= guidelines ==============\\necho \"x - extracting guidelines (Text)\"\\nsed \\'s/^X//\\' << \\'SHAR_EOF\\' > guidelines &&\\nX10th International Obfuscated C Code Contest Guidelines, Hints and Comments\\nX\\nXCopyright (c) Landon Curt Noll & Larry Bassel, 1993.  \\nXAll Rights Reserved.  Permission for personal, education or non-profit use is \\nXgranted provided this this copyright and notice are included in its entirety \\nXand remains unaltered.  All other uses must receive prior permission in writing \\nXfrom both Landon Curt Noll and Larry Bassel.\\nX\\nXABOUT THIS FILE:\\nX\\nX    This file is intended to help people who wish to submit entries to\\nX    the International Obfuscated C Code Contest (IOCCC for short).\\nX\\nX    This is not the IOCCC rules, though it does contain comments about\\nX    them.  The guidelines should be viewed as hints and suggestions.\\nX    Entries that violate the guidelines but remain within the rules are\\nX    allowed.  Even so, you are safer if you remain within the guidelines.\\nX\\nX    You should read the current IOCCC rules, prior to submitting entries.\\nX    The rules are typically sent out with these guidelines.\\nX\\nX\\nXWHAT IS NEW IN 1993:\\nX\\nX    The entry format is better (for us anyway).  The program mkentry.c\\nX    has been updated.  See ENTRY FORMAT.\\nX\\nX    We will reject entries that cannot be compiled using an ANSI C\\nX    compiler.  Certain old Obfuscation hacks that cause ANSI C compilers \\nX    fits are no longer permitted.  Some of the new issues deal with \\nX    non-integral array types, variable number of arguments, C preprocessor \\nX    directives and the exit() function.  See OUR LIKES AND DISLIKES.\\nX\\nX\\nXHINTS AND SUGGESTIONS:\\nX\\nX    You are encouraged to examine the winners of previous contests.  See\\nX    FOR MORE INFORMATION for details on how to get previous winners.\\nX\\nX    Keep in mind that rules change from year to year, so some winning entries\\nX    may not be valid entries this year.  What was unique and novel one year\\nX    might be \\'old\\' the next year.\\nX\\nX    An entry is usually examined in a number of ways.  We typically apply\\nX    a number of tests to an entry:\\nX\\nX\\t* look at the original source\\nX\\t* convert ANSI tri-graphs to ASCII\\nX\\t* C pre-process the source ignoring \\'#include\\' lines\\nX\\t* C pre-process the source ignoring \\'#define\\' and \\'#include\\' lines\\nX\\t* run it through a C beautifier\\nX\\t* examine the algorithm\\nX\\t* lint it\\nX\\t* compile it\\nX\\t* execute it\\nX\\nX    You should consider how your entry looks in each of the above tests.\\nX    You should ask yourself if your entry remains obscure after it has been\\nX    \\'cleaned up\\' by the C pre-processor and a C beautifier.\\nX\\nX    Your entry need not do well under all, or in most tests.  In certain\\nX    cases, a test is not important.  Entries that compete for the\\nX    \\'strangest/most creative source layout\\' need not do as well as\\nX    others in terms of their algorithm.  On the other hand, given\\nX    two such entries, we are more inclined to pick the entry that\\nX    does something interesting when you run it.\\nX\\nX    We try to avoid limiting creativity in our rules.  As such, we leave\\nX    the contest open for creative rule interpretation.  As in real life\\nX    programming, interpreting a requirements document or a customer request\\nX    is important.  For this reason, we often award \\'worst abuse of the\\nX    rules\\' to an entry that illustrates this point in an ironic way.\\nX\\nX    If you do plan to abuse the rules, we suggest that you let us know\\nX    in the remarks section.  Please note that an invitation to abuse\\nX    is not an invitation to break.  We are strict when it comes to the\\nX    3217 byte size limit.  Also, abusing the entry format tends to\\nX    annoy more than amuse.\\nX\\nX    We do realize that there are holes in the rules, and invite entries\\nX    to attempt to exploit them.  We will award \\'worst abuse of the rules\\'\\nX    and then plug the hole next year.  Even so, we will attempt to use\\nX    the smallest plug needed, if not smaller.  :-)\\nX\\nX    Check out your program and be sure that it works.  We sometimes make\\nX    the effort to debug an entry that has a slight problem, particularly\\nX    in or near the final round.  On the other hand, we have seen some\\nX    of the best entries fall down because they didn\\'t work.\\nX\\nX    We tend to look down on a prime number printer, that claims that\\nX    16 is a prime number.  If you do have a bug, you are better off\\nX    documenting it.  Noting \"this entry sometimes prints the 4th power\\nX    of a prime by mistake\" would save the above entry.  And sometimes,\\nX    a strange bug/feature can even help the entry!  Of course, a correctly\\nX    working entry is best.\\nX\\nX\\nXOUR LIKES AND DISLIKES:\\nX\\nX    Doing masses of #defines to obscure the source has become \\'old\\'.  We\\nX    tend to \\'see thru\\' masses of #defines due to our pre-processor tests\\nX    that we apply.  Simply abusing #defines or -Dfoo=bar won\\'t go as far\\nX    as a program that is more well rounded in confusion.\\nX\\nX    Many ANSI C compilers dislike the following code, and so do we:\\nX\\nX\\t#define d define\\nX\\t#d foo\\t\\t   <-- don\\'t expect this to turn into #define foo\\nX\\nX\\tint i;\\nX\\tj;\\t\\t   <-- don\\'t use such implicit type declaration\\nX\\tint k;\\nX\\nX    We suggest that you compile your entry with an ANSI C compiler.  If you \\nX    must use non-ANSI C, such as K&R C, you must avoid areas that result in \\nX    compile/link errors for ANSI C compilers.\\nX\\nX    Unfortunately, ANSI C requires array indexes to be of integral type.\\nX    Thus, the following classical obfuscation hacks are no longer allowed:\\nX\\nX\\tint i;\\nX\\tchar *c;\\nX\\ti[c];\\t\\t   <--- use c[i] instead\\nX\\t(i+3)[\"string\"];   <--- use \"string\"[i+3] instead\\nX\\nX    If your entry uses functions that have a variable number of\\nX    arguments, be careful. Systems implement va_list as a wide variety\\nX    of ways.  Because of this, a number of operations using va_list are\\nX    not portable and must not be used:\\nX\\nX\\t* assigning a non-va_list variable to/from a va_list variable\\nX\\t* casting a non-va_list variable into/from a va_list variable\\nX\\t* passing a va_list variable to a function expecting a non-va_list arg\\nX\\t* passing a non-va_list variable to a function expecting a va_list arg\\nX\\t* performing arithmetic on va_list variables\\nX\\t* using va_list as a structure or union\\nX\\nX    In particular, do not treat va_list variables as if they were a char **\\'s.\\nX\\nX    Avoid using <varargs.h>, use <stdarg.h> instead.\\nX\\nX    If you use C preprocessor directives (#define, #if, #ifdef, ...),\\nX    the leading \\'#\\' must be the first character on a line.  While some\\nX    C preprocessors allow whitespace the leading \\'#\\', many do not.\\nX\\nX    Because the exit() function returns void on some systems, entries\\nX    must not assume that it returns an int.\\nX\\nX    Small programs are best when they are short, obscure and concise.\\nX    While such programs are not as complex as other winners, they do\\nX    serve a useful purpose.  They are often the only program that people\\nX    attempt to completely understand.  For this reason, we look for\\nX    programs that are compact, and are instructional.\\nX\\nX    One line programs should be short one line programs, say around 80\\nX    bytes long.  Getting close to 160 bytes is a bit too long in our opinion.\\nX\\nX    We tend to dislike programs that:\\nX\\nX\\t* are very hardware specific\\nX\\t* are very OS or Un*x version specific\\nX\\t     (index/strchr differences are ok, but socket/streams specific\\nX\\t      code is likely not to be)\\nX\\t* dump core or have compiler warnings\\nX\\t     (it is ok only if you warn us in the \\'remark\\' header item)\\nX\\t* won\\'t compile under both BSD or SYS V Un*x\\nX\\t* abusing the build file to get around the size limit\\nX\\t* obfuscate by excessive use of ANSI tri-graphs\\nX\\t* are longer than they need to be\\nX\\t* are similar to previous winners\\nX\\t* are identical to previous losers  :-)\\nX\\nX    Unless you are cramped for space, or unless you are entering the\\nX    \\'best one liner\\' category, we suggest that you format your program\\nX    in a more creative way than simply forming excessively long lines.\\nX\\nX    The build file should not be used to try and get around the size\\nX    limit.  It is one thing to make use of a several -D\\'s to help out,\\nX    but it is quite another to use 200+ bytes of -D\\'s in order to\\nX    try and squeeze the source under the size limit.  You should feel\\nX    free to make use of the build file space, but you are better off\\nX    if you show some amount of restraint.\\nX\\nX    We allowed whitespace, and in certain cases ; { or } do not impact\\nX    your program size (up to a certain point), because we want to get\\nX    away from source that is simply a compact blob of characters.\\nX\\nX    Given two versions of the same program, one that is a compact blob\\nX    of code, and the other that is formatted more like a typical C\\nX    program, we tend to favor the second version.  Of course, a third\\nX    version of the same program that is formatted in an interesting\\nX    and/or obfuscated way, would definitely win over the first two!\\nX\\nX    We suggest that you avoid trying for the \\'smallest self-replicating\\'\\nX    program.  We are amazed at the many different sizes that claim\\nX    to be the smallest.  There is nothing wrong with self-replicating\\nX    programs.  In fact, a number of winners have been self-replicating.\\nX    You might want to avoid the claim of \\'smallest\\', lest we (or others)\\nX    know of a smaller one!\\nX\\nX    X client entries should be as portable as possible.  Entries that\\nX    adapt to a wide collection of environments will be favored.  Don\\'t\\nX    depend on a particular type of display.  For example, don\\'t depend\\nX    on color or a given size.  Don\\'t require backing store.\\nX\\nX    X client entries should avoid using X related libraries and\\nX    software that is not in wide spread use.  We ask that such X client\\nX    entries restrict themselves to only the low level Xlib and the\\nX    Athena widget set (libX11.a, libXaw.a, libXmu.a and libXt.a).\\nX    Don\\'t use M*tif, Xv*ew, or OpenL*ok toolkits, since not everyone\\nX    has them.  Avoid depending on a particular window manager.  Not\\nX    everyone has X11r5, and some people are stuck back in X11r4 (or\\nX    earlier), so try to target X11r5 without requiring X11r5.  Better\\nX    yet, try to make your entry run on all version 11 X Window Systems.\\nX\\nX    X client entries should not to depend on particular items on\\nX    .Xdefaults.  If you must do so, be sure to note the required lines\\nX    in the ---remark--- section.\\nX\\nX    We like programs that:\\nX\\nX\\t* are as concise and small as they need to be\\nX\\t* do something at least quasi-interesting\\nX\\t* pass lint without complaint (not a requirement, but it is nice)\\nX\\t* are portable\\nX\\t* are unique or novel in their obfuscation style\\nX\\t* MAKE USE OF A NUMBER OF DIFFERENT TYPES OF OBFUSCATION\\nX\\t* make us laugh and/or throw up  :-)\\nX\\nX    Some types of programs can\\'t excel in some areas.  Of course, your\\nX    program doesn\\'t have to excel in all areas, but doing well in several\\nX    areas really does help.\\nX\\nX    We freely admit that interesting, creative or humorous comments in\\nX    the ---remark--- section helps your chance of winning.  If you had to\\nX    read of many twisted entries, you too would enjoy a good laugh or two.\\nX    We think the readers of the contest winners do as well.\\nX\\nX    Be creative!\\nX\\nX\\nXENTRY FORMAT:\\nX\\nX    In order to help us process the many entries, we must request your\\nX    assistance by formatting your entries in a certain way.  This format,\\nX    in addition, allows us to quickly separate information about the\\nX    author from the program itself.  (see JUDGING PROCESS)\\nX\\nX    We have provided the program, mkentry, as an example of how to\\nX    format entries.  You should be aware of the following warning that\\nX    is found in mkentry.c:\\nX\\nX\\tThis program attempts to implement the IOCCC rules.  Every\\nX\\tattempt has been made to make sure that this program produces\\nX\\tan entry that conforms to the contest rules.  In all cases,\\nX\\twhere this program differs from the contest rules, the\\nX\\tcontest rules will be used.  Be sure to check with the\\nX\\tcontest rules before submitting an entry.\\nX\\nX    You are not required to use mkentry.  It is convenient, however,\\nX    as it attempts to uuencode the needed files, and attempt to check\\nX    the entry against the size rules.\\nX\\nX    If you have any suggestions, comments, fixes or complaints about\\nX    the mkentry.c program, please send Email to the judges.  (see below)\\nX\\nX    The following is a sample entry:\\nX\\nX---entry---\\nXrule:\\t1993\\nXfix:\\tn\\nXtitle:\\tchonglab\\nXentry:\\t0\\nXdate:\\tMon Mar  1 08:45:20 1993\\nXhost:\\tUn*x v6, pdp11/45\\nX\\t2.9BSD, pdp11/70\\nX---remark---\\nX    This is a non-obfuscated obfuscated C program.\\nX\\nX    It is likely not to win a prize.  But what do you expect from\\nX    a short example!\\nX---author---\\nXname:\\tLandon Curt Noll\\nXorg:\\tIOCCC Judging Group\\nXaddr:\\tToad Hall\\nX\\tPO Box 170608\\nX\\tSan Francisco, California\\nX\\t94117-0608\\nX\\tUSA\\nXemail:\\tchongo@toad.com\\nXanon:\\tn\\nX---author---\\nXname:\\tLarry Bassel\\nXorg:\\tIOCCC Judging Group\\nXaddr:\\tToad Hall\\nX\\tPO Box 170608\\nX\\tSan Francisco, California\\nX\\t94117-0608\\nX\\tUSA\\nXemail:\\thoptoad!sun!lab\\nX\\tlab@sun.com\\nXanon:\\tn\\nX---info---\\nXbegin 444 info.file\\nXM0V]P>7)I9VAT(\"AC*2!,86YD;VX@0W5R=\"!.;VQL+\"`Q.3DS+@I!;&P@4FEG\\nXM:\\'1S(%)E<V5R=F5D+B`@4&5R;6ES<VEO;B!F;W(@<&5R<V]N86PL(&5D=6-A\\nXM=&EO;B!O<B!N;VXM<\\')O9FET(\\'5S92!I<PIG<F%N=&5D(\\'!R;W9I9&5D(\\'1H\\nXM:7,@=&AI<R!C;W!Y<FEG:\\'0@86YD(&YO=&EC92!A<F4@:6YC;\\'5D960@:6X@\\nXM:71S(&5N=&ER971Y\"F%N9\"!R96UA:6YS(\\'5N86QT97)E9\"X@($%L;\"!O=&AE\\nXM<B!U<V5S(&UU<W0@<F5C96EV92!P<FEO<B!P97)M:7-S:6]N(&EN(\\'=R:71I\\nXM;F<*9G)O;2!,86YD;VX@0W5R=\"!.;VQL+@H*5&AA=\"!T:&%T(&ES+\"!I<RX*\\nXM5&AA=\"!T:&%T(&ES(&YO=\"P*(\"`@(&ES(&YO=\"!T:&%T(\\'1H870@;F]T(&ES\\nXM+@I4:&%T(&ES+\"!T:&%T(\\'1H870@:7,@;F]T+\"!I<R$*\"@D)+2T@8VAO;F=O\\nXM(#$Y-S0*\"DQA<W0@>65A<BP@;VYE(\\'!E<G-O;B!T;VQD(\\'5S(\\'1H870@=&AE\\nXM>2!A8W1U86QL>2!D96-O9&5D(\\'1H:7,@9FEL92X*22!W;VYD97(@:&]W(&UA\\nX9;GD@=VEL;\"!D;R!I=\"!T:&ES(\\'EE87(_\"@``\\nX`\\nXend\\nX---build---\\nXbegin 444 build\\nX28V,@<\\')O9RYC(\"UO(\\'!R;V<*\\nX`\\nXend\\nX---program---\\nXbegin 444 prog.c\\nXM;6%I;B@I\"GL*(VEF(&1E9FEN960H05]214=)4U1%4D5$7U9/5$527TE.7U-5\\nXM3DY95D%,15]#04Q)1D]23DE!7U5302D*(\"`@(\\'!R:6YT9B@B5F]T92!,86YD\\nXM;VX@3F]L;\"!F;W(@4W5N;GEV86QE($-I=\\'D@0V]U;F-I;\"!S96%T(\",Q+EQN\\nX:(BD[\"B-E;F1I9@H@(\"`@97AI=\"@P*3L*?0H`\\nX`\\nXend\\nX---end---\\nX\\nX    Typically the build file should assume that the source is prog.c\\nX    and will compile into prog.  If an entry wins, we will rename\\nX    its source and binary to avoid filename collision.  By tradition,\\nX    we use the name of the entry\\'s title, followed by an optional\\nX    digit in case of name conflicts.\\nX\\nX    If the above entry somehow won the \\'least likely to win\\' award,\\nX    we would use chonglab.c and chonglab.\\nX\\nX    If your entry depends on, or requires that your build, source\\nX    and/or binary files be a particular name, please say so in the\\nX    ---remark--- section.  If this case applies, it would be be helpful\\nX    if you did one of the following:\\nX\\nX\\t* Tell us how to change the filename(s) in your entry.\\nX\\nX\\t* Have the build file make copies of the files.  For example:\\nX\\nX\\t\\tcc prog.c -o special_name\\t\\tneed special binary\\nX\\nX\\t    or  rm -f special_src.c\\t\\t\\tneed special source\\nX\\t\\tcp prog.c special_src.c\\nX\\t\\tcc special_src.c -o special_name\\nX\\nX\\t    or  rm -f special_build\\t\\t\\tneed special build\\nX\\t\\ttail +4 build > special_build\\nX\\t\\tsh < special_build\\nX\\nX\\t* Assume that we will use the entry title.  Send us a version of \\nX\\t  your build/program files that uses the name convention.  You \\nX\\t  should uuencode these files in ---data--- sections.\\nX\\nX    If your entry needs to modify its source, info or binary files,\\nX    please say so in the ---remark--- section.  You should try to avoid\\nX    touching your original build, source and binary files.  You should\\nX    arrange to make copies of the files you intend to modify.  This\\nX    will allow people to re-generate your entry from scratch.\\nX\\nX    Remember that your entry may be built without a build file.  We\\nX    typically incorporate the build lines into a Makefile.  If the\\nX    build file must exist, say so in the ---remark--- section.\\nX\\nX    If your entry needs special info files, you should uuencode them\\nX    into ---info--- sections.  In the case of multiple info files,\\nX    use multiple ---info--- sections.  If no info files are needed,\\nX    then skip the ---info--- section.\\nX\\nX    Info files are intended to be input, or detailed information that\\nX    does not fit well into the ---remark--- section.  For example, an\\nX    entry that implements a compiler might want to provide some sample\\nX    programs for the user to compile.  An entry might want to include a\\nX    lengthy design document, that might not be appropriate for a\\nX    \\'hints\\' file.\\nX\\nX    Info files should be used only to supplement your entry.  For\\nX    example, info files may provide sample input or detailed\\nX    information about your entry.  Because they are supplemental,\\nX    the entry should not require them exist.\\nX\\nX    In some cases, your info files might be renamed to avoid name\\nX    conflicts.  If info files should not be renamed for some reason,\\nX    say so in the ---remark--- section.\\nX\\nX    Info files must uudecode into the current directory.  If they\\nX    absolutely must be renamed, or moved into a sub-directory, say\\nX    so in the ---remark--- section.\\nX\\nX    When submitting multiple entries, be sure that each entry has\\nX    a unique entry number from 0 to 7.  Your first entry should\\nX    have entry number 0.\\nX\\nX    With the exception of the header, all text outside of the entry\\nX    format may be ignored.  That is, don\\'t place text outside of the\\nX    entry and expect the judges to see it.  (Our decoding tools aren\\'t\\nX    AI progs!) If you need tell the the something, put it in the \\nX    ---remark--- section, or send a Email to the judges at:\\nX\\nX\\t...!{apple,pyramid,sun,uunet}!hoptoad!judges\\t(not the address for\\nX\\tjudges@toad.com\\t\\t\\t\\t\\t submitting entries)\\nX    \\nX    The date should be given with respect to UTC.  (Some systems refer \\nX    to this as GMT or GMT0)  The format of the date should be that as \\nX    returned by asctime() in the C locale.  An example of such a string is:\\nX\\nX\\tThr Apr 01 00:47:00 1993\\nX\\nX    This format is similar to the output of the date(1) command.  The\\nX    string does not include the timezone name before the year.  On many \\nX    systems, one of the following command will produce a similar string:\\nX\\nX\\tdate -u \"+%a %h %d %T 19%y\"\\nX\\tdate -u | sed -e \\'s/... \\\\(19[0-9][0-9]\\\\)$/\\\\1/\\'\\nX\\tsh -c \\'TZ=UTC date | sed -e \"s/... \\\\(19[0-9][0-9]\\\\)$/\\\\1/\"\\'\\nX\\tsh -c \\'TZ=GMT date | sed -e \"s/... \\\\(19[0-9][0-9]\\\\)$/\\\\1/\"\\'\\nX\\tsh -c \\'TZ=GMT0 date | sed -e \"s/... \\\\(19[0-9][0-9]\\\\)$/\\\\1/\"\\'\\nX\\nX    You are allowed to update/fix/revise your entry.  To do so, set\\nX    the \\'fix\\' line in the ---entry--- section to \\'y\\' instead of \\'n\\'.\\nX    Be sure that the resubmittion uses the same title and entry number\\nX    as well, as these are used to determine which entry is to be\\nX    replaced.\\nX\\nX\\nXJUDGING PROCESS:\\nX\\nX    Entries are judged by Larry Bassel and Landon Curt Noll.\\nX\\nX    Entries are unpacked into individual directories.  The Email message\\nX    is unpacked into individual files, each containing:\\nX\\nX\\t---entry--- section\\nX\\tall ---author--- sections\\nX\\tall ---info--- sections\\nX\\t---build--- section\\nX\\t---program--- section\\nX\\tany other text, including the Email message headers\\nX\\nX    Prior to judging, the \\'any other text\\' file is scanned to be sure\\nX    it does not contain useful information (or in case the entry was\\nX    malformed and did not unpack correctly).  Information from the\\nX    ---author--- sections are not read until the judging process is\\nX    complete, and then only from entries that have won an award.\\nX\\nX    The above process helps keep us biased for/against any one particular\\nX    individual.  We are usually kept in the dark as much as you are\\nX    until the final awards are given.  We like the surprise of finding\\nX    out in the end, who won and where they were from.\\nX\\nX    We attempt to keep all entries anonymous, unless they win an award.\\nX    Because the main \\'prize\\' of winning is being announced, we make all\\nX    attempts to send non-winners into oblivion.  We remove all non-winning\\nX    files, and shred all related paper.  By tradition, we do not even\\nX    reveal the number of entries that we received.  (for the curious,\\nX    we do indicate the volume of paper consumed when presenting the IOCCC\\nX    winners at talks)\\nX\\nX    After the Usenix announcement, we attempt to send Email to the\\nX    authors of the winning entries.  One reason we do this is to give\\nX    the authors a chance to comment on the way we have presented their\\nX    entry.  They are given the chance to correct mistakes, typos.  We\\nX    often accept their suggestions/comments about our remarks as well.\\nX    This is done prior to posting the winners to the wide world.\\nX\\nX    Judging consists of a number of elimination rounds.  During a round,\\nX    the collection of entries are divided into two roughly equal piles;\\nX    the pile that advances on to the next round, and the pile that does\\nX    not.  We also re-examine the entries that were eliminated in the\\nX    previous round.  Thus, an entry gets at least two readings.\\nX\\nX    A reading consists of a number of actions:\\nX\\nX\\t* reading the ---entry--- section\\nX\\t* reading the uudecoded ---build--- section\\nX\\t* reading the uudecoded ---program--- section\\nX\\t* reading the uudecoded ---info--- section(s), if any\\nX\\t* passing the source thru the C pre-processor\\nX\\t    shipping over any #include files\\nX\\t* performing a number of C beautify/cleanup edits on the source\\nX\\t* passing the beautified source thru the C pre-processor\\nX\\t    shipping over any #include files\\nX\\nX    In later rounds, other actions are performed:\\nX\\nX\\t* linting the source\\nX\\t* compiling/building the source\\nX\\t* running the program\\nX\\t* performing misc tests on the source and binary\\nX\\nX    Until we reduce the stack of entries down to about 25 entries, entries\\nX    are judged on an individual basis.  An entry is set aside because it\\nX    does not, in our opinion, meet the standard established by the round.\\nX    When the number of entries thins to about 25 entries, we begin to form\\nX    award categories.  Entries begin to compete with each other for awards.\\nX    An entry often will compete in several categories.\\nX\\nX    The actual award category list will vary depending on the types of entries\\nX    we receive.  A typical category list might be:\\nX\\nX\\t* best small one line program\\nX\\t* best small program\\nX\\t* strangest/most creative source layout\\nX\\t* most useful obfuscated program\\nX\\t* best game that is obfuscated\\nX\\t* most creatively obfuscated program\\nX\\t* most deceptive C code\\nX\\t* best X client (see OUR LIKES AND DISLIKES)\\nX\\t* best abuse of ANSI C\\nX\\t* worst abuse of the rules\\nX\\t* <anything else so strange that it deserves an award>\\nX\\nX    We do not limit ourselves to this list.  For example, a few entries are so\\nX    good/bad that they are declared winners at the start of the final round.\\nX    We will invent awards categories for them, if necessary.\\nX\\nX    In the final round process, we perform the difficult tasks of\\nX    reducing the remaining entries (typically about 25) down to 8 or 10\\nX    winners.  Often we are confident that the entries that make it into\\nX    the final round are definitely better than the ones that do not\\nX    make it.  The selection of the winners out of the final round, is\\nX    less clear cut.\\nX\\nX    Sometimes a final round entry good enough to win, but is beat out\\nX    by a similar, but slightly better entry.  For this reason, it is\\nX    sometimes worthwhile to re-enter an improved version of an entry \\nX    that failed to win in a previous year.  This assumes, of course, \\nX    that the entry is worth improving in the first place!\\nX\\nX    More often that not, we select a small entry (usually one line), a\\nX    strange/creative layout entry, and an entry that abuses the contest\\nX    rules in some way.\\nX\\nX    In the end, we traditionally pick one entry as \\'best\\'.  Sometimes such\\nX    an entry simply far exceeds any of the other entry.  More often, the\\nX    \\'best\\' is picked because it does well in a number of categories.\\nX\\nX\\nXANNOUNCEMENT OF WINNERS:\\nX\\nX    The first announcement, occurs at a Summer Usenix conference.  By tradition,\\nX    this is done during the latter part of the UUNET/IOCCC BOF, just prior to\\nX    the Berkeley BSD, and BSDI BOF.\\nX\\nX    Winning entries will be posted in late June to the following groups:\\nX\\nX\\t    comp.lang.c\\t\\t  comp.unix.wizards\\talt.sources\\nX\\nX    In addition, pointers to these postings are posted to the following\\nX\\nX\\t    comp.sources.d\\t  alt.sources.d\\t\\tmisc.misc\\nX\\t    comp.sources.misc\\t  comp.windows.x\\nX\\nX    Winning entries will be deposited into the uunet archives.  See\\nX    below for details.\\nX\\nX    Often, winning entries are published in selected magazines.  Winners \\nX    have appeared in books (\"The New Hackers Dictionary\") and on T-Shirts.\\nX\\nX    Last, but not least, winners receive international fame and flames!  :-)\\nX\\nX\\nXFOR MORE INFORMATION:\\nX\\nX    You may contact the judges by sending Email to the following address:\\nX\\nX\\t...!{apple,pyramid,sun,uunet}!hoptoad!judges\\t(not the address for\\nX\\tjudges@toad.com\\t\\t\\t\\t\\t submitting entries)\\nX\\nX    Questions and comments about the contest are welcome.\\nX\\nX    One may obtain a copy of the current rules, guidelines or mkentry\\nX    program.  To obtain all 3 of them, send Email to the address above \\nX    and use the subject \\'send rules\\'.\\nX\\nX    One may also obtain the above items, we well as winners of previous\\nX    contests, via anonymous ftp from:\\nX\\nX\\thost: ftp.uu.net\\t(137.39.1.9)\\nX\\tuser: anonymous\\nX\\tpass: yourname@yourhost\\nX\\tdir:  pub/ioccc\\nX\\nX    Often, contest rules, guidelines and winners are available from\\nX    archive sites.  Check comp.sources.unix archives, for example.\\nX    You may also request previous winners by Email, using the judges\\nX    Email address, though we ask that you do this as a last resort.\\nX\\nX\\nXchongo <Landon Curt Noll> /\\\\cc/\\\\  \\thoptoad!chongo\\nXLarry Bassel\\t\\t\\t  \\t{uunet,ucbvax,cbosgd}|sun!lab\\nSHAR_EOF\\nchmod 0444 guidelines ||\\necho \"restore of guidelines failed\"\\nset `wc -c guidelines`;Wc_c=$1\\nif test \"$Wc_c\" != \"25375\"; then\\n\\techo original size 25375, current size $Wc_c\\nfi\\necho \"End of part 1, continue with part 2\"\\nexit 0\\n-- \\nSunnyvale residents: Vote Landon Noll for Sunnyvale City Council seat 1.\\n', 'description': 'Extracted text from file: Xref: cantaloupe.srv.cs.cmu.edu comp.lang.c:65945 comp.sources.d:9009 comp.unix.wizards:34201 alt.sources:7705 misc.misc:19347 comp.windows.x:64830\\nPath: cantaloupe.srv.cs.cmu.edu!das-news.harvard.edu!ogicse!network.ucsd.edu!pacbell.com!toad.com!chongo\\nFrom: chongo@toad.com (Landon C. Noll)\\nNewsgroups: comp.lang.c,comp.sources.d,comp.unix.wizards,alt.sources,misc.misc,comp.windows.x\\nSubject: 10th International Obfuscated C Code Contest Opening (1 of 2)\\nKeywords: ioccc\\nMessage-ID: <32194@toad.com>\\nDate: 1 Mar 93 12:08:28 GMT\\nArticle-I.D.: toad.32194\\nExpires: 7 May 93 00:00:00 GMT\\nReply-To: chongo@toad.com.UUCP (Landon C. Noll)\\nDistribution: world\\nOrganization: Nebula Consultants in San Francisco\\nLines: 850\\n\\nEnclosed are the rules, guidelines and related information for the 10th\\nInternational Obfuscated C Code Contest.  (This is part 1 of a 2 part\\nshar file).\\n\\nEnjoy!\\n\\nchongo <Landon Curt Noll> /\\\\oo/\\\\ \\nLarry Bassel\\n\\n=-=\\n\\n#!/bin/sh\\n# This is a shell archive (shar 3.32)\\n# made 03/01/1993 12:01 UTC by chongo@toad.com\\n# Source directory /tmp\\n#\\n# existing files WILL be overwritten\\n#\\n# This shar contains:\\n# length  mode       name\\n# ------ ---------- ------------------------------------------\\n#   8585 -r--r--r-- rules\\n#  25375 -r--r--r-- guidelines\\n#  33961 -r--r--r-- mkentry.c\\n#   6257 -r--r--r-- obfuscate.info\\n#\\n# ============= rules ==============\\necho \"x - extracting rules (Text)\"\\nsed \\'s/^X//\\' << \\'SHAR_EOF\\' > rules &&\\nX10th International Obfuscated C Code Contest Rules\\nX\\nXCopyright (c) Landon Curt Noll & Larry Bassel, 1993.  \\nXAll Rights Reserved.  Permission for personal, education or non-profit use is \\nXgranted provided this this copyright and notice are included in its entirety \\nXand remains unaltered.  All other uses must receive prior permission in writing \\nXfrom both Landon Curt Noll and Larry Bassel.\\nX\\nX    Obfuscate:  tr.v.  -cated, -cating, -cates.  1. a.  To render obscure.\\nX\\t\\tb.  To darken.  2. To confuse:  his emotions obfuscated his\\nX\\t\\tjudgment.  [LLat. obfuscare, to darken : ob(intensive) +\\nX\\t\\tLat. fuscare, to darken < fuscus, dark.] -obfuscation n.\\nX\\t\\tobfuscatory adj.\\nX\\nX\\nXGOALS OF THE CONTEST:\\nX\\nX    * To write the most Obscure/Obfuscated C program under the rules below.\\nX    * To show the importance of programming style, in an ironic way.\\nX    * To stress C compilers with unusual code.\\nX    * To illustrate some of the subtleties of the C language.\\nX    * To provide a safe forum for poor C code.  :-)\\nX\\nX\\nXRULES:\\nX\\nX    To help us with the volume of entries, we ask that you follow these rules:\\nX\\nX    1) Your entry must be a complete program.\\nX\\nX    2) Your entry must be <= 3217 bytes in length.  The number of characters\\nX       excluding whitespace (tab, space, newline), and excluding any ; { or }\\nX       followed by either whitespace or end of file, must be <= 1536.\\nX\\nX    3) Your entry must be submitted in the following format:\\nX\\nX---entry---\\nXrule:\\t1993\\nXfix:\\ty or n   (n => this is a new entry, y => this replaces an older entry)\\nXtitle:\\ttitle of entry  \\t\\t    (see comments below)\\nXentry:\\tEntry number from 0 to 7 inclusive  (your 1st entry should by 0)\\nXdate:\\tDate/time of submission in UTC\\t    (see comments below)\\nXhost:\\tMachine(s) and OS(s) under which your entry was tested\\nX\\tUse tab indented lines if needed\\nX---remark---\\nX    Place remarks about this entry in this section.  It would be helpful if\\nX    you were to indent your remarks with 4 spaces, though it is not a\\nX    requirement.  Also, if possible, try to avoid going beyond the 79th\\nX    column.  Blank lines are permitted.\\nX---author---\\nXname:\\tyour name\\nXorg:\\tSchool/Company/Organization\\nXaddr:\\tpostal address\\nX\\tuse tab indented lines to continue\\nX\\tdon\\'t forget to include the country\\nXemail:  Email address from a well known site or registered domain.\\nX        If you give several forms, list them on separate tab indented lines.\\nXanon:\\ty or n   (y => remain anonymous, n => ok to publish this info)\\nX---info---\\nXIf your program needs an info file, place a uuencoded copy of it in\\nXthis section.  In the case of multiple info files, use multiple info\\nXsections.  If your entry does not need a info file, skip this section.\\nX---build---\\nXPlace a uuencoded copy of the command(s) used to compile/build your program\\nXin this section.  It must uudecode into a file named \\'build\\'.  The resulting\\nXfile must be 255 bytes or less.\\nX---program---\\nXPlace a uuencoded copy of your program in this section.  It must uudecode\\nXinto a file named is \\'prog.c\\'.  The resulting file must follow rule #2.\\nX---end---\\nX\\nX      Regarding the above format:\\nX\\nX\\t* The title must match the expression: [a-zA-Z0-9_=][a-zA-Z0-9_=+-]*\\nX\\t  and must be 1 to 12 characters in length.\\nX\\nX\\t  It is suggested, but not required, that the title should\\nX\\t  incorporate your username; in the case of multiple authors,\\nX\\t  consider using parts of the usernames of the authors.\\nX\\nX\\t* The date in the ---entry--- section should be given with respect\\nX\\t  to UTC.  The format of the date should be as returned by asctime() \\nX\\t  using the C locale.  (see guidelines for more info)\\nX\\nX\\t* You may correct/revise a previously submitted entry by sending\\nX\\t  it to the contest email address.  Be sure to set \\'fix\\' in the \\nX\\t  ---entry--- section to \\'n\\'.  The corrected entry must use the same \\nX\\t  title and entry number as submittion that is being corrected.  Be \\nX\\t  sure that you note the resubmittion in the ---remark--- as well.\\nX\\nX\\t* With the exception of the header, all text outside of the above \\nX\\t  format may be ignored by the judges.  If you need tell the judges\\nX\\t  something, put it in the ---remark--- section, or send a separate\\nX\\t  Email message to the judges.\\nX\\nX\\t* Information from the ---author--- section will be published unless \\nX\\t  \\'y\\' was given to the respective author\\'s \\'anon\\' line.\\nX\\nX\\t* To credit multiple authors, include an ---author--- section for\\nX\\t  each author.  Each should start with ---author--- line, and\\nX\\t  should be found between the ---entry--- and ---build--- sections.\\nX\\nX\\t* The entry\\'s remarks should include:\\nX\\t    - what this program does\\nX\\t    - how to run the program (sample args or input)\\nX\\t    - special compile or execution instructions, if any\\nX\\t    - special filename requirements (see rule 4 and 5)\\nX\\t    - information about any ---data--- files\\nX\\t    - why you think the program is obfuscated\\nX\\t    - note if this entry is a re-submission of a previous entry.\\nX\\t    - any other remarks (humorous or otherwise)\\nX\\nX\\t* Do not rot13 your entry\\'s remarks.  You may suggest that certain\\nX\\t  portions of your remarks be rot13ed if your entry wins an award.\\nX\\nX        * Info files should be used only to supplement your entry.  They \\nX\\t  should not be required to exist.\\nX\\nX\\t  If your entry does not need an info file, skip the ---info---\\nX\\t  section.  If your entry needs multiple info files, use multiple \\nX\\t  ---info--- sections, one per info file.  You should describe\\nX\\t  each info file in the ---remark--- section.\\nX\\nX    4) If your entry is selected as a winner, it will be modified as follows:\\nX\\nX\\t   \\'build\\' is incorporated into a makefile, and \\'build\\' is removed\\nX\\t   \\'prog.c\\' is renamed to your entry\\'s title, followed by an optional\\nX\\t       digit, followed by \\'.c\\'\\nX\\t   your entry is compiled into a file with the name of your entry\\'s\\nX\\t       title, possibly followed by a digit\\nX\\nX       If your entry requires that a build file exist, state so in your\\nX       entry\\'s remark section.  The makefile will be arranged to execute a\\nX       build shell script containing the \\'build\\' information.  The name of\\nX       this build shell script will be your entry\\'s title, possibly followed\\nX       by a digit, followed by \\'.sh\\'.\\nX\\nX       If needed, your entry\\'s remarks should indicate how your entry must\\nX       be changed in order to deal with the new filenames.\\nX\\nX    5) The build file, the source and the resulting executable should be\\nX       treated as read-only files.  If your entry needs to modify these files,\\nX       it should make and modify a copy of the appropriate file.  If this\\nX       occurs, state so in your entry\\'s remarks.\\nX\\nX    6) Entries that cannot be compiled by an ANSI C compiler will be rejected.\\nX       Use of common C (K&R + extensions) is permitted, as long as it does not \\nX       cause compile errors for ANSI C compilers.\\nX\\nX    7) The program must be of original work.  All programs must be in the\\nX       public domain.  All copyrighted programs will be rejected.\\nX\\nX    8) Entries must be received prior to 07-May-93 0:00 UTC.  (UTC is\\nX       essentially equivalent to Greenwich Mean Time)  Email your entries to:\\nX\\nX\\t\\t...!{apple,pyramid,sun,uunet}!hoptoad!obfuscate\\nX\\t\\tobfuscate@toad.com\\nX\\nX       We request that your message use the subject \\'ioccc entry\\'.\\nX\\nX       If possible, we request that you hold off on Emailing your entries\\nX       until 1-Mar-93 0:00 UTC.  Early entries will be accepted, however.\\nX       We will attempt to email a confirmation to the the first author for\\nX       all entries received after 1-Mar-93 0:00 UTC.\\nX\\nX    9) Each person may submit up to 8 entries per contest year.  Each entry\\nX       must be sent in a separate Email letter.\\nX\\nX   10) Entries requiring human interaction to be built are not allowed.  \\nX       Compiling an entry produce a file (or files) which may be executed.\\nX\\nX   11) Programs that require special privileges (setuid, setgid, super-user,\\nX       special owner or group) are not allowed.\\nX    \\nX\\nXFOR MORE INFORMATION:\\nX\\nX    The Judging will be done by Landon Noll and Larry Bassel.  Please send\\nX    questions or comments (but not entries) about the contest, to:\\nX\\nX\\t...!{apple,pyramid,sun,uunet}!hoptoad!judges\\nX\\tjudges@toad.com\\nX\\nX    The rules and the guidelines may (and often do) change from year to\\nX    year.  You should be sure you have the current rules and guidelines\\nX    prior to submitting entries.  To obtain all 3 of them, send Email\\nX    to the address above and use the subject \\'send rules\\'.\\nX\\nX    One may also obtain them via anonymous ftp from:\\nX\\nX\\thost: ftp.uu.net\\t(137.39.1.9)\\nX\\tuser: anonymous\\nX\\tpass: yourname@yourhost\\nX\\tdir:  /pub/ioccc\\nX\\nX\\nXchongo <Landon Curt Noll> /\\\\cc/\\\\  \\thoptoad!chongo\\nXLarry Bassel\\t\\t\\t  \\t{uunet,ucbvax,cbosgd}|sun!lab\\nSHAR_EOF\\nchmod 0444 rules ||\\necho \"restore of rules failed\"\\nset `wc -c rules`;Wc_c=$1\\nif test \"$Wc_c\" != \"8585\"; then\\n\\techo original size 8585, current size $Wc_c\\nfi\\n# ============= guidelines ==============\\necho \"x - extracting guidelines (Text)\"\\nsed \\'s/^X//\\' << \\'SHAR_EOF\\' > guidelines &&\\nX10th International Obfuscated C Code Contest Guidelines, Hints and Comments\\nX\\nXCopyright (c) Landon Curt Noll & Larry Bassel, 1993.  \\nXAll Rights Reserved.  Permission for personal, education or non-profit use is \\nXgranted provided this this copyright and notice are included in its entirety \\nXand remains unaltered.  All other uses must receive prior permission in writing \\nXfrom both Landon Curt Noll and Larry Bassel.\\nX\\nXABOUT THIS FILE:\\nX\\nX    This file is intended to help people who wish to submit entries to\\nX    the International Obfuscated C Code Contest (IOCCC for short).\\nX\\nX    This is not the IOCCC rules, though it does contain comments about\\nX    them.  The guidelines should be viewed as hints and suggestions.\\nX    Entries that violate the guidelines but remain within the rules are\\nX    allowed.  Even so, you are safer if you remain within the guidelines.\\nX\\nX    You should read the current IOCCC rules, prior to submitting entries.\\nX    The rules are typically sent out with these guidelines.\\nX\\nX\\nXWHAT IS NEW IN 1993:\\nX\\nX    The entry format is better (for us anyway).  The program mkentry.c\\nX    has been updated.  See ENTRY FORMAT.\\nX\\nX    We will reject entries that cannot be compiled using an ANSI C\\nX    compiler.  Certain old Obfuscation hacks that cause ANSI C compilers \\nX    fits are no longer permitted.  Some of the new issues deal with \\nX    non-integral array types, variable number of arguments, C preprocessor \\nX    directives and the exit() function.  See OUR LIKES AND DISLIKES.\\nX\\nX\\nXHINTS AND SUGGESTIONS:\\nX\\nX    You are encouraged to examine the winners of previous contests.  See\\nX    FOR MORE INFORMATION for details on how to get previous winners.\\nX\\nX    Keep in mind that rules change from year to year, so some winning entries\\nX    may not be valid entries this year.  What was unique and novel one year\\nX    might be \\'old\\' the next year.\\nX\\nX    An entry is usually examined in a number of ways.  We typically apply\\nX    a number of tests to an entry:\\nX\\nX\\t* look at the original source\\nX\\t* convert ANSI tri-graphs to ASCII\\nX\\t* C pre-process the source ignoring \\'#include\\' lines\\nX\\t* C pre-process the source ignoring \\'#define\\' and \\'#include\\' lines\\nX\\t* run it through a C beautifier\\nX\\t* examine the algorithm\\nX\\t* lint it\\nX\\t* compile it\\nX\\t* execute it\\nX\\nX    You should consider how your entry looks in each of the above tests.\\nX    You should ask yourself if your entry remains obscure after it has been\\nX    \\'cleaned up\\' by the C pre-processor and a C beautifier.\\nX\\nX    Your entry need not do well under all, or in most tests.  In certain\\nX    cases, a test is not important.  Entries that compete for the\\nX    \\'strangest/most creative source layout\\' need not do as well as\\nX    others in terms of their algorithm.  On the other hand, given\\nX    two such entries, we are more inclined to pick the entry that\\nX    does something interesting when you run it.\\nX\\nX    We try to avoid limiting creativity in our rules.  As such, we leave\\nX    the contest open for creative rule interpretation.  As in real life\\nX    programming, interpreting a requirements document or a customer request\\nX    is important.  For this reason, we often award \\'worst abuse of the\\nX    rules\\' to an entry that illustrates this point in an ironic way.\\nX\\nX    If you do plan to abuse the rules, we suggest that you let us know\\nX    in the remarks section.  Please note that an invitation to abuse\\nX    is not an invitation to break.  We are strict when it comes to the\\nX    3217 byte size limit.  Also, abusing the entry format tends to\\nX    annoy more than amuse.\\nX\\nX    We do realize that there are holes in the rules, and invite entries\\nX    to attempt to exploit them.  We will award \\'worst abuse of the rules\\'\\nX    and then plug the hole next year.  Even so, we will attempt to use\\nX    the smallest plug needed, if not smaller.  :-)\\nX\\nX    Check out your program and be sure that it works.  We sometimes make\\nX    the effort to debug an entry that has a slight problem, particularly\\nX    in or near the final round.  On the other hand, we have seen some\\nX    of the best entries fall down because they didn\\'t work.\\nX\\nX    We tend to look down on a prime number printer, that claims that\\nX    16 is a prime number.  If you do have a bug, you are better off\\nX    documenting it.  Noting \"this entry sometimes prints the 4th power\\nX    of a prime by mistake\" would save the above entry.  And sometimes,\\nX    a strange bug/feature can even help the entry!  Of course, a correctly\\nX    working entry is best.\\nX\\nX\\nXOUR LIKES AND DISLIKES:\\nX\\nX    Doing masses of #defines to obscure the source has become \\'old\\'.  We\\nX    tend to \\'see thru\\' masses of #defines due to our pre-processor tests\\nX    that we apply.  Simply abusing #defines or -Dfoo=bar won\\'t go as far\\nX    as a program that is more well rounded in confusion.\\nX\\nX    Many ANSI C compilers dislike the following code, and so do we:\\nX\\nX\\t#define d define\\nX\\t#d foo\\t\\t   <-- don\\'t expect this to turn into #define foo\\nX\\nX\\tint i;\\nX\\tj;\\t\\t   <-- don\\'t use such implicit type declaration\\nX\\tint k;\\nX\\nX    We suggest that you compile your entry with an ANSI C compiler.  If you \\nX    must use non-ANSI C, such as K&R C, you must avoid areas that result in \\nX    compile/link errors for ANSI C compilers.\\nX\\nX    Unfortunately, ANSI C requires array indexes to be of integral type.\\nX    Thus, the following classical obfuscation hacks are no longer allowed:\\nX\\nX\\tint i;\\nX\\tchar *c;\\nX\\ti[c];\\t\\t   <--- use c[i] instead\\nX\\t(i+3)[\"string\"];   <--- use \"string\"[i+3] instead\\nX\\nX    If your entry uses functions that have a variable number of\\nX    arguments, be careful. Systems implement va_list as a wide variety\\nX    of ways.  Because of this, a number of operations using va_list are\\nX    not portable and must not be used:\\nX\\nX\\t* assigning a non-va_list variable to/from a va_list variable\\nX\\t* casting a non-va_list variable into/from a va_list variable\\nX\\t* passing a va_list variable to a function expecting a non-va_list arg\\nX\\t* passing a non-va_list variable to a function expecting a va_list arg\\nX\\t* performing arithmetic on va_list variables\\nX\\t* using va_list as a structure or union\\nX\\nX    In particular, do not treat va_list variables as if they were a char **\\'s.\\nX\\nX    Avoid using <varargs.h>, use <stdarg.h> instead.\\nX\\nX    If you use C preprocessor directives (#define, #if, #ifdef, ...),\\nX    the leading \\'#\\' must be the first character on a line.  While some\\nX    C preprocessors allow whitespace the leading \\'#\\', many do not.\\nX\\nX    Because the exit() function returns void on some systems, entries\\nX    must not assume that it returns an int.\\nX\\nX    Small programs are best when they are short, obscure and concise.\\nX    While such programs are not as complex as other winners, they do\\nX    serve a useful purpose.  They are often the only program that people\\nX    attempt to completely understand.  For this reason, we look for\\nX    programs that are compact, and are instructional.\\nX\\nX    One line programs should be short one line programs, say around 80\\nX    bytes long.  Getting close to 160 bytes is a bit too long in our opinion.\\nX\\nX    We tend to dislike programs that:\\nX\\nX\\t* are very hardware specific\\nX\\t* are very OS or Un*x version specific\\nX\\t     (index/strchr differences are ok, but socket/streams specific\\nX\\t      code is likely not to be)\\nX\\t* dump core or have compiler warnings\\nX\\t     (it is ok only if you warn us in the \\'remark\\' header item)\\nX\\t* won\\'t compile under both BSD or SYS V Un*x\\nX\\t* abusing the build file to get around the size limit\\nX\\t* obfuscate by excessive use of ANSI tri-graphs\\nX\\t* are longer than they need to be\\nX\\t* are similar to previous winners\\nX\\t* are identical to previous losers  :-)\\nX\\nX    Unless you are cramped for space, or unless you are entering the\\nX    \\'best one liner\\' category, we suggest that you format your program\\nX    in a more creative way than simply forming excessively long lines.\\nX\\nX    The build file should not be used to try and get around the size\\nX    limit.  It is one thing to make use of a several -D\\'s to help out,\\nX    but it is quite another to use 200+ bytes of -D\\'s in order to\\nX    try and squeeze the source under the size limit.  You should feel\\nX    free to make use of the build file space, but you are better off\\nX    if you show some amount of restraint.\\nX\\nX    We allowed whitespace, and in certain cases ; { or } do not impact\\nX    your program size (up to a certain point), because we want to get\\nX    away from source that is simply a compact blob of characters.\\nX\\nX    Given two versions of the same program, one that is a compact blob\\nX    of code, and the other that is formatted more like a typical C\\nX    program, we tend to favor the second version.  Of course, a third\\nX    version of the same program that is formatted in an interesting\\nX    and/or obfuscated way, would definitely win over the first two!\\nX\\nX    We suggest that you avoid trying for the \\'smallest self-replicating\\'\\nX    program.  We are amazed at the many different sizes that claim\\nX    to be the smallest.  There is nothing wrong with self-replicating\\nX    programs.  In fact, a number of winners have been self-replicating.\\nX    You might want to avoid the claim of \\'smallest\\', lest we (or others)\\nX    know of a smaller one!\\nX\\nX    X client entries should be as portable as possible.  Entries that\\nX    adapt to a wide collection of environments will be favored.  Don\\'t\\nX    depend on a particular type of display.  For example, don\\'t depend\\nX    on color or a given size.  Don\\'t require backing store.\\nX\\nX    X client entries should avoid using X related libraries and\\nX    software that is not in wide spread use.  We ask that such X client\\nX    entries restrict themselves to only the low level Xlib and the\\nX    Athena widget set (libX11.a, libXaw.a, libXmu.a and libXt.a).\\nX    Don\\'t use M*tif, Xv*ew, or OpenL*ok toolkits, since not everyone\\nX    has them.  Avoid depending on a particular window manager.  Not\\nX    everyone has X11r5, and some people are stuck back in X11r4 (or\\nX    earlier), so try to target X11r5 without requiring X11r5.  Better\\nX    yet, try to make your entry run on all version 11 X Window Systems.\\nX\\nX    X client entries should not to depend on particular items on\\nX    .Xdefaults.  If you must do so, be sure to note the required lines\\nX    in the ---remark--- section.\\nX\\nX    We like programs that:\\nX\\nX\\t* are as concise and small as they need to be\\nX\\t* do something at least quasi-interesting\\nX\\t* pass lint without complaint (not a requirement, but it is nice)\\nX\\t* are portable\\nX\\t* are unique or novel in their obfuscation style\\nX\\t* MAKE USE OF A NUMBER OF DIFFERENT TYPES OF OBFUSCATION\\nX\\t* make us laugh and/or throw up  :-)\\nX\\nX    Some types of programs can\\'t excel in some areas.  Of course, your\\nX    program doesn\\'t have to excel in all areas, but doing well in several\\nX    areas really does help.\\nX\\nX    We freely admit that interesting, creative or humorous comments in\\nX    the ---remark--- section helps your chance of winning.  If you had to\\nX    read of many twisted entries, you too would enjoy a good laugh or two.\\nX    We think the readers of the contest winners do as well.\\nX\\nX    Be creative!\\nX\\nX\\nXENTRY FORMAT:\\nX\\nX    In order to help us process the many entries, we must request your\\nX    assistance by formatting your entries in a certain way.  This format,\\nX    in addition, allows us to quickly separate information about the\\nX    author from the program itself.  (see JUDGING PROCESS)\\nX\\nX    We have provided the program, mkentry, as an example of how to\\nX    format entries.  You should be aware of the following warning that\\nX    is found in mkentry.c:\\nX\\nX\\tThis program attempts to implement the IOCCC rules.  Every\\nX\\tattempt has been made to make sure that this program produces\\nX\\tan entry that conforms to the contest rules.  In all cases,\\nX\\twhere this program differs from the contest rules, the\\nX\\tcontest rules will be used.  Be sure to check with the\\nX\\tcontest rules before submitting an entry.\\nX\\nX    You are not required to use mkentry.  It is convenient, however,\\nX    as it attempts to uuencode the needed files, and attempt to check\\nX    the entry against the size rules.\\nX\\nX    If you have any suggestions, comments, fixes or complaints about\\nX    the mkentry.c program, please send Email to the judges.  (see below)\\nX\\nX    The following is a sample entry:\\nX\\nX---entry---\\nXrule:\\t1993\\nXfix:\\tn\\nXtitle:\\tchonglab\\nXentry:\\t0\\nXdate:\\tMon Mar  1 08:45:20 1993\\nXhost:\\tUn*x v6, pdp11/45\\nX\\t2.9BSD, pdp11/70\\nX---remark---\\nX    This is a non-obfuscated obfuscated C program.\\nX\\nX    It is likely not to win a prize.  But what do you expect from\\nX    a short example!\\nX---author---\\nXname:\\tLandon Curt Noll\\nXorg:\\tIOCCC Judging Group\\nXaddr:\\tToad Hall\\nX\\tPO Box 170608\\nX\\tSan Francisco, California\\nX\\t94117-0608\\nX\\tUSA\\nXemail:\\tchongo@toad.com\\nXanon:\\tn\\nX---author---\\nXname:\\tLarry Bassel\\nXorg:\\tIOCCC Judging Group\\nXaddr:\\tToad Hall\\nX\\tPO Box 170608\\nX\\tSan Francisco, California\\nX\\t94117-0608\\nX\\tUSA\\nXemail:\\thoptoad!sun!lab\\nX\\tlab@sun.com\\nXanon:\\tn\\nX---info---\\nXbegin 444 info.file\\nXM0V]P>7)I9VAT(\"AC*2!,86YD;VX@0W5R=\"!.;VQL+\"`Q.3DS+@I!;&P@4FEG\\nXM:\\'1S(%)E<V5R=F5D+B`@4&5R;6ES<VEO;B!F;W(@<&5R<V]N86PL(&5D=6-A\\nXM=&EO;B!O<B!N;VXM<\\')O9FET(\\'5S92!I<PIG<F%N=&5D(\\'!R;W9I9&5D(\\'1H\\nXM:7,@=&AI<R!C;W!Y<FEG:\\'0@86YD(&YO=&EC92!A<F4@:6YC;\\'5D960@:6X@\\nXM:71S(&5N=&ER971Y\"F%N9\"!R96UA:6YS(\\'5N86QT97)E9\"X@($%L;\"!O=&AE\\nXM<B!U<V5S(&UU<W0@<F5C96EV92!P<FEO<B!P97)M:7-S:6]N(&EN(\\'=R:71I\\nXM;F<*9G)O;2!,86YD;VX@0W5R=\"!.;VQL+@H*5&AA=\"!T:&%T(&ES+\"!I<RX*\\nXM5&AA=\"!T:&%T(&ES(&YO=\"P*(\"`@(&ES(&YO=\"!T:&%T(\\'1H870@;F]T(&ES\\nXM+@I4:&%T(&ES+\"!T:&%T(\\'1H870@:7,@;F]T+\"!I<R$*\"@D)+2T@8VAO;F=O\\nXM(#$Y-S0*\"DQA<W0@>65A<BP@;VYE(\\'!E<G-O;B!T;VQD(\\'5S(\\'1H870@=&AE\\nXM>2!A8W1U86QL>2!D96-O9&5D(\\'1H:7,@9FEL92X*22!W;VYD97(@:&]W(&UA\\nX9;GD@=VEL;\"!D;R!I=\"!T:&ES(\\'EE87(_\"@``\\nX`\\nXend\\nX---build---\\nXbegin 444 build\\nX28V,@<\\')O9RYC(\"UO(\\'!R;V<*\\nX`\\nXend\\nX---program---\\nXbegin 444 prog.c\\nXM;6%I;B@I\"GL*(VEF(&1E9FEN960H05]214=)4U1%4D5$7U9/5$527TE.7U-5\\nXM3DY95D%,15]#04Q)1D]23DE!7U5302D*(\"`@(\\'!R:6YT9B@B5F]T92!,86YD\\nXM;VX@3F]L;\"!F;W(@4W5N;GEV86QE($-I=\\'D@0V]U;F-I;\"!S96%T(\",Q+EQN\\nX:(BD[\"B-E;F1I9@H@(\"`@97AI=\"@P*3L*?0H`\\nX`\\nXend\\nX---end---\\nX\\nX    Typically the build file should assume that the source is prog.c\\nX    and will compile into prog.  If an entry wins, we will rename\\nX    its source and binary to avoid filename collision.  By tradition,\\nX    we use the name of the entry\\'s title, followed by an optional\\nX    digit in case of name conflicts.\\nX\\nX    If the above entry somehow won the \\'least likely to win\\' award,\\nX    we would use chonglab.c and chonglab.\\nX\\nX    If your entry depends on, or requires that your build, source\\nX    and/or binary files be a particular name, please say so in the\\nX    ---remark--- section.  If this case applies, it would be be helpful\\nX    if you did one of the following:\\nX\\nX\\t* Tell us how to change the filename(s) in your entry.\\nX\\nX\\t* Have the build file make copies of the files.  For example:\\nX\\nX\\t\\tcc prog.c -o special_name\\t\\tneed special binary\\nX\\nX\\t    or  rm -f special_src.c\\t\\t\\tneed special source\\nX\\t\\tcp prog.c special_src.c\\nX\\t\\tcc special_src.c -o special_name\\nX\\nX\\t    or  rm -f special_build\\t\\t\\tneed special build\\nX\\t\\ttail +4 build > special_build\\nX\\t\\tsh < special_build\\nX\\nX\\t* Assume that we will use the entry title.  Send us a version of \\nX\\t  your build/program files that uses the name convention.  You \\nX\\t  should uuencode these files in ---data--- sections.\\nX\\nX    If your entry needs to modify its source, info or binary files,\\nX    please say so in the ---remark--- section.  You should try to avoid\\nX    touching your original build, source and binary files.  You should\\nX    arrange to make copies of the files you intend to modify.  This\\nX    will allow people to re-generate your entry from scratch.\\nX\\nX    Remember that your entry may be built without a build file.  We\\nX    typically incorporate the build lines into a Makefile.  If the\\nX    build file must exist, say so in the ---remark--- section.\\nX\\nX    If your entry needs special info files, you should uuencode them\\nX    into ---info--- sections.  In the case of multiple info files,\\nX    use multiple ---info--- sections.  If no info files are needed,\\nX    then skip the ---info--- section.\\nX\\nX    Info files are intended to be input, or detailed information that\\nX    does not fit well into the ---remark--- section.  For example, an\\nX    entry that implements a compiler might want to provide some sample\\nX    programs for the user to compile.  An entry might want to include a\\nX    lengthy design document, that might not be appropriate for a\\nX    \\'hints\\' file.\\nX\\nX    Info files should be used only to supplement your entry.  For\\nX    example, info files may provide sample input or detailed\\nX    information about your entry.  Because they are supplemental,\\nX    the entry should not require them exist.\\nX\\nX    In some cases, your info files might be renamed to avoid name\\nX    conflicts.  If info files should not be renamed for some reason,\\nX    say so in the ---remark--- section.\\nX\\nX    Info files must uudecode into the current directory.  If they\\nX    absolutely must be renamed, or moved into a sub-directory, say\\nX    so in the ---remark--- section.\\nX\\nX    When submitting multiple entries, be sure that each entry has\\nX    a unique entry number from 0 to 7.  Your first entry should\\nX    have entry number 0.\\nX\\nX    With the exception of the header, all text outside of the entry\\nX    format may be ignored.  That is, don\\'t place text outside of the\\nX    entry and expect the judges to see it.  (Our decoding tools aren\\'t\\nX    AI progs!) If you need tell the the something, put it in the \\nX    ---remark--- section, or send a Email to the judges at:\\nX\\nX\\t...!{apple,pyramid,sun,uunet}!hoptoad!judges\\t(not the address for\\nX\\tjudges@toad.com\\t\\t\\t\\t\\t submitting entries)\\nX    \\nX    The date should be given with respect to UTC.  (Some systems refer \\nX    to this as GMT or GMT0)  The format of the date should be that as \\nX    returned by asctime() in the C locale.  An example of such a string is:\\nX\\nX\\tThr Apr 01 00:47:00 1993\\nX\\nX    This format is similar to the output of the date(1) command.  The\\nX    string does not include the timezone name before the year.  On many \\nX    systems, one of the following command will produce a similar string:\\nX\\nX\\tdate -u \"+%a %h %d %T 19%y\"\\nX\\tdate -u | sed -e \\'s/... \\\\(19[0-9][0-9]\\\\)$/\\\\1/\\'\\nX\\tsh -c \\'TZ=UTC date | sed -e \"s/... \\\\(19[0-9][0-9]\\\\)$/\\\\1/\"\\'\\nX\\tsh -c \\'TZ=GMT date | sed -e \"s/... \\\\(19[0-9][0-9]\\\\)$/\\\\1/\"\\'\\nX\\tsh -c \\'TZ=GMT0 date | sed -e \"s/... \\\\(19[0-9][0-9]\\\\)$/\\\\1/\"\\'\\nX\\nX    You are allowed to update/fix/revise your entry.  To do so, set\\nX    the \\'fix\\' line in the ---entry--- section to \\'y\\' instead of \\'n\\'.\\nX    Be sure that the resubmittion uses the same title and entry number\\nX    as well, as these are used to determine which entry is to be\\nX    replaced.\\nX\\nX\\nXJUDGING PROCESS:\\nX\\nX    Entries are judged by Larry Bassel and Landon Curt Noll.\\nX\\nX    Entries are unpacked into individual directories.  The Email message\\nX    is unpacked into individual files, each containing:\\nX\\nX\\t---entry--- section\\nX\\tall ---author--- sections\\nX\\tall ---info--- sections\\nX\\t---build--- section\\nX\\t---program--- section\\nX\\tany other text, including the Email message headers\\nX\\nX    Prior to judging, the \\'any other text\\' file is scanned to be sure\\nX    it does not contain useful information (or in case the entry was\\nX    malformed and did not unpack correctly).  Information from the\\nX    ---author--- sections are not read until the judging process is\\nX    complete, and then only from entries that have won an award.\\nX\\nX    The above process helps keep us biased for/against any one particular\\nX    individual.  We are usually kept in the dark as much as you are\\nX    until the final awards are given.  We like the surprise of finding\\nX    out in the end, who won and where they were from.\\nX\\nX    We attempt to keep all entries anonymous, unless they win an award.\\nX    Because the main \\'prize\\' of winning is being announced, we make all\\nX    attempts to send non-winners into oblivion.  We remove all non-winning\\nX    files, and shred all related paper.  By tradition, we do not even\\nX    reveal the number of entries that we received.  (for the curious,\\nX    we do indicate the volume of paper consumed when presenting the IOCCC\\nX    winners at talks)\\nX\\nX    After the Usenix announcement, we attempt to send Email to the\\nX    authors of the winning entries.  One reason we do this is to give\\nX    the authors a chance to comment on the way we have presented their\\nX    entry.  They are given the chance to correct mistakes, typos.  We\\nX    often accept their suggestions/comments about our remarks as well.\\nX    This is done prior to posting the winners to the wide world.\\nX\\nX    Judging consists of a number of elimination rounds.  During a round,\\nX    the collection of entries are divided into two roughly equal piles;\\nX    the pile that advances on to the next round, and the pile that does\\nX    not.  We also re-examine the entries that were eliminated in the\\nX    previous round.  Thus, an entry gets at least two readings.\\nX\\nX    A reading consists of a number of actions:\\nX\\nX\\t* reading the ---entry--- section\\nX\\t* reading the uudecoded ---build--- section\\nX\\t* reading the uudecoded ---program--- section\\nX\\t* reading the uudecoded ---info--- section(s), if any\\nX\\t* passing the source thru the C pre-processor\\nX\\t    shipping over any #include files\\nX\\t* performing a number of C beautify/cleanup edits on the source\\nX\\t* passing the beautified source thru the C pre-processor\\nX\\t    shipping over any #include files\\nX\\nX    In later rounds, other actions are performed:\\nX\\nX\\t* linting the source\\nX\\t* compiling/building the source\\nX\\t* running the program\\nX\\t* performing misc tests on the source and binary\\nX\\nX    Until we reduce the stack of entries down to about 25 entries, entries\\nX    are judged on an individual basis.  An entry is set aside because it\\nX    does not, in our opinion, meet the standard established by the round.\\nX    When the number of entries thins to about 25 entries, we begin to form\\nX    award categories.  Entries begin to compete with each other for awards.\\nX    An entry often will compete in several categories.\\nX\\nX    The actual award category list will vary depending on the types of entries\\nX    we receive.  A typical category list might be:\\nX\\nX\\t* best small one line program\\nX\\t* best small program\\nX\\t* strangest/most creative source layout\\nX\\t* most useful obfuscated program\\nX\\t* best game that is obfuscated\\nX\\t* most creatively obfuscated program\\nX\\t* most deceptive C code\\nX\\t* best X client (see OUR LIKES AND DISLIKES)\\nX\\t* best abuse of ANSI C\\nX\\t* worst abuse of the rules\\nX\\t* <anything else so strange that it deserves an award>\\nX\\nX    We do not limit ourselves to this list.  For example, a few entries are so\\nX    good/bad that they are declared winners at the start of the final round.\\nX    We will invent awards categories for them, if necessary.\\nX\\nX    In the final round process, we perform the difficult tasks of\\nX    reducing the remaining entries (typically about 25) down to 8 or 10\\nX    winners.  Often we are confident that the entries that make it into\\nX    the final round are definitely better than the ones that do not\\nX    make it.  The selection of the winners out of the final round, is\\nX    less clear cut.\\nX\\nX    Sometimes a final round entry good enough to win, but is beat out\\nX    by a similar, but slightly better entry.  For this reason, it is\\nX    sometimes worthwhile to re-enter an improved version of an entry \\nX    that failed to win in a previous year.  This assumes, of course, \\nX    that the entry is worth improving in the first place!\\nX\\nX    More often that not, we select a small entry (usually one line), a\\nX    strange/creative layout entry, and an entry that abuses the contest\\nX    rules in some way.\\nX\\nX    In the end, we traditionally pick one entry as \\'best\\'.  Sometimes such\\nX    an entry simply far exceeds any of the other entry.  More often, the\\nX    \\'best\\' is picked because it does well in a number of categories.\\nX\\nX\\nXANNOUNCEMENT OF WINNERS:\\nX\\nX    The first announcement, occurs at a Summer Usenix conference.  By tradition,\\nX    this is done during the latter part of the UUNET/IOCCC BOF, just prior to\\nX    the Berkeley BSD, and BSDI BOF.\\nX\\nX    Winning entries will be posted in late June to the following groups:\\nX\\nX\\t    comp.lang.c\\t\\t  comp.unix.wizards\\talt.sources\\nX\\nX    In addition, pointers to these postings are posted to the following\\nX\\nX\\t    comp.sources.d\\t  alt.sources.d\\t\\tmisc.misc\\nX\\t    comp.sources.misc\\t  comp.windows.x\\nX\\nX    Winning entries will be deposited into the uunet archives.  See\\nX    below for details.\\nX\\nX    Often, winning entries are published in selected magazines.  Winners \\nX    have appeared in books (\"The New Hackers Dictionary\") and on T-Shirts.\\nX\\nX    Last, but not least, winners receive international fame and flames!  :-)\\nX\\nX\\nXFOR MORE INFORMATION:\\nX\\nX    You may contact the judges by sending Email to the following address:\\nX\\nX\\t...!{apple,pyramid,sun,uunet}!hoptoad!judges\\t(not the address for\\nX\\tjudges@toad.com\\t\\t\\t\\t\\t submitting entries)\\nX\\nX    Questions and comments about the contest are welcome.\\nX\\nX    One may obtain a copy of the current rules, guidelines or mkentry\\nX    program.  To obtain all 3 of them, send Email to the address above \\nX    and use the subject \\'send rules\\'.\\nX\\nX    One may also obtain the above items, we well as winners of previous\\nX    contests, via anonymous ftp from:\\nX\\nX\\thost: ftp.uu.net\\t(137.39.1.9)\\nX\\tuser: anonymous\\nX\\tpass: yourname@yourhost\\nX\\tdir:  pub/ioccc\\nX\\nX    Often, contest rules, guidelines and winners are available from\\nX    archive sites.  Check comp.sources.unix archives, for example.\\nX    You may also request previous winners by Email, using the judges\\nX    Email address, though we ask that you do this as a last resort.\\nX\\nX\\nXchongo <Landon Curt Noll> /\\\\cc/\\\\  \\thoptoad!chongo\\nXLarry Bassel\\t\\t\\t  \\t{uunet,ucbvax,cbosgd}|sun!lab\\nSHAR_EOF\\nchmod 0444 guidelines ||\\necho \"restore of guidelines failed\"\\nset `wc -c guidelines`;Wc_c=$1\\nif test \"$Wc_c\" != \"25375\"; then\\n\\techo original size 25375, current size $Wc_c\\nfi\\necho \"End of part 1, continue with part 2\"\\nexit 0\\n-- \\nSunnyvale residents: Vote Landon Noll for Sunnyvale City Council seat 1.\\n'}, {'id': 'v-1.mp4', 'text_data': 'Scene description from video frame 0: This is a placeholder description. Scene description from video frame 125: This is a placeholder description. Scene description from video frame 250: This is a placeholder description. Scene description from video frame 375: This is a placeholder description.', 'description': 'Scene description from video frame 0: This is a placeholder description. Scene description from video frame 125: This is a placeholder description. Scene description from video frame 250: This is a placeholder description. Scene description from video frame 375: This is a placeholder description.', 'file_path': './rag-data/v-1.mp4'}, {'id': 'v-2.mp4', 'text_data': 'Scene description from video frame 0: This is a placeholder description. Scene description from video frame 125: This is a placeholder description. Scene description from video frame 250: This is a placeholder description. Scene description from video frame 375: This is a placeholder description. Scene description from video frame 500: This is a placeholder description. Scene description from video frame 625: This is a placeholder description. Scene description from video frame 750: This is a placeholder description.', 'description': 'Scene description from video frame 0: This is a placeholder description. Scene description from video frame 125: This is a placeholder description. Scene description from video frame 250: This is a placeholder description. Scene description from video frame 375: This is a placeholder description. Scene description from video frame 500: This is a placeholder description. Scene description from video frame 625: This is a placeholder description. Scene description from video frame 750: This is a placeholder description.', 'file_path': './rag-data/v-2.mp4'}]\n"
          ]
        },
        {
          "output_type": "stream",
          "name": "stderr",
          "text": [
            "\rEmbedding & Uploading:   0%|          | 0/9 [00:00<?, ?it/s]"
          ]
        },
        {
          "output_type": "stream",
          "name": "stdout",
          "text": [
            "There is ocr text\n",
            "There is desciption\n",
            "Working on chunk - 0 of 4\n"
          ]
        },
        {
          "output_type": "stream",
          "name": "stderr",
          "text": [
            "\rEmbedding & Uploading:  11%|█         | 1/9 [00:03<00:27,  3.44s/it]"
          ]
        },
        {
          "output_type": "stream",
          "name": "stdout",
          "text": [
            "There is ocr text\n",
            "There is desciption\n",
            "Working on chunk - 0 of 3\n"
          ]
        },
        {
          "output_type": "stream",
          "name": "stderr",
          "text": [
            "\rEmbedding & Uploading:  22%|██▏       | 2/9 [00:06<00:20,  2.97s/it]"
          ]
        },
        {
          "output_type": "stream",
          "name": "stdout",
          "text": [
            "There is ocr text\n",
            "There is desciption\n",
            "Working on chunk - 0 of 2\n"
          ]
        },
        {
          "output_type": "stream",
          "name": "stderr",
          "text": [
            "\rEmbedding & Uploading:  33%|███▎      | 3/9 [00:07<00:12,  2.06s/it]"
          ]
        },
        {
          "output_type": "stream",
          "name": "stdout",
          "text": [
            "There is ocr text\n",
            "There is desciption\n",
            "Working on chunk - 0 of 3\n"
          ]
        },
        {
          "output_type": "stream",
          "name": "stderr",
          "text": [
            "\rEmbedding & Uploading:  44%|████▍     | 4/9 [00:07<00:07,  1.59s/it]"
          ]
        },
        {
          "output_type": "stream",
          "name": "stdout",
          "text": [
            "There is text data\n",
            "There is desciption\n",
            "Working on chunk - 0 of 4\n"
          ]
        },
        {
          "output_type": "stream",
          "name": "stderr",
          "text": [
            "\rEmbedding & Uploading:  56%|█████▌    | 5/9 [00:08<00:05,  1.33s/it]"
          ]
        },
        {
          "output_type": "stream",
          "name": "stdout",
          "text": [
            "There is text data\n",
            "There is desciption\n",
            "Working on chunk - 0 of 4\n"
          ]
        },
        {
          "output_type": "stream",
          "name": "stderr",
          "text": [
            "\rEmbedding & Uploading:  67%|██████▋   | 6/9 [00:09<00:03,  1.22s/it]"
          ]
        },
        {
          "output_type": "stream",
          "name": "stdout",
          "text": [
            "There is text data\n",
            "There is desciption\n",
            "Working on chunk - 0 of 83\n"
          ]
        },
        {
          "output_type": "stream",
          "name": "stderr",
          "text": [
            "Embedding & Uploading:  89%|████████▉ | 8/9 [00:42<00:07,  7.91s/it]"
          ]
        },
        {
          "output_type": "stream",
          "name": "stdout",
          "text": [
            "There is text data\n",
            "There is desciption\n",
            "Working on chunk - 0 of 1\n",
            "There is text data\n",
            "There is desciption\n",
            "Working on chunk - 0 of 2\n"
          ]
        },
        {
          "output_type": "stream",
          "name": "stderr",
          "text": [
            "Embedding & Uploading: 100%|██████████| 9/9 [00:43<00:00,  4.80s/it]\n"
          ]
        },
        {
          "output_type": "display_data",
          "data": {
            "text/plain": [
              "Upserted vectors:   0%|          | 0/106 [00:00<?, ?it/s]"
            ],
            "application/vnd.jupyter.widget-view+json": {
              "version_major": 2,
              "version_minor": 0,
              "model_id": "4108243a51184c928fddb1b93e9da5d8"
            }
          },
          "metadata": {}
        },
        {
          "output_type": "stream",
          "name": "stdout",
          "text": [
            "Successfully upserted 106 vectors.\n",
            "\n",
            "--- Indexing Pipeline Complete! ---\n"
          ]
        }
      ]
    },
    {
      "cell_type": "markdown",
      "metadata": {
        "id": "eIcinGb0BinA"
      },
      "source": [
        "# Phase 2: The Advanced RAG Query Pipeline\n",
        "\n",
        "This is the interactive, conversational agent. It remembers chat history, validates its own search results, and provides detailed, explainable answers."
      ]
    },
    {
      "cell_type": "markdown",
      "metadata": {
        "id": "Hvxa7yn9BinA"
      },
      "source": [
        "## 6. Define the State and Nodes for the RAG Agent\n",
        "\n",
        "**Purpose**: To define the memory and capabilities of our advanced query agent. The state now includes `messages` for conversational history."
      ]
    },
    {
      "cell_type": "code",
      "execution_count": 28,
      "metadata": {
        "id": "3xvmhbHdBinB"
      },
      "outputs": [],
      "source": [
        "class RAGState(TypedDict):\n",
        "    \"\"\"Represents the state of our RAG (Retrieval-Augmented Generation) query workflow.\"\"\"\n",
        "\n",
        "    # A list of chat messages (e.g., previous conversation turns)\n",
        "    messages: Annotated[List[BaseMessage], add_messages]\n",
        "\n",
        "    # The current user query being processed\n",
        "    user_query: str\n",
        "\n",
        "    # Context retrieved from a vector database or knowledge base\n",
        "    retrieved_context: str\n",
        "\n",
        "    # List of image paths or identifiers retrieved alongside the context\n",
        "    retrieved_images: List[str]\n",
        "\n",
        "    # Optional error message if something fails during the workflow\n",
        "    error_message: str\n"
      ]
    },
    {
      "cell_type": "code",
      "source": [
        "def retrieve_from_pinecone_node(state: RAGState):\n",
        "    # Print a header indicating this stage of the RAG workflow\n",
        "    print(\"--- NODE: Retrieving from Pinecone ---\")\n",
        "\n",
        "    try:\n",
        "\n",
        "        # Initialize the Pinecone client using the API key\n",
        "        pc = PineconeClient(api_key=PINECONE_API_KEY)\n",
        "\n",
        "        print(\"pc: \", pc)\n",
        "        print(\"pc: \", pc.db)\n",
        "\n",
        "        print(\"PINECONE_INDEX_NAME:\",PINECONE_INDEX_NAME)\n",
        "\n",
        "        # Connect to the specified Pinecone index\n",
        "        index = pc.Index(PINECONE_INDEX_NAME)\n",
        "        print(\"index: \", index)\n",
        "\n",
        "        # Extract the latest user query from the chat message history\n",
        "        user_query = state['messages'][-1].content\n",
        "\n",
        "        print(\"user_query: \", user_query)\n",
        "\n",
        "        # Generate an embedding for the user query using the embedding model\n",
        "        query_embedding = client.embeddings.create(\n",
        "            input=[user_query],\n",
        "            model=EMBEDDING_MODEL\n",
        "        ).data[0].embedding\n",
        "\n",
        "        print(\"query_embedding: \", query_embedding)\n",
        "\n",
        "        # Query Pinecone for the top K most relevant matches using cosine similarity\n",
        "        results = index.query(\n",
        "            vector=query_embedding,\n",
        "            top_k=TOP_K_RETRIEVAL, # Its value should be odd\n",
        "            include_metadata=True  # So we can access stored text/image info\n",
        "        )\n",
        "\n",
        "        print(\"results: \", results)\n",
        "\n",
        "        # Initialize variables to collect context and image paths\n",
        "        context = \"\"\n",
        "        image_paths = []\n",
        "\n",
        "        # Loop over each match and collect context and image path\n",
        "        for match in results['matches']:\n",
        "            context += match['metadata']['text'] + \"\\n---\\n\"  # Append retrieved text with separator\n",
        "            image_paths.append(match['metadata']['file_path'])  # Track associated image file\n",
        "\n",
        "        # Log how many images were retrieved\n",
        "        print(f\"Retrieved {len(image_paths)} relevant images.\")\n",
        "\n",
        "        # Return the updated state for the next node in the workflow\n",
        "        return {\n",
        "            \"retrieved_context\": context,\n",
        "            \"retrieved_images\": image_paths,\n",
        "            \"user_query\": user_query\n",
        "        }\n",
        "\n",
        "    except Exception as e:\n",
        "        # Return an error message if anything goes wrong during retrieval\n",
        "        return {\"error_message\": f\"Failed to retrieve from Pinecone: {e}\"}\n"
      ],
      "metadata": {
        "id": "j63D5VYgGYet"
      },
      "execution_count": 29,
      "outputs": []
    },
    {
      "cell_type": "code",
      "source": [
        "def validate_retrieval_node(state: RAGState):\n",
        "    \"\"\"Self-correction node to check if the retrieval was successful.\"\"\"\n",
        "\n",
        "    # Print header for this validation step\n",
        "    print(\"--- NODE: Validating Retrieval ---\")\n",
        "\n",
        "    # Check if any context was retrieved in the previous step\n",
        "    if not state.get('retrieved_context'):\n",
        "        # Log failure and return a fallback AI message to the user\n",
        "        print(\"Validation failed: No context was retrieved.\")\n",
        "        ai_message = AIMessage(content=\"I couldn't find any relevant images for your query. Could you please rephrase it or ask something else?\")\n",
        "        return {\"messages\": [ai_message]}\n",
        "    else:\n",
        "        # Log success and allow workflow to continue\n",
        "        print(\"Validation successful: Context retrieved.\")\n",
        "        return {}\n"
      ],
      "metadata": {
        "id": "lIzvBMMXGcXk"
      },
      "execution_count": 24,
      "outputs": []
    },
    {
      "cell_type": "code",
      "source": [
        "def generate_answer_node(state: RAGState):\n",
        "    # Print a header indicating the final answer generation step\n",
        "    print(\"--- NODE: Generating Final Answer ---\")\n",
        "\n",
        "    try:\n",
        "        # Combine previous chat messages into a history string (excluding the latest user message)\n",
        "        history = \"\\n\".join([f\"{msg.type}: {msg.content}\" for msg in state['messages'][:-1]])\n",
        "\n",
        "        # Construct the prompt by combining the RAG instructions, chat history, retrieved context, and current query\n",
        "        prompt = f\"{RAG_PROMPT}\\n\\nCHAT HISTORY:\\n{history}\\n\\nRETRIEVED CONTEXT:\\n{state['retrieved_context']}\\n\\nCURRENT USER QUESTION: {state['user_query']}\"\n",
        "\n",
        "        # Generate a response from the RAG model using the constructed prompt\n",
        "        response = client.chat.completions.create(\n",
        "            model=RAG_MODEL,\n",
        "            messages=[{\"role\": \"user\", \"content\": prompt}]\n",
        "        )\n",
        "\n",
        "        # Extract the answer text from the model's response\n",
        "        answer = response.choices[0].message.content\n",
        "\n",
        "        # Wrap the answer in an AIMessage object\n",
        "        ai_message = AIMessage(content=answer)\n",
        "\n",
        "        # Return the AI's response to be added to the conversation\n",
        "        return {\"messages\": [ai_message]}\n",
        "\n",
        "    except Exception as e:\n",
        "        # Return error message in case of failure\n",
        "        return {\"error_message\": f\"Failed to generate answer: {e}\"}\n"
      ],
      "metadata": {
        "id": "rqN3lBF4Gd0S"
      },
      "execution_count": 25,
      "outputs": []
    },
    {
      "cell_type": "markdown",
      "metadata": {
        "id": "KpOdYlSsBinB"
      },
      "source": [
        "## 7. Construct and Run the RAG Query Graph\n",
        "\n",
        "**Purpose**: To build the conversational agent, now including a conditional edge for the self-correction loop."
      ]
    },
    {
      "cell_type": "code",
      "execution_count": 26,
      "metadata": {
        "id": "tZh0mk5yBinB"
      },
      "outputs": [],
      "source": [
        "def route_after_validation(state: RAGState):\n",
        "    \"\"\"If validation fails, end the workflow. Otherwise, generate an answer.\"\"\"\n",
        "\n",
        "    # If no context was retrieved during validation, terminate the workflow\n",
        "    if not state.get('retrieved_context'):\n",
        "        return END\n",
        "\n",
        "    # Otherwise, proceed to generate the final answer\n",
        "    return \"generate_answer\"\n"
      ]
    },
    {
      "cell_type": "code",
      "source": [
        "# Initialize a SqliteSaver instance for saving memory/state using an SQLite database connection\n",
        "memory = SqliteSaver(conn=sqlite3.connect(\"rag_agent.sqlite\", check_same_thread=False))\n"
      ],
      "metadata": {
        "id": "StzHH75tGmMB"
      },
      "execution_count": 27,
      "outputs": []
    },
    {
      "cell_type": "code",
      "source": [
        "# Create a new StateGraph workflow using the RAGState TypedDict to track state\n",
        "rag_workflow = StateGraph(RAGState)\n"
      ],
      "metadata": {
        "id": "kO-8FnvBGnwn"
      },
      "execution_count": 28,
      "outputs": []
    },
    {
      "cell_type": "code",
      "source": [
        "# Add the retrieval node to the RAG workflow\n",
        "rag_workflow.add_node(\"retrieve\", retrieve_from_pinecone_node)\n",
        "\n",
        "# Add the retrieval validation node to check if relevant data was found\n",
        "rag_workflow.add_node(\"validate_retrieval\", validate_retrieval_node)\n",
        "\n",
        "# Add the final answer generation node that creates the AI response\n",
        "rag_workflow.add_node(\"generate_answer\", generate_answer_node)\n"
      ],
      "metadata": {
        "colab": {
          "base_uri": "https://localhost:8080/"
        },
        "id": "TWvRbqjyGqmh",
        "outputId": "8c71b257-b96d-45ba-aef7-29472e7bc1a2"
      },
      "execution_count": 29,
      "outputs": [
        {
          "output_type": "execute_result",
          "data": {
            "text/plain": [
              "<langgraph.graph.state.StateGraph at 0x7cd50d3658d0>"
            ]
          },
          "metadata": {},
          "execution_count": 29
        }
      ]
    },
    {
      "cell_type": "code",
      "source": [
        "# Define the workflow starting point leading to the retrieval node\n",
        "rag_workflow.add_edge(START, \"retrieve\")\n",
        "\n",
        "# After retrieval, proceed to validate the retrieval results\n",
        "rag_workflow.add_edge(\"retrieve\", \"validate_retrieval\")\n"
      ],
      "metadata": {
        "colab": {
          "base_uri": "https://localhost:8080/"
        },
        "id": "qGQ9MjOOGsJt",
        "outputId": "c55e8709-ad40-4755-a3a3-46187e29b279"
      },
      "execution_count": 30,
      "outputs": [
        {
          "output_type": "execute_result",
          "data": {
            "text/plain": [
              "<langgraph.graph.state.StateGraph at 0x7cd50d3658d0>"
            ]
          },
          "metadata": {},
          "execution_count": 30
        }
      ]
    },
    {
      "cell_type": "code",
      "source": [
        "# Add conditional edges from the 'validate_retrieval' node based on routing function outcome\n",
        "rag_workflow.add_conditional_edges(\n",
        "    \"validate_retrieval\",\n",
        "    route_after_validation,  # function that decides the next node or end\n",
        "    {\n",
        "        \"generate_answer\": \"generate_answer\",  # if validation passes, go to generate_answer\n",
        "        END: END  # if validation fails, end the workflow\n",
        "    }\n",
        ")\n"
      ],
      "metadata": {
        "colab": {
          "base_uri": "https://localhost:8080/"
        },
        "id": "ndoGmh1NGuVi",
        "outputId": "270756c3-ce57-4cbc-c21b-0b73e319f926"
      },
      "execution_count": 31,
      "outputs": [
        {
          "output_type": "execute_result",
          "data": {
            "text/plain": [
              "<langgraph.graph.state.StateGraph at 0x7cd50d3658d0>"
            ]
          },
          "metadata": {},
          "execution_count": 31
        }
      ]
    },
    {
      "cell_type": "code",
      "source": [
        "# Connect the 'generate_answer' node to the end of the workflow, marking completion\n",
        "rag_workflow.add_edge(\"generate_answer\", END)\n"
      ],
      "metadata": {
        "colab": {
          "base_uri": "https://localhost:8080/"
        },
        "id": "Y3AKkhLsGvwp",
        "outputId": "be83e4ed-1c0c-45b2-f455-199bca9ffbf3"
      },
      "execution_count": 32,
      "outputs": [
        {
          "output_type": "execute_result",
          "data": {
            "text/plain": [
              "<langgraph.graph.state.StateGraph at 0x7cd50d3658d0>"
            ]
          },
          "metadata": {},
          "execution_count": 32
        }
      ]
    },
    {
      "cell_type": "code",
      "source": [
        "# Compile the RAG workflow into an executable app, using the memory checkpointer for state persistence\n",
        "rag_app = rag_workflow.compile(checkpointer=memory)\n"
      ],
      "metadata": {
        "id": "KhGwpE3WGxPl"
      },
      "execution_count": 33,
      "outputs": []
    },
    {
      "cell_type": "code",
      "source": [
        "# Use the correct name, IPImage, for displaying in the notebook\n",
        "display(IPImage(rag_app.get_graph().draw_mermaid_png()))"
      ],
      "metadata": {
        "colab": {
          "base_uri": "https://localhost:8080/",
          "height": 449
        },
        "id": "Crx4vJu-GzNN",
        "outputId": "9299ae5e-9b26-4cba-87a6-9b086481a290"
      },
      "execution_count": 34,
      "outputs": [
        {
          "output_type": "display_data",
          "data": {
            "image/png": "[encoded data removed]",
            "text/plain": [
              "<IPython.core.display.Image object>"
            ]
          },
          "metadata": {}
        }
      ]
    },
    {
      "cell_type": "markdown",
      "metadata": {
        "id": "Kx6RijMSBinB"
      },
      "source": [
        "## 8. Chat with your RAG Agent!\n",
        "\n",
        "**Purpose**: This is the final, interactive part. You can run this cell multiple times to have a conversation with the agent. It will remember your previous questions."
      ]
    },
    {
      "cell_type": "code",
      "source": [
        "import langchain\n",
        "\n",
        "langchain.debug=True"
      ],
      "metadata": {
        "id": "WJfT3bL1sd0P"
      },
      "execution_count": 35,
      "outputs": []
    },
    {
      "cell_type": "code",
      "execution_count": 30,
      "metadata": {
        "id": "yaxIdqfUBinD",
        "colab": {
          "base_uri": "https://localhost:8080/",
          "height": 263
        },
        "outputId": "32aab9b5-ed41-4888-fe13-41f8392a4f49"
      },
      "outputs": [
        {
          "output_type": "stream",
          "name": "stdout",
          "text": [
            "Ask a question about the images (or type 'exit' to quit): quit\n",
            "\n",
            "--- Invoking Agent ---\n"
          ]
        },
        {
          "output_type": "error",
          "ename": "NameError",
          "evalue": "name 'rag_app' is not defined",
          "traceback": [
            "\u001b[0;31m---------------------------------------------------------------------------\u001b[0m",
            "\u001b[0;31mNameError\u001b[0m                                 Traceback (most recent call last)",
            "\u001b[0;32m/tmp/ipython-input-646799157.py\u001b[0m in \u001b[0;36m<cell line: 0>\u001b[0;34m()\u001b[0m\n\u001b[1;32m     14\u001b[0m \u001b[0;34m\u001b[0m\u001b[0m\n\u001b[1;32m     15\u001b[0m     \u001b[0;31m# Stream the response from the RAG agent app\u001b[0m\u001b[0;34m\u001b[0m\u001b[0;34m\u001b[0m\u001b[0m\n\u001b[0;32m---> 16\u001b[0;31m     events = rag_app.stream(\n\u001b[0m\u001b[1;32m     17\u001b[0m         \u001b[0minitial_input\u001b[0m\u001b[0;34m,\u001b[0m\u001b[0;34m\u001b[0m\u001b[0;34m\u001b[0m\u001b[0m\n\u001b[1;32m     18\u001b[0m         \u001b[0mthread_config\u001b[0m\u001b[0;34m,\u001b[0m\u001b[0;34m\u001b[0m\u001b[0;34m\u001b[0m\u001b[0m\n",
            "\u001b[0;31mNameError\u001b[0m: name 'rag_app' is not defined"
          ]
        }
      ],
      "source": [
        "# Generate a unique thread ID for this conversation session\n",
        "thread_config = {\"configurable\": {\"thread_id\": str(uuid.uuid4())}}\n",
        "\n",
        "while True:\n",
        "    # Prompt user for a question or exit command\n",
        "    user_input = input(\"Ask a question about the images (or type 'exit' to quit): \")\n",
        "    if user_input.lower() == 'exit':\n",
        "        break  # Exit the loop and end the program\n",
        "\n",
        "    print(\"\\n--- Invoking Agent ---\")\n",
        "\n",
        "    # Prepare the initial input with the user's message wrapped as a HumanMessage\n",
        "    initial_input = {\"messages\": [HumanMessage(content=user_input)]}\n",
        "\n",
        "    # Stream the response from the RAG agent app\n",
        "    events = rag_app.stream(\n",
        "        initial_input,\n",
        "        thread_config,\n",
        "        stream_mode=\"values\",  # Stream output values as they arrive\n",
        "    )\n",
        "\n",
        "    final_state = None\n",
        "    # Iterate over streamed events to get the final state after completion\n",
        "    for event in events:\n",
        "        final_state = event\n",
        "\n",
        "    if final_state:\n",
        "        # Extract the final answer text from the last message\n",
        "        final_answer = final_state[\"messages\"][-1].content\n",
        "\n",
        "        # Display the AI's answer formatted as Markdown\n",
        "        display(Markdown(\"### Agent's Answer\"))\n",
        "        display(Markdown(final_answer))\n",
        "\n",
        "        # If there are retrieved images, display them below the answer\n",
        "        if final_state.get(\"retrieved_images\"):\n",
        "            display(Markdown(\"\\n**Retrieved Images:**\"))\n",
        "            for img_path in final_state['retrieved_images']:\n",
        "                try:\n",
        "                    # Attempt to display each retrieved image with width=200px\n",
        "                    #display(IPImage(filename=img_path, width=200))\n",
        "                    pass\n",
        "                except Exception as e:\n",
        "                    # Handle any errors loading or displaying the image\n",
        "                    print(f\"Could not display image {img_path}: {e}\")\n",
        "\n",
        "    # Print a visual separator before the next query\n",
        "    print(\"\\n\" + \"=\"*50 + \"\\n\")\n"
      ]
    },
    {
      "cell_type": "code",
      "source": [],
      "metadata": {
        "id": "BC7lF26ZStLT"
      },
      "execution_count": null,
      "outputs": []
    }
  ],
  "metadata": {
    "kernelspec": {
      "display_name": "Python 3",
      "name": "python3"
    },
    "language_info": {
      "codemirror_mode": {
        "name": "ipython",
        "version": 3
      },
      "file_extension": ".py",
      "mimetype": "text/x-python",
      "name": "python",
      "nbconvert_exporter": "python",
      "pygments_lexer": "ipython3",
      "version": "3.11.9"
    },
    "colab": {
      "provenance": []
    },
    "widgets": {
      "application/vnd.jupyter.widget-state+json": {
        "4108243a51184c928fddb1b93e9da5d8": {
          "model_module": "@jupyter-widgets/controls",
          "model_name": "HBoxModel",
          "model_module_version": "1.5.0",
          "state": {
            "_dom_classes": [],
            "_model_module": "@jupyter-widgets/controls",
            "_model_module_version": "1.5.0",
            "_model_name": "HBoxModel",
            "_view_count": null,
            "_view_module": "@jupyter-widgets/controls",
            "_view_module_version": "1.5.0",
            "_view_name": "HBoxView",
            "box_style": "",
            "children": [
              "IPY_MODEL_f10c4d989242415ab0cbc2a968a5a57d",
              "IPY_MODEL_6caad8d41b054e2d812290db53d4f2fb",
              "IPY_MODEL_4f66931bb1c1404ebc2727b1cbeaad23"
            ],
            "layout": "IPY_MODEL_bafd4edc86604444b49be2117293dc8a"
          }
        },
        "f10c4d989242415ab0cbc2a968a5a57d": {
          "model_module": "@jupyter-widgets/controls",
          "model_name": "HTMLModel",
          "model_module_version": "1.5.0",
          "state": {
            "_dom_classes": [],
            "_model_module": "@jupyter-widgets/controls",
            "_model_module_version": "1.5.0",
            "_model_name": "HTMLModel",
            "_view_count": null,
            "_view_module": "@jupyter-widgets/controls",
            "_view_module_version": "1.5.0",
            "_view_name": "HTMLView",
            "description": "",
            "description_tooltip": null,
            "layout": "IPY_MODEL_5a1ef0ccc2a745e098b4929d65ad0d02",
            "placeholder": "​",
            "style": "IPY_MODEL_bfff0886942848b3932f3534f1e237d7",
            "value": "Upserted vectors: 100%"
          }
        },
        "6caad8d41b054e2d812290db53d4f2fb": {
          "model_module": "@jupyter-widgets/controls",
          "model_name": "FloatProgressModel",
          "model_module_version": "1.5.0",
          "state": {
            "_dom_classes": [],
            "_model_module": "@jupyter-widgets/controls",
            "_model_module_version": "1.5.0",
            "_model_name": "FloatProgressModel",
            "_view_count": null,
            "_view_module": "@jupyter-widgets/controls",
            "_view_module_version": "1.5.0",
            "_view_name": "ProgressView",
            "bar_style": "success",
            "description": "",
            "description_tooltip": null,
            "layout": "IPY_MODEL_aedd788b3b4240bbacff3217782cd4e1",
            "max": 106,
            "min": 0,
            "orientation": "horizontal",
            "style": "IPY_MODEL_5387083b4eab4471b7af387569dcdc16",
            "value": 106
          }
        },
        "4f66931bb1c1404ebc2727b1cbeaad23": {
          "model_module": "@jupyter-widgets/controls",
          "model_name": "HTMLModel",
          "model_module_version": "1.5.0",
          "state": {
            "_dom_classes": [],
            "_model_module": "@jupyter-widgets/controls",
            "_model_module_version": "1.5.0",
            "_model_name": "HTMLModel",
            "_view_count": null,
            "_view_module": "@jupyter-widgets/controls",
            "_view_module_version": "1.5.0",
            "_view_name": "HTMLView",
            "description": "",
            "description_tooltip": null,
            "layout": "IPY_MODEL_c46ef3dd69a640e39cf7915965043795",
            "placeholder": "​",
            "style": "IPY_MODEL_dfa92482bf2941b181374bebbc4e4309",
            "value": " 106/106 [00:43&lt;00:00, 53.10it/s]"
          }
        },
        "bafd4edc86604444b49be2117293dc8a": {
          "model_module": "@jupyter-widgets/base",
          "model_name": "LayoutModel",
          "model_module_version": "1.2.0",
          "state": {
            "_model_module": "@jupyter-widgets/base",
            "_model_module_version": "1.2.0",
            "_model_name": "LayoutModel",
            "_view_count": null,
            "_view_module": "@jupyter-widgets/base",
            "_view_module_version": "1.2.0",
            "_view_name": "LayoutView",
            "align_content": null,
            "align_items": null,
            "align_self": null,
            "border": null,
            "bottom": null,
            "display": null,
            "flex": null,
            "flex_flow": null,
            "grid_area": null,
            "grid_auto_columns": null,
            "grid_auto_flow": null,
            "grid_auto_rows": null,
            "grid_column": null,
            "grid_gap": null,
            "grid_row": null,
            "grid_template_areas": null,
            "grid_template_columns": null,
            "grid_template_rows": null,
            "height": null,
            "justify_content": null,
            "justify_items": null,
            "left": null,
            "margin": null,
            "max_height": null,
            "max_width": null,
            "min_height": null,
            "min_width": null,
            "object_fit": null,
            "object_position": null,
            "order": null,
            "overflow": null,
            "overflow_x": null,
            "overflow_y": null,
            "padding": null,
            "right": null,
            "top": null,
            "visibility": null,
            "width": null
          }
        },
        "5a1ef0ccc2a745e098b4929d65ad0d02": {
          "model_module": "@jupyter-widgets/base",
          "model_name": "LayoutModel",
          "model_module_version": "1.2.0",
          "state": {
            "_model_module": "@jupyter-widgets/base",
            "_model_module_version": "1.2.0",
            "_model_name": "LayoutModel",
            "_view_count": null,
            "_view_module": "@jupyter-widgets/base",
            "_view_module_version": "1.2.0",
            "_view_name": "LayoutView",
            "align_content": null,
            "align_items": null,
            "align_self": null,
            "border": null,
            "bottom": null,
            "display": null,
            "flex": null,
            "flex_flow": null,
            "grid_area": null,
            "grid_auto_columns": null,
            "grid_auto_flow": null,
            "grid_auto_rows": null,
            "grid_column": null,
            "grid_gap": null,
            "grid_row": null,
            "grid_template_areas": null,
            "grid_template_columns": null,
            "grid_template_rows": null,
            "height": null,
            "justify_content": null,
            "justify_items": null,
            "left": null,
            "margin": null,
            "max_height": null,
            "max_width": null,
            "min_height": null,
            "min_width": null,
            "object_fit": null,
            "object_position": null,
            "order": null,
            "overflow": null,
            "overflow_x": null,
            "overflow_y": null,
            "padding": null,
            "right": null,
            "top": null,
            "visibility": null,
            "width": null
          }
        },
        "bfff0886942848b3932f3534f1e237d7": {
          "model_module": "@jupyter-widgets/controls",
          "model_name": "DescriptionStyleModel",
          "model_module_version": "1.5.0",
          "state": {
            "_model_module": "@jupyter-widgets/controls",
            "_model_module_version": "1.5.0",
            "_model_name": "DescriptionStyleModel",
            "_view_count": null,
            "_view_module": "@jupyter-widgets/base",
            "_view_module_version": "1.2.0",
            "_view_name": "StyleView",
            "description_width": ""
          }
        },
        "aedd788b3b4240bbacff3217782cd4e1": {
          "model_module": "@jupyter-widgets/base",
          "model_name": "LayoutModel",
          "model_module_version": "1.2.0",
          "state": {
            "_model_module": "@jupyter-widgets/base",
            "_model_module_version": "1.2.0",
            "_model_name": "LayoutModel",
            "_view_count": null,
            "_view_module": "@jupyter-widgets/base",
            "_view_module_version": "1.2.0",
            "_view_name": "LayoutView",
            "align_content": null,
            "align_items": null,
            "align_self": null,
            "border": null,
            "bottom": null,
            "display": null,
            "flex": null,
            "flex_flow": null,
            "grid_area": null,
            "grid_auto_columns": null,
            "grid_auto_flow": null,
            "grid_auto_rows": null,
            "grid_column": null,
            "grid_gap": null,
            "grid_row": null,
            "grid_template_areas": null,
            "grid_template_columns": null,
            "grid_template_rows": null,
            "height": null,
            "justify_content": null,
            "justify_items": null,
            "left": null,
            "margin": null,
            "max_height": null,
            "max_width": null,
            "min_height": null,
            "min_width": null,
            "object_fit": null,
            "object_position": null,
            "order": null,
            "overflow": null,
            "overflow_x": null,
            "overflow_y": null,
            "padding": null,
            "right": null,
            "top": null,
            "visibility": null,
            "width": null
          }
        },
        "5387083b4eab4471b7af387569dcdc16": {
          "model_module": "@jupyter-widgets/controls",
          "model_name": "ProgressStyleModel",
          "model_module_version": "1.5.0",
          "state": {
            "_model_module": "@jupyter-widgets/controls",
            "_model_module_version": "1.5.0",
            "_model_name": "ProgressStyleModel",
            "_view_count": null,
            "_view_module": "@jupyter-widgets/base",
            "_view_module_version": "1.2.0",
            "_view_name": "StyleView",
            "bar_color": null,
            "description_width": ""
          }
        },
        "c46ef3dd69a640e39cf7915965043795": {
          "model_module": "@jupyter-widgets/base",
          "model_name": "LayoutModel",
          "model_module_version": "1.2.0",
          "state": {
            "_model_module": "@jupyter-widgets/base",
            "_model_module_version": "1.2.0",
            "_model_name": "LayoutModel",
            "_view_count": null,
            "_view_module": "@jupyter-widgets/base",
            "_view_module_version": "1.2.0",
            "_view_name": "LayoutView",
            "align_content": null,
            "align_items": null,
            "align_self": null,
            "border": null,
            "bottom": null,
            "display": null,
            "flex": null,
            "flex_flow": null,
            "grid_area": null,
            "grid_auto_columns": null,
            "grid_auto_flow": null,
            "grid_auto_rows": null,
            "grid_column": null,
            "grid_gap": null,
            "grid_row": null,
            "grid_template_areas": null,
            "grid_template_columns": null,
            "grid_template_rows": null,
            "height": null,
            "justify_content": null,
            "justify_items": null,
            "left": null,
            "margin": null,
            "max_height": null,
            "max_width": null,
            "min_height": null,
            "min_width": null,
            "object_fit": null,
            "object_position": null,
            "order": null,
            "overflow": null,
            "overflow_x": null,
            "overflow_y": null,
            "padding": null,
            "right": null,
            "top": null,
            "visibility": null,
            "width": null
          }
        },
        "dfa92482bf2941b181374bebbc4e4309": {
          "model_module": "@jupyter-widgets/controls",
          "model_name": "DescriptionStyleModel",
          "model_module_version": "1.5.0",
          "state": {
            "_model_module": "@jupyter-widgets/controls",
            "_model_module_version": "1.5.0",
            "_model_name": "DescriptionStyleModel",
            "_view_count": null,
            "_view_module": "@jupyter-widgets/base",
            "_view_module_version": "1.2.0",
            "_view_name": "StyleView",
            "description_width": ""
          }
        }
      }
    }
  },
  "nbformat": 4,
  "nbformat_minor": 0
}