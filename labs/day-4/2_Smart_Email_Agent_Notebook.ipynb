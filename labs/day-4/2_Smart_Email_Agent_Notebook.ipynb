{
  "cells": [
    {
      "cell_type": "markdown",
      "metadata": {
        "id": "1kUxK1ineBt6"
      },
      "source": [
        "# Smart Email Agent v3: Advanced & Configurable\n",
        "\n",
        "This notebook contains the advanced implementation of the email automation agent. It has been refactored for clarity, debugging, and robustness.\n",
        "\n",
        "**Key Features:**\n",
        "1.  **Externalized Configs**: All settings and prompts are managed in `config.ini` and `prompts.ini`.\n",
        "2.  **Tool-Augmented Drafting**: The agent uses a simulated knowledge base to answer support questions.\n",
        "3.  **Advanced Feedback Loop**: A \"Critique & Revise\" cycle for human collaboration.\n",
        "4.  **Resilience**: SQLite checkpointing allows the agent to recover from crashes.\n",
        "5.  **Clarity**: Broken-down cells, detailed documentation, and a visual graph diagram."
      ]
    },
    {
      "cell_type": "markdown",
      "metadata": {
        "id": "wgUjZqgIeBuE"
      },
      "source": [
        "---"
      ]
    },
    {
      "cell_type": "markdown",
      "metadata": {
        "id": "dWYiIcUreBuF"
      },
      "source": [
        "## 1. Setup and Installation\n",
        "\n",
        "This cell installs all the required Python libraries for the project."
      ]
    },
    {
      "cell_type": "code",
      "execution_count": 1,
      "metadata": {
        "colab": {
          "base_uri": "https://localhost:8080/",
          "height": 1000
        },
        "id": "8QjjDzUFeBuG",
        "outputId": "a86cab26-7909-4e17-d72f-e6f2d2e42b9d"
      },
      "outputs": [
        {
          "output_type": "stream",
          "name": "stdout",
          "text": [
            "Collecting langgraph\n",
            "  Downloading langgraph-0.6.3-py3-none-any.whl.metadata (6.8 kB)\n",
            "Collecting langchain_openai\n",
            "  Downloading langchain_openai-0.3.28-py3-none-any.whl.metadata (2.3 kB)\n",
            "Collecting langchain_google_genai\n",
            "  Downloading langchain_google_genai-2.1.9-py3-none-any.whl.metadata (7.2 kB)\n",
            "Collecting langgraph-checkpoint-sqlite\n",
            "  Downloading langgraph_checkpoint_sqlite-2.0.11-py3-none-any.whl.metadata (2.6 kB)\n",
            "Requirement already satisfied: ipykernel in /usr/local/lib/python3.11/dist-packages (6.17.1)\n",
            "Collecting python-dotenv\n",
            "  Downloading python_dotenv-1.1.1-py3-none-any.whl.metadata (24 kB)\n",
            "Requirement already satisfied: langchain-core>=0.1 in /usr/local/lib/python3.11/dist-packages (from langgraph) (0.3.72)\n",
            "Collecting langgraph-checkpoint<3.0.0,>=2.1.0 (from langgraph)\n",
            "  Downloading langgraph_checkpoint-2.1.1-py3-none-any.whl.metadata (4.2 kB)\n",
            "Collecting langgraph-prebuilt<0.7.0,>=0.6.0 (from langgraph)\n",
            "  Downloading langgraph_prebuilt-0.6.3-py3-none-any.whl.metadata (4.5 kB)\n",
            "Collecting langgraph-sdk<0.3.0,>=0.2.0 (from langgraph)\n",
            "  Downloading langgraph_sdk-0.2.0-py3-none-any.whl.metadata (1.5 kB)\n",
            "Requirement already satisfied: pydantic>=2.7.4 in /usr/local/lib/python3.11/dist-packages (from langgraph) (2.11.7)\n",
            "Requirement already satisfied: xxhash>=3.5.0 in /usr/local/lib/python3.11/dist-packages (from langgraph) (3.5.0)\n",
            "Requirement already satisfied: openai<2.0.0,>=1.86.0 in /usr/local/lib/python3.11/dist-packages (from langchain_openai) (1.97.1)\n",
            "Requirement already satisfied: tiktoken<1,>=0.7 in /usr/local/lib/python3.11/dist-packages (from langchain_openai) (0.9.0)\n",
            "Collecting filetype<2.0.0,>=1.2.0 (from langchain_google_genai)\n",
            "  Downloading filetype-1.2.0-py2.py3-none-any.whl.metadata (6.5 kB)\n",
            "Collecting google-ai-generativelanguage<0.7.0,>=0.6.18 (from langchain_google_genai)\n",
            "  Downloading google_ai_generativelanguage-0.6.18-py3-none-any.whl.metadata (9.8 kB)\n",
            "Collecting aiosqlite>=0.20 (from langgraph-checkpoint-sqlite)\n",
            "  Downloading aiosqlite-0.21.0-py3-none-any.whl.metadata (4.3 kB)\n",
            "Collecting sqlite-vec>=0.1.6 (from langgraph-checkpoint-sqlite)\n",
            "  Downloading sqlite_vec-0.1.6-py3-none-manylinux_2_17_x86_64.manylinux2014_x86_64.manylinux1_x86_64.whl.metadata (198 bytes)\n",
            "Requirement already satisfied: debugpy>=1.0 in /usr/local/lib/python3.11/dist-packages (from ipykernel) (1.8.15)\n",
            "Requirement already satisfied: ipython>=7.23.1 in /usr/local/lib/python3.11/dist-packages (from ipykernel) (7.34.0)\n",
            "Requirement already satisfied: jupyter-client>=6.1.12 in /usr/local/lib/python3.11/dist-packages (from ipykernel) (6.1.12)\n",
            "Requirement already satisfied: matplotlib-inline>=0.1 in /usr/local/lib/python3.11/dist-packages (from ipykernel) (0.1.7)\n",
            "Requirement already satisfied: nest-asyncio in /usr/local/lib/python3.11/dist-packages (from ipykernel) (1.6.0)\n",
            "Requirement already satisfied: packaging in /usr/local/lib/python3.11/dist-packages (from ipykernel) (25.0)\n",
            "Requirement already satisfied: psutil in /usr/local/lib/python3.11/dist-packages (from ipykernel) (5.9.5)\n",
            "Requirement already satisfied: pyzmq>=17 in /usr/local/lib/python3.11/dist-packages (from ipykernel) (26.2.1)\n",
            "Requirement already satisfied: tornado>=6.1 in /usr/local/lib/python3.11/dist-packages (from ipykernel) (6.4.2)\n",
            "Requirement already satisfied: traitlets>=5.1.0 in /usr/local/lib/python3.11/dist-packages (from ipykernel) (5.7.1)\n",
            "Requirement already satisfied: typing_extensions>=4.0 in /usr/local/lib/python3.11/dist-packages (from aiosqlite>=0.20->langgraph-checkpoint-sqlite) (4.14.1)\n",
            "Requirement already satisfied: google-api-core!=2.0.*,!=2.1.*,!=2.10.*,!=2.2.*,!=2.3.*,!=2.4.*,!=2.5.*,!=2.6.*,!=2.7.*,!=2.8.*,!=2.9.*,<3.0.0,>=1.34.1 in /usr/local/lib/python3.11/dist-packages (from google-api-core[grpc]!=2.0.*,!=2.1.*,!=2.10.*,!=2.2.*,!=2.3.*,!=2.4.*,!=2.5.*,!=2.6.*,!=2.7.*,!=2.8.*,!=2.9.*,<3.0.0,>=1.34.1->google-ai-generativelanguage<0.7.0,>=0.6.18->langchain_google_genai) (2.25.1)\n",
            "Requirement already satisfied: google-auth!=2.24.0,!=2.25.0,<3.0.0,>=2.14.1 in /usr/local/lib/python3.11/dist-packages (from google-ai-generativelanguage<0.7.0,>=0.6.18->langchain_google_genai) (2.38.0)\n",
            "Requirement already satisfied: proto-plus<2.0.0,>=1.22.3 in /usr/local/lib/python3.11/dist-packages (from google-ai-generativelanguage<0.7.0,>=0.6.18->langchain_google_genai) (1.26.1)\n",
            "Requirement already satisfied: protobuf!=4.21.0,!=4.21.1,!=4.21.2,!=4.21.3,!=4.21.4,!=4.21.5,<7.0.0,>=3.20.2 in /usr/local/lib/python3.11/dist-packages (from google-ai-generativelanguage<0.7.0,>=0.6.18->langchain_google_genai) (5.29.5)\n",
            "Requirement already satisfied: setuptools>=18.5 in /usr/local/lib/python3.11/dist-packages (from ipython>=7.23.1->ipykernel) (75.2.0)\n",
            "Collecting jedi>=0.16 (from ipython>=7.23.1->ipykernel)\n",
            "  Downloading jedi-0.19.2-py2.py3-none-any.whl.metadata (22 kB)\n",
            "Requirement already satisfied: decorator in /usr/local/lib/python3.11/dist-packages (from ipython>=7.23.1->ipykernel) (4.4.2)\n",
            "Requirement already satisfied: pickleshare in /usr/local/lib/python3.11/dist-packages (from ipython>=7.23.1->ipykernel) (0.7.5)\n",
            "Requirement already satisfied: prompt-toolkit!=3.0.0,!=3.0.1,<3.1.0,>=2.0.0 in /usr/local/lib/python3.11/dist-packages (from ipython>=7.23.1->ipykernel) (3.0.51)\n",
            "Requirement already satisfied: pygments in /usr/local/lib/python3.11/dist-packages (from ipython>=7.23.1->ipykernel) (2.19.2)\n",
            "Requirement already satisfied: backcall in /usr/local/lib/python3.11/dist-packages (from ipython>=7.23.1->ipykernel) (0.2.0)\n",
            "Requirement already satisfied: pexpect>4.3 in /usr/local/lib/python3.11/dist-packages (from ipython>=7.23.1->ipykernel) (4.9.0)\n",
            "Requirement already satisfied: jupyter-core>=4.6.0 in /usr/local/lib/python3.11/dist-packages (from jupyter-client>=6.1.12->ipykernel) (5.8.1)\n",
            "Requirement already satisfied: python-dateutil>=2.1 in /usr/local/lib/python3.11/dist-packages (from jupyter-client>=6.1.12->ipykernel) (2.9.0.post0)\n",
            "Requirement already satisfied: langsmith>=0.3.45 in /usr/local/lib/python3.11/dist-packages (from langchain-core>=0.1->langgraph) (0.4.8)\n",
            "Requirement already satisfied: tenacity!=8.4.0,<10.0.0,>=8.1.0 in /usr/local/lib/python3.11/dist-packages (from langchain-core>=0.1->langgraph) (8.5.0)\n",
            "Requirement already satisfied: jsonpatch<2.0,>=1.33 in /usr/local/lib/python3.11/dist-packages (from langchain-core>=0.1->langgraph) (1.33)\n",
            "Requirement already satisfied: PyYAML>=5.3 in /usr/local/lib/python3.11/dist-packages (from langchain-core>=0.1->langgraph) (6.0.2)\n",
            "Collecting ormsgpack>=1.10.0 (from langgraph-checkpoint<3.0.0,>=2.1.0->langgraph)\n",
            "  Downloading ormsgpack-1.10.0-cp311-cp311-manylinux_2_17_x86_64.manylinux2014_x86_64.whl.metadata (43 kB)\n",
            "\u001b[2K     \u001b[90m━━━━━━━━━━━━━━━━━━━━━━━━━━━━━━━━━━━━━━━━\u001b[0m \u001b[32m43.7/43.7 kB\u001b[0m \u001b[31m2.3 MB/s\u001b[0m eta \u001b[36m0:00:00\u001b[0m\n",
            "\u001b[?25hRequirement already satisfied: httpx>=0.25.2 in /usr/local/lib/python3.11/dist-packages (from langgraph-sdk<0.3.0,>=0.2.0->langgraph) (0.28.1)\n",
            "Requirement already satisfied: orjson>=3.10.1 in /usr/local/lib/python3.11/dist-packages (from langgraph-sdk<0.3.0,>=0.2.0->langgraph) (3.11.1)\n",
            "Requirement already satisfied: anyio<5,>=3.5.0 in /usr/local/lib/python3.11/dist-packages (from openai<2.0.0,>=1.86.0->langchain_openai) (4.9.0)\n",
            "Requirement already satisfied: distro<2,>=1.7.0 in /usr/local/lib/python3.11/dist-packages (from openai<2.0.0,>=1.86.0->langchain_openai) (1.9.0)\n",
            "Requirement already satisfied: jiter<1,>=0.4.0 in /usr/local/lib/python3.11/dist-packages (from openai<2.0.0,>=1.86.0->langchain_openai) (0.10.0)\n",
            "Requirement already satisfied: sniffio in /usr/local/lib/python3.11/dist-packages (from openai<2.0.0,>=1.86.0->langchain_openai) (1.3.1)\n",
            "Requirement already satisfied: tqdm>4 in /usr/local/lib/python3.11/dist-packages (from openai<2.0.0,>=1.86.0->langchain_openai) (4.67.1)\n",
            "Requirement already satisfied: annotated-types>=0.6.0 in /usr/local/lib/python3.11/dist-packages (from pydantic>=2.7.4->langgraph) (0.7.0)\n",
            "Requirement already satisfied: pydantic-core==2.33.2 in /usr/local/lib/python3.11/dist-packages (from pydantic>=2.7.4->langgraph) (2.33.2)\n",
            "Requirement already satisfied: typing-inspection>=0.4.0 in /usr/local/lib/python3.11/dist-packages (from pydantic>=2.7.4->langgraph) (0.4.1)\n",
            "Requirement already satisfied: regex>=2022.1.18 in /usr/local/lib/python3.11/dist-packages (from tiktoken<1,>=0.7->langchain_openai) (2024.11.6)\n",
            "Requirement already satisfied: requests>=2.26.0 in /usr/local/lib/python3.11/dist-packages (from tiktoken<1,>=0.7->langchain_openai) (2.32.3)\n",
            "Requirement already satisfied: idna>=2.8 in /usr/local/lib/python3.11/dist-packages (from anyio<5,>=3.5.0->openai<2.0.0,>=1.86.0->langchain_openai) (3.10)\n",
            "Requirement already satisfied: googleapis-common-protos<2.0.0,>=1.56.2 in /usr/local/lib/python3.11/dist-packages (from google-api-core!=2.0.*,!=2.1.*,!=2.10.*,!=2.2.*,!=2.3.*,!=2.4.*,!=2.5.*,!=2.6.*,!=2.7.*,!=2.8.*,!=2.9.*,<3.0.0,>=1.34.1->google-api-core[grpc]!=2.0.*,!=2.1.*,!=2.10.*,!=2.2.*,!=2.3.*,!=2.4.*,!=2.5.*,!=2.6.*,!=2.7.*,!=2.8.*,!=2.9.*,<3.0.0,>=1.34.1->google-ai-generativelanguage<0.7.0,>=0.6.18->langchain_google_genai) (1.70.0)\n",
            "Requirement already satisfied: grpcio<2.0.0,>=1.33.2 in /usr/local/lib/python3.11/dist-packages (from google-api-core[grpc]!=2.0.*,!=2.1.*,!=2.10.*,!=2.2.*,!=2.3.*,!=2.4.*,!=2.5.*,!=2.6.*,!=2.7.*,!=2.8.*,!=2.9.*,<3.0.0,>=1.34.1->google-ai-generativelanguage<0.7.0,>=0.6.18->langchain_google_genai) (1.74.0)\n",
            "Requirement already satisfied: grpcio-status<2.0.0,>=1.33.2 in /usr/local/lib/python3.11/dist-packages (from google-api-core[grpc]!=2.0.*,!=2.1.*,!=2.10.*,!=2.2.*,!=2.3.*,!=2.4.*,!=2.5.*,!=2.6.*,!=2.7.*,!=2.8.*,!=2.9.*,<3.0.0,>=1.34.1->google-ai-generativelanguage<0.7.0,>=0.6.18->langchain_google_genai) (1.71.2)\n",
            "Requirement already satisfied: cachetools<6.0,>=2.0.0 in /usr/local/lib/python3.11/dist-packages (from google-auth!=2.24.0,!=2.25.0,<3.0.0,>=2.14.1->google-ai-generativelanguage<0.7.0,>=0.6.18->langchain_google_genai) (5.5.2)\n",
            "Requirement already satisfied: pyasn1-modules>=0.2.1 in /usr/local/lib/python3.11/dist-packages (from google-auth!=2.24.0,!=2.25.0,<3.0.0,>=2.14.1->google-ai-generativelanguage<0.7.0,>=0.6.18->langchain_google_genai) (0.4.2)\n",
            "Requirement already satisfied: rsa<5,>=3.1.4 in /usr/local/lib/python3.11/dist-packages (from google-auth!=2.24.0,!=2.25.0,<3.0.0,>=2.14.1->google-ai-generativelanguage<0.7.0,>=0.6.18->langchain_google_genai) (4.9.1)\n",
            "Requirement already satisfied: certifi in /usr/local/lib/python3.11/dist-packages (from httpx>=0.25.2->langgraph-sdk<0.3.0,>=0.2.0->langgraph) (2025.7.14)\n",
            "Requirement already satisfied: httpcore==1.* in /usr/local/lib/python3.11/dist-packages (from httpx>=0.25.2->langgraph-sdk<0.3.0,>=0.2.0->langgraph) (1.0.9)\n",
            "Requirement already satisfied: h11>=0.16 in /usr/local/lib/python3.11/dist-packages (from httpcore==1.*->httpx>=0.25.2->langgraph-sdk<0.3.0,>=0.2.0->langgraph) (0.16.0)\n",
            "Requirement already satisfied: parso<0.9.0,>=0.8.4 in /usr/local/lib/python3.11/dist-packages (from jedi>=0.16->ipython>=7.23.1->ipykernel) (0.8.4)\n",
            "Requirement already satisfied: jsonpointer>=1.9 in /usr/local/lib/python3.11/dist-packages (from jsonpatch<2.0,>=1.33->langchain-core>=0.1->langgraph) (3.0.0)\n",
            "Requirement already satisfied: platformdirs>=2.5 in /usr/local/lib/python3.11/dist-packages (from jupyter-core>=4.6.0->jupyter-client>=6.1.12->ipykernel) (4.3.8)\n",
            "Requirement already satisfied: requests-toolbelt<2.0.0,>=1.0.0 in /usr/local/lib/python3.11/dist-packages (from langsmith>=0.3.45->langchain-core>=0.1->langgraph) (1.0.0)\n",
            "Requirement already satisfied: zstandard<0.24.0,>=0.23.0 in /usr/local/lib/python3.11/dist-packages (from langsmith>=0.3.45->langchain-core>=0.1->langgraph) (0.23.0)\n",
            "Requirement already satisfied: ptyprocess>=0.5 in /usr/local/lib/python3.11/dist-packages (from pexpect>4.3->ipython>=7.23.1->ipykernel) (0.7.0)\n",
            "Requirement already satisfied: wcwidth in /usr/local/lib/python3.11/dist-packages (from prompt-toolkit!=3.0.0,!=3.0.1,<3.1.0,>=2.0.0->ipython>=7.23.1->ipykernel) (0.2.13)\n",
            "Requirement already satisfied: six>=1.5 in /usr/local/lib/python3.11/dist-packages (from python-dateutil>=2.1->jupyter-client>=6.1.12->ipykernel) (1.17.0)\n",
            "Requirement already satisfied: charset-normalizer<4,>=2 in /usr/local/lib/python3.11/dist-packages (from requests>=2.26.0->tiktoken<1,>=0.7->langchain_openai) (3.4.2)\n",
            "Requirement already satisfied: urllib3<3,>=1.21.1 in /usr/local/lib/python3.11/dist-packages (from requests>=2.26.0->tiktoken<1,>=0.7->langchain_openai) (2.5.0)\n",
            "Requirement already satisfied: pyasn1<0.7.0,>=0.6.1 in /usr/local/lib/python3.11/dist-packages (from pyasn1-modules>=0.2.1->google-auth!=2.24.0,!=2.25.0,<3.0.0,>=2.14.1->google-ai-generativelanguage<0.7.0,>=0.6.18->langchain_google_genai) (0.6.1)\n",
            "Downloading langgraph-0.6.3-py3-none-any.whl (152 kB)\n",
            "\u001b[2K   \u001b[90m━━━━━━━━━━━━━━━━━━━━━━━━━━━━━━━━━━━━━━━━\u001b[0m \u001b[32m152.5/152.5 kB\u001b[0m \u001b[31m6.2 MB/s\u001b[0m eta \u001b[36m0:00:00\u001b[0m\n",
            "\u001b[?25hDownloading langchain_openai-0.3.28-py3-none-any.whl (70 kB)\n",
            "\u001b[2K   \u001b[90m━━━━━━━━━━━━━━━━━━━━━━━━━━━━━━━━━━━━━━━━\u001b[0m \u001b[32m70.6/70.6 kB\u001b[0m \u001b[31m4.1 MB/s\u001b[0m eta \u001b[36m0:00:00\u001b[0m\n",
            "\u001b[?25hDownloading langchain_google_genai-2.1.9-py3-none-any.whl (49 kB)\n",
            "\u001b[2K   \u001b[90m━━━━━━━━━━━━━━━━━━━━━━━━━━━━━━━━━━━━━━━━\u001b[0m \u001b[32m49.4/49.4 kB\u001b[0m \u001b[31m2.7 MB/s\u001b[0m eta \u001b[36m0:00:00\u001b[0m\n",
            "\u001b[?25hDownloading langgraph_checkpoint_sqlite-2.0.11-py3-none-any.whl (31 kB)\n",
            "Downloading python_dotenv-1.1.1-py3-none-any.whl (20 kB)\n",
            "Downloading aiosqlite-0.21.0-py3-none-any.whl (15 kB)\n",
            "Downloading filetype-1.2.0-py2.py3-none-any.whl (19 kB)\n",
            "Downloading google_ai_generativelanguage-0.6.18-py3-none-any.whl (1.4 MB)\n",
            "\u001b[2K   \u001b[90m━━━━━━━━━━━━━━━━━━━━━━━━━━━━━━━━━━━━━━━━\u001b[0m \u001b[32m1.4/1.4 MB\u001b[0m \u001b[31m28.2 MB/s\u001b[0m eta \u001b[36m0:00:00\u001b[0m\n",
            "\u001b[?25hDownloading langgraph_checkpoint-2.1.1-py3-none-any.whl (43 kB)\n",
            "\u001b[2K   \u001b[90m━━━━━━━━━━━━━━━━━━━━━━━━━━━━━━━━━━━━━━━━\u001b[0m \u001b[32m43.9/43.9 kB\u001b[0m \u001b[31m2.6 MB/s\u001b[0m eta \u001b[36m0:00:00\u001b[0m\n",
            "\u001b[?25hDownloading langgraph_prebuilt-0.6.3-py3-none-any.whl (28 kB)\n",
            "Downloading langgraph_sdk-0.2.0-py3-none-any.whl (50 kB)\n",
            "\u001b[2K   \u001b[90m━━━━━━━━━━━━━━━━━━━━━━━━━━━━━━━━━━━━━━━━\u001b[0m \u001b[32m50.6/50.6 kB\u001b[0m \u001b[31m2.6 MB/s\u001b[0m eta \u001b[36m0:00:00\u001b[0m\n",
            "\u001b[?25hDownloading sqlite_vec-0.1.6-py3-none-manylinux_2_17_x86_64.manylinux2014_x86_64.manylinux1_x86_64.whl (151 kB)\n",
            "\u001b[2K   \u001b[90m━━━━━━━━━━━━━━━━━━━━━━━━━━━━━━━━━━━━━━━━\u001b[0m \u001b[32m151.6/151.6 kB\u001b[0m \u001b[31m8.8 MB/s\u001b[0m eta \u001b[36m0:00:00\u001b[0m\n",
            "\u001b[?25hDownloading jedi-0.19.2-py2.py3-none-any.whl (1.6 MB)\n",
            "\u001b[2K   \u001b[90m━━━━━━━━━━━━━━━━━━━━━━━━━━━━━━━━━━━━━━━━\u001b[0m \u001b[32m1.6/1.6 MB\u001b[0m \u001b[31m42.1 MB/s\u001b[0m eta \u001b[36m0:00:00\u001b[0m\n",
            "\u001b[?25hDownloading ormsgpack-1.10.0-cp311-cp311-manylinux_2_17_x86_64.manylinux2014_x86_64.whl (216 kB)\n",
            "\u001b[2K   \u001b[90m━━━━━━━━━━━━━━━━━━━━━━━━━━━━━━━━━━━━━━━━\u001b[0m \u001b[32m216.5/216.5 kB\u001b[0m \u001b[31m11.5 MB/s\u001b[0m eta \u001b[36m0:00:00\u001b[0m\n",
            "\u001b[?25hInstalling collected packages: sqlite-vec, filetype, python-dotenv, ormsgpack, jedi, aiosqlite, langgraph-sdk, langgraph-checkpoint, langchain_openai, google-ai-generativelanguage, langgraph-prebuilt, langgraph-checkpoint-sqlite, langchain_google_genai, langgraph\n",
            "  Attempting uninstall: google-ai-generativelanguage\n",
            "    Found existing installation: google-ai-generativelanguage 0.6.15\n",
            "    Uninstalling google-ai-generativelanguage-0.6.15:\n",
            "      Successfully uninstalled google-ai-generativelanguage-0.6.15\n",
            "\u001b[31mERROR: pip's dependency resolver does not currently take into account all the packages that are installed. This behaviour is the source of the following dependency conflicts.\n",
            "google-generativeai 0.8.5 requires google-ai-generativelanguage==0.6.15, but you have google-ai-generativelanguage 0.6.18 which is incompatible.\u001b[0m\u001b[31m\n",
            "\u001b[0mSuccessfully installed aiosqlite-0.21.0 filetype-1.2.0 google-ai-generativelanguage-0.6.18 jedi-0.19.2 langchain_google_genai-2.1.9 langchain_openai-0.3.28 langgraph-0.6.3 langgraph-checkpoint-2.1.1 langgraph-checkpoint-sqlite-2.0.11 langgraph-prebuilt-0.6.3 langgraph-sdk-0.2.0 ormsgpack-1.10.0 python-dotenv-1.1.1 sqlite-vec-0.1.6\n"
          ]
        },
        {
          "output_type": "display_data",
          "data": {
            "application/vnd.colab-display-data+json": {
              "pip_warning": {
                "packages": [
                  "google"
                ]
              },
              "id": "c58a716ceed34d64813d167e63e4300e"
            }
          },
          "metadata": {}
        }
      ],
      "source": [
        "%pip install langgraph langchain_openai langchain_google_genai langgraph-checkpoint-sqlite ipykernel python-dotenv"
      ]
    },
    {
      "cell_type": "markdown",
      "metadata": {
        "id": "7Keg34cueBuH"
      },
      "source": [
        "---"
      ]
    },
    {
      "cell_type": "markdown",
      "metadata": {
        "id": "IMISY_oBeBuI"
      },
      "source": [
        "## 2. Configuration Loading\n",
        "\n",
        "This section handles loading all external configurations. It uses `configparser` to read settings from `config.ini` and `prompts.ini`, and `dotenv` to load secure API keys from a `.env` file. This separation of configuration from code is a best practice."
      ]
    },
    {
      "cell_type": "code",
      "execution_count": 1,
      "metadata": {
        "colab": {
          "base_uri": "https://localhost:8080/"
        },
        "id": "w1LBkZBSeBuI",
        "outputId": "819b0e1e-e341-437d-e341-43ed8f4ece27"
      },
      "outputs": [
        {
          "output_type": "stream",
          "name": "stdout",
          "text": [
            "API keys loaded from .env file.\n",
            "Settings from config.ini loaded.\n",
            "Prompts from prompts.ini loaded.\n"
          ]
        }
      ],
      "source": [
        "import os\n",
        "import configparser\n",
        "from dotenv import load_dotenv\n",
        "import sqlite3\n",
        "\n",
        "try:\n",
        "    # Load environment variables from a .env file for API keys\n",
        "    load_dotenv(\"dev.env\", override=True)\n",
        "    print(\"API keys loaded from .env file.\")\n",
        "\n",
        "    # Load settings from config.ini\n",
        "    config = configparser.ConfigParser()\n",
        "    config.read('config.ini')\n",
        "\n",
        "    ENABLE_MULTI_MODEL_DRAFTING = config.getboolean('FeatureFlags', 'enable_multi_model_drafting')\n",
        "    ENABLE_KNOWLEDGE_BASE_TOOL = config.getboolean('FeatureFlags', 'enable_knowledge_base_tool')\n",
        "    CLASSIFICATION_MODEL = config.get('Models', 'classification_model')\n",
        "    EVALUATOR_MODEL = config.get('Models', 'evaluator_model')\n",
        "    REVISER_MODEL = config.get('Models', 'reviser_model')\n",
        "    PRIMARY_DRAFTING_MODEL_PROVIDER = config.get('Models', 'primary_drafting_model_provider')\n",
        "    PRIMARY_DRAFTING_MODEL_NAME_OPENAI = config.get('Models', 'primary_drafting_model_name_openai')\n",
        "    PRIMARY_DRAFTING_MODEL_NAME_GOOGLE = config.get('Models', 'primary_drafting_model_name_google')\n",
        "    SECONDARY_DRAFTING_MODEL_PROVIDER = config.get('Models', 'secondary_drafting_model_provider')\n",
        "    SECONDARY_DRAFTING_MODEL_NAME_GOOGLE = config.get('Models', 'secondary_drafting_model_name_google')\n",
        "    CLASSIFICATION_TEMPERATURE = config.getfloat('Temperatures', 'classification')\n",
        "    DRAFTING_TEMPERATURE = config.getfloat('Temperatures', 'drafting')\n",
        "    EVALUATOR_TEMPERATURE = config.getfloat('Temperatures', 'evaluator')\n",
        "    REVISER_TEMPERATURE = config.getfloat('Temperatures', 'reviser')\n",
        "    MAX_CLASSIFICATION_ATTEMPTS = config.getint('AgentSettings', 'max_classification_attempts')\n",
        "    SQLITE_DB_PATH = config.get('Database', 'sqlite_db_path')\n",
        "    print(\"Settings from config.ini loaded.\")\n",
        "\n",
        "    # Load prompts from prompts.ini\n",
        "    prompts = configparser.ConfigParser()\n",
        "    prompts.read('prompts.ini')\n",
        "    CLASSIFIER_PROMPT = prompts.get('Prompts', 'classifier')\n",
        "    DRAFTER_BASIC_PROMPT = prompts.get('Prompts', 'drafter_basic')\n",
        "    DRAFTER_WITH_TOOL_PROMPT = prompts.get('Prompts', 'drafter_with_tool_result')\n",
        "    EVALUATOR_PROMPT = prompts.get('Prompts', 'evaluator')\n",
        "    REVISER_PROMPT = prompts.get('Prompts', 'reviser')\n",
        "    print(\"Prompts from prompts.ini loaded.\")\n",
        "\n",
        "except FileNotFoundError as e:\n",
        "    print(f\"Error: Configuration file not found - {e}. Please ensure 'config.ini' and 'prompts.ini' are in the same directory.\")\n",
        "except KeyError as e:\n",
        "    print(f\"Error: Missing configuration key - {e}. Please check your .ini files.\")"
      ]
    },
    {
      "cell_type": "markdown",
      "metadata": {
        "id": "YlrmUGBseBuJ"
      },
      "source": [
        "---"
      ]
    },
    {
      "cell_type": "markdown",
      "metadata": {
        "id": "gZz7CQlleBuK"
      },
      "source": [
        "## 3. Agent State and Tool Definition\n",
        "\n",
        "Here, we define the `EmailWorkflowState`, which is the central data structure (or \"memory\") that gets passed between all the nodes in our graph. We also define our first tool, `search_knowledge_base`, which simulates looking up information."
      ]
    },
    {
      "cell_type": "code",
      "execution_count": 2,
      "metadata": {
        "id": "YPi2C2cIeBuK"
      },
      "outputs": [],
      "source": [
        "from typing import TypedDict, Literal\n",
        "from langchain_core.tools import tool\n",
        "\n",
        "# The state is a TypedDict, which provides type hints for better code clarity.\n",
        "class EmailWorkflowState(TypedDict):\n",
        "    email_content: str\n",
        "    classification: Literal[\"sales_inquiry\", \"support_request\", \"general_question\", \"spam\", \"invalid\"]\n",
        "    knowledge_base_result: str\n",
        "    draft_openai: str\n",
        "    draft_gemini: str\n",
        "    final_draft: str\n",
        "    human_action: Literal[\"approve\", \"edit\", \"reject\", \"\"]\n",
        "    human_feedback: str\n",
        "    error_message: str\n",
        "    classification_attempts: int"
      ]
    },
    {
      "cell_type": "code",
      "source": [
        "# The @tool decorator makes this Python function available to the agent as a tool.\n",
        "@tool\n",
        "def search_knowledge_base(query: str) -> str:\n",
        "    \"\"\"Simulates searching a knowledge base for a solution to a user's problem.\"\"\"\n",
        "    knowledge_base = {\n",
        "        \"password reset\": \"To reset your password, please go to the 'Account Settings' page and click 'Forgot Password'.\",\n",
        "        \"login issue\": \"Common login issues can be resolved by clearing your browser cache and cookies.\",\n",
        "        \"account locked\": \"If your account is locked, please contact support directly at support@example.com for manual verification.\"\n",
        "    }\n",
        "    for keyword, solution in knowledge_base.items():\n",
        "        if keyword in query.lower():\n",
        "            return solution\n",
        "    return \"No specific solution found.\"\n",
        "\n",
        "print(\"Agent state and tools defined.\")"
      ],
      "metadata": {
        "colab": {
          "base_uri": "https://localhost:8080/"
        },
        "id": "m4tG8THcgedg",
        "outputId": "76a2d8b9-2663-46a7-b1fc-117de35de4a5"
      },
      "execution_count": 3,
      "outputs": [
        {
          "output_type": "stream",
          "name": "stdout",
          "text": [
            "Agent state and tools defined.\n"
          ]
        }
      ]
    },
    {
      "cell_type": "code",
      "source": [
        "# The @tool decorator makes this Python function available to the agent as a tool.\n",
        "@tool\n",
        "def search_knowledge_base_llm(query: str) -> str:\n",
        "    \"\"\"\n",
        "    Uses an LLM to reason over a knowledge base and find a solution to a user's problem.\n",
        "    \"\"\"\n",
        "    # The knowledge base is now just a string that will be part of the prompt.\n",
        "    knowledge_base_text = \"\"\"\n",
        "    Article 1: Password Reset\n",
        "    Solution: To reset your password, please go to the 'Account Settings' page and click 'Forgot Password'.\n",
        "\n",
        "    Article 2: Common Login Issues\n",
        "    Solution: Common login issues can be resolved by clearing your browser cache and cookies.\n",
        "\n",
        "    Article 3: Locked Accounts\n",
        "    Solution: If your account is locked, please contact support directly at support@example.com for manual verification.\n",
        "    \"\"\"\n",
        "\n",
        "    # Create a specific LLM for this tool\n",
        "    # Using a fast model like gpt-4o-mini is great for this.\n",
        "    tool_llm = ChatOpenAI(model=\"gpt-4o-mini\", temperature=0.0)\n",
        "\n",
        "    prompt = f\"\"\"\n",
        "    You are an expert at reading a knowledge base and finding the correct answer to a user's question.\n",
        "    Read the user's query and the provided knowledge base articles below.\n",
        "    Find the single most relevant article and return ONLY its solution.\n",
        "    If no article is directly relevant, return \"No specific solution found.\"\n",
        "\n",
        "    --- KNOWLEDGE BASE ---\n",
        "    {knowledge_base_text}\n",
        "    ---\n",
        "\n",
        "    USER QUERY:\n",
        "    \"{query}\"\n",
        "    \"\"\"\n",
        "\n",
        "    try:\n",
        "        response = tool_llm.invoke(prompt)\n",
        "        return response.content\n",
        "    except Exception as e:\n",
        "        print(f\"Error using the knowledge base LLM: {e}\")\n",
        "        return \"Error searching knowledge base.\"\n",
        "\n",
        "print(\"Agent state and LLM-powered tool defined.\")"
      ],
      "metadata": {
        "colab": {
          "base_uri": "https://localhost:8080/"
        },
        "id": "iLDYYEv_iynX",
        "outputId": "48aa3dfb-57ab-402d-ebe6-bcd871724a98"
      },
      "execution_count": 4,
      "outputs": [
        {
          "output_type": "stream",
          "name": "stdout",
          "text": [
            "Agent state and LLM-powered tool defined.\n"
          ]
        }
      ]
    },
    {
      "cell_type": "markdown",
      "metadata": {
        "id": "MhT3xJl8eBuL"
      },
      "source": [
        "---"
      ]
    },
    {
      "cell_type": "markdown",
      "metadata": {
        "id": "bDL1yxSReBuL"
      },
      "source": [
        "## 4. Agent Node Definitions\n",
        "\n",
        "Each function below represents a **node** in our graph. A node is a single step of work. We've broken them down into logical groups for clarity."
      ]
    },
    {
      "cell_type": "markdown",
      "metadata": {
        "id": "OxxlSoeleBuM"
      },
      "source": [
        "### 4.1 - Classification and Validation Nodes"
      ]
    },
    {
      "cell_type": "code",
      "execution_count": 5,
      "metadata": {
        "id": "dL3-zARPeBuM"
      },
      "outputs": [],
      "source": [
        "from langchain_openai import ChatOpenAI\n",
        "from langchain_google_genai import ChatGoogleGenerativeAI\n",
        "\n",
        "# Helper to load models dynamically based on config\n",
        "def get_model(provider: str, model_name_openai: str, model_name_google: str, temperature: float):\n",
        "    try:\n",
        "        if provider == \"openai\": return ChatOpenAI(model=model_name_openai, temperature=temperature)\n",
        "        if provider == \"google\": return ChatGoogleGenerativeAI(model=model_name_google, temperature=temperature)\n",
        "        raise ValueError(f\"Unsupported provider: {provider}\")\n",
        "    except Exception as e:\n",
        "        print(f\"Error loading model {provider}: {e}\")\n",
        "        return None\n",
        "\n"
      ]
    },
    {
      "cell_type": "code",
      "source": [
        "print(\"MAX_CLASSIFICATION_ATTEMPTS:\", MAX_CLASSIFICATION_ATTEMPTS)\n",
        "print(\"CLASSIFIER_PROMPT:\", CLASSIFIER_PROMPT)"
      ],
      "metadata": {
        "colab": {
          "base_uri": "https://localhost:8080/"
        },
        "id": "gul-3Gi1jV0E",
        "outputId": "41625ed4-d14b-414e-c43a-512c08702f48"
      },
      "execution_count": 6,
      "outputs": [
        {
          "output_type": "stream",
          "name": "stdout",
          "text": [
            "MAX_CLASSIFICATION_ATTEMPTS: 2\n",
            "CLASSIFIER_PROMPT: You are an expert email classifier. Your job is to read the email content and classify it into ONE of the following categories: 'sales_inquiry', 'support_request', 'general_question', 'spam'. Return ONLY the category name and nothing else. Do not add explanations or punctuation.\n"
          ]
        }
      ]
    },
    {
      "cell_type": "code",
      "source": [
        "def classify_email_node(state: EmailWorkflowState):\n",
        "    import random\n",
        "    randn = random.random()\n",
        "    print(\"randn: \", randn)\n",
        "    if simulate_crash and randn < 0.5:\n",
        "        print(\"!!! SIMULATING A RANDOM CRASH -classify_email_node !!!\")\n",
        "        raise ConnectionError(\"Simulated random network failure!\")\n",
        "    # --- END SIMULATION LOGIC ---\n",
        "\n",
        "\n",
        "    print(\"--- NODE: Classifying Email ---\")\n",
        "    attempts = state.get(\"classification_attempts\", 0) + 1\n",
        "    if attempts > MAX_CLASSIFICATION_ATTEMPTS:\n",
        "        return {\"classification\": \"invalid\", \"error_message\": f\"Classification failed after {MAX_CLASSIFICATION_ATTEMPTS} attempts.\"}\n",
        "\n",
        "    llm = get_model(\"openai\", CLASSIFICATION_MODEL, \"\", CLASSIFICATION_TEMPERATURE)\n",
        "    if not llm: return {\"error_message\": \"Classifier model failed to load.\"}\n",
        "\n",
        "    prompt = f'{CLASSIFIER_PROMPT}\\n\\nEmail Content: \"{state[\"email_content\"]}\"'\n",
        "    try:\n",
        "        response = llm.invoke(prompt)\n",
        "        classification = response.content.strip().lower()\n",
        "        print(f\"DEBUG: Attempt {attempts} -> Classification: '{classification}'\")\n",
        "        return {\"classification\": classification, \"classification_attempts\": attempts}\n",
        "    except Exception as e:\n",
        "        print(f\"Error during classification: {e}\")\n",
        "        return {\"error_message\": str(e)}\n",
        "\n"
      ],
      "metadata": {
        "id": "_tzu66MAggRc"
      },
      "execution_count": 7,
      "outputs": []
    },
    {
      "cell_type": "code",
      "source": [
        "def validate_classification_node(state: EmailWorkflowState):\n",
        "    import random\n",
        "    randn = random.random()\n",
        "    print(\"randn: \", randn)\n",
        "    if simulate_crash and randn < 0.5:\n",
        "        print(\"!!! SIMULATING A RANDOM CRASH -validate_classification_node !!!\")\n",
        "        raise ConnectionError(\"Simulated random network failure!\")\n",
        "    # --- END SIMULATION LOGIC ---\n",
        "\n",
        "    print(\"--- NODE: Validating Classification ---\")\n",
        "    classification = state.get(\"classification\")\n",
        "    valid_categories = [\"sales_inquiry\", \"support_request\", \"general_question\", \"spam\"]\n",
        "    if classification in valid_categories:\n",
        "        print(f\"DEBUG: Validation successful for category '{classification}'.\")\n",
        "        return {\"error_message\": \"\"}\n",
        "    else:\n",
        "        print(f\"DEBUG: Validation FAILED for category '{classification}'.\")\n",
        "        return {\"error_message\": f\"Invalid classification: {classification}\"}"
      ],
      "metadata": {
        "id": "F20rZ-xWgheo"
      },
      "execution_count": 8,
      "outputs": []
    },
    {
      "cell_type": "markdown",
      "metadata": {
        "id": "5vv1yXbReBuN"
      },
      "source": [
        "### 4.2 - Tool and Drafting Nodes"
      ]
    },
    {
      "cell_type": "code",
      "execution_count": 9,
      "metadata": {
        "id": "SaCjjOjheBuN"
      },
      "outputs": [],
      "source": [
        "def knowledge_base_tool_node(state: EmailWorkflowState):\n",
        "    print(\"--- NODE: Searching Knowledge Base ---\")\n",
        "    #result = search_knowledge_base.invoke({\"query\": state['email_content']})\n",
        "    result = search_knowledge_base_llm.invoke({\"query\": state['email_content']})\n",
        "    print(f\"DEBUG: Knowledge Base Result: '{result}'\")\n",
        "    return {\"knowledge_base_result\": result}\n",
        "\n"
      ]
    },
    {
      "cell_type": "code",
      "source": [
        "print(\"DRAFTER_WITH_TOOL_PROMPT: \", DRAFTER_WITH_TOOL_PROMPT)"
      ],
      "metadata": {
        "colab": {
          "base_uri": "https://localhost:8080/"
        },
        "id": "o7sT-8x4jvzS",
        "outputId": "6331f910-6845-43a7-9179-bd32abf0ce4c"
      },
      "execution_count": 10,
      "outputs": [
        {
          "output_type": "stream",
          "name": "stdout",
          "text": [
            "DRAFTER_WITH_TOOL_PROMPT:  You are a helpful and professional support assistant. A user has a support request, and you have the following information from our internal knowledge base. Use this information to draft a helpful reply to the user's email. Be direct and incorporate the knowledge base solution into your response.\n"
          ]
        }
      ]
    },
    {
      "cell_type": "code",
      "source": [
        "def drafting_node(state: EmailWorkflowState):\n",
        "    import random\n",
        "    randn = random.random()\n",
        "    print(\"randn: \", randn)\n",
        "    if simulate_crash and randn < 0.5:\n",
        "        print(\"!!! SIMULATING A RANDOM CRASH -drafting_node !!!\")\n",
        "        raise ConnectionError(\"Simulated random network failure!\")\n",
        "    # --- END SIMULATION LOGIC ---\n",
        "\n",
        "    print(\"--- NODE: Drafting Reply ---\")\n",
        "    email_content = state['email_content']\n",
        "    kb_result = state.get('knowledge_base_result')\n",
        "\n",
        "    base_prompt = DRAFTER_WITH_TOOL_PROMPT + f\"\\n\\nKNOWLEDGE BASE INFO:\\n{kb_result}\\n\\nUSER EMAIL:\\n{email_content}\" if kb_result else DRAFTER_BASIC_PROMPT + f\"\\n\\nEMAIL:\\n{email_content}\"\n",
        "\n",
        "    drafts = {}\n",
        "    try:\n",
        "        if not ENABLE_MULTI_MODEL_DRAFTING:\n",
        "            print(\"DEBUG: Single model drafting mode.\")\n",
        "            llm = get_model(PRIMARY_DRAFTING_MODEL_PROVIDER, PRIMARY_DRAFTING_MODEL_NAME_OPENAI, PRIMARY_DRAFTING_MODEL_NAME_GOOGLE, DRAFTING_TEMPERATURE)\n",
        "            drafts[\"final_draft\"] = llm.invoke(base_prompt).content\n",
        "        else:\n",
        "            print(\"DEBUG: Multi-model drafting mode.\")\n",
        "            openai_llm = get_model(\"openai\", PRIMARY_DRAFTING_MODEL_NAME_OPENAI, \"\", DRAFTING_TEMPERATURE)\n",
        "            drafts[\"draft_openai\"] = openai_llm.invoke(base_prompt).content\n",
        "            gemini_llm = get_model(\"google\", \"\", SECONDARY_DRAFTING_MODEL_NAME_GOOGLE, DRAFTING_TEMPERATURE)\n",
        "            drafts[\"draft_gemini\"] = gemini_llm.invoke(base_prompt).content\n",
        "        return drafts\n",
        "    except Exception as e:\n",
        "        print(f\"Error during drafting: {e}\")\n",
        "        return {\"error_message\": str(e)}"
      ],
      "metadata": {
        "id": "cm3ZxseMgk8B"
      },
      "execution_count": 11,
      "outputs": []
    },
    {
      "cell_type": "markdown",
      "metadata": {
        "id": "jEKXxmZ-eBuO"
      },
      "source": [
        "### 4.3 - Evaluation and Revision Nodes"
      ]
    },
    {
      "cell_type": "code",
      "execution_count": 12,
      "metadata": {
        "id": "Nj6n66tqeBuO"
      },
      "outputs": [],
      "source": [
        "def evaluate_drafts_node(state: EmailWorkflowState):\n",
        "    print(\"--- NODE: Evaluating Drafts ---\")\n",
        "    evaluator_llm = get_model(\"openai\", EVALUATOR_MODEL, \"\", EVALUATOR_TEMPERATURE)\n",
        "    prompt = f'{EVALUATOR_PROMPT}\\n\\nORIGINAL EMAIL: {state[\"email_content\"]}\\n\\nDRAFT A: {state[\"draft_openai\"]}\\n\\nDRAFT B: {state[\"draft_gemini\"]}'\n",
        "    try:\n",
        "        final_draft = evaluator_llm.invoke(prompt).content\n",
        "        print(\"DEBUG: Evaluator selected a final draft.\")\n",
        "        return {\"final_draft\": final_draft}\n",
        "    except Exception as e:\n",
        "        print(f\"Error during evaluation: {e}\")\n",
        "        return {\"error_message\": str(e), \"final_draft\": state[\"draft_openai\"]} # Fallback to primary draft\n",
        "\n"
      ]
    },
    {
      "cell_type": "code",
      "source": [
        "def reviser_node(state: EmailWorkflowState):\n",
        "    print(\"--- NODE: Revising Draft ---\")\n",
        "    reviser_llm = get_model(\"openai\", REVISER_MODEL, \"\", REVISER_TEMPERATURE)\n",
        "    prompt = f'{REVISER_PROMPT}\\n\\nORIGINAL DRAFT:\\n{state[\"final_draft\"]}\\n\\nUSER FEEDBACK:\\n{state[\"human_feedback\"]}'\n",
        "    try:\n",
        "        revised_draft = reviser_llm.invoke(prompt).content\n",
        "        print(\"DEBUG: Revision complete.\")\n",
        "        return {\"final_draft\": revised_draft, \"human_feedback\": \"\", \"human_action\": \"\"}\n",
        "    except Exception as e:\n",
        "        print(f\"Error during revision: {e}\")\n",
        "        return {\"error_message\": str(e)}"
      ],
      "metadata": {
        "id": "SFGPFX_igndq"
      },
      "execution_count": 13,
      "outputs": []
    },
    {
      "cell_type": "markdown",
      "metadata": {
        "id": "ZzCxnjhyeBuP"
      },
      "source": [
        "### 4.4 - Final State Nodes"
      ]
    },
    {
      "cell_type": "code",
      "execution_count": 14,
      "metadata": {
        "id": "B52MgvqseBuP"
      },
      "outputs": [],
      "source": [
        "def human_review_node(state: EmailWorkflowState):\n",
        "    print(\"--- NODE: Awaiting Human Review ---\")\n",
        "    return {}\n",
        "\n",
        "def send_email_node(state: EmailWorkflowState):\n",
        "    print(\"--- NODE: Sending Email ---\")\n",
        "    return {}\n",
        "\n",
        "def spam_or_invalid_node(state: EmailWorkflowState):\n",
        "    print(\"--- NODE: Spam or Invalid Classification ---\")\n",
        "    return {}"
      ]
    },
    {
      "cell_type": "markdown",
      "metadata": {
        "id": "Fb6bsziOeBuQ"
      },
      "source": [
        "---"
      ]
    },
    {
      "cell_type": "markdown",
      "metadata": {
        "id": "AFCwLgfzeBuQ"
      },
      "source": [
        "## 5. Graph Construction and Visualization\n",
        "\n",
        "Here, we wire all the nodes and conditional edges together into a `StateGraph`. We then compile it with our SQLite checkpointer. Finally, we'll visualize the graph structure to see the complete workflow."
      ]
    },
    {
      "cell_type": "code",
      "execution_count": 15,
      "metadata": {
        "id": "FupkWoDleBuQ"
      },
      "outputs": [],
      "source": [
        "from langgraph.graph import StateGraph, END, START\n",
        "from langgraph.checkpoint.sqlite import SqliteSaver\n",
        "from IPython.display import Image, display, Markdown\n",
        "\n"
      ]
    },
    {
      "cell_type": "code",
      "source": [
        "# Conditional Edge Functions\n",
        "def route_after_validation(state: EmailWorkflowState):\n",
        "    if state.get(\"error_message\"): return \"classify_email\"\n",
        "    classification = state[\"classification\"]\n",
        "    if classification == \"spam\": return \"handle_spam_or_invalid\"\n",
        "    if classification == \"support_request\" and ENABLE_KNOWLEDGE_BASE_TOOL: return \"search_knowledge_base\"\n",
        "    return \"draft_reply\"\n",
        "\n"
      ],
      "metadata": {
        "id": "6QwAEqOQgpkv"
      },
      "execution_count": 16,
      "outputs": []
    },
    {
      "cell_type": "code",
      "source": [
        "simulate_crash = False\n",
        "\n",
        "def route_after_drafting(state: EmailWorkflowState):\n",
        "    import random\n",
        "    randn = random.random()\n",
        "    print(\"randn: \", randn)\n",
        "    if simulate_crash and randn < 0.5:\n",
        "        print(\"!!! SIMULATING A RANDOM CRASH -route_after_drafting !!!\")\n",
        "        raise ConnectionError(\"Simulated random network failure!\")\n",
        "    # --- END SIMULATION LOGIC ---\n",
        "\n",
        "    return \"evaluate_drafts\" if ENABLE_MULTI_MODEL_DRAFTING else \"human_review\"\n",
        "\n"
      ],
      "metadata": {
        "id": "6ACZq4QvgqtT"
      },
      "execution_count": 17,
      "outputs": []
    },
    {
      "cell_type": "code",
      "source": [
        "import random\n",
        "\n",
        "# This flag will control our simulation.\n",
        "simulate_crash = False\n",
        "\n",
        "def route_after_review(state: EmailWorkflowState):\n",
        "    action = state.get(\"human_action\")\n",
        "\n",
        "    if action == \"approve\":\n",
        "        # --- CRASH SIMULATION LOGIC ---\n",
        "        # If the simulation is active, randomly fail 50% of the time.\n",
        "        randn = random.random()\n",
        "        print(\"randn: \", randn)\n",
        "        if simulate_crash and randn < 0.5:\n",
        "            print(\"!!! SIMULATING A RANDOM CRASH !!!\")\n",
        "            raise ConnectionError(\"Simulated random network failure! - route_after_review\")\n",
        "        # --- END SIMULATION LOGIC ---\n",
        "        return \"send_email\"\n",
        "\n",
        "    if action == \"edit\":\n",
        "        return \"revise_draft\"\n",
        "\n",
        "    return END # Reject"
      ],
      "metadata": {
        "id": "ttgfnNTBgrgS"
      },
      "execution_count": 18,
      "outputs": []
    },
    {
      "cell_type": "code",
      "source": [
        "# Graph Definition\n",
        "memory = SqliteSaver(conn=sqlite3.connect(SQLITE_DB_PATH, check_same_thread=False))\n",
        "workflow = StateGraph(EmailWorkflowState)\n",
        "\n"
      ],
      "metadata": {
        "id": "5N_RlfScgsX0"
      },
      "execution_count": 19,
      "outputs": []
    },
    {
      "cell_type": "code",
      "source": [
        "workflow.add_node(\"classify_email\", classify_email_node)\n",
        "workflow.add_node(\"validate_classification\", validate_classification_node)\n",
        "workflow.add_node(\"search_knowledge_base\", knowledge_base_tool_node)\n",
        "workflow.add_node(\"draft_reply\", drafting_node)\n",
        "workflow.add_node(\"evaluate_drafts\", evaluate_drafts_node)\n",
        "workflow.add_node(\"revise_draft\", reviser_node)\n",
        "workflow.add_node(\"human_review\", human_review_node)\n",
        "workflow.add_node(\"send_email\", send_email_node)\n",
        "workflow.add_node(\"handle_spam_or_invalid\", spam_or_invalid_node)\n",
        "\n"
      ],
      "metadata": {
        "colab": {
          "base_uri": "https://localhost:8080/"
        },
        "id": "OMNsmAw5gtIs",
        "outputId": "47b3cd70-f965-4cb9-8388-33facbbaec42"
      },
      "execution_count": 20,
      "outputs": [
        {
          "output_type": "execute_result",
          "data": {
            "text/plain": [
              "<langgraph.graph.state.StateGraph at 0x7b3cbbe41250>"
            ]
          },
          "metadata": {},
          "execution_count": 20
        }
      ]
    },
    {
      "cell_type": "code",
      "source": [
        "workflow.add_edge(START, \"classify_email\")\n",
        "workflow.add_edge(\"classify_email\", \"validate_classification\")\n",
        "workflow.add_conditional_edges(\"validate_classification\", route_after_validation, {\n",
        "    \"classify_email\": \"classify_email\", \"search_knowledge_base\": \"search_knowledge_base\",\n",
        "    \"draft_reply\": \"draft_reply\", \"handle_spam_or_invalid\": \"handle_spam_or_invalid\"\n",
        "})\n",
        "workflow.add_edge(\"search_knowledge_base\", \"draft_reply\")\n",
        "workflow.add_conditional_edges(\"draft_reply\", route_after_drafting, {\"evaluate_drafts\": \"evaluate_drafts\", \"human_review\": \"human_review\"})\n",
        "workflow.add_edge(\"evaluate_drafts\", \"human_review\")\n",
        "workflow.add_edge(\"revise_draft\", \"human_review\")\n",
        "workflow.add_conditional_edges(\"human_review\", route_after_review, {\"send_email\": \"send_email\", \"revise_draft\": \"revise_draft\", END: END})\n",
        "workflow.add_edge(\"send_email\", END)\n",
        "workflow.add_edge(\"handle_spam_or_invalid\", END)\n",
        "\n"
      ],
      "metadata": {
        "colab": {
          "base_uri": "https://localhost:8080/"
        },
        "id": "10aKFhKGguDE",
        "outputId": "64a7215a-c532-48fe-cfa4-a9aa16c15d0c"
      },
      "execution_count": 21,
      "outputs": [
        {
          "output_type": "execute_result",
          "data": {
            "text/plain": [
              "<langgraph.graph.state.StateGraph at 0x7b3cbbe41250>"
            ]
          },
          "metadata": {},
          "execution_count": 21
        }
      ]
    },
    {
      "cell_type": "code",
      "source": [
        "app = workflow.compile(checkpointer=memory)\n",
        "print(\"Advanced graph compiled successfully!\")\n",
        "\n"
      ],
      "metadata": {
        "colab": {
          "base_uri": "https://localhost:8080/"
        },
        "id": "qwKLtqzCgvGl",
        "outputId": "5927cd30-c43d-431a-e476-3a8e85dffc8b"
      },
      "execution_count": 22,
      "outputs": [
        {
          "output_type": "stream",
          "name": "stdout",
          "text": [
            "Advanced graph compiled successfully!\n"
          ]
        }
      ]
    },
    {
      "cell_type": "code",
      "source": [
        "# Visualize the graph\n",
        "try:\n",
        "    display(Image(app.get_graph().draw_mermaid_png()))\n",
        "except Exception as e:\n",
        "    print(f\"Could not display graph: {e}\")"
      ],
      "metadata": {
        "colab": {
          "base_uri": "https://localhost:8080/",
          "height": 846
        },
        "id": "567gkZiSgv6c",
        "outputId": "87a3d3cd-80dd-4219-f1d5-060abdbff6c1"
      },
      "execution_count": 23,
      "outputs": [
        {
          "output_type": "display_data",
          "data": {
            "image/png": "[encoded data removed]",
            "text/plain": [
              "<IPython.core.display.Image object>"
            ]
          },
          "metadata": {}
        }
      ]
    },
    {
      "cell_type": "markdown",
      "metadata": {
        "id": "tZjEbQzQeBuR"
      },
      "source": [
        "---"
      ]
    },
    {
      "cell_type": "markdown",
      "metadata": {
        "id": "DoTgb2zTeBuR"
      },
      "source": [
        "## 6. Scenario 1: Tool-Augmented Support Ticket\n",
        "\n",
        "We process a support email. The agent will use the `search_knowledge_base` tool to find a solution and incorporate it into the draft."
      ]
    },
    {
      "cell_type": "code",
      "execution_count": 24,
      "metadata": {
        "id": "YOntb98HeBuR"
      },
      "outputs": [],
      "source": [
        "# Each email processing task is treated as a separate \"thread\" in our stateful agent.\n",
        "# We generate a unique ID (UUID) for this thread to ensure its conversation history\n",
        "# is saved and managed separately in the SQLite database by the checkpointer.\n",
        "\n",
        "# Think of this as creating a unique \"case file number\" for this email.\n",
        "# It allows the agent to save its progress and pick up where it left off for this specific case.\n",
        "\n",
        "import uuid\n",
        "\n",
        "thread_id_1 = str(uuid.uuid4())"
      ]
    },
    {
      "cell_type": "code",
      "source": [
        "config_1 = {\"configurable\": {\"thread_id\": thread_id_1}}\n",
        "print(config_1)"
      ],
      "metadata": {
        "colab": {
          "base_uri": "https://localhost:8080/"
        },
        "id": "vkf3FN57gyk8",
        "outputId": "b2528622-d16c-47c6-98c3-f4623da57496"
      },
      "execution_count": 25,
      "outputs": [
        {
          "output_type": "stream",
          "name": "stdout",
          "text": [
            "{'configurable': {'thread_id': '815e97bd-2fd9-4922-9aab-ebafe3dc55e3'}}\n"
          ]
        }
      ]
    },
    {
      "cell_type": "code",
      "source": [
        "email_content_1 = \"Hi, I'm having a login issue and can't access my account. Can you help?\""
      ],
      "metadata": {
        "id": "3YwvWLBbgzLm"
      },
      "execution_count": 26,
      "outputs": []
    },
    {
      "cell_type": "code",
      "source": [
        "initial_state_1 = {\"email_content\": email_content_1, \"classification_attempts\": 0}"
      ],
      "metadata": {
        "id": "gW3Ifz6Ggz1i"
      },
      "execution_count": 27,
      "outputs": []
    },
    {
      "cell_type": "code",
      "source": [
        "print(f\"--- Starting Scenario 1: Support Ticket (Thread ID: {thread_id_1}) ---\")"
      ],
      "metadata": {
        "colab": {
          "base_uri": "https://localhost:8080/"
        },
        "id": "y87LkHZIg0iP",
        "outputId": "65207e8f-025c-4310-ff80-25019f19f904"
      },
      "execution_count": 28,
      "outputs": [
        {
          "output_type": "stream",
          "name": "stdout",
          "text": [
            "--- Starting Scenario 1: Support Ticket (Thread ID: 815e97bd-2fd9-4922-9aab-ebafe3dc55e3) ---\n"
          ]
        }
      ]
    },
    {
      "cell_type": "code",
      "source": [
        "# ======================================================================================\n",
        "# This cell invokes the agent and runs the workflow, now with detailed logging.\n",
        "#\n",
        "# How it works:\n",
        "# 1. `app.stream()` executes the graph, yielding an 'event' for each completed node.\n",
        "# 2. Each 'event' is a dictionary where the key is the name of the node that just ran,\n",
        "#    and the value is the full state of the workflow *after* that node's execution.\n",
        "# 3. We loop through this dictionary to print which node ran and what the state looks like now.\n",
        "# ======================================================================================\n",
        "for event in app.stream(initial_state_1, config_1):\n",
        "    # The 'event' dictionary has one key: the name of the node that just ran\n",
        "    for node_name, updated_state in event.items():\n",
        "        print(f\"--- Output from Node: '{node_name}' ---\")\n",
        "        print(\"Current State:\")\n",
        "        # Print the key-value pairs from the state dictionary for clarity\n",
        "        if not updated_state is None and len(updated_state) > 0:\n",
        "          for key, value in updated_state.items():\n",
        "              print(f\"  - {key}: {value}\")\n",
        "          print(\"\\n\")\n",
        "\n",
        "print(\"--- Workflow Paused for Human Review ---\")"
      ],
      "metadata": {
        "colab": {
          "base_uri": "https://localhost:8080/"
        },
        "id": "ZvlrnohVg1Ll",
        "outputId": "d2c315fc-08cb-4f53-cb27-29100e84a37f"
      },
      "execution_count": 29,
      "outputs": [
        {
          "output_type": "stream",
          "name": "stdout",
          "text": [
            "--- NODE: Classifying Email ---\n",
            "DEBUG: Attempt 1 -> Classification: 'support_request'\n",
            "--- Output from Node: 'classify_email' ---\n",
            "Current State:\n",
            "  - classification: support_request\n",
            "  - classification_attempts: 1\n",
            "\n",
            "\n",
            "--- NODE: Validating Classification ---\n",
            "DEBUG: Validation successful for category 'support_request'.\n",
            "--- Output from Node: 'validate_classification' ---\n",
            "Current State:\n",
            "  - error_message: \n",
            "\n",
            "\n",
            "--- NODE: Searching Knowledge Base ---\n",
            "DEBUG: Knowledge Base Result: 'Common login issues can be resolved by clearing your browser cache and cookies.'\n",
            "--- Output from Node: 'search_knowledge_base' ---\n",
            "Current State:\n",
            "  - knowledge_base_result: Common login issues can be resolved by clearing your browser cache and cookies.\n",
            "\n",
            "\n",
            "--- NODE: Drafting Reply ---\n",
            "DEBUG: Single model drafting mode.\n",
            "--- Output from Node: 'draft_reply' ---\n",
            "Current State:\n",
            "  - final_draft: Subject: Re: Login Issue Assistance\n",
            "\n",
            "Hi [User's Name],\n",
            "\n",
            "Thank you for reaching out regarding your login issue. I understand how frustrating this can be, and I'm here to help.\n",
            "\n",
            "A common solution for login problems is to clear your browser cache and cookies. This can often resolve issues related to stored data that may be causing trouble with the login process. Here’s how you can do it:\n",
            "\n",
            "1. **For Google Chrome**:\n",
            "   - Click on the three dots in the upper right corner.\n",
            "   - Go to \"More tools\" > \"Clear browsing data.\"\n",
            "   - Select \"Cookies and other site data\" and \"Cached images and files.\"\n",
            "   - Click \"Clear data.\"\n",
            "\n",
            "2. **For Firefox**:\n",
            "   - Click on the three lines in the upper right corner.\n",
            "   - Select \"Options\" > \"Privacy & Security.\"\n",
            "   - Under \"Cookies and Site Data,\" click \"Clear Data.\"\n",
            "   - Check both options and click \"Clear.\"\n",
            "\n",
            "3. **For Safari**:\n",
            "   - Go to Safari in the top menu and select \"Preferences.\"\n",
            "   - Click on the \"Privacy\" tab and then \"Manage Website Data.\"\n",
            "   - Click \"Remove All\" to clear cookies and cache.\n",
            "\n",
            "Once you’ve cleared your cache and cookies, please try logging in again. If you continue to experience issues, let me know, and we can explore further options.\n",
            "\n",
            "Best regards,\n",
            "\n",
            "[Your Name]  \n",
            "[Your Position]  \n",
            "[Your Contact Information]  \n",
            "\n",
            "\n",
            "--- NODE: Awaiting Human Review ---\n",
            "--- Output from Node: 'human_review' ---\n",
            "Current State:\n",
            "--- Workflow Paused for Human Review ---\n"
          ]
        }
      ]
    },
    {
      "cell_type": "markdown",
      "metadata": {
        "id": "osC3z5V5eBuS"
      },
      "source": [
        "### Debug & Approve the Draft\n",
        "\n",
        "Let's inspect the state and then approve the draft to complete the workflow."
      ]
    },
    {
      "cell_type": "code",
      "execution_count": 160,
      "metadata": {
        "colab": {
          "base_uri": "https://localhost:8080/"
        },
        "id": "3_5lzrh-eBuS",
        "outputId": "69157068-1806-4e78-8cd2-94354cc862d4"
      },
      "outputs": [
        {
          "output_type": "stream",
          "name": "stdout",
          "text": [
            "StateSnapshot(values={'email_content': \"Hi, I'm having a login issue and can't access my account. Can you help?\", 'classification': 'support_request', 'knowledge_base_result': 'Solution: Common login issues can be resolved by clearing your browser cache and cookies.', 'final_draft': 'Subject: Re: Login Issue Assistance\\n\\nHi [User\\'s Name],\\n\\nThank you for reaching out regarding your login issue. I understand how important it is to access your account.\\n\\nA common solution for login problems is to clear your browser\\'s cache and cookies. This can often resolve any issues related to stored data that may be causing the login problem.\\n\\nHere’s how you can clear your cache and cookies:\\n\\n1. Open your browser settings.\\n2. Look for the option to clear browsing data or history.\\n3. Select \"Cookies and other site data\" and \"Cached images and files.\"\\n4. Click on \"Clear data.\"\\n\\nAfter doing this, please try logging in again. If you continue to experience issues, feel free to reply to this email, and I\\'ll be glad to assist you further.\\n\\nBest regards,\\n\\n[Your Name]  \\n[Your Position]  \\n[Your Contact Information]  ', 'error_message': '', 'classification_attempts': 1}, next=(), config={'configurable': {'thread_id': '6c770cdc-4395-4d1d-a71d-1829da7cc184', 'checkpoint_ns': '', 'checkpoint_id': '1f072ca4-0ea5-6d76-8013-65612b2af3c5'}}, metadata={'source': 'loop', 'step': 19, 'parents': {}}, created_at='2025-08-06T13:35:44.654636+00:00', parent_config={'configurable': {'thread_id': '6c770cdc-4395-4d1d-a71d-1829da7cc184', 'checkpoint_ns': '', 'checkpoint_id': '1f072ca4-0ea0-64af-8012-b760921c8a33'}}, tasks=(), interrupts=())\n"
          ]
        }
      ],
      "source": [
        "current_state = app.get_state(config_1)\n",
        "print(current_state)"
      ]
    },
    {
      "cell_type": "code",
      "source": [
        "final_draft = current_state.values.get('final_draft', 'Draft not available.')\n",
        "\n",
        "print(final_draft)"
      ],
      "metadata": {
        "colab": {
          "base_uri": "https://localhost:8080/"
        },
        "id": "p4mSUtttmKQi",
        "outputId": "28b0f569-584a-4685-afdc-69eb5bbe6d76"
      },
      "execution_count": 161,
      "outputs": [
        {
          "output_type": "stream",
          "name": "stdout",
          "text": [
            "Subject: Re: Login Issue Assistance\n",
            "\n",
            "Hi [User's Name],\n",
            "\n",
            "Thank you for reaching out regarding your login issue. I understand how important it is to access your account.\n",
            "\n",
            "A common solution for login problems is to clear your browser's cache and cookies. This can often resolve any issues related to stored data that may be causing the login problem.\n",
            "\n",
            "Here’s how you can clear your cache and cookies:\n",
            "\n",
            "1. Open your browser settings.\n",
            "2. Look for the option to clear browsing data or history.\n",
            "3. Select \"Cookies and other site data\" and \"Cached images and files.\"\n",
            "4. Click on \"Clear data.\"\n",
            "\n",
            "After doing this, please try logging in again. If you continue to experience issues, feel free to reply to this email, and I'll be glad to assist you further.\n",
            "\n",
            "Best regards,\n",
            "\n",
            "[Your Name]  \n",
            "[Your Position]  \n",
            "[Your Contact Information]  \n"
          ]
        }
      ]
    },
    {
      "cell_type": "code",
      "source": [
        "display(Markdown(\"### Pending Draft for Approval\"))\n",
        "display(Markdown(f\"```\\n{final_draft}\\n```\"))"
      ],
      "metadata": {
        "colab": {
          "base_uri": "https://localhost:8080/",
          "height": 459
        },
        "id": "EXGzseM7g5bc",
        "outputId": "9fe9ee32-a08e-4858-9ac0-12145c7c3bfb"
      },
      "execution_count": 162,
      "outputs": [
        {
          "output_type": "display_data",
          "data": {
            "text/plain": [
              "<IPython.core.display.Markdown object>"
            ],
            "text/markdown": "### Pending Draft for Approval"
          },
          "metadata": {}
        },
        {
          "output_type": "display_data",
          "data": {
            "text/plain": [
              "<IPython.core.display.Markdown object>"
            ],
            "text/markdown": "```\nSubject: Re: Login Issue Assistance\n\nHi [User's Name],\n\nThank you for reaching out regarding your login issue. I understand how important it is to access your account.\n\nA common solution for login problems is to clear your browser's cache and cookies. This can often resolve any issues related to stored data that may be causing the login problem.\n\nHere’s how you can clear your cache and cookies:\n\n1. Open your browser settings.\n2. Look for the option to clear browsing data or history.\n3. Select \"Cookies and other site data\" and \"Cached images and files.\"\n4. Click on \"Clear data.\"\n\nAfter doing this, please try logging in again. If you continue to experience issues, feel free to reply to this email, and I'll be glad to assist you further.\n\nBest regards,\n\n[Your Name]  \n[Your Position]  \n[Your Contact Information]  \n```"
          },
          "metadata": {}
        }
      ]
    },
    {
      "cell_type": "code",
      "source": [
        "# Approve the draft\n",
        "app.update_state(config_1, {\"human_action\": \"approve\"})"
      ],
      "metadata": {
        "colab": {
          "base_uri": "https://localhost:8080/"
        },
        "id": "-g80ty87hZPS",
        "outputId": "0caee60b-cbc3-496a-c509-a5110833a273"
      },
      "execution_count": 163,
      "outputs": [
        {
          "output_type": "execute_result",
          "data": {
            "text/plain": [
              "{'configurable': {'thread_id': '6c770cdc-4395-4d1d-a71d-1829da7cc184',\n",
              "  'checkpoint_ns': '',\n",
              "  'checkpoint_id': '1f072ca6-3c9c-65d3-8014-5b95b78fdbf1'}}"
            ]
          },
          "metadata": {},
          "execution_count": 163
        }
      ]
    },
    {
      "cell_type": "code",
      "source": [
        "print(\"\\n--- Resuming workflow after approval ---\")\n",
        "for _ in app.stream(None, config_1):\n",
        "    pass"
      ],
      "metadata": {
        "colab": {
          "base_uri": "https://localhost:8080/"
        },
        "id": "F5VxMfcshcGh",
        "outputId": "7620d059-1f6d-485c-afae-f1595276b56d"
      },
      "execution_count": 164,
      "outputs": [
        {
          "output_type": "stream",
          "name": "stdout",
          "text": [
            "\n",
            "--- Resuming workflow after approval ---\n",
            "--- NODE: Sending Email ---\n"
          ]
        }
      ]
    },
    {
      "cell_type": "code",
      "source": [
        "final_state = app.get_state(config_1)\n",
        "display(Markdown(\"### Final Sent Email\"))\n",
        "display(Markdown(f\"```\\n{final_state.values.get('final_draft')}\\n```\"))"
      ],
      "metadata": {
        "colab": {
          "base_uri": "https://localhost:8080/",
          "height": 459
        },
        "id": "da-zrQRZhgSm",
        "outputId": "b14ebeeb-2cfe-4ef1-de64-f076e9480fea"
      },
      "execution_count": 165,
      "outputs": [
        {
          "output_type": "display_data",
          "data": {
            "text/plain": [
              "<IPython.core.display.Markdown object>"
            ],
            "text/markdown": "### Final Sent Email"
          },
          "metadata": {}
        },
        {
          "output_type": "display_data",
          "data": {
            "text/plain": [
              "<IPython.core.display.Markdown object>"
            ],
            "text/markdown": "```\nSubject: Re: Login Issue Assistance\n\nHi [User's Name],\n\nThank you for reaching out regarding your login issue. I understand how important it is to access your account.\n\nA common solution for login problems is to clear your browser's cache and cookies. This can often resolve any issues related to stored data that may be causing the login problem.\n\nHere’s how you can clear your cache and cookies:\n\n1. Open your browser settings.\n2. Look for the option to clear browsing data or history.\n3. Select \"Cookies and other site data\" and \"Cached images and files.\"\n4. Click on \"Clear data.\"\n\nAfter doing this, please try logging in again. If you continue to experience issues, feel free to reply to this email, and I'll be glad to assist you further.\n\nBest regards,\n\n[Your Name]  \n[Your Position]  \n[Your Contact Information]  \n```"
          },
          "metadata": {}
        }
      ]
    },
    {
      "cell_type": "markdown",
      "metadata": {
        "id": "HO0k_KuAeBuS"
      },
      "source": [
        "---"
      ]
    },
    {
      "cell_type": "markdown",
      "metadata": {
        "id": "64VDxUC7eBuT"
      },
      "source": [
        "## 7. Scenario 2: Critique & Revise Loop\n",
        "\n",
        "Here, we'll provide feedback on a draft, forcing the agent into the `reviser_node` before final approval."
      ]
    },
    {
      "cell_type": "markdown",
      "metadata": {
        "id": "H0qDrW8IeBuT"
      },
      "source": [
        "### Step 1: Initial Draft and Request for Edit"
      ]
    },
    {
      "cell_type": "code",
      "execution_count": 166,
      "metadata": {
        "id": "61VTBvDVeBuT"
      },
      "outputs": [],
      "source": [
        "thread_id_2 = str(uuid.uuid4())\n",
        "config_2 = {\"configurable\": {\"thread_id\": thread_id_2}}\n",
        "email_content_2 = \"Can you tell me about your refund policy?\"\n",
        "initial_state_2 = {\"email_content\": email_content_2, \"classification_attempts\": 0}"
      ]
    },
    {
      "cell_type": "code",
      "source": [
        "print(f\"--- Starting Scenario 2: Critique & Revise (Thread ID: {thread_id_2}) ---\")\n",
        "for _ in app.stream(initial_state_2, config_2):\n",
        "    pass"
      ],
      "metadata": {
        "colab": {
          "base_uri": "https://localhost:8080/"
        },
        "id": "ms_aAjPOhpg0",
        "outputId": "53898c59-a101-4ed8-f6ef-e39b8a83b60f"
      },
      "execution_count": 167,
      "outputs": [
        {
          "output_type": "stream",
          "name": "stdout",
          "text": [
            "--- Starting Scenario 2: Critique & Revise (Thread ID: 3213b0bd-bc70-4e3e-b064-b93ec9ab8343) ---\n",
            "--- NODE: Classifying Email ---\n",
            "DEBUG: Attempt 1 -> Classification: 'general_question'\n",
            "--- NODE: Validating Classification ---\n",
            "DEBUG: Validation successful for category 'general_question'.\n",
            "--- NODE: Drafting Reply ---\n",
            "DEBUG: Single model drafting mode.\n",
            "--- NODE: Awaiting Human Review ---\n"
          ]
        }
      ]
    },
    {
      "cell_type": "code",
      "source": [
        "current_state_2 = app.get_state(config_2)\n",
        "draft_to_revise = current_state_2.values.get('final_draft', '')\n",
        "display(Markdown(\"### Initial Draft for Review\"))\n",
        "display(Markdown(f\"```\\n{draft_to_revise}\\n```\"))"
      ],
      "metadata": {
        "colab": {
          "base_uri": "https://localhost:8080/",
          "height": 355
        },
        "id": "YV8LeSLfhrs0",
        "outputId": "0a9f88bf-5590-44ee-a34f-08cb943e6d60"
      },
      "execution_count": 168,
      "outputs": [
        {
          "output_type": "display_data",
          "data": {
            "text/plain": [
              "<IPython.core.display.Markdown object>"
            ],
            "text/markdown": "### Initial Draft for Review"
          },
          "metadata": {}
        },
        {
          "output_type": "display_data",
          "data": {
            "text/plain": [
              "<IPython.core.display.Markdown object>"
            ],
            "text/markdown": "```\nSubject: Re: Inquiry About Refund Policy\n\nDear [Recipient's Name],\n\nThank you for reaching out to us regarding our refund policy. We appreciate your interest.\n\nOur refund policy allows for refunds within [insert time frame, e.g., 30 days] of purchase, provided that the item is in its original condition and packaging. To initiate a refund, please contact our customer service team at [insert contact information] with your order details, and we will guide you through the process.\n\nIf you have any further questions or need assistance, please feel free to ask.\n\nBest regards,\n\n[Your Name]  \n[Your Position]  \n[Your Company]  \n[Your Contact Information]  \n```"
          },
          "metadata": {}
        }
      ]
    },
    {
      "cell_type": "code",
      "source": [
        "feedback = \"This is a good start, but can you make the tone a bit more friendly and add a closing like 'Best regards, The Team'?\"\n",
        "print(f\"\\n--- Requesting edit with feedback: '{feedback}' ---\")\n",
        "app.update_state(config_2, {\"human_action\": \"edit\", \"human_feedback\": feedback})"
      ],
      "metadata": {
        "colab": {
          "base_uri": "https://localhost:8080/"
        },
        "id": "l4W6x7dyhtHi",
        "outputId": "843b0100-6666-4791-c540-b34ad5007e36"
      },
      "execution_count": 169,
      "outputs": [
        {
          "output_type": "stream",
          "name": "stdout",
          "text": [
            "\n",
            "--- Requesting edit with feedback: 'This is a good start, but can you make the tone a bit more friendly and add a closing like 'Best regards, The Team'?' ---\n"
          ]
        },
        {
          "output_type": "execute_result",
          "data": {
            "text/plain": [
              "{'configurable': {'thread_id': '3213b0bd-bc70-4e3e-b064-b93ec9ab8343',\n",
              "  'checkpoint_ns': '',\n",
              "  'checkpoint_id': '1f072ca8-6873-6f69-8005-140648889e96'}}"
            ]
          },
          "metadata": {},
          "execution_count": 169
        }
      ]
    },
    {
      "cell_type": "code",
      "source": [
        "for _ in app.stream(None, config_2):\n",
        "    pass"
      ],
      "metadata": {
        "colab": {
          "base_uri": "https://localhost:8080/"
        },
        "id": "I6vvT95ThuY0",
        "outputId": "aca401f6-644a-4bf9-811d-706b85d81ad5"
      },
      "execution_count": 170,
      "outputs": [
        {
          "output_type": "stream",
          "name": "stdout",
          "text": [
            "--- NODE: Revising Draft ---\n",
            "DEBUG: Revision complete.\n",
            "--- NODE: Awaiting Human Review ---\n"
          ]
        }
      ]
    },
    {
      "cell_type": "code",
      "source": [
        "current_state_2_revised = app.get_state(config_2)\n",
        "revised_draft = current_state_2_revised.values.get('final_draft', '')\n",
        "display(Markdown(\"### Revised Draft for Approval\"))\n",
        "display(Markdown(f\"```\\n{revised_draft}\\n```\"))"
      ],
      "metadata": {
        "colab": {
          "base_uri": "https://localhost:8080/",
          "height": 321
        },
        "id": "HNY20nZMhxMZ",
        "outputId": "85c78edf-78c0-40f9-c4a0-2aaa1d569df8"
      },
      "execution_count": 171,
      "outputs": [
        {
          "output_type": "display_data",
          "data": {
            "text/plain": [
              "<IPython.core.display.Markdown object>"
            ],
            "text/markdown": "### Revised Draft for Approval"
          },
          "metadata": {}
        },
        {
          "output_type": "display_data",
          "data": {
            "text/plain": [
              "<IPython.core.display.Markdown object>"
            ],
            "text/markdown": "```\nSubject: Re: Inquiry About Refund Policy\n\nDear [Recipient's Name],\n\nThank you so much for reaching out to us about our refund policy! We truly appreciate your interest.\n\nOur refund policy allows for refunds within [insert time frame, e.g., 30 days] of purchase, as long as the item is in its original condition and packaging. To get started on your refund, just contact our customer service team at [insert contact information] with your order details, and we'll be happy to guide you through the process.\n\nIf you have any more questions or need assistance, please don’t hesitate to ask. We're here to help!\n\nBest regards,  \nThe Team  \n[Your Company]  \n[Your Contact Information]  \n```"
          },
          "metadata": {}
        }
      ]
    },
    {
      "cell_type": "code",
      "source": [],
      "metadata": {
        "id": "IhZMNFBXhyFi"
      },
      "execution_count": 171,
      "outputs": []
    },
    {
      "cell_type": "markdown",
      "metadata": {
        "id": "EO85evSAeBuU"
      },
      "source": [
        "### Step 2: Approve the Revised Draft"
      ]
    },
    {
      "cell_type": "code",
      "execution_count": 172,
      "metadata": {
        "colab": {
          "base_uri": "https://localhost:8080/"
        },
        "id": "z8-n3b6peBuU",
        "outputId": "2207abc3-0896-4046-e988-357635f6081f"
      },
      "outputs": [
        {
          "output_type": "stream",
          "name": "stdout",
          "text": [
            "--- Approving the revised draft ---\n",
            "--- NODE: Sending Email ---\n"
          ]
        }
      ],
      "source": [
        "print(\"--- Approving the revised draft ---\")\n",
        "app.update_state(config_2, {\"human_action\": \"approve\"})\n",
        "\n",
        "for _ in app.stream(None, config_2):\n",
        "    pass"
      ]
    },
    {
      "cell_type": "code",
      "source": [
        "final_state_2 = app.get_state(config_2)\n",
        "display(Markdown(\"### Final Sent Email After Revision\"))\n",
        "display(Markdown(f\"```\\n{final_state_2.values.get('final_draft')}\\n```\"))"
      ],
      "metadata": {
        "colab": {
          "base_uri": "https://localhost:8080/",
          "height": 321
        },
        "id": "UJcXM9nEhzsJ",
        "outputId": "38d33d8f-cc25-423d-b27d-2a5d6088d64c"
      },
      "execution_count": 173,
      "outputs": [
        {
          "output_type": "display_data",
          "data": {
            "text/plain": [
              "<IPython.core.display.Markdown object>"
            ],
            "text/markdown": "### Final Sent Email After Revision"
          },
          "metadata": {}
        },
        {
          "output_type": "display_data",
          "data": {
            "text/plain": [
              "<IPython.core.display.Markdown object>"
            ],
            "text/markdown": "```\nSubject: Re: Inquiry About Refund Policy\n\nDear [Recipient's Name],\n\nThank you so much for reaching out to us about our refund policy! We truly appreciate your interest.\n\nOur refund policy allows for refunds within [insert time frame, e.g., 30 days] of purchase, as long as the item is in its original condition and packaging. To get started on your refund, just contact our customer service team at [insert contact information] with your order details, and we'll be happy to guide you through the process.\n\nIf you have any more questions or need assistance, please don’t hesitate to ask. We're here to help!\n\nBest regards,  \nThe Team  \n[Your Company]  \n[Your Contact Information]  \n```"
          },
          "metadata": {}
        }
      ]
    },
    {
      "cell_type": "markdown",
      "metadata": {
        "id": "yaJC44l1eBuU"
      },
      "source": [
        "---"
      ]
    },
    {
      "cell_type": "markdown",
      "metadata": {
        "id": "rWIn-SkneBuU"
      },
      "source": [
        "## 8. Scenario 3: Crash and Recovery\n",
        "\n",
        "This scenario demonstrates the resilience provided by the SQLite checkpointer."
      ]
    },
    {
      "cell_type": "code",
      "source": [
        "# --- Scenario 3: Crash and Recovery (Simplified) ---\n",
        "\n",
        "# Step 1: Activate the crash simulation\n",
        "simulate_crash = True"
      ],
      "metadata": {
        "id": "hjnLp4mcpmOa"
      },
      "execution_count": 24,
      "outputs": []
    },
    {
      "cell_type": "code",
      "source": [
        "import uuid\n",
        "\n",
        "crash_thread_id = str(uuid.uuid4())\n",
        "crash_config = {\"configurable\": {\"thread_id\": crash_thread_id}}\n",
        "crash_email = \"Can I get a quote for 100 widgets?\""
      ],
      "metadata": {
        "id": "-lBTgiR5poT1"
      },
      "execution_count": 25,
      "outputs": []
    },
    {
      "cell_type": "code",
      "source": [
        "print(f\"--- Starting Scenario 3 with CRASH SIMULATION ENABLED (Thread ID: {crash_thread_id}) ---\")"
      ],
      "metadata": {
        "colab": {
          "base_uri": "https://localhost:8080/"
        },
        "id": "mxS2ofxBppW7",
        "outputId": "de3b6d67-5f7c-4151-d3dd-79f29be5170f"
      },
      "execution_count": 26,
      "outputs": [
        {
          "output_type": "stream",
          "name": "stdout",
          "text": [
            "--- Starting Scenario 3 with CRASH SIMULATION ENABLED (Thread ID: 517498de-18b7-4dde-9ad1-d1e916919867) ---\n"
          ]
        }
      ]
    },
    {
      "cell_type": "code",
      "source": [
        "# Step 2: Run the workflow until it pauses for review\n",
        "try:\n",
        "  for _ in app.stream({\"email_content\": crash_email, \"classification_attempts\": 0}, crash_config):\n",
        "      pass\n",
        "  print(f\"\\nWorkflow is paused at human review.\")\n",
        "except ConnectionError as e:\n",
        "    print(f\"\\nSUCCESSFULLY CAUGHT SIMULATED CRASH: {e}\")"
      ],
      "metadata": {
        "colab": {
          "base_uri": "https://localhost:8080/"
        },
        "id": "j9dIGN1ppqQZ",
        "outputId": "3734c075-9e35-48ee-f30a-b1afa53172fb"
      },
      "execution_count": 27,
      "outputs": [
        {
          "output_type": "stream",
          "name": "stdout",
          "text": [
            "randn:  0.34699644184921385\n",
            "!!! SIMULATING A RANDOM CRASH -classify_email_node !!!\n",
            "\n",
            "SUCCESSFULLY CAUGHT SIMULATED CRASH: Simulated random network failure!\n"
          ]
        }
      ]
    },
    {
      "cell_type": "code",
      "source": [
        "import time\n",
        "max_retries = 10\n",
        "for attempt in range(max_retries):\n",
        "  try:\n",
        "      print(f\"\\nRecovery attempt {attempt + 1}/{max_retries}...\")\n",
        "\n",
        "      # We invoke the app again. LangGraph will read the saved state (where action is 'approve')\n",
        "      # and automatically resume from the correct step.\n",
        "      for event in app.stream(None, crash_config):\n",
        "          pass\n",
        "\n",
        "      print(\"Workflow recovered successfully on this attempt!\")\n",
        "      break\n",
        "  except ConnectionError as e:\n",
        "      print(f\"Recovery attempt failed with error: {e}\")\n",
        "      if attempt < max_retries - 1:\n",
        "          print(\"Waiting for 2 seconds before the next retry...\")\n",
        "          time.sleep(2)\n",
        "      else:\n",
        "          print(\"Max retries reached. Could not recover the workflow.\")"
      ],
      "metadata": {
        "colab": {
          "base_uri": "https://localhost:8080/"
        },
        "id": "HQxBpUjFvTPi",
        "outputId": "c27e973e-b0ec-412b-fefd-c4691ef583f8"
      },
      "execution_count": 28,
      "outputs": [
        {
          "output_type": "stream",
          "name": "stdout",
          "text": [
            "\n",
            "Recovery attempt 1/10...\n",
            "randn:  0.3104698168857958\n",
            "!!! SIMULATING A RANDOM CRASH -classify_email_node !!!\n",
            "Recovery attempt failed with error: Simulated random network failure!\n",
            "Waiting for 2 seconds before the next retry...\n",
            "\n",
            "Recovery attempt 2/10...\n",
            "randn:  0.8213467467459411\n",
            "--- NODE: Classifying Email ---\n",
            "DEBUG: Attempt 1 -> Classification: 'sales_inquiry'\n",
            "randn:  0.2515932364964295\n",
            "!!! SIMULATING A RANDOM CRASH -validate_classification_node !!!\n",
            "Recovery attempt failed with error: Simulated random network failure!\n",
            "Waiting for 2 seconds before the next retry...\n",
            "\n",
            "Recovery attempt 3/10...\n",
            "randn:  0.7589419885990951\n",
            "--- NODE: Validating Classification ---\n",
            "DEBUG: Validation successful for category 'sales_inquiry'.\n",
            "randn:  0.5338616957804233\n",
            "--- NODE: Drafting Reply ---\n",
            "DEBUG: Single model drafting mode.\n",
            "randn:  0.035227832444477136\n",
            "!!! SIMULATING A RANDOM CRASH -route_after_drafting !!!\n",
            "Recovery attempt failed with error: Simulated random network failure!\n",
            "Waiting for 2 seconds before the next retry...\n",
            "\n",
            "Recovery attempt 4/10...\n",
            "Workflow recovered successfully on this attempt!\n"
          ]
        }
      ]
    },
    {
      "cell_type": "code",
      "source": [
        "# Step 3: Attempt to approve, which might trigger the crash\n",
        "try:\n",
        "    print(\"\\nAttempting to approve...\")\n",
        "    app.update_state(crash_config, {\"human_action\": \"approve\"})\n",
        "    # Now we invoke the main app, which might fail\n",
        "    for _ in app.stream(None, crash_config):\n",
        "        pass\n",
        "    print(\"\\nWorkflow completed without a crash this time.\")\n",
        "except ConnectionError as e:\n",
        "    print(f\"\\nSUCCESSFULLY CAUGHT SIMULATED CRASH: {e}\")"
      ],
      "metadata": {
        "colab": {
          "base_uri": "https://localhost:8080/"
        },
        "id": "EsqpprX-prOF",
        "outputId": "09fea861-ae62-4ea4-fef1-94e5f9843256"
      },
      "execution_count": 29,
      "outputs": [
        {
          "output_type": "stream",
          "name": "stdout",
          "text": [
            "\n",
            "Attempting to approve...\n",
            "randn:  0.7129973952212\n",
            "--- NODE: Awaiting Human Review ---\n",
            "randn:  0.5733478576514609\n",
            "--- NODE: Sending Email ---\n",
            "\n",
            "Workflow completed without a crash this time.\n"
          ]
        }
      ]
    },
    {
      "cell_type": "code",
      "source": [
        "import time\n",
        "max_retries = 10\n",
        "for attempt in range(max_retries):\n",
        "  try:\n",
        "      print(f\"\\nRecovery attempt {attempt + 1}/{max_retries}...\")\n",
        "\n",
        "      # We invoke the app again. LangGraph will read the saved state (where action is 'approve')\n",
        "      # and automatically resume from the correct step.\n",
        "      for event in app.stream(None, crash_config):\n",
        "          pass\n",
        "\n",
        "      print(\"Workflow recovered successfully on this attempt!\")\n",
        "      break\n",
        "  except ConnectionError as e:\n",
        "      print(f\"Recovery attempt failed with error: {e}\")\n",
        "      if attempt < max_retries - 1:\n",
        "          print(\"Waiting for 2 seconds before the next retry...\")\n",
        "          time.sleep(2)\n",
        "      else:\n",
        "          print(\"Max retries reached. Could not recover the workflow.\")"
      ],
      "metadata": {
        "colab": {
          "base_uri": "https://localhost:8080/"
        },
        "id": "QqOTld00sTWl",
        "outputId": "0b9a35aa-dbee-47f0-f835-2701a36c4010"
      },
      "execution_count": 30,
      "outputs": [
        {
          "output_type": "stream",
          "name": "stdout",
          "text": [
            "\n",
            "Recovery attempt 1/10...\n",
            "Workflow recovered successfully on this attempt!\n"
          ]
        }
      ]
    },
    {
      "cell_type": "code",
      "source": [],
      "metadata": {
        "id": "VnFTy2iopsxi"
      },
      "execution_count": 31,
      "outputs": []
    },
    {
      "cell_type": "code",
      "source": [
        "final_state_3 = app.get_state(crash_config)\n",
        "print(final_state_3)"
      ],
      "metadata": {
        "colab": {
          "base_uri": "https://localhost:8080/"
        },
        "id": "vppakftarlxq",
        "outputId": "2df257d9-7a1c-46bf-f0fd-2ce0b344cf63"
      },
      "execution_count": 32,
      "outputs": [
        {
          "output_type": "stream",
          "name": "stdout",
          "text": [
            "StateSnapshot(values={'email_content': 'Can I get a quote for 100 widgets?', 'classification': 'sales_inquiry', 'final_draft': \"Subject: Re: Quote Request for 100 Widgets\\n\\nDear [Recipient's Name],\\n\\nThank you for reaching out! I would be happy to provide you with a quote for 100 widgets.\\n\\nThe price for 100 widgets is [insert price], and this includes [mention any additional details, such as shipping, taxes, or discounts if applicable]. \\n\\nPlease let me know if you have any specific requirements or if there is anything else I can assist you with.\\n\\nLooking forward to your response!\\n\\nBest regards,\\n\\n[Your Name]  \\n[Your Position]  \\n[Your Company]  \\n[Your Contact Information]\", 'human_action': 'approve', 'error_message': '', 'classification_attempts': 1}, next=(), config={'configurable': {'thread_id': '517498de-18b7-4dde-9ad1-d1e916919867', 'checkpoint_ns': '', 'checkpoint_id': '1f072d0d-861a-6e34-8006-191255497792'}}, metadata={'source': 'loop', 'step': 6, 'parents': {}}, created_at='2025-08-06T14:22:55.752934+00:00', parent_config={'configurable': {'thread_id': '517498de-18b7-4dde-9ad1-d1e916919867', 'checkpoint_ns': '', 'checkpoint_id': '1f072d0d-8617-6ede-8005-13a8250c12e1'}}, tasks=(), interrupts=())\n"
          ]
        }
      ]
    },
    {
      "cell_type": "code",
      "source": [],
      "metadata": {
        "id": "oDUIIc_Irpb9"
      },
      "execution_count": 32,
      "outputs": []
    },
    {
      "cell_type": "code",
      "source": [
        "display(Markdown(\"### Recovered and Sent Email\"))\n",
        "display(Markdown(f\"```\\n{final_state_3.values.get('final_draft')}\\n```\"))\n",
        "print(\"\\nWorkflow recovered and completed successfully!\")"
      ],
      "metadata": {
        "colab": {
          "base_uri": "https://localhost:8080/",
          "height": 406
        },
        "id": "nFQeH4kqroL9",
        "outputId": "7ce76062-6ca8-47b0-975a-d414376c61e3"
      },
      "execution_count": 33,
      "outputs": [
        {
          "output_type": "display_data",
          "data": {
            "text/plain": [
              "<IPython.core.display.Markdown object>"
            ],
            "text/markdown": "### Recovered and Sent Email"
          },
          "metadata": {}
        },
        {
          "output_type": "display_data",
          "data": {
            "text/plain": [
              "<IPython.core.display.Markdown object>"
            ],
            "text/markdown": "```\nSubject: Re: Quote Request for 100 Widgets\n\nDear [Recipient's Name],\n\nThank you for reaching out! I would be happy to provide you with a quote for 100 widgets.\n\nThe price for 100 widgets is [insert price], and this includes [mention any additional details, such as shipping, taxes, or discounts if applicable]. \n\nPlease let me know if you have any specific requirements or if there is anything else I can assist you with.\n\nLooking forward to your response!\n\nBest regards,\n\n[Your Name]  \n[Your Position]  \n[Your Company]  \n[Your Contact Information]\n```"
          },
          "metadata": {}
        },
        {
          "output_type": "stream",
          "name": "stdout",
          "text": [
            "\n",
            "Workflow recovered and completed successfully!\n"
          ]
        }
      ]
    },
    {
      "cell_type": "code",
      "source": [],
      "metadata": {
        "id": "IpFkX_RWryLD"
      },
      "execution_count": null,
      "outputs": []
    }
  ],
  "metadata": {
    "kernelspec": {
      "display_name": "Python 3",
      "language": "python",
      "name": "python3"
    },
    "language_info": {
      "name": "python",
      "version": "3.9.12"
    },
    "colab": {
      "provenance": []
    }
  },
  "nbformat": 4,
  "nbformat_minor": 0
}