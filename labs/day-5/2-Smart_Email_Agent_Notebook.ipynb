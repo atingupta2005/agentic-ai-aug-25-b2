{
 "cells": [
  {
   "cell_type": "markdown",
   "metadata": {
    "id": "1kUxK1ineBt6"
   },
   "source": [
    "# Smart Email Agent v3: Advanced & Configurable\n",
    "\n",
    "This notebook contains the advanced implementation of the email automation agent. It has been refactored for clarity, debugging, and robustness.\n",
    "\n",
    "**Key Features:**\n",
    "1.  **Externalized Configs**: All settings and prompts are managed in `config.ini` and `prompts.ini`.\n",
    "2.  **Tool-Augmented Drafting**: The agent uses a simulated knowledge base to answer support questions.\n",
    "3.  **Advanced Feedback Loop**: A \"Critique & Revise\" cycle for human collaboration.\n",
    "4.  **Resilience**: SQLite checkpointing allows the agent to recover from crashes.\n",
    "5.  **Clarity**: Broken-down cells, detailed documentation, and a visual graph diagram."
   ]
  },
  {
   "cell_type": "markdown",
   "metadata": {
    "id": "wgUjZqgIeBuE"
   },
   "source": [
    "---"
   ]
  },
  {
   "cell_type": "markdown",
   "metadata": {
    "id": "dWYiIcUreBuF"
   },
   "source": [
    "## 1. Setup and Installation\n",
    "\n",
    "This cell installs all the required Python libraries for the project."
   ]
  },
  {
   "cell_type": "code",
   "execution_count": 55,
   "metadata": {},
   "outputs": [
    {
     "name": "stdout",
     "output_type": "stream",
     "text": [
      "Note: you may need to restart the kernel to use updated packages.\n"
     ]
    }
   ],
   "source": [
    "%pip install -q langchain-community faiss-cpu"
   ]
  },
  {
   "cell_type": "code",
   "execution_count": 1,
   "metadata": {
    "colab": {
     "base_uri": "https://localhost:8080/",
     "height": 1000
    },
    "id": "8QjjDzUFeBuG",
    "outputId": "a86cab26-7909-4e17-d72f-e6f2d2e42b9d"
   },
   "outputs": [
    {
     "name": "stdout",
     "output_type": "stream",
     "text": [
      "Note: you may need to restart the kernel to use updated packages.\n"
     ]
    }
   ],
   "source": [
    "%pip install -q langgraph langchain_openai langchain_google_genai langgraph-checkpoint-sqlite ipykernel python-dotenv"
   ]
  },
  {
   "cell_type": "markdown",
   "metadata": {
    "id": "7Keg34cueBuH"
   },
   "source": [
    "---"
   ]
  },
  {
   "cell_type": "markdown",
   "metadata": {
    "id": "IMISY_oBeBuI"
   },
   "source": [
    "## 2. Configuration Loading\n",
    "\n",
    "This section handles loading all external configurations. It uses `configparser` to read settings from `config.ini` and `prompts.ini`, and `dotenv` to load secure API keys from a `.env` file. This separation of configuration from code is a best practice."
   ]
  },
  {
   "cell_type": "code",
   "execution_count": 2,
   "metadata": {
    "colab": {
     "base_uri": "https://localhost:8080/"
    },
    "id": "w1LBkZBSeBuI",
    "outputId": "819b0e1e-e341-437d-e341-43ed8f4ece27"
   },
   "outputs": [
    {
     "name": "stdout",
     "output_type": "stream",
     "text": [
      "API keys loaded from .env file.\n",
      "Settings from config.ini loaded.\n",
      "Prompts from prompts.ini loaded.\n"
     ]
    }
   ],
   "source": [
    "import os\n",
    "import configparser\n",
    "from dotenv import load_dotenv\n",
    "import sqlite3\n",
    "\n",
    "try:\n",
    "    # Load environment variables from a .env file for API keys\n",
    "    load_dotenv(\"C:/Users/adminuser/dev.env\", override=True)\n",
    "    print(\"API keys loaded from .env file.\")\n",
    "\n",
    "    # Load settings from config.ini\n",
    "    config = configparser.ConfigParser()\n",
    "    config.read('config.ini')\n",
    "\n",
    "    ENABLE_MULTI_MODEL_DRAFTING = config.getboolean('FeatureFlags', 'enable_multi_model_drafting')\n",
    "    ENABLE_KNOWLEDGE_BASE_TOOL = config.getboolean('FeatureFlags', 'enable_knowledge_base_tool')\n",
    "    CLASSIFICATION_MODEL = config.get('Models', 'classification_model')\n",
    "    EVALUATOR_MODEL = config.get('Models', 'evaluator_model')\n",
    "    REVISER_MODEL = config.get('Models', 'reviser_model')\n",
    "    PRIMARY_DRAFTING_MODEL_PROVIDER = config.get('Models', 'primary_drafting_model_provider')\n",
    "    PRIMARY_DRAFTING_MODEL_NAME_OPENAI = config.get('Models', 'primary_drafting_model_name_openai')\n",
    "    PRIMARY_DRAFTING_MODEL_NAME_GOOGLE = config.get('Models', 'primary_drafting_model_name_google')\n",
    "    SECONDARY_DRAFTING_MODEL_PROVIDER = config.get('Models', 'secondary_drafting_model_provider')\n",
    "    SECONDARY_DRAFTING_MODEL_NAME_GOOGLE = config.get('Models', 'secondary_drafting_model_name_google')\n",
    "    CLASSIFICATION_TEMPERATURE = config.getfloat('Temperatures', 'classification')\n",
    "    DRAFTING_TEMPERATURE = config.getfloat('Temperatures', 'drafting')\n",
    "    EVALUATOR_TEMPERATURE = config.getfloat('Temperatures', 'evaluator')\n",
    "    REVISER_TEMPERATURE = config.getfloat('Temperatures', 'reviser')\n",
    "    MAX_CLASSIFICATION_ATTEMPTS = config.getint('AgentSettings', 'max_classification_attempts')\n",
    "    SQLITE_DB_PATH = config.get('Database', 'sqlite_db_path')\n",
    "    print(\"Settings from config.ini loaded.\")\n",
    "\n",
    "    # Load prompts from prompts.ini\n",
    "    prompts = configparser.ConfigParser()\n",
    "    prompts.read('prompts.ini')\n",
    "    CLASSIFIER_PROMPT = prompts.get('Prompts', 'classifier')\n",
    "    DRAFTER_BASIC_PROMPT = prompts.get('Prompts', 'drafter_basic')\n",
    "    DRAFTER_WITH_TOOL_PROMPT = prompts.get('Prompts', 'drafter_with_tool_result')\n",
    "    EVALUATOR_PROMPT = prompts.get('Prompts', 'evaluator')\n",
    "    REVISER_PROMPT = prompts.get('Prompts', 'reviser')\n",
    "    print(\"Prompts from prompts.ini loaded.\")\n",
    "\n",
    "except FileNotFoundError as e:\n",
    "    print(f\"Error: Configuration file not found - {e}. Please ensure 'config.ini' and 'prompts.ini' are in the same directory.\")\n",
    "except KeyError as e:\n",
    "    print(f\"Error: Missing configuration key - {e}. Please check your .ini files.\")"
   ]
  },
  {
   "cell_type": "markdown",
   "metadata": {
    "id": "YlrmUGBseBuJ"
   },
   "source": [
    "---"
   ]
  },
  {
   "cell_type": "markdown",
   "metadata": {
    "id": "gZz7CQlleBuK"
   },
   "source": [
    "## 3. Agent State and Tool Definition\n",
    "\n",
    "Here, we define the `EmailWorkflowState`, which is the central data structure (or \"memory\") that gets passed between all the nodes in our graph. We also define our first tool, `search_knowledge_base`, which simulates looking up information."
   ]
  },
  {
   "cell_type": "code",
   "execution_count": 3,
   "metadata": {},
   "outputs": [
    {
     "name": "stdout",
     "output_type": "stream",
     "text": [
      "--- Building In-Memory RAG Retriever ---\n",
      "--- RAG Retriever is ready ---\n"
     ]
    }
   ],
   "source": [
    "from langchain_community.document_loaders import TextLoader\n",
    "from langchain_openai import OpenAIEmbeddings\n",
    "from langchain.text_splitter import RecursiveCharacterTextSplitter\n",
    "from langchain_community.vectorstores import FAISS\n",
    "\n",
    "print(\"--- Building In-Memory RAG Retriever ---\")\n",
    "\n",
    "# 1. Load the knowledge base from the text file\n",
    "loader = TextLoader(\"knowledge_base.txt\")\n",
    "documents = loader.load()\n",
    "\n",
    "# 2. Split the documents into manageable chunks\n",
    "text_splitter = RecursiveCharacterTextSplitter(chunk_size=1000, chunk_overlap=200)\n",
    "docs = text_splitter.split_documents(documents)\n",
    "\n",
    "# 3. Create embeddings for the text chunks\n",
    "embeddings = OpenAIEmbeddings()\n",
    "\n",
    "# 4. Build the FAISS vector store from the documents and embeddings\n",
    "vector_store = FAISS.from_documents(docs, embeddings)\n",
    "\n",
    "# 5. Create the retriever which will be used to search the vector store\n",
    "retriever = vector_store.as_retriever()\n",
    "\n",
    "print(\"--- RAG Retriever is ready ---\")"
   ]
  },
  {
   "cell_type": "code",
   "execution_count": 4,
   "metadata": {
    "id": "YPi2C2cIeBuK"
   },
   "outputs": [],
   "source": [
    "from typing import TypedDict, Literal\n",
    "from langchain_core.tools import tool\n",
    "\n",
    "# The state is a TypedDict, which provides type hints for better code clarity.\n",
    "class EmailWorkflowState(TypedDict):\n",
    "    email_content: str\n",
    "    classification: Literal[\"sales_inquiry\", \"support_request\", \"general_question\", \"spam\", \"invalid\"]\n",
    "    knowledge_base_result: str\n",
    "    draft_openai: str\n",
    "    draft_gemini: str\n",
    "    final_draft: str\n",
    "    human_action: Literal[\"approve\", \"edit\", \"reject\", \"\"]\n",
    "    human_feedback: str\n",
    "    error_message: str\n",
    "    classification_attempts: int"
   ]
  },
  {
   "cell_type": "code",
   "execution_count": 6,
   "metadata": {
    "colab": {
     "base_uri": "https://localhost:8080/"
    },
    "id": "iLDYYEv_iynX",
    "outputId": "48aa3dfb-57ab-402d-ebe6-bcd871724a98"
   },
   "outputs": [
    {
     "name": "stdout",
     "output_type": "stream",
     "text": [
      "RAG-powered tool defined.\n"
     ]
    }
   ],
   "source": [
    "from langchain_core.runnables import RunnablePassthrough\n",
    "from langchain_core.output_parsers import StrOutputParser\n",
    "from langchain.prompts import PromptTemplate\n",
    "\n",
    "# The @tool decorator makes this Python function available to the agent as a tool.\n",
    "@tool\n",
    "def rag_knowledge_search(query: str) -> str:\n",
    "    \"\"\"\n",
    "    Searches the knowledge base using RAG to find a solution to a user's problem.\n",
    "    \"\"\"\n",
    "    # 1. Define the prompt template for the generation step\n",
    "    template = \"\"\"\n",
    "    You are an expert at reading a knowledge base and finding the correct answer to a user's question.\n",
    "    Answer the user's query based only on the following context. If the context does not contain the answer,\n",
    "    reply with \"No specific solution found.\"\n",
    "\n",
    "    CONTEXT:\n",
    "    {context}\n",
    "\n",
    "    USER QUERY:\n",
    "    \"{question}\"\n",
    "    \"\"\"\n",
    "    print(\"Starting rag_knowledge_search\")\n",
    "    \n",
    "    prompt = PromptTemplate.from_template(template)\n",
    "\n",
    "    # 2. Use a fast model for the generation step\n",
    "    llm = ChatOpenAI(model=\"gpt-4o-mini\", temperature=0.0)\n",
    "\n",
    "    # 3. Create the RAG chain using LangChain Expression Language (LCEL)\n",
    "    rag_chain = (\n",
    "        {\"context\": retriever, \"question\": RunnablePassthrough()}\n",
    "        | prompt\n",
    "        | llm\n",
    "        | StrOutputParser()\n",
    "    )\n",
    "\n",
    "    try:\n",
    "        # 4. Invoke the chain with the user's query\n",
    "        response = rag_chain.invoke(query)\n",
    "        return response\n",
    "    except Exception as e:\n",
    "        print(f\"Error using the RAG knowledge base tool: {e}\")\n",
    "        return \"Error searching knowledge base.\"\n",
    "\n",
    "print(\"RAG-powered tool defined.\")"
   ]
  },
  {
   "cell_type": "markdown",
   "metadata": {
    "id": "MhT3xJl8eBuL"
   },
   "source": [
    "---"
   ]
  },
  {
   "cell_type": "markdown",
   "metadata": {
    "id": "bDL1yxSReBuL"
   },
   "source": [
    "## 4. Agent Node Definitions\n",
    "\n",
    "Each function below represents a **node** in our graph. A node is a single step of work. We've broken them down into logical groups for clarity."
   ]
  },
  {
   "cell_type": "markdown",
   "metadata": {
    "id": "OxxlSoeleBuM"
   },
   "source": [
    "### 4.1 - Classification and Validation Nodes"
   ]
  },
  {
   "cell_type": "code",
   "execution_count": 7,
   "metadata": {
    "id": "dL3-zARPeBuM"
   },
   "outputs": [],
   "source": [
    "from langchain_openai import ChatOpenAI\n",
    "from langchain_google_genai import ChatGoogleGenerativeAI\n",
    "\n",
    "# Helper to load models dynamically based on config\n",
    "def get_model(provider: str, model_name_openai: str, model_name_google: str, temperature: float):\n",
    "    try:\n",
    "        if provider == \"openai\": return ChatOpenAI(model=model_name_openai, temperature=temperature)\n",
    "        if provider == \"google\": return ChatGoogleGenerativeAI(model=model_name_google, temperature=temperature)\n",
    "        raise ValueError(f\"Unsupported provider: {provider}\")\n",
    "    except Exception as e:\n",
    "        print(f\"Error loading model {provider}: {e}\")\n",
    "        return None\n",
    "\n"
   ]
  },
  {
   "cell_type": "code",
   "execution_count": 8,
   "metadata": {
    "colab": {
     "base_uri": "https://localhost:8080/"
    },
    "id": "gul-3Gi1jV0E",
    "outputId": "41625ed4-d14b-414e-c43a-512c08702f48"
   },
   "outputs": [
    {
     "name": "stdout",
     "output_type": "stream",
     "text": [
      "MAX_CLASSIFICATION_ATTEMPTS: 2\n",
      "CLASSIFIER_PROMPT: You are an expert email classifier. Your job is to read the email content and classify it into ONE of the following categories: 'sales_inquiry', 'support_request', 'general_question', 'spam'. Return ONLY the category name and nothing else. Do not add explanations or punctuation.\n"
     ]
    }
   ],
   "source": [
    "print(\"MAX_CLASSIFICATION_ATTEMPTS:\", MAX_CLASSIFICATION_ATTEMPTS)\n",
    "print(\"CLASSIFIER_PROMPT:\", CLASSIFIER_PROMPT)"
   ]
  },
  {
   "cell_type": "code",
   "execution_count": 9,
   "metadata": {
    "id": "_tzu66MAggRc"
   },
   "outputs": [],
   "source": [
    "def classify_email_node(state: EmailWorkflowState):\n",
    "    import random\n",
    "    randn = random.random()\n",
    "    print(\"randn: \", randn)\n",
    "    if simulate_crash and randn < 0.5:\n",
    "        print(\"!!! SIMULATING A RANDOM CRASH -classify_email_node !!!\")\n",
    "        raise ConnectionError(\"Simulated random network failure!\")\n",
    "    # --- END SIMULATION LOGIC ---\n",
    "\n",
    "\n",
    "    print(\"--- NODE: Classifying Email ---\")\n",
    "    attempts = state.get(\"classification_attempts\", 0) + 1\n",
    "    if attempts > MAX_CLASSIFICATION_ATTEMPTS:\n",
    "        return {\"classification\": \"invalid\", \"error_message\": f\"Classification failed after {MAX_CLASSIFICATION_ATTEMPTS} attempts.\"}\n",
    "\n",
    "    llm = get_model(\"openai\", CLASSIFICATION_MODEL, \"\", CLASSIFICATION_TEMPERATURE)\n",
    "    if not llm: return {\"error_message\": \"Classifier model failed to load.\"}\n",
    "\n",
    "    prompt = f'{CLASSIFIER_PROMPT}\\n\\nEmail Content: \"{state[\"email_content\"]}\"'\n",
    "    try:\n",
    "        response = llm.invoke(prompt)\n",
    "        classification = response.content.strip().lower()\n",
    "        print(f\"DEBUG: Attempt {attempts} -> Classification: '{classification}'\")\n",
    "        return {\"classification\": classification, \"classification_attempts\": attempts}\n",
    "    except Exception as e:\n",
    "        print(f\"Error during classification: {e}\")\n",
    "        return {\"error_message\": str(e)}\n",
    "\n"
   ]
  },
  {
   "cell_type": "code",
   "execution_count": 10,
   "metadata": {
    "id": "F20rZ-xWgheo"
   },
   "outputs": [],
   "source": [
    "def validate_classification_node(state: EmailWorkflowState):\n",
    "    import random\n",
    "    randn = random.random()\n",
    "    print(\"randn: \", randn)\n",
    "    if simulate_crash and randn < 0.5:\n",
    "        print(\"!!! SIMULATING A RANDOM CRASH -validate_classification_node !!!\")\n",
    "        raise ConnectionError(\"Simulated random network failure!\")\n",
    "    # --- END SIMULATION LOGIC ---\n",
    "\n",
    "    print(\"--- NODE: Validating Classification ---\")\n",
    "    classification = state.get(\"classification\")\n",
    "    valid_categories = [\"sales_inquiry\", \"support_request\", \"general_question\", \"spam\"]\n",
    "    if classification in valid_categories:\n",
    "        print(f\"DEBUG: Validation successful for category '{classification}'.\")\n",
    "        return {\"error_message\": \"\"}\n",
    "    else:\n",
    "        print(f\"DEBUG: Validation FAILED for category '{classification}'.\")\n",
    "        return {\"error_message\": f\"Invalid classification: {classification}\"}"
   ]
  },
  {
   "cell_type": "markdown",
   "metadata": {
    "id": "5vv1yXbReBuN"
   },
   "source": [
    "### 4.2 - Tool and Drafting Nodes"
   ]
  },
  {
   "cell_type": "code",
   "execution_count": 11,
   "metadata": {
    "id": "SaCjjOjheBuN"
   },
   "outputs": [],
   "source": [
    "def knowledge_base_tool_node(state: EmailWorkflowState):\n",
    "    print(\"--- NODE: Searching Knowledge Base ---\")\n",
    "    result = rag_knowledge_search.invoke({\"query\": state['email_content']})\n",
    "    print(f\"DEBUG: Knowledge Base Result: '{result}'\")\n",
    "    return {\"knowledge_base_result\": result}\n",
    "\n"
   ]
  },
  {
   "cell_type": "code",
   "execution_count": 12,
   "metadata": {
    "colab": {
     "base_uri": "https://localhost:8080/"
    },
    "id": "o7sT-8x4jvzS",
    "outputId": "6331f910-6845-43a7-9179-bd32abf0ce4c"
   },
   "outputs": [
    {
     "name": "stdout",
     "output_type": "stream",
     "text": [
      "DRAFTER_WITH_TOOL_PROMPT:  You are a helpful and professional support assistant. A user has a support request, and you have the following information from our internal knowledge base. Use this information to draft a helpful reply to the user's email. Be direct and incorporate the knowledge base solution into your response.\n"
     ]
    }
   ],
   "source": [
    "print(\"DRAFTER_WITH_TOOL_PROMPT: \", DRAFTER_WITH_TOOL_PROMPT)"
   ]
  },
  {
   "cell_type": "code",
   "execution_count": 13,
   "metadata": {
    "id": "cm3ZxseMgk8B"
   },
   "outputs": [],
   "source": [
    "def drafting_node(state: EmailWorkflowState):\n",
    "    import random\n",
    "    randn = random.random()\n",
    "    print(\"randn: \", randn)\n",
    "    if simulate_crash and randn < 0.5:\n",
    "        print(\"!!! SIMULATING A RANDOM CRASH -drafting_node !!!\")\n",
    "        raise ConnectionError(\"Simulated random network failure!\")\n",
    "    # --- END SIMULATION LOGIC ---\n",
    "\n",
    "    print(\"--- NODE: Drafting Reply ---\")\n",
    "    email_content = state['email_content']\n",
    "    kb_result = state.get('knowledge_base_result')\n",
    "\n",
    "    base_prompt = DRAFTER_WITH_TOOL_PROMPT + f\"\\n\\nKNOWLEDGE BASE INFO:\\n{kb_result}\\n\\nUSER EMAIL:\\n{email_content}\" if kb_result else DRAFTER_BASIC_PROMPT + f\"\\n\\nEMAIL:\\n{email_content}\"\n",
    "\n",
    "    drafts = {}\n",
    "    try:\n",
    "        if not ENABLE_MULTI_MODEL_DRAFTING:\n",
    "            print(\"DEBUG: Single model drafting mode.\")\n",
    "            llm = get_model(PRIMARY_DRAFTING_MODEL_PROVIDER, PRIMARY_DRAFTING_MODEL_NAME_OPENAI, PRIMARY_DRAFTING_MODEL_NAME_GOOGLE, DRAFTING_TEMPERATURE)\n",
    "            drafts[\"final_draft\"] = llm.invoke(base_prompt).content\n",
    "        else:\n",
    "            print(\"DEBUG: Multi-model drafting mode.\")\n",
    "            openai_llm = get_model(\"openai\", PRIMARY_DRAFTING_MODEL_NAME_OPENAI, \"\", DRAFTING_TEMPERATURE)\n",
    "            drafts[\"draft_openai\"] = openai_llm.invoke(base_prompt).content\n",
    "            gemini_llm = get_model(\"google\", \"\", SECONDARY_DRAFTING_MODEL_NAME_GOOGLE, DRAFTING_TEMPERATURE)\n",
    "            drafts[\"draft_gemini\"] = gemini_llm.invoke(base_prompt).content\n",
    "        return drafts\n",
    "    except Exception as e:\n",
    "        print(f\"Error during drafting: {e}\")\n",
    "        return {\"error_message\": str(e)}"
   ]
  },
  {
   "cell_type": "markdown",
   "metadata": {
    "id": "jEKXxmZ-eBuO"
   },
   "source": [
    "### 4.3 - Evaluation and Revision Nodes"
   ]
  },
  {
   "cell_type": "code",
   "execution_count": 14,
   "metadata": {
    "id": "Nj6n66tqeBuO"
   },
   "outputs": [],
   "source": [
    "def evaluate_drafts_node(state: EmailWorkflowState):\n",
    "    print(\"--- NODE: Evaluating Drafts ---\")\n",
    "    evaluator_llm = get_model(\"openai\", EVALUATOR_MODEL, \"\", EVALUATOR_TEMPERATURE)\n",
    "    prompt = f'{EVALUATOR_PROMPT}\\n\\nORIGINAL EMAIL: {state[\"email_content\"]}\\n\\nDRAFT A: {state[\"draft_openai\"]}\\n\\nDRAFT B: {state[\"draft_gemini\"]}'\n",
    "    try:\n",
    "        final_draft = evaluator_llm.invoke(prompt).content\n",
    "        print(\"DEBUG: Evaluator selected a final draft.\")\n",
    "        return {\"final_draft\": final_draft}\n",
    "    except Exception as e:\n",
    "        print(f\"Error during evaluation: {e}\")\n",
    "        return {\"error_message\": str(e), \"final_draft\": state[\"draft_openai\"]} # Fallback to primary draft\n",
    "\n"
   ]
  },
  {
   "cell_type": "code",
   "execution_count": 15,
   "metadata": {
    "id": "SFGPFX_igndq"
   },
   "outputs": [],
   "source": [
    "def reviser_node(state: EmailWorkflowState):\n",
    "    print(\"--- NODE: Revising Draft ---\")\n",
    "    reviser_llm = get_model(\"openai\", REVISER_MODEL, \"\", REVISER_TEMPERATURE)\n",
    "    prompt = f'{REVISER_PROMPT}\\n\\nORIGINAL DRAFT:\\n{state[\"final_draft\"]}\\n\\nUSER FEEDBACK:\\n{state[\"human_feedback\"]}'\n",
    "    try:\n",
    "        revised_draft = reviser_llm.invoke(prompt).content\n",
    "        print(\"DEBUG: Revision complete.\")\n",
    "        return {\"final_draft\": revised_draft, \"human_feedback\": \"\", \"human_action\": \"\"}\n",
    "    except Exception as e:\n",
    "        print(f\"Error during revision: {e}\")\n",
    "        return {\"error_message\": str(e)}"
   ]
  },
  {
   "cell_type": "markdown",
   "metadata": {
    "id": "ZzCxnjhyeBuP"
   },
   "source": [
    "### 4.4 - Final State Nodes"
   ]
  },
  {
   "cell_type": "code",
   "execution_count": 16,
   "metadata": {
    "id": "B52MgvqseBuP"
   },
   "outputs": [],
   "source": [
    "def human_review_node(state: EmailWorkflowState):\n",
    "    print(\"--- NODE: Awaiting Human Review ---\")\n",
    "    return {}\n",
    "\n",
    "def send_email_node(state: EmailWorkflowState):\n",
    "    print(\"--- NODE: Sending Email ---\")\n",
    "    return {}\n",
    "\n",
    "def spam_or_invalid_node(state: EmailWorkflowState):\n",
    "    print(\"--- NODE: Spam or Invalid Classification ---\")\n",
    "    return {}"
   ]
  },
  {
   "cell_type": "markdown",
   "metadata": {
    "id": "Fb6bsziOeBuQ"
   },
   "source": [
    "---"
   ]
  },
  {
   "cell_type": "markdown",
   "metadata": {
    "id": "AFCwLgfzeBuQ"
   },
   "source": [
    "## 5. Graph Construction and Visualization\n",
    "\n",
    "Here, we wire all the nodes and conditional edges together into a `StateGraph`. We then compile it with our SQLite checkpointer. Finally, we'll visualize the graph structure to see the complete workflow."
   ]
  },
  {
   "cell_type": "code",
   "execution_count": 17,
   "metadata": {
    "id": "FupkWoDleBuQ"
   },
   "outputs": [],
   "source": [
    "from langgraph.graph import StateGraph, END, START\n",
    "from langgraph.checkpoint.sqlite import SqliteSaver\n",
    "from IPython.display import Image, display, Markdown\n",
    "\n"
   ]
  },
  {
   "cell_type": "code",
   "execution_count": 18,
   "metadata": {
    "id": "6QwAEqOQgpkv"
   },
   "outputs": [],
   "source": [
    "# Conditional Edge Functions\n",
    "def route_after_validation(state: EmailWorkflowState):\n",
    "    if state.get(\"error_message\"): return \"classify_email\"\n",
    "    classification = state[\"classification\"]\n",
    "    if classification == \"spam\": return \"handle_spam_or_invalid\"\n",
    "    if classification == \"support_request\" and ENABLE_KNOWLEDGE_BASE_TOOL: return \"search_knowledge_base\"\n",
    "    return \"draft_reply\"\n",
    "\n"
   ]
  },
  {
   "cell_type": "code",
   "execution_count": 19,
   "metadata": {
    "id": "6ACZq4QvgqtT"
   },
   "outputs": [],
   "source": [
    "simulate_crash = False\n",
    "\n",
    "def route_after_drafting(state: EmailWorkflowState):\n",
    "    import random\n",
    "    randn = random.random()\n",
    "    print(\"randn: \", randn)\n",
    "    if simulate_crash and randn < 0.5:\n",
    "        print(\"!!! SIMULATING A RANDOM CRASH -route_after_drafting !!!\")\n",
    "        raise ConnectionError(\"Simulated random network failure!\")\n",
    "    # --- END SIMULATION LOGIC ---\n",
    "\n",
    "    return \"evaluate_drafts\" if ENABLE_MULTI_MODEL_DRAFTING else \"human_review\"\n",
    "\n"
   ]
  },
  {
   "cell_type": "code",
   "execution_count": 20,
   "metadata": {
    "id": "ttgfnNTBgrgS"
   },
   "outputs": [],
   "source": [
    "import random\n",
    "\n",
    "# This flag will control our simulation.\n",
    "simulate_crash = False\n",
    "\n",
    "def route_after_review(state: EmailWorkflowState):\n",
    "    action = state.get(\"human_action\")\n",
    "\n",
    "    if action == \"approve\":\n",
    "        # --- CRASH SIMULATION LOGIC ---\n",
    "        # If the simulation is active, randomly fail 50% of the time.\n",
    "        randn = random.random()\n",
    "        print(\"randn: \", randn)\n",
    "        if simulate_crash and randn < 0.5:\n",
    "            print(\"!!! SIMULATING A RANDOM CRASH !!!\")\n",
    "            raise ConnectionError(\"Simulated random network failure! - route_after_review\")\n",
    "        # --- END SIMULATION LOGIC ---\n",
    "        return \"send_email\"\n",
    "\n",
    "    if action == \"edit\":\n",
    "        return \"revise_draft\"\n",
    "\n",
    "    return END # Reject"
   ]
  },
  {
   "cell_type": "code",
   "execution_count": 21,
   "metadata": {
    "id": "5N_RlfScgsX0"
   },
   "outputs": [],
   "source": [
    "# Graph Definition\n",
    "memory = SqliteSaver(conn=sqlite3.connect(SQLITE_DB_PATH, check_same_thread=False))\n",
    "workflow = StateGraph(EmailWorkflowState)\n",
    "\n"
   ]
  },
  {
   "cell_type": "code",
   "execution_count": 22,
   "metadata": {
    "colab": {
     "base_uri": "https://localhost:8080/"
    },
    "id": "OMNsmAw5gtIs",
    "outputId": "47b3cd70-f965-4cb9-8388-33facbbaec42"
   },
   "outputs": [
    {
     "data": {
      "text/plain": [
       "<langgraph.graph.state.StateGraph at 0x145ff18b620>"
      ]
     },
     "execution_count": 22,
     "metadata": {},
     "output_type": "execute_result"
    }
   ],
   "source": [
    "workflow.add_node(\"classify_email\", classify_email_node)\n",
    "workflow.add_node(\"validate_classification\", validate_classification_node)\n",
    "workflow.add_node(\"search_knowledge_base\", knowledge_base_tool_node)\n",
    "workflow.add_node(\"draft_reply\", drafting_node)\n",
    "workflow.add_node(\"evaluate_drafts\", evaluate_drafts_node)\n",
    "workflow.add_node(\"revise_draft\", reviser_node)\n",
    "workflow.add_node(\"human_review\", human_review_node)\n",
    "workflow.add_node(\"send_email\", send_email_node)\n",
    "workflow.add_node(\"handle_spam_or_invalid\", spam_or_invalid_node)\n",
    "\n"
   ]
  },
  {
   "cell_type": "code",
   "execution_count": 23,
   "metadata": {
    "colab": {
     "base_uri": "https://localhost:8080/"
    },
    "id": "10aKFhKGguDE",
    "outputId": "64a7215a-c532-48fe-cfa4-a9aa16c15d0c"
   },
   "outputs": [
    {
     "data": {
      "text/plain": [
       "<langgraph.graph.state.StateGraph at 0x145ff18b620>"
      ]
     },
     "execution_count": 23,
     "metadata": {},
     "output_type": "execute_result"
    }
   ],
   "source": [
    "workflow.add_edge(START, \"classify_email\")\n",
    "workflow.add_edge(\"classify_email\", \"validate_classification\")\n",
    "workflow.add_conditional_edges(\"validate_classification\", route_after_validation, {\n",
    "    \"classify_email\": \"classify_email\", \"search_knowledge_base\": \"search_knowledge_base\",\n",
    "    \"draft_reply\": \"draft_reply\", \"handle_spam_or_invalid\": \"handle_spam_or_invalid\"\n",
    "})\n",
    "workflow.add_edge(\"search_knowledge_base\", \"draft_reply\")\n",
    "workflow.add_conditional_edges(\"draft_reply\", route_after_drafting, {\"evaluate_drafts\": \"evaluate_drafts\", \"human_review\": \"human_review\"})\n",
    "workflow.add_edge(\"evaluate_drafts\", \"human_review\")\n",
    "workflow.add_edge(\"revise_draft\", \"human_review\")\n",
    "workflow.add_conditional_edges(\"human_review\", route_after_review, {\"send_email\": \"send_email\", \"revise_draft\": \"revise_draft\", END: END})\n",
    "workflow.add_edge(\"send_email\", END)\n",
    "workflow.add_edge(\"handle_spam_or_invalid\", END)\n",
    "\n"
   ]
  },
  {
   "cell_type": "code",
   "execution_count": 24,
   "metadata": {
    "colab": {
     "base_uri": "https://localhost:8080/"
    },
    "id": "qwKLtqzCgvGl",
    "outputId": "5927cd30-c43d-431a-e476-3a8e85dffc8b"
   },
   "outputs": [
    {
     "name": "stdout",
     "output_type": "stream",
     "text": [
      "Advanced graph compiled successfully!\n"
     ]
    }
   ],
   "source": [
    "app = workflow.compile(checkpointer=memory)\n",
    "print(\"Advanced graph compiled successfully!\")\n",
    "\n"
   ]
  },
  {
   "cell_type": "code",
   "execution_count": 25,
   "metadata": {
    "colab": {
     "base_uri": "https://localhost:8080/",
     "height": 846
    },
    "id": "567gkZiSgv6c",
    "outputId": "87a3d3cd-80dd-4219-f1d5-060abdbff6c1"
   },
   "outputs": [
    {
     "data": {
      "image/png": "[encoded data removed]",
      "text/plain": [
       "<IPython.core.display.Image object>"
      ]
     },
     "metadata": {},
     "output_type": "display_data"
    }
   ],
   "source": [
    "# Visualize the graph\n",
    "try:\n",
    "    display(Image(app.get_graph().draw_mermaid_png()))\n",
    "except Exception as e:\n",
    "    print(f\"Could not display graph: {e}\")"
   ]
  },
  {
   "cell_type": "markdown",
   "metadata": {
    "id": "tZjEbQzQeBuR"
   },
   "source": [
    "---"
   ]
  },
  {
   "cell_type": "markdown",
   "metadata": {
    "id": "DoTgb2zTeBuR"
   },
   "source": [
    "## 6. Scenario 1: Tool-Augmented Support Ticket\n",
    "\n",
    "We process a support email. The agent will use the `search_knowledge_base` tool to find a solution and incorporate it into the draft."
   ]
  },
  {
   "cell_type": "code",
   "execution_count": 26,
   "metadata": {
    "id": "YOntb98HeBuR"
   },
   "outputs": [],
   "source": [
    "# Each email processing task is treated as a separate \"thread\" in our stateful agent.\n",
    "# We generate a unique ID (UUID) for this thread to ensure its conversation history\n",
    "# is saved and managed separately in the SQLite database by the checkpointer.\n",
    "\n",
    "# Think of this as creating a unique \"case file number\" for this email.\n",
    "# It allows the agent to save its progress and pick up where it left off for this specific case.\n",
    "\n",
    "import uuid\n",
    "\n",
    "thread_id_1 = str(uuid.uuid4())"
   ]
  },
  {
   "cell_type": "code",
   "execution_count": 27,
   "metadata": {
    "colab": {
     "base_uri": "https://localhost:8080/"
    },
    "id": "vkf3FN57gyk8",
    "outputId": "b2528622-d16c-47c6-98c3-f4623da57496"
   },
   "outputs": [
    {
     "name": "stdout",
     "output_type": "stream",
     "text": [
      "{'configurable': {'thread_id': 'f48823fb-4e14-4c7e-97f1-d1c91a14689a'}}\n"
     ]
    }
   ],
   "source": [
    "config_1 = {\"configurable\": {\"thread_id\": thread_id_1}}\n",
    "print(config_1)"
   ]
  },
  {
   "cell_type": "code",
   "execution_count": 32,
   "metadata": {
    "id": "3YwvWLBbgzLm"
   },
   "outputs": [],
   "source": [
    "email_content_1 = \"Hi, I'm having a login issue and can't access my account. Can you help?\"\n",
    "email_content_1 = \"Hi, my windows OS version 10 based laptop is being very slow. I have enough RAM, CPU and SSD disk as well.\""
   ]
  },
  {
   "cell_type": "code",
   "execution_count": 33,
   "metadata": {
    "id": "gW3Ifz6Ggz1i"
   },
   "outputs": [],
   "source": [
    "initial_state_1 = {\"email_content\": email_content_1, \"classification_attempts\": 0}"
   ]
  },
  {
   "cell_type": "code",
   "execution_count": 34,
   "metadata": {
    "colab": {
     "base_uri": "https://localhost:8080/"
    },
    "id": "y87LkHZIg0iP",
    "outputId": "65207e8f-025c-4310-ff80-25019f19f904"
   },
   "outputs": [
    {
     "name": "stdout",
     "output_type": "stream",
     "text": [
      "--- Starting Scenario 1: Support Ticket (Thread ID: f48823fb-4e14-4c7e-97f1-d1c91a14689a) ---\n"
     ]
    }
   ],
   "source": [
    "print(f\"--- Starting Scenario 1: Support Ticket (Thread ID: {thread_id_1}) ---\")"
   ]
  },
  {
   "cell_type": "code",
   "execution_count": 35,
   "metadata": {
    "colab": {
     "base_uri": "https://localhost:8080/"
    },
    "id": "ZvlrnohVg1Ll",
    "outputId": "d2c315fc-08cb-4f53-cb27-29100e84a37f"
   },
   "outputs": [
    {
     "name": "stdout",
     "output_type": "stream",
     "text": [
      "randn:  0.9411278997719909\n",
      "--- NODE: Classifying Email ---\n",
      "DEBUG: Attempt 1 -> Classification: 'support_request'\n",
      "--- Output from Node: 'classify_email' ---\n",
      "Current State:\n",
      "  - classification: support_request\n",
      "  - classification_attempts: 1\n",
      "\n",
      "\n",
      "randn:  0.6157488894089646\n",
      "--- NODE: Validating Classification ---\n",
      "DEBUG: Validation successful for category 'support_request'.\n",
      "--- Output from Node: 'validate_classification' ---\n",
      "Current State:\n",
      "  - error_message: \n",
      "\n",
      "\n",
      "--- NODE: Searching Knowledge Base ---\n",
      "Starting rag_knowledge_search\n",
      "DEBUG: Knowledge Base Result: 'If your computer is slow, then try deleting the cache. You can use the CCleaner tool and then restart the system. Also, check in the task manager to see which task is taking maximum resources.'\n",
      "--- Output from Node: 'search_knowledge_base' ---\n",
      "Current State:\n",
      "  - knowledge_base_result: If your computer is slow, then try deleting the cache. You can use the CCleaner tool and then restart the system. Also, check in the task manager to see which task is taking maximum resources.\n",
      "\n",
      "\n",
      "randn:  0.1863033402365618\n",
      "--- NODE: Drafting Reply ---\n",
      "DEBUG: Single model drafting mode.\n",
      "randn:  0.83582153925752\n",
      "--- Output from Node: 'draft_reply' ---\n",
      "Current State:\n",
      "  - final_draft: Subject: Re: Laptop Performance Issues\n",
      "\n",
      "Hi [User's Name],\n",
      "\n",
      "Thank you for reaching out about your laptop's performance issues. Since you mentioned that you have sufficient RAM, CPU, and SSD space, a common solution is to clear the cache, which can help improve your system's speed.\n",
      "\n",
      "I recommend using the CCleaner tool to delete the cache files. After running CCleaner, please restart your laptop to see if that resolves the issue.\n",
      "\n",
      "Additionally, you can check the Task Manager to identify if any specific tasks are consuming excessive resources. This may help pinpoint any underlying issues.\n",
      "\n",
      "If you continue to experience slowness after trying these steps, please let me know, and we can explore further options.\n",
      "\n",
      "Best regards,\n",
      "\n",
      "[Your Name]  \n",
      "[Your Position]  \n",
      "[Your Contact Information]  \n",
      "\n",
      "\n",
      "\n",
      "--- NODE: Awaiting Human Review ---\n",
      "--- Output from Node: 'human_review' ---\n",
      "Current State:\n",
      "--- Workflow Paused for Human Review ---\n"
     ]
    }
   ],
   "source": [
    "# ======================================================================================\n",
    "# This cell invokes the agent and runs the workflow, now with detailed logging.\n",
    "#\n",
    "# How it works:\n",
    "# 1. `app.stream()` executes the graph, yielding an 'event' for each completed node.\n",
    "# 2. Each 'event' is a dictionary where the key is the name of the node that just ran,\n",
    "#    and the value is the full state of the workflow *after* that node's execution.\n",
    "# 3. We loop through this dictionary to print which node ran and what the state looks like now.\n",
    "# ======================================================================================\n",
    "for event in app.stream(initial_state_1, config_1):\n",
    "    # The 'event' dictionary has one key: the name of the node that just ran\n",
    "    for node_name, updated_state in event.items():\n",
    "        print(f\"--- Output from Node: '{node_name}' ---\")\n",
    "        print(\"Current State:\")\n",
    "        # Print the key-value pairs from the state dictionary for clarity\n",
    "        if not updated_state is None and len(updated_state) > 0:\n",
    "          for key, value in updated_state.items():\n",
    "              print(f\"  - {key}: {value}\")\n",
    "          print(\"\\n\")\n",
    "\n",
    "print(\"--- Workflow Paused for Human Review ---\")"
   ]
  },
  {
   "cell_type": "markdown",
   "metadata": {
    "id": "osC3z5V5eBuS"
   },
   "source": [
    "### Debug & Approve the Draft\n",
    "\n",
    "Let's inspect the state and then approve the draft to complete the workflow."
   ]
  },
  {
   "cell_type": "code",
   "execution_count": 32,
   "metadata": {
    "colab": {
     "base_uri": "https://localhost:8080/"
    },
    "id": "3_5lzrh-eBuS",
    "outputId": "69157068-1806-4e78-8cd2-94354cc862d4"
   },
   "outputs": [
    {
     "name": "stdout",
     "output_type": "stream",
     "text": [
      "StateSnapshot(values={'email_content': \"Hi, I'm having a login issue and can't access my account. Can you help?\", 'classification': 'support_request', 'knowledge_base_result': 'Common login issues can be resolved by clearing your browser cache and cookies.', 'final_draft': 'Subject: Re: Login Issue Assistance\\n\\nHi [User\\'s Name],\\n\\nThank you for reaching out about your login issue. I’m here to help!\\n\\nA common solution for login problems is to clear your browser cache and cookies. This can often resolve any issues related to stored data that might be interfering with your access.\\n\\nHere’s how you can do this:\\n\\n1. **For Chrome:**\\n   - Click on the three dots in the upper right corner.\\n   - Go to \"More tools\" > \"Clear browsing data.\"\\n   - Select \"Cookies and other site data\" and \"Cached images and files.\"\\n   - Click \"Clear data.\"\\n\\n2. **For Firefox:**\\n   - Click on the three horizontal lines in the upper right corner.\\n   - Select \"Options\" > \"Privacy & Security.\"\\n   - Under \"Cookies and Site Data,\" click \"Clear Data.\"\\n\\n3. **For Safari:**\\n   - Go to \"Preferences\" from the Safari menu.\\n   - Select the \"Privacy\" tab and click \"Manage Website Data.\"\\n   - Click \"Remove All.\"\\n\\nOnce you’ve cleared your cache and cookies, please try logging in again. If you continue to experience issues, let me know, and we can explore further troubleshooting steps.\\n\\nBest regards,\\n\\n[Your Name]  \\n[Your Position]  \\n[Your Contact Information]  ', 'error_message': '', 'classification_attempts': 1}, next=(), config={'configurable': {'thread_id': 'a285391f-71b1-43de-b119-261249e1d4f8', 'checkpoint_ns': '', 'checkpoint_id': '1f07f092-be85-6ac3-8005-952eb7629315'}}, metadata={'source': 'loop', 'step': 5, 'parents': {}}, created_at='2025-08-22T03:36:21.656631+00:00', parent_config={'configurable': {'thread_id': 'a285391f-71b1-43de-b119-261249e1d4f8', 'checkpoint_ns': '', 'checkpoint_id': '1f07f092-be83-6d91-8004-94202a03f3f6'}}, tasks=(), interrupts=())\n"
     ]
    }
   ],
   "source": [
    "current_state = app.get_state(config_1)\n",
    "print(current_state)"
   ]
  },
  {
   "cell_type": "code",
   "execution_count": 33,
   "metadata": {
    "colab": {
     "base_uri": "https://localhost:8080/"
    },
    "id": "p4mSUtttmKQi",
    "outputId": "28b0f569-584a-4685-afdc-69eb5bbe6d76"
   },
   "outputs": [
    {
     "name": "stdout",
     "output_type": "stream",
     "text": [
      "Subject: Re: Login Issue Assistance\n",
      "\n",
      "Hi [User's Name],\n",
      "\n",
      "Thank you for reaching out about your login issue. I’m here to help!\n",
      "\n",
      "A common solution for login problems is to clear your browser cache and cookies. This can often resolve any issues related to stored data that might be interfering with your access.\n",
      "\n",
      "Here’s how you can do this:\n",
      "\n",
      "1. **For Chrome:**\n",
      "   - Click on the three dots in the upper right corner.\n",
      "   - Go to \"More tools\" > \"Clear browsing data.\"\n",
      "   - Select \"Cookies and other site data\" and \"Cached images and files.\"\n",
      "   - Click \"Clear data.\"\n",
      "\n",
      "2. **For Firefox:**\n",
      "   - Click on the three horizontal lines in the upper right corner.\n",
      "   - Select \"Options\" > \"Privacy & Security.\"\n",
      "   - Under \"Cookies and Site Data,\" click \"Clear Data.\"\n",
      "\n",
      "3. **For Safari:**\n",
      "   - Go to \"Preferences\" from the Safari menu.\n",
      "   - Select the \"Privacy\" tab and click \"Manage Website Data.\"\n",
      "   - Click \"Remove All.\"\n",
      "\n",
      "Once you’ve cleared your cache and cookies, please try logging in again. If you continue to experience issues, let me know, and we can explore further troubleshooting steps.\n",
      "\n",
      "Best regards,\n",
      "\n",
      "[Your Name]  \n",
      "[Your Position]  \n",
      "[Your Contact Information]  \n"
     ]
    }
   ],
   "source": [
    "final_draft = current_state.values.get('final_draft', 'Draft not available.')\n",
    "\n",
    "print(final_draft)"
   ]
  },
  {
   "cell_type": "code",
   "execution_count": 34,
   "metadata": {
    "colab": {
     "base_uri": "https://localhost:8080/",
     "height": 459
    },
    "id": "EXGzseM7g5bc",
    "outputId": "9fe9ee32-a08e-4858-9ac0-12145c7c3bfb"
   },
   "outputs": [
    {
     "data": {
      "text/markdown": [
       "### Pending Draft for Approval"
      ],
      "text/plain": [
       "<IPython.core.display.Markdown object>"
      ]
     },
     "metadata": {},
     "output_type": "display_data"
    },
    {
     "data": {
      "text/markdown": [
       "```\n",
       "Subject: Re: Login Issue Assistance\n",
       "\n",
       "Hi [User's Name],\n",
       "\n",
       "Thank you for reaching out about your login issue. I’m here to help!\n",
       "\n",
       "A common solution for login problems is to clear your browser cache and cookies. This can often resolve any issues related to stored data that might be interfering with your access.\n",
       "\n",
       "Here’s how you can do this:\n",
       "\n",
       "1. **For Chrome:**\n",
       "   - Click on the three dots in the upper right corner.\n",
       "   - Go to \"More tools\" > \"Clear browsing data.\"\n",
       "   - Select \"Cookies and other site data\" and \"Cached images and files.\"\n",
       "   - Click \"Clear data.\"\n",
       "\n",
       "2. **For Firefox:**\n",
       "   - Click on the three horizontal lines in the upper right corner.\n",
       "   - Select \"Options\" > \"Privacy & Security.\"\n",
       "   - Under \"Cookies and Site Data,\" click \"Clear Data.\"\n",
       "\n",
       "3. **For Safari:**\n",
       "   - Go to \"Preferences\" from the Safari menu.\n",
       "   - Select the \"Privacy\" tab and click \"Manage Website Data.\"\n",
       "   - Click \"Remove All.\"\n",
       "\n",
       "Once you’ve cleared your cache and cookies, please try logging in again. If you continue to experience issues, let me know, and we can explore further troubleshooting steps.\n",
       "\n",
       "Best regards,\n",
       "\n",
       "[Your Name]  \n",
       "[Your Position]  \n",
       "[Your Contact Information]  \n",
       "```"
      ],
      "text/plain": [
       "<IPython.core.display.Markdown object>"
      ]
     },
     "metadata": {},
     "output_type": "display_data"
    }
   ],
   "source": [
    "display(Markdown(\"### Pending Draft for Approval\"))\n",
    "display(Markdown(f\"```\\n{final_draft}\\n```\"))"
   ]
  },
  {
   "cell_type": "code",
   "execution_count": 35,
   "metadata": {
    "colab": {
     "base_uri": "https://localhost:8080/"
    },
    "id": "-g80ty87hZPS",
    "outputId": "0caee60b-cbc3-496a-c509-a5110833a273"
   },
   "outputs": [
    {
     "name": "stdout",
     "output_type": "stream",
     "text": [
      "randn:  0.9252948763165953\n"
     ]
    },
    {
     "data": {
      "text/plain": [
       "{'configurable': {'thread_id': 'a285391f-71b1-43de-b119-261249e1d4f8',\n",
       "  'checkpoint_ns': '',\n",
       "  'checkpoint_id': '1f07f092-bfbb-6110-8006-7e38a69d89d3'}}"
      ]
     },
     "execution_count": 35,
     "metadata": {},
     "output_type": "execute_result"
    }
   ],
   "source": [
    "# Approve the draft\n",
    "app.update_state(config_1, {\"human_action\": \"approve\"})"
   ]
  },
  {
   "cell_type": "code",
   "execution_count": 36,
   "metadata": {
    "colab": {
     "base_uri": "https://localhost:8080/"
    },
    "id": "F5VxMfcshcGh",
    "outputId": "7620d059-1f6d-485c-afae-f1595276b56d"
   },
   "outputs": [
    {
     "name": "stdout",
     "output_type": "stream",
     "text": [
      "\n",
      "--- Resuming workflow after approval ---\n",
      "--- NODE: Sending Email ---\n"
     ]
    }
   ],
   "source": [
    "print(\"\\n--- Resuming workflow after approval ---\")\n",
    "for _ in app.stream(None, config_1):\n",
    "    pass"
   ]
  },
  {
   "cell_type": "code",
   "execution_count": 37,
   "metadata": {
    "colab": {
     "base_uri": "https://localhost:8080/",
     "height": 459
    },
    "id": "da-zrQRZhgSm",
    "outputId": "b14ebeeb-2cfe-4ef1-de64-f076e9480fea"
   },
   "outputs": [
    {
     "data": {
      "text/markdown": [
       "### Final Sent Email"
      ],
      "text/plain": [
       "<IPython.core.display.Markdown object>"
      ]
     },
     "metadata": {},
     "output_type": "display_data"
    },
    {
     "data": {
      "text/markdown": [
       "```\n",
       "Subject: Re: Login Issue Assistance\n",
       "\n",
       "Hi [User's Name],\n",
       "\n",
       "Thank you for reaching out about your login issue. I’m here to help!\n",
       "\n",
       "A common solution for login problems is to clear your browser cache and cookies. This can often resolve any issues related to stored data that might be interfering with your access.\n",
       "\n",
       "Here’s how you can do this:\n",
       "\n",
       "1. **For Chrome:**\n",
       "   - Click on the three dots in the upper right corner.\n",
       "   - Go to \"More tools\" > \"Clear browsing data.\"\n",
       "   - Select \"Cookies and other site data\" and \"Cached images and files.\"\n",
       "   - Click \"Clear data.\"\n",
       "\n",
       "2. **For Firefox:**\n",
       "   - Click on the three horizontal lines in the upper right corner.\n",
       "   - Select \"Options\" > \"Privacy & Security.\"\n",
       "   - Under \"Cookies and Site Data,\" click \"Clear Data.\"\n",
       "\n",
       "3. **For Safari:**\n",
       "   - Go to \"Preferences\" from the Safari menu.\n",
       "   - Select the \"Privacy\" tab and click \"Manage Website Data.\"\n",
       "   - Click \"Remove All.\"\n",
       "\n",
       "Once you’ve cleared your cache and cookies, please try logging in again. If you continue to experience issues, let me know, and we can explore further troubleshooting steps.\n",
       "\n",
       "Best regards,\n",
       "\n",
       "[Your Name]  \n",
       "[Your Position]  \n",
       "[Your Contact Information]  \n",
       "```"
      ],
      "text/plain": [
       "<IPython.core.display.Markdown object>"
      ]
     },
     "metadata": {},
     "output_type": "display_data"
    }
   ],
   "source": [
    "final_state = app.get_state(config_1)\n",
    "display(Markdown(\"### Final Sent Email\"))\n",
    "display(Markdown(f\"```\\n{final_state.values.get('final_draft')}\\n```\"))"
   ]
  },
  {
   "cell_type": "markdown",
   "metadata": {
    "id": "HO0k_KuAeBuS"
   },
   "source": [
    "---"
   ]
  },
  {
   "cell_type": "markdown",
   "metadata": {
    "id": "64VDxUC7eBuT"
   },
   "source": [
    "## 7. Scenario 2: Critique & Revise Loop\n",
    "\n",
    "Here, we'll provide feedback on a draft, forcing the agent into the `reviser_node` before final approval."
   ]
  },
  {
   "cell_type": "markdown",
   "metadata": {
    "id": "H0qDrW8IeBuT"
   },
   "source": [
    "### Step 1: Initial Draft and Request for Edit"
   ]
  },
  {
   "cell_type": "code",
   "execution_count": 38,
   "metadata": {
    "id": "61VTBvDVeBuT"
   },
   "outputs": [],
   "source": [
    "thread_id_2 = str(uuid.uuid4())\n",
    "config_2 = {\"configurable\": {\"thread_id\": thread_id_2}}\n",
    "email_content_2 = \"Can you tell me about your refund policy?\"\n",
    "initial_state_2 = {\"email_content\": email_content_2, \"classification_attempts\": 0}"
   ]
  },
  {
   "cell_type": "code",
   "execution_count": 39,
   "metadata": {
    "colab": {
     "base_uri": "https://localhost:8080/"
    },
    "id": "ms_aAjPOhpg0",
    "outputId": "53898c59-a101-4ed8-f6ef-e39b8a83b60f"
   },
   "outputs": [
    {
     "name": "stdout",
     "output_type": "stream",
     "text": [
      "--- Starting Scenario 2: Critique & Revise (Thread ID: eee2feab-8802-4293-9948-0a39cd894ab7) ---\n",
      "randn:  0.20019270557540458\n",
      "--- NODE: Classifying Email ---\n",
      "DEBUG: Attempt 1 -> Classification: 'general_question'\n",
      "randn:  0.6348980250038083\n",
      "--- NODE: Validating Classification ---\n",
      "DEBUG: Validation successful for category 'general_question'.\n",
      "randn:  0.10394129012279962\n",
      "--- NODE: Drafting Reply ---\n",
      "DEBUG: Single model drafting mode.\n",
      "randn:  0.9332173278369782\n",
      "--- NODE: Awaiting Human Review ---\n"
     ]
    }
   ],
   "source": [
    "print(f\"--- Starting Scenario 2: Critique & Revise (Thread ID: {thread_id_2}) ---\")\n",
    "for _ in app.stream(initial_state_2, config_2):\n",
    "    pass"
   ]
  },
  {
   "cell_type": "code",
   "execution_count": 40,
   "metadata": {
    "colab": {
     "base_uri": "https://localhost:8080/",
     "height": 355
    },
    "id": "YV8LeSLfhrs0",
    "outputId": "0a9f88bf-5590-44ee-a34f-08cb943e6d60"
   },
   "outputs": [
    {
     "data": {
      "text/markdown": [
       "### Initial Draft for Review"
      ],
      "text/plain": [
       "<IPython.core.display.Markdown object>"
      ]
     },
     "metadata": {},
     "output_type": "display_data"
    },
    {
     "data": {
      "text/markdown": [
       "```\n",
       "Subject: Re: Inquiry About Refund Policy\n",
       "\n",
       "Dear [Recipient's Name],\n",
       "\n",
       "Thank you for reaching out!\n",
       "\n",
       "Our refund policy is designed to ensure customer satisfaction. Generally, we offer refunds within [specific time frame, e.g., 30 days] of purchase, provided that the items are returned in their original condition. For certain products or services, different terms may apply, so please let me know if you have a specific item in mind.\n",
       "\n",
       "If you need more detailed information or have any further questions, feel free to ask!\n",
       "\n",
       "Best regards,\n",
       "\n",
       "[Your Name]  \n",
       "[Your Position]  \n",
       "[Your Company]  \n",
       "[Your Contact Information]  \n",
       "```"
      ],
      "text/plain": [
       "<IPython.core.display.Markdown object>"
      ]
     },
     "metadata": {},
     "output_type": "display_data"
    }
   ],
   "source": [
    "current_state_2 = app.get_state(config_2)\n",
    "draft_to_revise = current_state_2.values.get('final_draft', '')\n",
    "display(Markdown(\"### Initial Draft for Review\"))\n",
    "display(Markdown(f\"```\\n{draft_to_revise}\\n```\"))"
   ]
  },
  {
   "cell_type": "code",
   "execution_count": 41,
   "metadata": {
    "colab": {
     "base_uri": "https://localhost:8080/"
    },
    "id": "l4W6x7dyhtHi",
    "outputId": "843b0100-6666-4791-c540-b34ad5007e36"
   },
   "outputs": [
    {
     "name": "stdout",
     "output_type": "stream",
     "text": [
      "\n",
      "--- Requesting edit with feedback: 'This is a good start, but can you make the tone a bit more friendly and add a closing like 'Best regards, The Team'?' ---\n"
     ]
    },
    {
     "data": {
      "text/plain": [
       "{'configurable': {'thread_id': 'eee2feab-8802-4293-9948-0a39cd894ab7',\n",
       "  'checkpoint_ns': '',\n",
       "  'checkpoint_id': '1f07f092-dcb5-62ff-8005-0a3f28fd3c97'}}"
      ]
     },
     "execution_count": 41,
     "metadata": {},
     "output_type": "execute_result"
    }
   ],
   "source": [
    "feedback = \"This is a good start, but can you make the tone a bit more friendly and add a closing like 'Best regards, The Team'?\"\n",
    "print(f\"\\n--- Requesting edit with feedback: '{feedback}' ---\")\n",
    "app.update_state(config_2, {\"human_action\": \"edit\", \"human_feedback\": feedback})"
   ]
  },
  {
   "cell_type": "code",
   "execution_count": 42,
   "metadata": {
    "colab": {
     "base_uri": "https://localhost:8080/"
    },
    "id": "I6vvT95ThuY0",
    "outputId": "aca401f6-644a-4bf9-811d-706b85d81ad5"
   },
   "outputs": [
    {
     "name": "stdout",
     "output_type": "stream",
     "text": [
      "--- NODE: Revising Draft ---\n",
      "DEBUG: Revision complete.\n",
      "--- NODE: Awaiting Human Review ---\n"
     ]
    }
   ],
   "source": [
    "for _ in app.stream(None, config_2):\n",
    "    pass"
   ]
  },
  {
   "cell_type": "code",
   "execution_count": 43,
   "metadata": {
    "colab": {
     "base_uri": "https://localhost:8080/",
     "height": 321
    },
    "id": "HNY20nZMhxMZ",
    "outputId": "85c78edf-78c0-40f9-c4a0-2aaa1d569df8"
   },
   "outputs": [
    {
     "data": {
      "text/markdown": [
       "### Revised Draft for Approval"
      ],
      "text/plain": [
       "<IPython.core.display.Markdown object>"
      ]
     },
     "metadata": {},
     "output_type": "display_data"
    },
    {
     "data": {
      "text/markdown": [
       "```\n",
       "Subject: Re: Inquiry About Refund Policy\n",
       "\n",
       "Dear [Recipient's Name],\n",
       "\n",
       "Thank you so much for reaching out!\n",
       "\n",
       "We want to make sure you're completely satisfied with your purchase, which is why we have a refund policy in place. Generally, we offer refunds within [specific time frame, e.g., 30 days] of purchase, as long as the items are returned in their original condition. If you have a specific item in mind, please let me know, and I'll be happy to provide any additional details.\n",
       "\n",
       "If you have any more questions or need further assistance, don’t hesitate to ask!\n",
       "\n",
       "Best regards,  \n",
       "The Team  \n",
       "[Your Company]  \n",
       "[Your Contact Information]  \n",
       "```"
      ],
      "text/plain": [
       "<IPython.core.display.Markdown object>"
      ]
     },
     "metadata": {},
     "output_type": "display_data"
    }
   ],
   "source": [
    "current_state_2_revised = app.get_state(config_2)\n",
    "revised_draft = current_state_2_revised.values.get('final_draft', '')\n",
    "display(Markdown(\"### Revised Draft for Approval\"))\n",
    "display(Markdown(f\"```\\n{revised_draft}\\n```\"))"
   ]
  },
  {
   "cell_type": "code",
   "execution_count": null,
   "metadata": {
    "id": "IhZMNFBXhyFi"
   },
   "outputs": [],
   "source": []
  },
  {
   "cell_type": "markdown",
   "metadata": {
    "id": "EO85evSAeBuU"
   },
   "source": [
    "### Step 2: Approve the Revised Draft"
   ]
  },
  {
   "cell_type": "code",
   "execution_count": 44,
   "metadata": {
    "colab": {
     "base_uri": "https://localhost:8080/"
    },
    "id": "z8-n3b6peBuU",
    "outputId": "2207abc3-0896-4046-e988-357635f6081f"
   },
   "outputs": [
    {
     "name": "stdout",
     "output_type": "stream",
     "text": [
      "--- Approving the revised draft ---\n",
      "randn:  0.7660031494452354\n",
      "--- NODE: Sending Email ---\n"
     ]
    }
   ],
   "source": [
    "print(\"--- Approving the revised draft ---\")\n",
    "app.update_state(config_2, {\"human_action\": \"approve\"})\n",
    "\n",
    "for _ in app.stream(None, config_2):\n",
    "    pass"
   ]
  },
  {
   "cell_type": "code",
   "execution_count": 45,
   "metadata": {
    "colab": {
     "base_uri": "https://localhost:8080/",
     "height": 321
    },
    "id": "UJcXM9nEhzsJ",
    "outputId": "38d33d8f-cc25-423d-b27d-2a5d6088d64c"
   },
   "outputs": [
    {
     "data": {
      "text/markdown": [
       "### Final Sent Email After Revision"
      ],
      "text/plain": [
       "<IPython.core.display.Markdown object>"
      ]
     },
     "metadata": {},
     "output_type": "display_data"
    },
    {
     "data": {
      "text/markdown": [
       "```\n",
       "Subject: Re: Inquiry About Refund Policy\n",
       "\n",
       "Dear [Recipient's Name],\n",
       "\n",
       "Thank you so much for reaching out!\n",
       "\n",
       "We want to make sure you're completely satisfied with your purchase, which is why we have a refund policy in place. Generally, we offer refunds within [specific time frame, e.g., 30 days] of purchase, as long as the items are returned in their original condition. If you have a specific item in mind, please let me know, and I'll be happy to provide any additional details.\n",
       "\n",
       "If you have any more questions or need further assistance, don’t hesitate to ask!\n",
       "\n",
       "Best regards,  \n",
       "The Team  \n",
       "[Your Company]  \n",
       "[Your Contact Information]  \n",
       "```"
      ],
      "text/plain": [
       "<IPython.core.display.Markdown object>"
      ]
     },
     "metadata": {},
     "output_type": "display_data"
    }
   ],
   "source": [
    "final_state_2 = app.get_state(config_2)\n",
    "display(Markdown(\"### Final Sent Email After Revision\"))\n",
    "display(Markdown(f\"```\\n{final_state_2.values.get('final_draft')}\\n```\"))"
   ]
  },
  {
   "cell_type": "markdown",
   "metadata": {
    "id": "yaJC44l1eBuU"
   },
   "source": [
    "---"
   ]
  },
  {
   "cell_type": "markdown",
   "metadata": {
    "id": "rWIn-SkneBuU"
   },
   "source": [
    "## 8. Scenario 3: Crash and Recovery\n",
    "\n",
    "This scenario demonstrates the resilience provided by the SQLite checkpointer."
   ]
  },
  {
   "cell_type": "code",
   "execution_count": 46,
   "metadata": {
    "id": "hjnLp4mcpmOa"
   },
   "outputs": [],
   "source": [
    "# --- Scenario 3: Crash and Recovery (Simplified) ---\n",
    "\n",
    "# Step 1: Activate the crash simulation\n",
    "simulate_crash = True"
   ]
  },
  {
   "cell_type": "code",
   "execution_count": 47,
   "metadata": {
    "id": "-lBTgiR5poT1"
   },
   "outputs": [],
   "source": [
    "import uuid\n",
    "\n",
    "crash_thread_id = str(uuid.uuid4())\n",
    "crash_config = {\"configurable\": {\"thread_id\": crash_thread_id}}\n",
    "crash_email = \"Can I get a quote for 100 widgets?\""
   ]
  },
  {
   "cell_type": "code",
   "execution_count": 48,
   "metadata": {
    "colab": {
     "base_uri": "https://localhost:8080/"
    },
    "id": "mxS2ofxBppW7",
    "outputId": "de3b6d67-5f7c-4151-d3dd-79f29be5170f"
   },
   "outputs": [
    {
     "name": "stdout",
     "output_type": "stream",
     "text": [
      "--- Starting Scenario 3 with CRASH SIMULATION ENABLED (Thread ID: 2765ead0-bb55-413d-a706-df4d8d594b06) ---\n"
     ]
    }
   ],
   "source": [
    "print(f\"--- Starting Scenario 3 with CRASH SIMULATION ENABLED (Thread ID: {crash_thread_id}) ---\")"
   ]
  },
  {
   "cell_type": "code",
   "execution_count": 49,
   "metadata": {
    "colab": {
     "base_uri": "https://localhost:8080/"
    },
    "id": "j9dIGN1ppqQZ",
    "outputId": "3734c075-9e35-48ee-f30a-b1afa53172fb"
   },
   "outputs": [
    {
     "name": "stdout",
     "output_type": "stream",
     "text": [
      "randn:  0.5934426533953182\n",
      "--- NODE: Classifying Email ---\n",
      "DEBUG: Attempt 1 -> Classification: 'sales_inquiry'\n",
      "randn:  0.6506314602756288\n",
      "--- NODE: Validating Classification ---\n",
      "DEBUG: Validation successful for category 'sales_inquiry'.\n",
      "randn:  0.4946852072487614\n",
      "!!! SIMULATING A RANDOM CRASH -drafting_node !!!\n",
      "\n",
      "SUCCESSFULLY CAUGHT SIMULATED CRASH: Simulated random network failure!\n"
     ]
    }
   ],
   "source": [
    "# Step 2: Run the workflow until it pauses for review\n",
    "try:\n",
    "  for _ in app.stream({\"email_content\": crash_email, \"classification_attempts\": 0}, crash_config):\n",
    "      pass\n",
    "  print(f\"\\nWorkflow is paused at human review.\")\n",
    "except ConnectionError as e:\n",
    "    print(f\"\\nSUCCESSFULLY CAUGHT SIMULATED CRASH: {e}\")"
   ]
  },
  {
   "cell_type": "code",
   "execution_count": 50,
   "metadata": {
    "colab": {
     "base_uri": "https://localhost:8080/"
    },
    "id": "HQxBpUjFvTPi",
    "outputId": "c27e973e-b0ec-412b-fefd-c4691ef583f8"
   },
   "outputs": [
    {
     "name": "stdout",
     "output_type": "stream",
     "text": [
      "\n",
      "Recovery attempt 1/10...\n",
      "randn:  0.9760685808437387\n",
      "--- NODE: Drafting Reply ---\n",
      "DEBUG: Single model drafting mode.\n",
      "randn:  0.09821440665054326\n",
      "!!! SIMULATING A RANDOM CRASH -route_after_drafting !!!\n",
      "Recovery attempt failed with error: Simulated random network failure!\n",
      "Waiting for 2 seconds before the next retry...\n",
      "\n",
      "Recovery attempt 2/10...\n",
      "Workflow recovered successfully on this attempt!\n"
     ]
    }
   ],
   "source": [
    "import time\n",
    "max_retries = 10\n",
    "for attempt in range(max_retries):\n",
    "  try:\n",
    "      print(f\"\\nRecovery attempt {attempt + 1}/{max_retries}...\")\n",
    "\n",
    "      # We invoke the app again. LangGraph will read the saved state (where action is 'approve')\n",
    "      # and automatically resume from the correct step.\n",
    "      for event in app.stream(None, crash_config):\n",
    "          pass\n",
    "\n",
    "      print(\"Workflow recovered successfully on this attempt!\")\n",
    "      break\n",
    "  except ConnectionError as e:\n",
    "      print(f\"Recovery attempt failed with error: {e}\")\n",
    "      if attempt < max_retries - 1:\n",
    "          print(\"Waiting for 2 seconds before the next retry...\")\n",
    "          time.sleep(2)\n",
    "      else:\n",
    "          print(\"Max retries reached. Could not recover the workflow.\")"
   ]
  },
  {
   "cell_type": "code",
   "execution_count": 51,
   "metadata": {
    "colab": {
     "base_uri": "https://localhost:8080/"
    },
    "id": "EsqpprX-prOF",
    "outputId": "09fea861-ae62-4ea4-fef1-94e5f9843256"
   },
   "outputs": [
    {
     "name": "stdout",
     "output_type": "stream",
     "text": [
      "\n",
      "Attempting to approve...\n",
      "randn:  0.8122914625882622\n",
      "--- NODE: Awaiting Human Review ---\n",
      "randn:  0.40040827771053833\n",
      "!!! SIMULATING A RANDOM CRASH !!!\n",
      "\n",
      "SUCCESSFULLY CAUGHT SIMULATED CRASH: Simulated random network failure! - route_after_review\n"
     ]
    }
   ],
   "source": [
    "# Step 3: Attempt to approve, which might trigger the crash\n",
    "try:\n",
    "    print(\"\\nAttempting to approve...\")\n",
    "    app.update_state(crash_config, {\"human_action\": \"approve\"})\n",
    "    # Now we invoke the main app, which might fail\n",
    "    for _ in app.stream(None, crash_config):\n",
    "        pass\n",
    "    print(\"\\nWorkflow completed without a crash this time.\")\n",
    "except ConnectionError as e:\n",
    "    print(f\"\\nSUCCESSFULLY CAUGHT SIMULATED CRASH: {e}\")"
   ]
  },
  {
   "cell_type": "code",
   "execution_count": 52,
   "metadata": {
    "colab": {
     "base_uri": "https://localhost:8080/"
    },
    "id": "QqOTld00sTWl",
    "outputId": "0b9a35aa-dbee-47f0-f835-2701a36c4010"
   },
   "outputs": [
    {
     "name": "stdout",
     "output_type": "stream",
     "text": [
      "\n",
      "Recovery attempt 1/10...\n",
      "--- NODE: Awaiting Human Review ---\n",
      "randn:  0.23083185108093773\n",
      "!!! SIMULATING A RANDOM CRASH !!!\n",
      "Recovery attempt failed with error: Simulated random network failure! - route_after_review\n",
      "Waiting for 2 seconds before the next retry...\n",
      "\n",
      "Recovery attempt 2/10...\n",
      "--- NODE: Awaiting Human Review ---\n",
      "randn:  0.13149844821281242\n",
      "!!! SIMULATING A RANDOM CRASH !!!\n",
      "Recovery attempt failed with error: Simulated random network failure! - route_after_review\n",
      "Waiting for 2 seconds before the next retry...\n",
      "\n",
      "Recovery attempt 3/10...\n",
      "--- NODE: Awaiting Human Review ---\n",
      "randn:  0.3315465435220498\n",
      "!!! SIMULATING A RANDOM CRASH !!!\n",
      "Recovery attempt failed with error: Simulated random network failure! - route_after_review\n",
      "Waiting for 2 seconds before the next retry...\n",
      "\n",
      "Recovery attempt 4/10...\n",
      "--- NODE: Awaiting Human Review ---\n",
      "randn:  0.9512867065024595\n",
      "--- NODE: Sending Email ---\n",
      "Workflow recovered successfully on this attempt!\n"
     ]
    }
   ],
   "source": [
    "import time\n",
    "max_retries = 10\n",
    "for attempt in range(max_retries):\n",
    "  try:\n",
    "      print(f\"\\nRecovery attempt {attempt + 1}/{max_retries}...\")\n",
    "\n",
    "      # We invoke the app again. LangGraph will read the saved state (where action is 'approve')\n",
    "      # and automatically resume from the correct step.\n",
    "      for event in app.stream(None, crash_config):\n",
    "          pass\n",
    "\n",
    "      print(\"Workflow recovered successfully on this attempt!\")\n",
    "      break\n",
    "  except ConnectionError as e:\n",
    "      print(f\"Recovery attempt failed with error: {e}\")\n",
    "      if attempt < max_retries - 1:\n",
    "          print(\"Waiting for 2 seconds before the next retry...\")\n",
    "          time.sleep(2)\n",
    "      else:\n",
    "          print(\"Max retries reached. Could not recover the workflow.\")"
   ]
  },
  {
   "cell_type": "code",
   "execution_count": null,
   "metadata": {
    "id": "VnFTy2iopsxi"
   },
   "outputs": [],
   "source": []
  },
  {
   "cell_type": "code",
   "execution_count": 53,
   "metadata": {
    "colab": {
     "base_uri": "https://localhost:8080/"
    },
    "id": "vppakftarlxq",
    "outputId": "2df257d9-7a1c-46bf-f0fd-2ce0b344cf63"
   },
   "outputs": [
    {
     "name": "stdout",
     "output_type": "stream",
     "text": [
      "StateSnapshot(values={'email_content': 'Can I get a quote for 100 widgets?', 'classification': 'sales_inquiry', 'final_draft': \"Subject: Quote for 100 Widgets\\n\\nDear [Recipient's Name],\\n\\nThank you for your inquiry regarding the quote for 100 widgets. I would be happy to assist you with this.\\n\\nCould you please provide any specific details regarding the type or specifications of the widgets you are interested in? This will help me give you a more accurate quote.\\n\\nLooking forward to your response.\\n\\nBest regards,\\n\\n[Your Name]  \\n[Your Position]  \\n[Your Company]  \\n[Your Contact Information]  \", 'human_action': 'approve', 'error_message': '', 'classification_attempts': 1}, next=(), config={'configurable': {'thread_id': '2765ead0-bb55-413d-a706-df4d8d594b06', 'checkpoint_ns': '', 'checkpoint_id': '1f07f093-58b0-655e-8006-3a1b44ec33dd'}}, metadata={'source': 'loop', 'step': 6, 'parents': {}}, created_at='2025-08-22T03:36:37.822178+00:00', parent_config={'configurable': {'thread_id': '2765ead0-bb55-413d-a706-df4d8d594b06', 'checkpoint_ns': '', 'checkpoint_id': '1f07f093-58ac-6248-8005-33d94c5f21fb'}}, tasks=(), interrupts=())\n"
     ]
    }
   ],
   "source": [
    "final_state_3 = app.get_state(crash_config)\n",
    "print(final_state_3)"
   ]
  },
  {
   "cell_type": "code",
   "execution_count": null,
   "metadata": {
    "id": "oDUIIc_Irpb9"
   },
   "outputs": [],
   "source": []
  },
  {
   "cell_type": "code",
   "execution_count": 54,
   "metadata": {
    "colab": {
     "base_uri": "https://localhost:8080/",
     "height": 406
    },
    "id": "nFQeH4kqroL9",
    "outputId": "7ce76062-6ca8-47b0-975a-d414376c61e3"
   },
   "outputs": [
    {
     "data": {
      "text/markdown": [
       "### Recovered and Sent Email"
      ],
      "text/plain": [
       "<IPython.core.display.Markdown object>"
      ]
     },
     "metadata": {},
     "output_type": "display_data"
    },
    {
     "data": {
      "text/markdown": [
       "```\n",
       "Subject: Quote for 100 Widgets\n",
       "\n",
       "Dear [Recipient's Name],\n",
       "\n",
       "Thank you for your inquiry regarding the quote for 100 widgets. I would be happy to assist you with this.\n",
       "\n",
       "Could you please provide any specific details regarding the type or specifications of the widgets you are interested in? This will help me give you a more accurate quote.\n",
       "\n",
       "Looking forward to your response.\n",
       "\n",
       "Best regards,\n",
       "\n",
       "[Your Name]  \n",
       "[Your Position]  \n",
       "[Your Company]  \n",
       "[Your Contact Information]  \n",
       "```"
      ],
      "text/plain": [
       "<IPython.core.display.Markdown object>"
      ]
     },
     "metadata": {},
     "output_type": "display_data"
    },
    {
     "name": "stdout",
     "output_type": "stream",
     "text": [
      "\n",
      "Workflow recovered and completed successfully!\n"
     ]
    }
   ],
   "source": [
    "display(Markdown(\"### Recovered and Sent Email\"))\n",
    "display(Markdown(f\"```\\n{final_state_3.values.get('final_draft')}\\n```\"))\n",
    "print(\"\\nWorkflow recovered and completed successfully!\")"
   ]
  },
  {
   "cell_type": "code",
   "execution_count": null,
   "metadata": {
    "id": "IpFkX_RWryLD"
   },
   "outputs": [],
   "source": []
  }
 ],
 "metadata": {
  "colab": {
   "provenance": []
  },
  "kernelspec": {
   "display_name": "Python 3 (ipykernel)",
   "language": "python",
   "name": "python3"
  },
  "language_info": {
   "codemirror_mode": {
    "name": "ipython",
    "version": 3
   },
   "file_extension": ".py",
   "mimetype": "text/x-python",
   "name": "python",
   "nbconvert_exporter": "python",
   "pygments_lexer": "ipython3",
   "version": "3.13.7"
  }
 },
 "nbformat": 4,
 "nbformat_minor": 4
}
