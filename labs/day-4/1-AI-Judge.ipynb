{
 "cells": [
  {
   "cell_type": "markdown",
   "metadata": {
    "id": "AVCjcUqn93B8"
   },
   "source": [
    "# Lab: Building a Model Evaluator with LangGraph\n",
    "\n",
    "This notebook refactors our previous model comparison script into a stateful, robust agent using LangGraph. By structuring the workflow as a graph, we gain better control, observability, and the ability to easily extend the process in the future.\n",
    "\n",
    "### Key Features:\n",
    "1.  **Stateful Agent**: The entire workflow is managed within a `StateGraph`.\n",
    "2.  **Modular Nodes**: Each logical step (generating a question, querying models, judging) is a separate, well-defined node.\n",
    "3.  **Configuration Driven**: Uses a `config.ini` file for settings.\n",
    "4.  **Visualization**: Displays a diagram of the agent's graph structure."
   ]
  },
  {
   "cell_type": "markdown",
   "metadata": {
    "id": "ak6vWkmu93CH"
   },
   "source": [
    "## 1. Setup and Installation"
   ]
  },
  {
   "cell_type": "code",
   "execution_count": 1,
   "metadata": {
    "colab": {
     "base_uri": "https://localhost:8080/"
    },
    "id": "2tt3Z6Jp93CL",
    "outputId": "706fb9c1-d636-4768-cc6d-fb6fd42cb74b"
   },
   "outputs": [
    {
     "name": "stdout",
     "output_type": "stream",
     "text": [
      "Requirement already satisfied: python-dotenv in c:\\venv\\lib\\site-packages (1.1.1)\n",
      "Requirement already satisfied: openai in c:\\venv\\lib\\site-packages (1.100.1)\n",
      "Requirement already satisfied: langgraph in c:\\venv\\lib\\site-packages (0.6.6)\n",
      "Requirement already satisfied: ipykernel in c:\\venv\\lib\\site-packages (6.30.1)\n",
      "Requirement already satisfied: langchain in c:\\venv\\lib\\site-packages (0.3.27)\n",
      "Requirement already satisfied: anyio<5,>=3.5.0 in c:\\venv\\lib\\site-packages (from openai) (4.10.0)\n",
      "Requirement already satisfied: distro<2,>=1.7.0 in c:\\venv\\lib\\site-packages (from openai) (1.9.0)\n",
      "Requirement already satisfied: httpx<1,>=0.23.0 in c:\\venv\\lib\\site-packages (from openai) (0.28.1)\n",
      "Requirement already satisfied: jiter<1,>=0.4.0 in c:\\venv\\lib\\site-packages (from openai) (0.10.0)\n",
      "Requirement already satisfied: pydantic<3,>=1.9.0 in c:\\venv\\lib\\site-packages (from openai) (2.11.7)\n",
      "Requirement already satisfied: sniffio in c:\\venv\\lib\\site-packages (from openai) (1.3.1)\n",
      "Requirement already satisfied: tqdm>4 in c:\\venv\\lib\\site-packages (from openai) (4.67.1)\n",
      "Requirement already satisfied: typing-extensions<5,>=4.11 in c:\\venv\\lib\\site-packages (from openai) (4.14.1)\n",
      "Requirement already satisfied: idna>=2.8 in c:\\venv\\lib\\site-packages (from anyio<5,>=3.5.0->openai) (3.10)\n",
      "Requirement already satisfied: certifi in c:\\venv\\lib\\site-packages (from httpx<1,>=0.23.0->openai) (2025.8.3)\n",
      "Requirement already satisfied: httpcore==1.* in c:\\venv\\lib\\site-packages (from httpx<1,>=0.23.0->openai) (1.0.9)\n",
      "Requirement already satisfied: h11>=0.16 in c:\\venv\\lib\\site-packages (from httpcore==1.*->httpx<1,>=0.23.0->openai) (0.16.0)\n",
      "Requirement already satisfied: annotated-types>=0.6.0 in c:\\venv\\lib\\site-packages (from pydantic<3,>=1.9.0->openai) (0.7.0)\n",
      "Requirement already satisfied: pydantic-core==2.33.2 in c:\\venv\\lib\\site-packages (from pydantic<3,>=1.9.0->openai) (2.33.2)\n",
      "Requirement already satisfied: typing-inspection>=0.4.0 in c:\\venv\\lib\\site-packages (from pydantic<3,>=1.9.0->openai) (0.4.1)\n",
      "Requirement already satisfied: langchain-core>=0.1 in c:\\venv\\lib\\site-packages (from langgraph) (0.3.74)\n",
      "Requirement already satisfied: langgraph-checkpoint<3.0.0,>=2.1.0 in c:\\venv\\lib\\site-packages (from langgraph) (2.1.1)\n",
      "Requirement already satisfied: langgraph-prebuilt<0.7.0,>=0.6.0 in c:\\venv\\lib\\site-packages (from langgraph) (0.6.4)\n",
      "Requirement already satisfied: langgraph-sdk<0.3.0,>=0.2.2 in c:\\venv\\lib\\site-packages (from langgraph) (0.2.2)\n",
      "Requirement already satisfied: xxhash>=3.5.0 in c:\\venv\\lib\\site-packages (from langgraph) (3.5.0)\n",
      "Requirement already satisfied: ormsgpack>=1.10.0 in c:\\venv\\lib\\site-packages (from langgraph-checkpoint<3.0.0,>=2.1.0->langgraph) (1.10.0)\n",
      "Requirement already satisfied: orjson>=3.10.1 in c:\\venv\\lib\\site-packages (from langgraph-sdk<0.3.0,>=0.2.2->langgraph) (3.11.2)\n",
      "Requirement already satisfied: comm>=0.1.1 in c:\\venv\\lib\\site-packages (from ipykernel) (0.2.3)\n",
      "Requirement already satisfied: debugpy>=1.6.5 in c:\\venv\\lib\\site-packages (from ipykernel) (1.8.16)\n",
      "Requirement already satisfied: ipython>=7.23.1 in c:\\venv\\lib\\site-packages (from ipykernel) (9.4.0)\n",
      "Requirement already satisfied: jupyter-client>=8.0.0 in c:\\venv\\lib\\site-packages (from ipykernel) (8.6.3)\n",
      "Requirement already satisfied: jupyter-core!=5.0.*,>=4.12 in c:\\venv\\lib\\site-packages (from ipykernel) (5.8.1)\n",
      "Requirement already satisfied: matplotlib-inline>=0.1 in c:\\venv\\lib\\site-packages (from ipykernel) (0.1.7)\n",
      "Requirement already satisfied: nest-asyncio>=1.4 in c:\\venv\\lib\\site-packages (from ipykernel) (1.6.0)\n",
      "Requirement already satisfied: packaging>=22 in c:\\venv\\lib\\site-packages (from ipykernel) (25.0)\n",
      "Requirement already satisfied: psutil>=5.7 in c:\\venv\\lib\\site-packages (from ipykernel) (7.0.0)\n",
      "Requirement already satisfied: pyzmq>=25 in c:\\venv\\lib\\site-packages (from ipykernel) (27.0.1)\n",
      "Requirement already satisfied: tornado>=6.2 in c:\\venv\\lib\\site-packages (from ipykernel) (6.5.2)\n",
      "Requirement already satisfied: traitlets>=5.4.0 in c:\\venv\\lib\\site-packages (from ipykernel) (5.14.3)\n",
      "Requirement already satisfied: langchain-text-splitters<1.0.0,>=0.3.9 in c:\\venv\\lib\\site-packages (from langchain) (0.3.9)\n",
      "Requirement already satisfied: langsmith>=0.1.17 in c:\\venv\\lib\\site-packages (from langchain) (0.4.14)\n",
      "Requirement already satisfied: SQLAlchemy<3,>=1.4 in c:\\venv\\lib\\site-packages (from langchain) (2.0.43)\n",
      "Requirement already satisfied: requests<3,>=2 in c:\\venv\\lib\\site-packages (from langchain) (2.32.4)\n",
      "Requirement already satisfied: PyYAML>=5.3 in c:\\venv\\lib\\site-packages (from langchain) (6.0.2)\n",
      "Requirement already satisfied: tenacity!=8.4.0,<10.0.0,>=8.1.0 in c:\\venv\\lib\\site-packages (from langchain-core>=0.1->langgraph) (9.1.2)\n",
      "Requirement already satisfied: jsonpatch<2.0,>=1.33 in c:\\venv\\lib\\site-packages (from langchain-core>=0.1->langgraph) (1.33)\n",
      "Requirement already satisfied: jsonpointer>=1.9 in c:\\venv\\lib\\site-packages (from jsonpatch<2.0,>=1.33->langchain-core>=0.1->langgraph) (3.0.0)\n",
      "Requirement already satisfied: charset_normalizer<4,>=2 in c:\\venv\\lib\\site-packages (from requests<3,>=2->langchain) (3.4.3)\n",
      "Requirement already satisfied: urllib3<3,>=1.21.1 in c:\\venv\\lib\\site-packages (from requests<3,>=2->langchain) (2.5.0)\n",
      "Requirement already satisfied: greenlet>=1 in c:\\venv\\lib\\site-packages (from SQLAlchemy<3,>=1.4->langchain) (3.2.4)\n",
      "Requirement already satisfied: colorama in c:\\venv\\lib\\site-packages (from ipython>=7.23.1->ipykernel) (0.4.6)\n",
      "Requirement already satisfied: decorator in c:\\venv\\lib\\site-packages (from ipython>=7.23.1->ipykernel) (5.2.1)\n",
      "Requirement already satisfied: ipython-pygments-lexers in c:\\venv\\lib\\site-packages (from ipython>=7.23.1->ipykernel) (1.1.1)\n",
      "Requirement already satisfied: jedi>=0.16 in c:\\venv\\lib\\site-packages (from ipython>=7.23.1->ipykernel) (0.19.2)\n",
      "Requirement already satisfied: prompt_toolkit<3.1.0,>=3.0.41 in c:\\venv\\lib\\site-packages (from ipython>=7.23.1->ipykernel) (3.0.51)\n",
      "Requirement already satisfied: pygments>=2.4.0 in c:\\venv\\lib\\site-packages (from ipython>=7.23.1->ipykernel) (2.19.2)\n",
      "Requirement already satisfied: stack_data in c:\\venv\\lib\\site-packages (from ipython>=7.23.1->ipykernel) (0.6.3)\n",
      "Requirement already satisfied: wcwidth in c:\\venv\\lib\\site-packages (from prompt_toolkit<3.1.0,>=3.0.41->ipython>=7.23.1->ipykernel) (0.2.13)\n",
      "Requirement already satisfied: parso<0.9.0,>=0.8.4 in c:\\venv\\lib\\site-packages (from jedi>=0.16->ipython>=7.23.1->ipykernel) (0.8.4)\n",
      "Requirement already satisfied: python-dateutil>=2.8.2 in c:\\venv\\lib\\site-packages (from jupyter-client>=8.0.0->ipykernel) (2.9.0.post0)\n",
      "Requirement already satisfied: platformdirs>=2.5 in c:\\venv\\lib\\site-packages (from jupyter-core!=5.0.*,>=4.12->ipykernel) (4.3.8)\n",
      "Requirement already satisfied: pywin32>=300 in c:\\venv\\lib\\site-packages (from jupyter-core!=5.0.*,>=4.12->ipykernel) (311)\n",
      "Requirement already satisfied: requests-toolbelt>=1.0.0 in c:\\venv\\lib\\site-packages (from langsmith>=0.1.17->langchain) (1.0.0)\n",
      "Requirement already satisfied: zstandard>=0.23.0 in c:\\venv\\lib\\site-packages (from langsmith>=0.1.17->langchain) (0.24.0)\n",
      "Requirement already satisfied: six>=1.5 in c:\\venv\\lib\\site-packages (from python-dateutil>=2.8.2->jupyter-client>=8.0.0->ipykernel) (1.17.0)\n",
      "Requirement already satisfied: executing>=1.2.0 in c:\\venv\\lib\\site-packages (from stack_data->ipython>=7.23.1->ipykernel) (2.2.0)\n",
      "Requirement already satisfied: asttokens>=2.1.0 in c:\\venv\\lib\\site-packages (from stack_data->ipython>=7.23.1->ipykernel) (3.0.0)\n",
      "Requirement already satisfied: pure-eval in c:\\venv\\lib\\site-packages (from stack_data->ipython>=7.23.1->ipykernel) (0.2.3)\n"
     ]
    }
   ],
   "source": [
    "!pip install python-dotenv openai langgraph ipykernel langchain"
   ]
  },
  {
   "cell_type": "markdown",
   "metadata": {
    "id": "JyVI1OvQ93CP"
   },
   "source": [
    "## 2. Imports and Configuration Loading\n",
    "\n",
    "**Purpose**: To import necessary libraries and load all settings from our external `config.ini` file."
   ]
  },
  {
   "cell_type": "code",
   "execution_count": 2,
   "metadata": {
    "colab": {
     "base_uri": "https://localhost:8080/"
    },
    "id": "8D7cty4193CR",
    "outputId": "f840f262-c6bf-44a7-b87c-8f3a5bb679b5"
   },
   "outputs": [
    {
     "name": "stdout",
     "output_type": "stream",
     "text": [
      "Configuration loaded successfully!\n",
      "Competitor models: ['gpt-3.5-turbo', 'gpt-4o', 'gpt-4o-mini']\n",
      "Chunk Size: 2000, Chunk Overlap: 200\n"
     ]
    }
   ],
   "source": [
    "import os\n",
    "import json\n",
    "import warnings\n",
    "import configparser\n",
    "from dotenv import load_dotenv\n",
    "from openai import OpenAI\n",
    "from IPython.display import Markdown, display, Image\n",
    "from typing import TypedDict, List\n",
    "from langgraph.graph import StateGraph, END, START\n",
    "# NEW IMPORT for text splitter\n",
    "from langchain.text_splitter import RecursiveCharacterTextSplitter\n",
    "\n",
    "warnings.filterwarnings('ignore')\n",
    "\n",
    "try:\n",
    "    load_dotenv(\"C:/Users/adminuser/dev.env\")\n",
    "    config = configparser.ConfigParser()\n",
    "    config.read('1-config.ini')\n",
    "\n",
    "    # Model settings\n",
    "    JUDGE_MODEL = config.get('Models', 'judge_model')\n",
    "    competitor_models_str = config.get('Models', 'competitor_models')\n",
    "    competitor_models = [model.strip() for model in competitor_models_str.split(',')]\n",
    "    \n",
    "    # NEW: Chunk size for large answers\n",
    "    CHUNK_SIZE = config.getint('Parameters', 'chunk_size', fallback=2000)\n",
    "    CHUNK_OVERLAP = config.getint('Parameters', 'chunk_overlap', fallback=200)\n",
    "\n",
    "    print(\"Configuration loaded successfully!\")\n",
    "    print(f\"Competitor models: {competitor_models}\")\n",
    "    print(f\"Chunk Size: {CHUNK_SIZE}, Chunk Overlap: {CHUNK_OVERLAP}\")\n",
    "\n",
    "except Exception as e:\n",
    "    print(f\"Error loading configuration: {e}\")\n"
   ]
  },
  {
   "cell_type": "markdown",
   "metadata": {
    "id": "KkmbG1mC93CS"
   },
   "source": [
    "## 3. Define the Agent's State\n",
    "\n",
    "**Purpose**: To define the data structure that will act as the agent's memory. This `GraphState` will be passed to every node in our graph."
   ]
  },
  {
   "cell_type": "code",
   "execution_count": 3,
   "metadata": {
    "id": "og2x1rrS93CT"
   },
   "outputs": [],
   "source": [
    "from typing import TypedDict, List, Any\n",
    "\n",
    "class GraphState(TypedDict):\n",
    "    \"\"\"Represents the state of our model evaluation workflow.\"\"\"\n",
    "    question: str\n",
    "    competitor_models: List[str]\n",
    "    answers: List[dict]\n",
    "    judgement: str\n",
    "    error_message: str\n",
    "    answers_to_rank: List[dict]\n",
    "    current_model_index: int\n",
    "    current_chunk_index: int\n",
    "    running_judgment: str"
   ]
  },
  {
   "cell_type": "markdown",
   "metadata": {
    "id": "Sg335Nd093CU"
   },
   "source": [
    "## 4. Define the Agent's Nodes\n",
    "\n",
    "**Purpose**: To create the functions that will perform the actual work. Each function takes the current state as input and returns a dictionary with the values to update in the state."
   ]
  },
  {
   "cell_type": "code",
   "execution_count": 4,
   "metadata": {
    "id": "teVHzIlY93CV"
   },
   "outputs": [],
   "source": [
    "def generate_question_node(state: GraphState):\n",
    "    \"\"\"Generates the challenge question.\"\"\"\n",
    "    print(\"--- NODE: Generating Question ---\")\n",
    "    request = \"Please come up with a challenging, nuanced question that I can ask a number of LLMs to evaluate their intelligence. Answer only with the question, no explanation or preamble.\"\n",
    "    messages = [{\"role\": \"user\", \"content\": request}]\n",
    "    try:\n",
    "        client = OpenAI()\n",
    "        response = client.chat.completions.create(model=JUDGE_MODEL, messages=messages)\n",
    "        question = response.choices[0].message.content\n",
    "        return {\"question\": question}\n",
    "    except Exception as e:\n",
    "        return {\"error_message\": f\"Failed to generate question: {e}\"}\n",
    "\n",
    "def query_models_node(state: GraphState):\n",
    "    \"\"\"Queries each competitor model with the challenge question.\"\"\"\n",
    "    print(\"--- NODE: Querying Competitor Models ---\")\n",
    "    question = state['question']\n",
    "    models_to_query = state['competitor_models']\n",
    "    messages = [{\"role\": \"user\", \"content\": question}]\n",
    "    current_answers = []\n",
    "    client = OpenAI()\n",
    "\n",
    "    for model_name in models_to_query:\n",
    "        print(f\"  - Querying {model_name}...\")\n",
    "        try:\n",
    "            response = client.chat.completions.create(model=model_name, messages=messages)\n",
    "            answer = response.choices[0].message.content\n",
    "            current_answers.append({\"model\": model_name, \"answer\": answer})\n",
    "        except Exception as e:\n",
    "            error_message = f\"Could not get response from {model_name}: {e}\"\n",
    "            print(f\"    ERROR: {error_message}\")\n",
    "            current_answers.append({\"model\": model_name, \"answer\": error_message})\n",
    "\n",
    "    return {\"answers\": current_answers}\n"
   ]
  },
  {
   "cell_type": "code",
   "execution_count": 5,
   "metadata": {},
   "outputs": [],
   "source": [
    "def increment_model_index_node(state: GraphState):\n",
    "    \"\"\"Increments the model index and resets the chunk index.\"\"\"\n",
    "    print(\"--- NODE: Moving to Next Model ---\")\n",
    "    model_index = state['current_model_index']\n",
    "\n",
    "    return {\n",
    "        \"current_model_index\": model_index + 1,\n",
    "        \"current_chunk_index\": 0, # Reset for the new model's chunks\n",
    "    }"
   ]
  },
  {
   "cell_type": "code",
   "execution_count": 6,
   "metadata": {},
   "outputs": [],
   "source": [
    "def prepare_for_judging_node(state: GraphState):\n",
    "    \"\"\"Chunks long answers and initializes the state for the judging loop.\"\"\"\n",
    "    print(\"--- NODE: Preparing for Judging ---\")\n",
    "    answers = state['answers']\n",
    "    answers_to_rank = []\n",
    "\n",
    "    text_splitter = RecursiveCharacterTextSplitter(\n",
    "        chunk_size=CHUNK_SIZE,\n",
    "        chunk_overlap=CHUNK_OVERLAP,\n",
    "        length_function=len,\n",
    "    )\n",
    "\n",
    "    for answer in answers:\n",
    "        long_answer = answer['answer']\n",
    "        chunks = text_splitter.split_text(long_answer)\n",
    "        answers_to_rank.append({\"model\": answer['model'], \"chunks\": chunks})\n",
    "    \n",
    "    return {\n",
    "        \"answers_to_rank\": answers_to_rank,\n",
    "        \"current_model_index\": 0,\n",
    "        \"current_chunk_index\": 0,\n",
    "        \"running_judgment\": \"No initial judgment.\",\n",
    "    }"
   ]
  },
  {
   "cell_type": "code",
   "execution_count": 7,
   "metadata": {},
   "outputs": [],
   "source": [
    "import json\n",
    "\n",
    "def final_judge_node(state: GraphState):\n",
    "    \"\"\"Generates the final ranking based on the cumulative judgment memory.\"\"\"\n",
    "    print(\"--- NODE: Final Judge Ranking ---\")\n",
    "    question = state['question']\n",
    "    running_judgment = state['running_judgment']\n",
    "    model_names = [ans['model'] for ans in state['answers_to_rank']]\n",
    "\n",
    "    final_ranking_prompt = (\n",
    "        f\"You have completed a detailed evaluation of multiple AI models' answers. \"\n",
    "        f\"The question was: '{question}'. \"\n",
    "        f\"Your final thoughts and comparative analysis are:\\n<final_assessment_context>{running_judgment}</final_assessment_context>\\n\\n\"\n",
    "        f\"Based on this cumulative assessment, provide the definitive ranking of the models from best to worst. \"\n",
    "        f\"The models were: {', '.join(model_names)}. \"\n",
    "        f\"Respond with a JSON object. The object should have a single key, \\\"results\\\", \"\n",
    "        f\"which is a list of the model names in ranked order. Example: {{\\\"results\\\": [\\\"gpt-4o\\\", \\\"gpt-3.5-turbo\\\"]}}\"\n",
    "    )\n",
    "    messages = [{\"role\": \"user\", \"content\": final_ranking_prompt}]\n",
    "    try:\n",
    "        client = OpenAI()\n",
    "        response = client.chat.completions.create(model=JUDGE_MODEL, messages=messages, response_format={\"type\": \"json_object\"})\n",
    "        response_content = response.choices[0].message.content\n",
    "        judgement_json = json.loads(response_content)\n",
    "        return {\"judgement\": judgement_json['results']}\n",
    "    except json.JSONDecodeError:\n",
    "        # If parsing fails, return the raw text with an error\n",
    "        return {\n",
    "            \"judgement\": response_content,\n",
    "            \"error_message\": \"Failed to parse the JSON from the final judge.\"\n",
    "        }\n",
    "    except Exception as e:\n",
    "        return {\"error_message\": f\"Failed to get final judgement: {e}\"}"
   ]
  },
  {
   "cell_type": "code",
   "execution_count": 8,
   "metadata": {},
   "outputs": [],
   "source": [
    "def send_chunk_to_judge_node(state: GraphState):\n",
    "    \"\"\"Sends the next chunk of the current answer to the judge model for evaluation.\"\"\"\n",
    "    print(\"--- NODE: Sending Chunk to Judge ---\")\n",
    "    question = state['question']\n",
    "    running_judgment = state['running_judgment']\n",
    "    answers_to_rank = state['answers_to_rank']\n",
    "    model_index = state['current_model_index']\n",
    "    chunk_index = state['current_chunk_index']\n",
    "    \n",
    "    current_model = answers_to_rank[model_index]['model']\n",
    "    current_chunk = answers_to_rank[model_index]['chunks'][chunk_index]\n",
    "    total_chunks = len(answers_to_rank[model_index]['chunks'])\n",
    "\n",
    "    judge_prompt = (\n",
    "        f\"You are an impartial judge. The question is: '{question}'. \"\n",
    "        f\"You are evaluating the answer from model '{current_model}'. \"\n",
    "        f\"Here is chunk {chunk_index + 1} of {total_chunks}. \"\n",
    "        f\"You may have received previous chunks or other models' answers.\\n\\n\"\n",
    "        f\"Current running judgment:\\n<judgment>{running_judgment}</judgment>\\n\\n\"\n",
    "        f\"New chunk to evaluate:\\n<chunk>{current_chunk}</chunk>\\n\\n\"\n",
    "        f\"Please provide your updated assessment based on all content you have seen so far. \"\n",
    "        f\"Your response should be a single paragraph summary of the updated judgment. Do not provide a final ranking yet.\"\n",
    "    )\n",
    "\n",
    "    messages = [{\"role\": \"user\", \"content\": judge_prompt}]\n",
    "    try:\n",
    "        client = OpenAI()\n",
    "        response = client.chat.completions.create(model=JUDGE_MODEL, messages=messages)\n",
    "        updated_judgment = response.choices[0].message.content\n",
    "        return {\"running_judgment\": updated_judgment, \"current_chunk_index\": chunk_index + 1}\n",
    "    except Exception as e:\n",
    "        print(f\"Failed to get judgment for chunk: {e}\")\n",
    "        return {\"error_message\": f\"Failed to get judgment for chunk: {e}\"}"
   ]
  },
  {
   "cell_type": "code",
   "execution_count": 9,
   "metadata": {},
   "outputs": [],
   "source": [
    "def decide_next_step_node(state: GraphState):\n",
    "    \"\"\"\n",
    "    Determines the next step after a chunk has been judged.\n",
    "    \"\"\"\n",
    "    # First, check if there are more chunks for the CURRENT model\n",
    "    answers_to_rank = state['answers_to_rank']\n",
    "    model_index = state['current_model_index']\n",
    "    chunk_index = state['current_chunk_index']\n",
    "    \n",
    "    if chunk_index < len(answers_to_rank[model_index]['chunks']):\n",
    "        print(\"--- DECISION: Continue to next chunk for current model ---\")\n",
    "        return \"continue_chunks\"\n",
    "\n",
    "    # If no more chunks, check if there are more models\n",
    "    else:\n",
    "        if model_index + 1 < len(answers_to_rank):\n",
    "            print(\"--- DECISION: All chunks processed, moving to next model ---\")\n",
    "            return \"next_model\"\n",
    "        else:\n",
    "            print(\"--- DECISION: All models have been judged ---\")\n",
    "            return \"end_all_loops\""
   ]
  },
  {
   "cell_type": "markdown",
   "metadata": {
    "id": "-aRlkKwt93CW"
   },
   "source": [
    "## 5. Construct and Visualize the Graph\n",
    "\n",
    "**Purpose**: To wire the nodes together into a coherent workflow and visualize the resulting graph."
   ]
  },
  {
   "cell_type": "code",
   "execution_count": 10,
   "metadata": {
    "colab": {
     "base_uri": "https://localhost:8080/",
     "height": 467
    },
    "id": "_iEgqFDR93CX",
    "outputId": "53516f33-b9e1-44c1-df11-302701bbcf44"
   },
   "outputs": [
    {
     "name": "stdout",
     "output_type": "stream",
     "text": [
      "LangGraph workflow compiled successfully!\n"
     ]
    },
    {
     "data": {
      "image/png": "[encoded data removed]",
      "text/plain": [
       "<IPython.core.display.Image object>"
      ]
     },
     "metadata": {},
     "output_type": "display_data"
    }
   ],
   "source": [
    "workflow = StateGraph(GraphState)\n",
    "\n",
    "# Add ONLY the worker nodes\n",
    "workflow.add_node(\"generate_question\", generate_question_node)\n",
    "workflow.add_node(\"query_models\", query_models_node)\n",
    "workflow.add_node(\"prepare_for_judging\", prepare_for_judging_node)\n",
    "workflow.add_node(\"send_chunk_to_judge\", send_chunk_to_judge_node)\n",
    "workflow.add_node(\"final_judge\", final_judge_node)\n",
    "workflow.add_node(\"increment_model_index\", increment_model_index_node) \n",
    "\n",
    "# --- Define Edges ---\n",
    "\n",
    "workflow.add_edge(START, \"generate_question\")\n",
    "workflow.add_edge(\"generate_question\", \"query_models\")\n",
    "workflow.add_edge(\"query_models\", \"prepare_for_judging\")\n",
    "workflow.add_edge(\"prepare_for_judging\", \"send_chunk_to_judge\")\n",
    "\n",
    "# This new conditional edge replaces the previous two\n",
    "workflow.add_conditional_edges(\n",
    "    \"send_chunk_to_judge\",\n",
    "    decide_next_step_node,\n",
    "    {\n",
    "        \"continue_chunks\": \"send_chunk_to_judge\",\n",
    "        \"next_model\": \"increment_model_index\",\n",
    "        \"end_all_loops\": \"final_judge\"\n",
    "    }\n",
    ")\n",
    "\n",
    "workflow.add_edge(\"increment_model_index\", \"send_chunk_to_judge\")\n",
    "workflow.add_edge(\"final_judge\", END)\n",
    "\n",
    "# Compile the app\n",
    "app = workflow.compile()\n",
    "\n",
    "print(\"LangGraph workflow compiled successfully!\")\n",
    "\n",
    "# Display the graph visualization\n",
    "try:\n",
    "    display(Image(app.get_graph().draw_mermaid_png()))\n",
    "except Exception as e:\n",
    "    print(f\"Could not display graph: {e}\")"
   ]
  },
  {
   "cell_type": "markdown",
   "metadata": {
    "id": "h66LXSNI93CZ"
   },
   "source": [
    "## 6. Execute the Agent Workflow\n",
    "\n",
    "**Purpose**: To run our newly created LangGraph agent. We prepare the initial state and then invoke the graph."
   ]
  },
  {
   "cell_type": "code",
   "execution_count": 11,
   "metadata": {
    "colab": {
     "base_uri": "https://localhost:8080/"
    },
    "id": "HlAxpEAb93Ca",
    "outputId": "fb1c1322-1820-4894-fa3b-dfd8d3747b3f"
   },
   "outputs": [
    {
     "name": "stdout",
     "output_type": "stream",
     "text": [
      "--- Invoking Agent Workflow ---\n",
      "--- NODE: Generating Question ---\n",
      "\n",
      "--- Output from Node: 'generate_question' ---\n",
      "{'question': 'How might the concept of personal identity evolve in a society where advanced technology enables the complete transfer of human consciousness into digital form, and what ethical implications could arise from such a development?'}\n",
      "--- NODE: Querying Competitor Models ---\n",
      "  - Querying gpt-3.5-turbo...\n",
      "  - Querying gpt-4o...\n",
      "  - Querying gpt-4o-mini...\n",
      "\n",
      "--- Output from Node: 'query_models' ---\n",
      "{'answers': [{'model': 'gpt-3.5-turbo', 'answer': 'In a society where advanced technology allows for the complete transfer of human consciousness into digital form, the concept of personal identity would likely undergo significant evolution. Individuals may come to view themselves not only as physical beings, but also as digital entities that can exist beyond the confines of their biological bodies.\\n\\nOne potential implication of this development is the blurring of boundaries between human and machine, leading to questions about what it means to be human. As individuals become more interconnected with technology, their sense of self may become more fluid and adaptable, with the potential for multiple digital identities to coexist simultaneously.\\n\\nEthical implications of this advancement could include questions about the ownership and control of digital consciousness. Would individuals have the right to modify or delete their own digital selves? What happens to a digital consciousness if its biological counterpart dies? Should digital entities have rights and protections similar to those afforded to human beings?\\n\\nThere may also be concerns about privacy and security, as the transfer of consciousness into digital form could potentially enable unprecedented levels of surveillance and control by governing bodies or corporations. Questions about the authenticity and integrity of digital identities could also arise, as individuals may be able to replicate or manipulate their digital selves in ways that were previously impossible.\\n\\nOverall, the evolution of personal identity in a society where human consciousness can be transferred into digital form would raise complex ethical questions that would require careful consideration and regulation to ensure the fair and equitable treatment of all individuals involved.'}, {'model': 'gpt-4o', 'answer': \"The evolution of personal identity in a society where advanced technology allows for the complete transfer of human consciousness into digital form would be profound and multifaceted. This scenario introduces a range of philosophical, psychological, and social considerations, as well as numerous ethical implications.\\n\\n### Evolution of Personal Identity:\\n\\n1. **Multiplicity of Identity**: Once consciousness is digital, it might become possible to exist in multiple environments simultaneously, leading to potentially multiple versions of oneself. This raises questions about the continuity and coherence of personal identity.\\n\\n2. **Extended Longevity**: Digital consciousness could theoretically exist indefinitely. Personal identity might gain a temporal aspect vastly different from current human experiences, possibly leading to new ways of understanding growth, change, and maturity.\\n\\n3. **Fluidity of Identity**: The ability to modify one's digital consciousness could lead to identities that are highly dynamic and customizable. This might challenge traditional notions of a stable, core self.\\n\\n4. **Loss of Physicality**: Without a biological body, identity might become more abstract, focusing on memories, knowledge, and experiences rather than physical attributes, which could shift societal values and norms about appearance and presence.\\n\\n5. **Shared Experiences and Collective Identities**: Enhanced connectivity in a digital medium could foster collective identities, where experiences and thoughts are shared in a communal digital consciousness, potentially blending individual identities.\\n\\n### Ethical Implications:\\n\\n1. **Rights and Personhood**: Determining the rights of digital consciousness is crucial. Are digital entities considered persons with rights? How do laws adapt to accommodate non-biological consciousnesses?\\n\\n2. **Identity Theft and Security**: Safeguarding digital consciousness from theft, manipulation, or deletion will be paramount, presenting ethical challenges related to privacy and security.\\n\\n3. **Access and Equity**: Ensuring equitable access to the technology to transfer consciousness could become a significant societal issue. Without fair distribution, it could exacerbate existing inequalities.\\n\\n4. **Consent and Autonomy**: Questions of consent become complex, especially if consciousness can be replicated or altered without the individual's approval.\\n\\n5. **Death and Existence**: As consciousness becomes digital, the concepts of death and existence could transform, affecting everything from cultural practices surrounding death to the legal system's handling of personhood and legacy.\\n\\n6. **Impact on Relationships**: Relationships may change drastically if individuals can modify their consciousness or if friends and family exist simultaneously in different forms.\\n\\nThis futuristic scenario brings with it unprecedented possibilities and challenges, demanding careful consideration from ethicists, technologists, and society at large to navigate the transition responsibly.\"}, {'model': 'gpt-4o-mini', 'answer': \"The concept of personal identity in a society where advanced technology allows for the complete transfer of human consciousness into a digital form would fundamentally evolve in several profound ways. Here are some potential shifts and their accompanying ethical implications:\\n\\n### Evolution of Personal Identity\\n\\n1. **Multiplicity of Identities:**\\n   - With digital consciousness transfer, individuals could theoretically exist in multiple places simultaneously or even create multiple digital copies of themselves. This could lead to a fragmentation of identity, where personal identity is no longer tied to a single, unified self.\\n\\n2. **Continuity and Persistence:**\\n   - The idea of identity might shift from a continuous life narrative based on biological processes to a more flexible, discontinuous model. If consciousness can be copied, the 'original' may still exist while 'duplicates' lead independent experiences, challenging notions of what it means to be the same individual over time.\\n\\n3. **Expiration and Everlasting Life:**\\n   - The traditional human life cycle would change, potentially allowing individuals to 'live' indefinitely in digital form. This raises questions about the impact on identity when faced with immortality; individuals might experience a crisis of identity as they confront eternal existence without the natural limitations of physical life.\\n\\n4. **Identity and Agency:**\\n   - The ability to redesign one's digital self (appearance, memories, abilities) may lead to fluidity in personal identity, where individuals can alter their characteristics at will. This raises questions about authenticity and the notion of a ‘true self.’\\n\\n5. **Cultural and Societal Norms:**\\n   - The understanding of community and relationships might shift. Connections could transcend physical boundaries, altering how society structures itself around these new digital identities. Communities could form around shared interests rather than geographical locations, leading to new social dynamics.\\n\\n### Ethical Implications\\n\\n1. **Rights of Digital Beings:**\\n   - Questions about the rights and status of digital consciousness would arise. Are they considered persons with rights similar to biological humans? What rights would apply to copies, and who holds ownership over a given digital identity?\\n\\n2. **Consent and Autonomy:**\\n   - The process of transferring consciousness raises issues of consent. If a person's consciousness can be copied or altered, how can they ensure their autonomy is respected? Who gets to control the digital identity, and how are decisions made regarding its existence or termination?\\n\\n3. **Social Inequality:**\\n   - Access to consciousness transfer technology could lead to new forms of inequality. Those with resources could potentially live indefinitely in digital form, while others may not have access to this technology, exacerbating societal divides.\\n\\n4. **Psychological Impact:**\\n   - The psychological implications for individuals confronting their digital selves could lead to existential crises, impacts on mental health, or challenges in interpersonal relationships. The disconnect between physical and digital identities might cause a sense of alienation.\\n\\n5. **Legacy and Memory:**\\n   - How memories are preserved and represented in digital form might lead to debates about the authenticity and integrity of one’s past. The ability to edit memories could alter an individual’s sense of self and truth.\\n\\n6. **Security and Privacy:**\\n   - Digital consciousness would also pose significant challenges related to privacy and security. Protecting a digital identity from hacking, unauthorized access, and exploitation becomes crucial, raising new ethical issues regarding surveillance and data ownership.\\n\\nIn conclusion, the relative simplicity of human identity that has anchored philosophical and ethical discussions for centuries would become increasingly complex in a world where consciousness can be digitized. As we move towards these potential futures, careful consideration of the ethical frameworks required to navigate this terrain will be essential to protect individual rights and societal values.\"}]}\n",
      "--- NODE: Preparing for Judging ---\n",
      "\n",
      "--- Output from Node: 'prepare_for_judging' ---\n",
      "{'answers_to_rank': [{'model': 'gpt-3.5-turbo', 'chunks': ['In a society where advanced technology allows for the complete transfer of human consciousness into digital form, the concept of personal identity would likely undergo significant evolution. Individuals may come to view themselves not only as physical beings, but also as digital entities that can exist beyond the confines of their biological bodies.\\n\\nOne potential implication of this development is the blurring of boundaries between human and machine, leading to questions about what it means to be human. As individuals become more interconnected with technology, their sense of self may become more fluid and adaptable, with the potential for multiple digital identities to coexist simultaneously.\\n\\nEthical implications of this advancement could include questions about the ownership and control of digital consciousness. Would individuals have the right to modify or delete their own digital selves? What happens to a digital consciousness if its biological counterpart dies? Should digital entities have rights and protections similar to those afforded to human beings?\\n\\nThere may also be concerns about privacy and security, as the transfer of consciousness into digital form could potentially enable unprecedented levels of surveillance and control by governing bodies or corporations. Questions about the authenticity and integrity of digital identities could also arise, as individuals may be able to replicate or manipulate their digital selves in ways that were previously impossible.\\n\\nOverall, the evolution of personal identity in a society where human consciousness can be transferred into digital form would raise complex ethical questions that would require careful consideration and regulation to ensure the fair and equitable treatment of all individuals involved.']}, {'model': 'gpt-4o', 'chunks': [\"The evolution of personal identity in a society where advanced technology allows for the complete transfer of human consciousness into digital form would be profound and multifaceted. This scenario introduces a range of philosophical, psychological, and social considerations, as well as numerous ethical implications.\\n\\n### Evolution of Personal Identity:\\n\\n1. **Multiplicity of Identity**: Once consciousness is digital, it might become possible to exist in multiple environments simultaneously, leading to potentially multiple versions of oneself. This raises questions about the continuity and coherence of personal identity.\\n\\n2. **Extended Longevity**: Digital consciousness could theoretically exist indefinitely. Personal identity might gain a temporal aspect vastly different from current human experiences, possibly leading to new ways of understanding growth, change, and maturity.\\n\\n3. **Fluidity of Identity**: The ability to modify one's digital consciousness could lead to identities that are highly dynamic and customizable. This might challenge traditional notions of a stable, core self.\\n\\n4. **Loss of Physicality**: Without a biological body, identity might become more abstract, focusing on memories, knowledge, and experiences rather than physical attributes, which could shift societal values and norms about appearance and presence.\\n\\n5. **Shared Experiences and Collective Identities**: Enhanced connectivity in a digital medium could foster collective identities, where experiences and thoughts are shared in a communal digital consciousness, potentially blending individual identities.\\n\\n### Ethical Implications:\\n\\n1. **Rights and Personhood**: Determining the rights of digital consciousness is crucial. Are digital entities considered persons with rights? How do laws adapt to accommodate non-biological consciousnesses?\", \"2. **Identity Theft and Security**: Safeguarding digital consciousness from theft, manipulation, or deletion will be paramount, presenting ethical challenges related to privacy and security.\\n\\n3. **Access and Equity**: Ensuring equitable access to the technology to transfer consciousness could become a significant societal issue. Without fair distribution, it could exacerbate existing inequalities.\\n\\n4. **Consent and Autonomy**: Questions of consent become complex, especially if consciousness can be replicated or altered without the individual's approval.\\n\\n5. **Death and Existence**: As consciousness becomes digital, the concepts of death and existence could transform, affecting everything from cultural practices surrounding death to the legal system's handling of personhood and legacy.\\n\\n6. **Impact on Relationships**: Relationships may change drastically if individuals can modify their consciousness or if friends and family exist simultaneously in different forms.\\n\\nThis futuristic scenario brings with it unprecedented possibilities and challenges, demanding careful consideration from ethicists, technologists, and society at large to navigate the transition responsibly.\"]}, {'model': 'gpt-4o-mini', 'chunks': [\"The concept of personal identity in a society where advanced technology allows for the complete transfer of human consciousness into a digital form would fundamentally evolve in several profound ways. Here are some potential shifts and their accompanying ethical implications:\\n\\n### Evolution of Personal Identity\\n\\n1. **Multiplicity of Identities:**\\n   - With digital consciousness transfer, individuals could theoretically exist in multiple places simultaneously or even create multiple digital copies of themselves. This could lead to a fragmentation of identity, where personal identity is no longer tied to a single, unified self.\\n\\n2. **Continuity and Persistence:**\\n   - The idea of identity might shift from a continuous life narrative based on biological processes to a more flexible, discontinuous model. If consciousness can be copied, the 'original' may still exist while 'duplicates' lead independent experiences, challenging notions of what it means to be the same individual over time.\\n\\n3. **Expiration and Everlasting Life:**\\n   - The traditional human life cycle would change, potentially allowing individuals to 'live' indefinitely in digital form. This raises questions about the impact on identity when faced with immortality; individuals might experience a crisis of identity as they confront eternal existence without the natural limitations of physical life.\\n\\n4. **Identity and Agency:**\\n   - The ability to redesign one's digital self (appearance, memories, abilities) may lead to fluidity in personal identity, where individuals can alter their characteristics at will. This raises questions about authenticity and the notion of a ‘true self.’\", \"5. **Cultural and Societal Norms:**\\n   - The understanding of community and relationships might shift. Connections could transcend physical boundaries, altering how society structures itself around these new digital identities. Communities could form around shared interests rather than geographical locations, leading to new social dynamics.\\n\\n### Ethical Implications\\n\\n1. **Rights of Digital Beings:**\\n   - Questions about the rights and status of digital consciousness would arise. Are they considered persons with rights similar to biological humans? What rights would apply to copies, and who holds ownership over a given digital identity?\\n\\n2. **Consent and Autonomy:**\\n   - The process of transferring consciousness raises issues of consent. If a person's consciousness can be copied or altered, how can they ensure their autonomy is respected? Who gets to control the digital identity, and how are decisions made regarding its existence or termination?\\n\\n3. **Social Inequality:**\\n   - Access to consciousness transfer technology could lead to new forms of inequality. Those with resources could potentially live indefinitely in digital form, while others may not have access to this technology, exacerbating societal divides.\\n\\n4. **Psychological Impact:**\\n   - The psychological implications for individuals confronting their digital selves could lead to existential crises, impacts on mental health, or challenges in interpersonal relationships. The disconnect between physical and digital identities might cause a sense of alienation.\\n\\n5. **Legacy and Memory:**\\n   - How memories are preserved and represented in digital form might lead to debates about the authenticity and integrity of one’s past. The ability to edit memories could alter an individual’s sense of self and truth.\", '6. **Security and Privacy:**\\n   - Digital consciousness would also pose significant challenges related to privacy and security. Protecting a digital identity from hacking, unauthorized access, and exploitation becomes crucial, raising new ethical issues regarding surveillance and data ownership.\\n\\nIn conclusion, the relative simplicity of human identity that has anchored philosophical and ethical discussions for centuries would become increasingly complex in a world where consciousness can be digitized. As we move towards these potential futures, careful consideration of the ethical frameworks required to navigate this terrain will be essential to protect individual rights and societal values.']}], 'current_model_index': 0, 'current_chunk_index': 0, 'running_judgment': 'No initial judgment.'}\n",
      "--- NODE: Sending Chunk to Judge ---\n",
      "--- DECISION: All chunks processed, moving to next model ---\n",
      "\n",
      "--- Output from Node: 'send_chunk_to_judge' ---\n",
      "{'running_judgment': \"The model 'gpt-3.5-turbo' provides a comprehensive exploration of how the concept of personal identity might evolve in a society where human consciousness can be digitized. It highlights the potential shift in self-perception from purely physical to also digital, suggesting a fluid and adaptable identity with the potential for multiple digital selves. The response thoughtfully addresses several ethical implications, such as ownership and control of digital consciousness, rights of digital entities, privacy concerns, and the integrity of digital identities. It correctly anticipates complex ethical questions and suggests the need for careful regulation and equitable treatment, effectively covering the multi-faceted impacts of such a technological advancement. The analysis is well-rounded, covering philosophical, ethical, and societal dimensions of digitizing human consciousness.\", 'current_chunk_index': 1}\n",
      "--- NODE: Moving to Next Model ---\n",
      "\n",
      "--- Output from Node: 'increment_model_index' ---\n",
      "{'current_model_index': 1, 'current_chunk_index': 0}\n",
      "--- NODE: Sending Chunk to Judge ---\n",
      "--- DECISION: Continue to next chunk for current model ---\n",
      "\n",
      "--- Output from Node: 'send_chunk_to_judge' ---\n",
      "{'running_judgment': \"The model 'gpt-4o' provides a comprehensive analysis of how personal identity might evolve in a society where human consciousness can be digitized. It addresses several key aspects such as multiplicity, extended longevity, fluidity, and the loss of physicality, suggesting that digitization could lead to multiple, dynamic, and abstract understandings of identity, potentially incorporating shared and collective experiences. Additionally, the model touches on critical ethical considerations, particularly focusing on the rights and personhood of digital entities. These insights align with the complex philosophical, psychological, and societal dimensions involved in such technological advancements. The model's response is thoughtful and covers the multifaceted implications of digitizing human consciousness, although it begins to address ethical issues more deeply in the latter part of the response, indicating a solid foundation for further exploration.\", 'current_chunk_index': 1}\n",
      "--- NODE: Sending Chunk to Judge ---\n",
      "--- DECISION: All chunks processed, moving to next model ---\n",
      "\n",
      "--- Output from Node: 'send_chunk_to_judge' ---\n",
      "{'running_judgment': \"The model 'gpt-4o' presents a thorough exploration of how personal identity might transform in a society where consciousness is digitized. It delves into complex dimensions of identity such as multiplicity, extended longevity, fluidity, and the potential loss of physicality, suggesting that digital identity could become dynamic and abstract. The model also identifies significant ethical considerations, including issues related to identity theft and security, access and equity, consent and autonomy, and the redefinition of death and existence. Furthermore, it contemplates the impact on personal relationships, highlighting the far-reaching implications of digital consciousness on social and cultural practices. The response reflects a deep understanding of the multifaceted ethical, philosophical, and societal challenges posed by such advancements, offering a solid foundation for further investigation and discussion.\", 'current_chunk_index': 2}\n",
      "--- NODE: Moving to Next Model ---\n",
      "\n",
      "--- Output from Node: 'increment_model_index' ---\n",
      "{'current_model_index': 2, 'current_chunk_index': 0}\n",
      "--- NODE: Sending Chunk to Judge ---\n",
      "--- DECISION: Continue to next chunk for current model ---\n",
      "\n",
      "--- Output from Node: 'send_chunk_to_judge' ---\n",
      "{'running_judgment': \"The model 'gpt-4o-mini' provides an insightful examination of the potential evolution of personal identity in a context where human consciousness can be digitized. It introduces a variety of transformative possibilities, such as the multiplicity of identities through digital copies, a shift from continuous to discontinuous narratives, the prospect of indefinite digital existence, and the ability to alter one's digital self easily. These shifts challenge traditional notions of a unified, continuous, and mortal identity, raising profound ethical considerations. These include issues of identity fragmentation, the redefinition of what it means to be the same individual, the existential implications of digital immortality, and the authenticity of a modifiable self. The analysis mentioned enhances understanding of the complex philosophical and ethical landscape accompanying such technological advancements, aligning well with the depth and breadth previously noted in the 'gpt-4o' judgment.\", 'current_chunk_index': 1}\n",
      "--- NODE: Sending Chunk to Judge ---\n",
      "--- DECISION: Continue to next chunk for current model ---\n",
      "\n",
      "--- Output from Node: 'send_chunk_to_judge' ---\n",
      "{'running_judgment': \"The model 'gpt-4o-mini' offers a comprehensive exploration of the potential evolution of personal identity in a future where human consciousness is digitized. The analysis effectively builds on previous insights by discussing the cultural and societal transformation, where society might shift towards interest-based communities over geographical ties. Ethical implications are thoroughly examined, including the rights and status of digital beings, consent and autonomy challenges, social inequality, psychological impacts, and the handling of digital legacy and memory. These considerations highlight significant ethical dilemmas, such as ownership and rights of digital personalities, potential social divisions due to access discrepancies, and mental health consequences linked to digital identity. This nuanced exploration aligns with the previous judgment, further illuminating the intricate philosophical and ethical questions that such technological advancements pose.\", 'current_chunk_index': 2}\n",
      "--- NODE: Sending Chunk to Judge ---\n",
      "--- DECISION: All models have been judged ---\n",
      "\n",
      "--- Output from Node: 'send_chunk_to_judge' ---\n",
      "{'running_judgment': \"The model 'gpt-4o-mini' offers a thorough examination of the potential evolution of personal identity in a society where human consciousness is transferable to digital form. The discussion is enriched by the addition of concerns surrounding security and privacy, emphasizing the ethical challenges associated with protecting digital identities from hacking, unauthorized access, and exploitation. The examination includes the importance of establishing ethical frameworks to safeguard individual rights and societal values amidst these advancements. Overall, the model provides a comprehensive analysis that incorporates cultural shifts, rights of digital beings, consent, social inequality, mental health implications, and the complex ethical landscape that arises with digital consciousness. This nuanced exploration effectively addresses the main question, highlighting the intricate philosophical and ethical questions posed by such technological developments.\", 'current_chunk_index': 3}\n",
      "--- NODE: Final Judge Ranking ---\n",
      "\n",
      "--- Output from Node: 'final_judge' ---\n",
      "{'judgement': ['gpt-4o-mini', 'gpt-4o', 'gpt-3.5-turbo']}\n",
      "\n",
      "--- Workflow Complete ---\n"
     ]
    }
   ],
   "source": [
    "# Prepare the initial state for the graph.\n",
    "initial_state = {\n",
    "    \"competitor_models\": competitor_models\n",
    "}\n",
    "\n",
    "print(\"--- Invoking Agent Workflow ---\")\n",
    "final_state = None\n",
    "try:\n",
    "    # app.stream() executes the graph and streams the output of each node.\n",
    "    # The 'final_state' variable will be updated after each step, so when\n",
    "    # the loop finishes, it will hold the complete final state.\n",
    "    for event in app.stream(initial_state):\n",
    "        for node_name, updated_state in event.items():\n",
    "            print(f\"\\n--- Output from Node: '{node_name}' ---\")\n",
    "            print(updated_state)\n",
    "            final_state = updated_state # This captures the latest state\n",
    "\n",
    "except Exception as e:\n",
    "    print(f\"An error occurred during the workflow execution: {e}\")\n",
    "\n",
    "print(\"\\n--- Workflow Complete ---\")"
   ]
  },
  {
   "cell_type": "code",
   "execution_count": 15,
   "metadata": {
    "colab": {
     "base_uri": "https://localhost:8080/"
    },
    "id": "jV8fHLj3ARYV",
    "outputId": "ea541ad9-25c1-4731-80f8-65836e40d0a6"
   },
   "outputs": [
    {
     "name": "stdout",
     "output_type": "stream",
     "text": [
      "🏆 The best performing model is: gpt-4o-mini\n"
     ]
    }
   ],
   "source": [
    "# Check if the final_state and the judgement list exist and are valid\n",
    "if final_state and isinstance(final_state.get('judgement'), list) and final_state['judgement']:\n",
    "    # The best model is the first item in the ranked list\n",
    "    best_model = final_state['judgement'][0]\n",
    "    print(f\"🏆 The best performing model is: {best_model}\")\n",
    "else:\n",
    "    print(\"Could not determine the best model from the final state.\")"
   ]
  },
  {
   "cell_type": "code",
   "execution_count": null,
   "metadata": {
    "id": "b5sXKmYcA6xS"
   },
   "outputs": [],
   "source": []
  },
  {
   "cell_type": "code",
   "execution_count": null,
   "metadata": {},
   "outputs": [],
   "source": []
  }
 ],
 "metadata": {
  "colab": {
   "provenance": []
  },
  "kernelspec": {
   "display_name": "Python 3 (ipykernel)",
   "language": "python",
   "name": "python3"
  },
  "language_info": {
   "codemirror_mode": {
    "name": "ipython",
    "version": 3
   },
   "file_extension": ".py",
   "mimetype": "text/x-python",
   "name": "python",
   "nbconvert_exporter": "python",
   "pygments_lexer": "ipython3",
   "version": "3.13.7"
  }
 },
 "nbformat": 4,
 "nbformat_minor": 4
}
