{
 "cells": [
  {
   "cell_type": "markdown",
   "id": "7f1ee15c",
   "metadata": {},
   "source": [
    "## 🧠 MNIST Image Classification with a Neural Network\n",
    "\n",
    "### 📦 Objective:\n",
    "Train a basic neural network to recognize handwritten digits (0–9) from grayscale images in the MNIST dataset.\n",
    "\n",
    "---\n",
    "\n",
    "### 🔧 Step-by-Step Breakdown\n",
    "\n",
    "#### 🔹 Step 1: Import Libraries"
   ]
  },
  {
   "cell_type": "code",
   "execution_count": 4,
   "id": "35eb42f6-10d6-4251-8be0-d871943952cf",
   "metadata": {},
   "outputs": [],
   "source": [
    "!pip install -q tensorflow matplotlib seaborn numpy scikit-learn"
   ]
  },
  {
   "cell_type": "code",
   "execution_count": 5,
   "id": "b0364446-011e-49c5-9d4a-3ea708f825bd",
   "metadata": {},
   "outputs": [],
   "source": [
    "import warnings\n",
    "warnings.filterwarnings('ignore')"
   ]
  },
  {
   "cell_type": "code",
   "execution_count": 6,
   "id": "c246cf31",
   "metadata": {},
   "outputs": [
    {
     "name": "stderr",
     "output_type": "stream",
     "text": [
      "2025-08-01 05:10:39.761116: I external/local_xla/xla/tsl/cuda/cudart_stub.cc:32] Could not find cuda drivers on your machine, GPU will not be used.\n",
      "2025-08-01 05:10:39.769457: I external/local_xla/xla/tsl/cuda/cudart_stub.cc:32] Could not find cuda drivers on your machine, GPU will not be used.\n",
      "2025-08-01 05:10:39.786023: E external/local_xla/xla/stream_executor/cuda/cuda_fft.cc:467] Unable to register cuFFT factory: Attempting to register factory for plugin cuFFT when one has already been registered\n",
      "WARNING: All log messages before absl::InitializeLog() is called are written to STDERR\n",
      "E0000 00:00:1754025039.812358    4538 cuda_dnn.cc:8579] Unable to register cuDNN factory: Attempting to register factory for plugin cuDNN when one has already been registered\n",
      "E0000 00:00:1754025039.819865    4538 cuda_blas.cc:1407] Unable to register cuBLAS factory: Attempting to register factory for plugin cuBLAS when one has already been registered\n",
      "W0000 00:00:1754025039.839620    4538 computation_placer.cc:177] computation placer already registered. Please check linkage and avoid linking the same target more than once.\n",
      "W0000 00:00:1754025039.839669    4538 computation_placer.cc:177] computation placer already registered. Please check linkage and avoid linking the same target more than once.\n",
      "W0000 00:00:1754025039.839671    4538 computation_placer.cc:177] computation placer already registered. Please check linkage and avoid linking the same target more than once.\n",
      "W0000 00:00:1754025039.839673    4538 computation_placer.cc:177] computation placer already registered. Please check linkage and avoid linking the same target more than once.\n",
      "2025-08-01 05:10:39.845990: I tensorflow/core/platform/cpu_feature_guard.cc:210] This TensorFlow binary is optimized to use available CPU instructions in performance-critical operations.\n",
      "To enable the following instructions: AVX2 FMA, in other operations, rebuild TensorFlow with the appropriate compiler flags.\n"
     ]
    }
   ],
   "source": [
    "import tensorflow as tf\n",
    "from tensorflow.keras.models import Sequential\n",
    "from tensorflow.keras.layers import Dense, Flatten\n",
    "from tensorflow.keras.datasets import mnist\n",
    "from tensorflow.keras.utils import to_categorical\n",
    "import matplotlib.pyplot as plt"
   ]
  },
  {
   "cell_type": "markdown",
   "id": "8b6f7abf",
   "metadata": {},
   "source": [
    "---\n",
    "\n",
    "#### 🔹 Step 2: Load and Preprocess Data"
   ]
  },
  {
   "cell_type": "code",
   "execution_count": 7,
   "id": "d56839e3",
   "metadata": {},
   "outputs": [],
   "source": [
    "(x_train, y_train), (x_test, y_test) = mnist.load_data()\n",
    "\n",
    "# Normalize pixel values\n",
    "x_train, x_test = x_train / 255.0, x_test / 255.0\n",
    "\n",
    "# One-hot encode labels\n",
    "y_train = to_categorical(y_train)\n",
    "y_test = to_categorical(y_test)"
   ]
  },
  {
   "cell_type": "markdown",
   "id": "6c008dee",
   "metadata": {},
   "source": [
    "---\n",
    "\n",
    "#### 🔹 Step 3: Visualize Sample Images"
   ]
  },
  {
   "cell_type": "code",
   "execution_count": 8,
   "id": "a4040bb2",
   "metadata": {},
   "outputs": [
    {
     "data": {
      "image/png": "[encoded data removed]",
      "text/plain": [
       "<Figure size 1000x400 with 10 Axes>"
      ]
     },
     "metadata": {},
     "output_type": "display_data"
    }
   ],
   "source": [
    "plt.figure(figsize=(10, 4))\n",
    "for i in range(10):\n",
    "    plt.subplot(2, 5, i+1)\n",
    "    plt.imshow(x_train[i], cmap='gray')\n",
    "    plt.title(f\"Label: {y_train[i].argmax()}\")\n",
    "    plt.axis('off')\n",
    "plt.tight_layout()\n",
    "plt.show()"
   ]
  },
  {
   "cell_type": "markdown",
   "id": "4bcad957",
   "metadata": {},
   "source": [
    "---\n",
    "\n",
    "#### 🔹 Step 4: Build the Neural Network Model"
   ]
  },
  {
   "cell_type": "markdown",
   "id": "d1719be0",
   "metadata": {},
   "source": [
    " - A Flatten layer reshapes a multi-dimensional input into a one-dimensional vector. It doesn't learn anything; it just restructures the data.\n",
    "\n",
    "- A Dense layer is a fully-connected layer that performs learning. It uses weights and biases to learn patterns from the input it receives."
   ]
  },
  {
   "cell_type": "code",
   "execution_count": 9,
   "id": "a8caf7f8",
   "metadata": {},
   "outputs": [
    {
     "name": "stderr",
     "output_type": "stream",
     "text": [
      "2025-08-01 05:13:17.206249: E external/local_xla/xla/stream_executor/cuda/cuda_platform.cc:51] failed call to cuInit: INTERNAL: CUDA error: Failed call to cuInit: UNKNOWN ERROR (303)\n"
     ]
    }
   ],
   "source": [
    "model = Sequential([\n",
    "    Flatten(input_shape=(28, 28)),\n",
    "    Dense(128, activation='relu'),\n",
    "    Dense(64, activation='relu'),\n",
    "    Dense(10, activation='softmax')\n",
    "])"
   ]
  },
  {
   "cell_type": "markdown",
   "id": "b220e1a1",
   "metadata": {},
   "source": [
    "---\n",
    "\n",
    "#### 🔹 Step 5: Compile the Model"
   ]
  },
  {
   "cell_type": "markdown",
   "id": "a399c737",
   "metadata": {},
   "source": [
    " - categorical_crossentropy is a loss function used for multi-class classification that measures the difference between the true labels (which must be one-hot encoded) and the predicted probabilities from the model's softmax output."
   ]
  },
  {
   "cell_type": "code",
   "execution_count": 10,
   "id": "66e43d39",
   "metadata": {},
   "outputs": [],
   "source": [
    "model.compile(optimizer='adam',\n",
    "              loss='categorical_crossentropy',\n",
    "              metrics=['accuracy'])"
   ]
  },
  {
   "cell_type": "markdown",
   "id": "4bfa5d01",
   "metadata": {},
   "source": [
    "---\n",
    "\n",
    "#### 🔹 Step 6: Train the Model"
   ]
  },
  {
   "cell_type": "code",
   "execution_count": 11,
   "id": "84ce6eb1",
   "metadata": {},
   "outputs": [
    {
     "name": "stdout",
     "output_type": "stream",
     "text": [
      "Epoch 1/5\n",
      "\u001b[1m1500/1500\u001b[0m \u001b[32m━━━━━━━━━━━━━━━━━━━━\u001b[0m\u001b[37m\u001b[0m \u001b[1m6s\u001b[0m 3ms/step - accuracy: 0.9207 - loss: 0.2729 - val_accuracy: 0.9607 - val_loss: 0.1381\n",
      "Epoch 2/5\n",
      "\u001b[1m1500/1500\u001b[0m \u001b[32m━━━━━━━━━━━━━━━━━━━━\u001b[0m\u001b[37m\u001b[0m \u001b[1m5s\u001b[0m 3ms/step - accuracy: 0.9656 - loss: 0.1145 - val_accuracy: 0.9576 - val_loss: 0.1377\n",
      "Epoch 3/5\n",
      "\u001b[1m1500/1500\u001b[0m \u001b[32m━━━━━━━━━━━━━━━━━━━━\u001b[0m\u001b[37m\u001b[0m \u001b[1m5s\u001b[0m 3ms/step - accuracy: 0.9760 - loss: 0.0793 - val_accuracy: 0.9701 - val_loss: 0.1037\n",
      "Epoch 4/5\n",
      "\u001b[1m1500/1500\u001b[0m \u001b[32m━━━━━━━━━━━━━━━━━━━━\u001b[0m\u001b[37m\u001b[0m \u001b[1m5s\u001b[0m 3ms/step - accuracy: 0.9815 - loss: 0.0574 - val_accuracy: 0.9732 - val_loss: 0.0878\n",
      "Epoch 5/5\n",
      "\u001b[1m1500/1500\u001b[0m \u001b[32m━━━━━━━━━━━━━━━━━━━━\u001b[0m\u001b[37m\u001b[0m \u001b[1m5s\u001b[0m 3ms/step - accuracy: 0.9852 - loss: 0.0449 - val_accuracy: 0.9697 - val_loss: 0.1058\n"
     ]
    },
    {
     "data": {
      "text/plain": [
       "<keras.src.callbacks.history.History at 0x733db6307a70>"
      ]
     },
     "execution_count": 11,
     "metadata": {},
     "output_type": "execute_result"
    }
   ],
   "source": [
    "model.fit(x_train, y_train, epochs=5, validation_split=0.2)"
   ]
  },
  {
   "cell_type": "markdown",
   "id": "6b2b75a3",
   "metadata": {},
   "source": [
    "---\n",
    "\n",
    "#### 🔹 Step 7: Evaluate Performance"
   ]
  },
  {
   "cell_type": "code",
   "execution_count": 12,
   "id": "c07a0dd4",
   "metadata": {},
   "outputs": [
    {
     "name": "stdout",
     "output_type": "stream",
     "text": [
      "\u001b[1m313/313\u001b[0m \u001b[32m━━━━━━━━━━━━━━━━━━━━\u001b[0m\u001b[37m\u001b[0m \u001b[1m1s\u001b[0m 2ms/step - accuracy: 0.9696 - loss: 0.0967\n",
      "Test Accuracy: 0.97\n"
     ]
    }
   ],
   "source": [
    "loss, accuracy = model.evaluate(x_test, y_test)\n",
    "print(f\"Test Accuracy: {accuracy:.2f}\")"
   ]
  },
  {
   "cell_type": "markdown",
   "id": "bced2842",
   "metadata": {},
   "source": [
    "---\n",
    "\n",
    "## 🔍 Module 2: Visualizing Model Decisions\n"
   ]
  },
  {
   "cell_type": "code",
   "execution_count": 13,
   "id": "36a8fec3",
   "metadata": {},
   "outputs": [
    {
     "name": "stdout",
     "output_type": "stream",
     "text": [
      "\u001b[1m1/1\u001b[0m \u001b[32m━━━━━━━━━━━━━━━━━━━━\u001b[0m\u001b[37m\u001b[0m \u001b[1m0s\u001b[0m 78ms/step\n"
     ]
    },
    {
     "data": {
      "image/png": "[encoded data removed]",
      "text/plain": [
       "<Figure size 640x480 with 1 Axes>"
      ]
     },
     "metadata": {},
     "output_type": "display_data"
    },
    {
     "data": {
      "image/png": "[encoded data removed]",
      "text/plain": [
       "<Figure size 640x480 with 1 Axes>"
      ]
     },
     "metadata": {},
     "output_type": "display_data"
    }
   ],
   "source": [
    "import numpy as np\n",
    "\n",
    "# Select a test image\n",
    "test_idx = 42\n",
    "image = x_test[test_idx].reshape(1, 28, 28)\n",
    "prediction = model.predict(image)[0]\n",
    "\n",
    "# Display prediction scores\n",
    "plt.bar(range(10), prediction)\n",
    "plt.title(\"Model Confidence Scores\")\n",
    "plt.xlabel(\"Digit\")\n",
    "plt.ylabel(\"Probability\")\n",
    "plt.show()\n",
    "\n",
    "# Display the actual image\n",
    "plt.imshow(x_test[test_idx], cmap='gray')\n",
    "plt.title(f\"True Label: {y_test[test_idx].argmax()}\")\n",
    "plt.axis('off')\n",
    "plt.show()"
   ]
  },
  {
   "cell_type": "markdown",
   "id": "e50f3986",
   "metadata": {},
   "source": [
    "> 💬 **Takeaway:** This shows not only what the model predicted, but how confident it is about each digit.\n",
    "\n",
    "---\n",
    "\n",
    "### 🔹 Step 3: Visualize Misclassifications"
   ]
  },
  {
   "cell_type": "code",
   "execution_count": 14,
   "id": "96863d0b",
   "metadata": {},
   "outputs": [
    {
     "name": "stdout",
     "output_type": "stream",
     "text": [
      "\u001b[1m313/313\u001b[0m \u001b[32m━━━━━━━━━━━━━━━━━━━━\u001b[0m\u001b[37m\u001b[0m \u001b[1m0s\u001b[0m 1ms/step\n"
     ]
    },
    {
     "data": {
      "image/png": "[encoded data removed]",
      "text/plain": [
       "<Figure size 1000x400 with 5 Axes>"
      ]
     },
     "metadata": {},
     "output_type": "display_data"
    }
   ],
   "source": [
    "preds = model.predict(x_test)\n",
    "pred_labels = preds.argmax(axis=1)\n",
    "true_labels = y_test.argmax(axis=1)\n",
    "\n",
    "# Find incorrect predictions\n",
    "errors = np.where(pred_labels != true_labels)[0]\n",
    "\n",
    "# Visualize a few\n",
    "plt.figure(figsize=(10, 4))\n",
    "for i in range(5):\n",
    "    idx = errors[i]\n",
    "    plt.subplot(1, 5, i+1)\n",
    "    plt.imshow(x_test[idx], cmap='gray')\n",
    "    plt.title(f\"Pred: {pred_labels[idx]}, Truth: {true_labels[idx]}\")\n",
    "    plt.axis('off')\n",
    "plt.tight_layout()\n",
    "plt.show()"
   ]
  },
  {
   "cell_type": "code",
   "execution_count": null,
   "id": "03428078-6db3-49c0-a31e-e60a53ee0ff9",
   "metadata": {},
   "outputs": [],
   "source": []
  },
  {
   "cell_type": "code",
   "execution_count": null,
   "id": "d5430e6f-973a-409c-9202-55de139e72f7",
   "metadata": {},
   "outputs": [],
   "source": []
  }
 ],
 "metadata": {
  "jupytext": {
   "cell_metadata_filter": "-all",
   "main_language": "python",
   "notebook_metadata_filter": "-all"
  },
  "kernelspec": {
   "display_name": "Python 3 (ipykernel)",
   "language": "python",
   "name": "python3"
  },
  "language_info": {
   "codemirror_mode": {
    "name": "ipython",
    "version": 3
   },
   "file_extension": ".py",
   "mimetype": "text/x-python",
   "name": "python",
   "nbconvert_exporter": "python",
   "pygments_lexer": "ipython3",
   "version": "3.12.3"
  }
 },
 "nbformat": 4,
 "nbformat_minor": 5
}
