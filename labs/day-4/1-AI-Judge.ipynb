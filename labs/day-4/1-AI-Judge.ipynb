{
  "cells": [
    {
      "cell_type": "markdown",
      "metadata": {
        "id": "AVCjcUqn93B8"
      },
      "source": [
        "# Lab: Building a Model Evaluator with LangGraph\n",
        "\n",
        "This notebook refactors our previous model comparison script into a stateful, robust agent using LangGraph. By structuring the workflow as a graph, we gain better control, observability, and the ability to easily extend the process in the future.\n",
        "\n",
        "### Key Features:\n",
        "1.  **Stateful Agent**: The entire workflow is managed within a `StateGraph`.\n",
        "2.  **Modular Nodes**: Each logical step (generating a question, querying models, judging) is a separate, well-defined node.\n",
        "3.  **Configuration Driven**: Uses a `config.ini` file for settings.\n",
        "4.  **Visualization**: Displays a diagram of the agent's graph structure."
      ]
    },
    {
      "cell_type": "markdown",
      "metadata": {
        "id": "ak6vWkmu93CH"
      },
      "source": [
        "## 1. Setup and Installation"
      ]
    },
    {
      "cell_type": "code",
      "execution_count": null,
      "metadata": {
        "colab": {
          "base_uri": "https://localhost:8080/"
        },
        "id": "2tt3Z6Jp93CL",
        "outputId": "706fb9c1-d636-4768-cc6d-fb6fd42cb74b"
      },
      "outputs": [
        {
          "name": "stdout",
          "output_type": "stream",
          "text": [
            "Requirement already satisfied: python-dotenv in /usr/local/lib/python3.11/dist-packages (1.1.1)\n",
            "Requirement already satisfied: openai in /usr/local/lib/python3.11/dist-packages (1.97.1)\n",
            "Requirement already satisfied: langgraph in /usr/local/lib/python3.11/dist-packages (0.6.3)\n",
            "Requirement already satisfied: ipykernel in /usr/local/lib/python3.11/dist-packages (6.17.1)\n",
            "Requirement already satisfied: anyio<5,>=3.5.0 in /usr/local/lib/python3.11/dist-packages (from openai) (4.9.0)\n",
            "Requirement already satisfied: distro<2,>=1.7.0 in /usr/local/lib/python3.11/dist-packages (from openai) (1.9.0)\n",
            "Requirement already satisfied: httpx<1,>=0.23.0 in /usr/local/lib/python3.11/dist-packages (from openai) (0.28.1)\n",
            "Requirement already satisfied: jiter<1,>=0.4.0 in /usr/local/lib/python3.11/dist-packages (from openai) (0.10.0)\n",
            "Requirement already satisfied: pydantic<3,>=1.9.0 in /usr/local/lib/python3.11/dist-packages (from openai) (2.11.7)\n",
            "Requirement already satisfied: sniffio in /usr/local/lib/python3.11/dist-packages (from openai) (1.3.1)\n",
            "Requirement already satisfied: tqdm>4 in /usr/local/lib/python3.11/dist-packages (from openai) (4.67.1)\n",
            "Requirement already satisfied: typing-extensions<5,>=4.11 in /usr/local/lib/python3.11/dist-packages (from openai) (4.14.1)\n",
            "Requirement already satisfied: langchain-core>=0.1 in /usr/local/lib/python3.11/dist-packages (from langgraph) (0.3.72)\n",
            "Requirement already satisfied: langgraph-checkpoint<3.0.0,>=2.1.0 in /usr/local/lib/python3.11/dist-packages (from langgraph) (2.1.1)\n",
            "Requirement already satisfied: langgraph-prebuilt<0.7.0,>=0.6.0 in /usr/local/lib/python3.11/dist-packages (from langgraph) (0.6.3)\n",
            "Requirement already satisfied: langgraph-sdk<0.3.0,>=0.2.0 in /usr/local/lib/python3.11/dist-packages (from langgraph) (0.2.0)\n",
            "Requirement already satisfied: xxhash>=3.5.0 in /usr/local/lib/python3.11/dist-packages (from langgraph) (3.5.0)\n",
            "Requirement already satisfied: debugpy>=1.0 in /usr/local/lib/python3.11/dist-packages (from ipykernel) (1.8.15)\n",
            "Requirement already satisfied: ipython>=7.23.1 in /usr/local/lib/python3.11/dist-packages (from ipykernel) (7.34.0)\n",
            "Requirement already satisfied: jupyter-client>=6.1.12 in /usr/local/lib/python3.11/dist-packages (from ipykernel) (6.1.12)\n",
            "Requirement already satisfied: matplotlib-inline>=0.1 in /usr/local/lib/python3.11/dist-packages (from ipykernel) (0.1.7)\n",
            "Requirement already satisfied: nest-asyncio in /usr/local/lib/python3.11/dist-packages (from ipykernel) (1.6.0)\n",
            "Requirement already satisfied: packaging in /usr/local/lib/python3.11/dist-packages (from ipykernel) (25.0)\n",
            "Requirement already satisfied: psutil in /usr/local/lib/python3.11/dist-packages (from ipykernel) (5.9.5)\n",
            "Requirement already satisfied: pyzmq>=17 in /usr/local/lib/python3.11/dist-packages (from ipykernel) (26.2.1)\n",
            "Requirement already satisfied: tornado>=6.1 in /usr/local/lib/python3.11/dist-packages (from ipykernel) (6.4.2)\n",
            "Requirement already satisfied: traitlets>=5.1.0 in /usr/local/lib/python3.11/dist-packages (from ipykernel) (5.7.1)\n",
            "Requirement already satisfied: idna>=2.8 in /usr/local/lib/python3.11/dist-packages (from anyio<5,>=3.5.0->openai) (3.10)\n",
            "Requirement already satisfied: certifi in /usr/local/lib/python3.11/dist-packages (from httpx<1,>=0.23.0->openai) (2025.7.14)\n",
            "Requirement already satisfied: httpcore==1.* in /usr/local/lib/python3.11/dist-packages (from httpx<1,>=0.23.0->openai) (1.0.9)\n",
            "Requirement already satisfied: h11>=0.16 in /usr/local/lib/python3.11/dist-packages (from httpcore==1.*->httpx<1,>=0.23.0->openai) (0.16.0)\n",
            "Requirement already satisfied: setuptools>=18.5 in /usr/local/lib/python3.11/dist-packages (from ipython>=7.23.1->ipykernel) (75.2.0)\n",
            "Requirement already satisfied: jedi>=0.16 in /usr/local/lib/python3.11/dist-packages (from ipython>=7.23.1->ipykernel) (0.19.2)\n",
            "Requirement already satisfied: decorator in /usr/local/lib/python3.11/dist-packages (from ipython>=7.23.1->ipykernel) (4.4.2)\n",
            "Requirement already satisfied: pickleshare in /usr/local/lib/python3.11/dist-packages (from ipython>=7.23.1->ipykernel) (0.7.5)\n",
            "Requirement already satisfied: prompt-toolkit!=3.0.0,!=3.0.1,<3.1.0,>=2.0.0 in /usr/local/lib/python3.11/dist-packages (from ipython>=7.23.1->ipykernel) (3.0.51)\n",
            "Requirement already satisfied: pygments in /usr/local/lib/python3.11/dist-packages (from ipython>=7.23.1->ipykernel) (2.19.2)\n",
            "Requirement already satisfied: backcall in /usr/local/lib/python3.11/dist-packages (from ipython>=7.23.1->ipykernel) (0.2.0)\n",
            "Requirement already satisfied: pexpect>4.3 in /usr/local/lib/python3.11/dist-packages (from ipython>=7.23.1->ipykernel) (4.9.0)\n",
            "Requirement already satisfied: jupyter-core>=4.6.0 in /usr/local/lib/python3.11/dist-packages (from jupyter-client>=6.1.12->ipykernel) (5.8.1)\n",
            "Requirement already satisfied: python-dateutil>=2.1 in /usr/local/lib/python3.11/dist-packages (from jupyter-client>=6.1.12->ipykernel) (2.9.0.post0)\n",
            "Requirement already satisfied: langsmith>=0.3.45 in /usr/local/lib/python3.11/dist-packages (from langchain-core>=0.1->langgraph) (0.4.8)\n",
            "Requirement already satisfied: tenacity!=8.4.0,<10.0.0,>=8.1.0 in /usr/local/lib/python3.11/dist-packages (from langchain-core>=0.1->langgraph) (8.5.0)\n",
            "Requirement already satisfied: jsonpatch<2.0,>=1.33 in /usr/local/lib/python3.11/dist-packages (from langchain-core>=0.1->langgraph) (1.33)\n",
            "Requirement already satisfied: PyYAML>=5.3 in /usr/local/lib/python3.11/dist-packages (from langchain-core>=0.1->langgraph) (6.0.2)\n",
            "Requirement already satisfied: ormsgpack>=1.10.0 in /usr/local/lib/python3.11/dist-packages (from langgraph-checkpoint<3.0.0,>=2.1.0->langgraph) (1.10.0)\n",
            "Requirement already satisfied: orjson>=3.10.1 in /usr/local/lib/python3.11/dist-packages (from langgraph-sdk<0.3.0,>=0.2.0->langgraph) (3.11.1)\n",
            "Requirement already satisfied: annotated-types>=0.6.0 in /usr/local/lib/python3.11/dist-packages (from pydantic<3,>=1.9.0->openai) (0.7.0)\n",
            "Requirement already satisfied: pydantic-core==2.33.2 in /usr/local/lib/python3.11/dist-packages (from pydantic<3,>=1.9.0->openai) (2.33.2)\n",
            "Requirement already satisfied: typing-inspection>=0.4.0 in /usr/local/lib/python3.11/dist-packages (from pydantic<3,>=1.9.0->openai) (0.4.1)\n",
            "Requirement already satisfied: parso<0.9.0,>=0.8.4 in /usr/local/lib/python3.11/dist-packages (from jedi>=0.16->ipython>=7.23.1->ipykernel) (0.8.4)\n",
            "Requirement already satisfied: jsonpointer>=1.9 in /usr/local/lib/python3.11/dist-packages (from jsonpatch<2.0,>=1.33->langchain-core>=0.1->langgraph) (3.0.0)\n",
            "Requirement already satisfied: platformdirs>=2.5 in /usr/local/lib/python3.11/dist-packages (from jupyter-core>=4.6.0->jupyter-client>=6.1.12->ipykernel) (4.3.8)\n",
            "Requirement already satisfied: requests<3,>=2 in /usr/local/lib/python3.11/dist-packages (from langsmith>=0.3.45->langchain-core>=0.1->langgraph) (2.32.3)\n",
            "Requirement already satisfied: requests-toolbelt<2.0.0,>=1.0.0 in /usr/local/lib/python3.11/dist-packages (from langsmith>=0.3.45->langchain-core>=0.1->langgraph) (1.0.0)\n",
            "Requirement already satisfied: zstandard<0.24.0,>=0.23.0 in /usr/local/lib/python3.11/dist-packages (from langsmith>=0.3.45->langchain-core>=0.1->langgraph) (0.23.0)\n",
            "Requirement already satisfied: ptyprocess>=0.5 in /usr/local/lib/python3.11/dist-packages (from pexpect>4.3->ipython>=7.23.1->ipykernel) (0.7.0)\n",
            "Requirement already satisfied: wcwidth in /usr/local/lib/python3.11/dist-packages (from prompt-toolkit!=3.0.0,!=3.0.1,<3.1.0,>=2.0.0->ipython>=7.23.1->ipykernel) (0.2.13)\n",
            "Requirement already satisfied: six>=1.5 in /usr/local/lib/python3.11/dist-packages (from python-dateutil>=2.1->jupyter-client>=6.1.12->ipykernel) (1.17.0)\n",
            "Requirement already satisfied: charset-normalizer<4,>=2 in /usr/local/lib/python3.11/dist-packages (from requests<3,>=2->langsmith>=0.3.45->langchain-core>=0.1->langgraph) (3.4.2)\n",
            "Requirement already satisfied: urllib3<3,>=1.21.1 in /usr/local/lib/python3.11/dist-packages (from requests<3,>=2->langsmith>=0.3.45->langchain-core>=0.1->langgraph) (2.5.0)\n"
          ]
        }
      ],
      "source": [
        "!pip install python-dotenv openai langgraph ipykernel langchain"
      ]
    },
    {
      "cell_type": "markdown",
      "metadata": {
        "id": "JyVI1OvQ93CP"
      },
      "source": [
        "## 2. Imports and Configuration Loading\n",
        "\n",
        "**Purpose**: To import necessary libraries and load all settings from our external `config.ini` file."
      ]
    },
    {
      "cell_type": "code",
      "execution_count": null,
      "metadata": {
        "colab": {
          "base_uri": "https://localhost:8080/"
        },
        "id": "8D7cty4193CR",
        "outputId": "f840f262-c6bf-44a7-b87c-8f3a5bb679b5"
      },
      "outputs": [
        {
          "name": "stdout",
          "output_type": "stream",
          "text": [
            "Configuration loaded successfully!\n",
            "Competitor models: ['gpt-3.5-turbo', 'gpt-4o', 'gpt-4o-mini']\n"
          ]
        }
      ],
      "source": [
        "import os\n",
        "import json\n",
        "import warnings\n",
        "import configparser\n",
        "from dotenv import load_dotenv\n",
        "from openai import OpenAI\n",
        "from IPython.display import Markdown, display, Image\n",
        "from typing import TypedDict, List\n",
        "from langgraph.graph import StateGraph, END, START\n",
        "# NEW IMPORT for text splitter\n",
        "from langchain.text_splitter import RecursiveCharacterTextSplitter\n",
        "\n",
        "warnings.filterwarnings('ignore')\n",
        "\n",
        "try:\n",
        "    load_dotenv(\"dev.env\")\n",
        "    config = configparser.ConfigParser()\n",
        "    config.read('1-config.ini')\n",
        "\n",
        "    # Model settings\n",
        "    JUDGE_MODEL = config.get('Models', 'judge_model')\n",
        "    competitor_models_str = config.get('Models', 'competitor_models')\n",
        "    competitor_models = [model.strip() for model in competitor_models_str.split(',')]\n",
        "    \n",
        "    # NEW: Chunk size for large answers\n",
        "    CHUNK_SIZE = config.getint('Parameters', 'chunk_size', fallback=2000)\n",
        "    CHUNK_OVERLAP = config.getint('Parameters', 'chunk_overlap', fallback=200)\n",
        "\n",
        "    print(\"Configuration loaded successfully!\")\n",
        "    print(f\"Competitor models: {competitor_models}\")\n",
        "    print(f\"Chunk Size: {CHUNK_SIZE}, Chunk Overlap: {CHUNK_OVERLAP}\")\n",
        "\n",
        "except Exception as e:\n",
        "    print(f\"Error loading configuration: {e}\")\n"
      ]
    },
    {
      "cell_type": "markdown",
      "metadata": {
        "id": "KkmbG1mC93CS"
      },
      "source": [
        "## 3. Define the Agent's State\n",
        "\n",
        "**Purpose**: To define the data structure that will act as the agent's memory. This `GraphState` will be passed to every node in our graph."
      ]
    },
    {
      "cell_type": "code",
      "execution_count": null,
      "metadata": {
        "id": "og2x1rrS93CT"
      },
      "outputs": [],
      "source": [
        "\n",
        "class GraphState(TypedDict):\n",
        "    \"\"\"Represents the state of our model evaluation workflow.\"\"\"\n",
        "    question: str\n",
        "    competitor_models: List[str]\n",
        "    answers: List[dict]\n",
        "    # NEW: key to store chunked answers\n",
        "    chunked_answers: List[dict]\n",
        "    judgement: str\n",
        "    error_message: str"
      ]
    },
    {
      "cell_type": "markdown",
      "metadata": {
        "id": "Sg335Nd093CU"
      },
      "source": [
        "## 4. Define the Agent's Nodes\n",
        "\n",
        "**Purpose**: To create the functions that will perform the actual work. Each function takes the current state as input and returns a dictionary with the values to update in the state."
      ]
    },
    {
      "cell_type": "code",
      "execution_count": null,
      "metadata": {},
      "outputs": [],
      "source": [
        "def chunk_answers_node(state: GraphState):\n",
        "    \"\"\"Chunks long answers to avoid token limit issues.\"\"\"\n",
        "    print(\"--- NODE: Chunking Answers ---\")\n",
        "    answers = state['answers']\n",
        "    chunked_answers = []\n",
        "\n",
        "    text_splitter = RecursiveCharacterTextSplitter(\n",
        "        chunk_size=CHUNK_SIZE,\n",
        "        chunk_overlap=CHUNK_OVERLAP,\n",
        "        length_function=len\n",
        "    )\n",
        "\n",
        "    for answer in answers:\n",
        "        long_answer = answer['answer']\n",
        "        # Only chunk if the answer is long (e.g., > 1000 characters)\n",
        "        if len(long_answer) > CHUNK_SIZE:\n",
        "            chunks = text_splitter.split_text(long_answer)\n",
        "            print(f\"  - Answer from {answer['model']} was chunked into {len(chunks)} parts.\")\n",
        "            # Store chunks in the state along with original metadata\n",
        "            chunked_answers.append({\"model\": answer['model'], \"chunks\": chunks})\n",
        "        else:\n",
        "            # If the answer is short, keep it as a single chunk\n",
        "            chunked_answers.append({\"model\": answer['model'], \"chunks\": [long_answer]})\n",
        "\n",
        "    return {\"chunked_answers\": chunked_answers}"
      ]
    },
    {
      "cell_type": "code",
      "execution_count": null,
      "metadata": {
        "id": "teVHzIlY93CV"
      },
      "outputs": [],
      "source": [
        "def generate_question_node(state: GraphState):\n",
        "    \"\"\"Generates the challenge question.\"\"\"\n",
        "    print(\"--- NODE: Generating Question ---\")\n",
        "    request = \"Please come up with a challenging, nuanced question that I can ask a number of LLMs to evaluate their intelligence. Answer only with the question, no explanation or preamble.\"\n",
        "    messages = [{\"role\": \"user\", \"content\": request}]\n",
        "    try:\n",
        "        client = OpenAI()\n",
        "        response = client.chat.completions.create(model=JUDGE_MODEL, messages=messages)\n",
        "        question = response.choices[0].message.content\n",
        "        return {\"question\": question}\n",
        "    except Exception as e:\n",
        "        return {\"error_message\": f\"Failed to generate question: {e}\"}\n",
        "\n",
        "def query_models_node(state: GraphState):\n",
        "    \"\"\"Queries each competitor model with the challenge question.\"\"\"\n",
        "    print(\"--- NODE: Querying Competitor Models ---\")\n",
        "    question = state['question']\n",
        "    models_to_query = state['competitor_models']\n",
        "    messages = [{\"role\": \"user\", \"content\": question}]\n",
        "    current_answers = []\n",
        "    client = OpenAI()\n",
        "\n",
        "    for model_name in models_to_query:\n",
        "        print(f\"  - Querying {model_name}...\")\n",
        "        try:\n",
        "            response = client.chat.completions.create(model=model_name, messages=messages)\n",
        "            answer = response.choices[0].message.content\n",
        "            current_answers.append({\"model\": model_name, \"answer\": answer})\n",
        "        except Exception as e:\n",
        "            error_message = f\"Could not get response from {model_name}: {e}\"\n",
        "            print(f\"    ERROR: {error_message}\")\n",
        "            current_answers.append({\"model\": model_name, \"answer\": error_message})\n",
        "\n",
        "    return {\"answers\": current_answers}\n"
      ]
    },
    {
      "cell_type": "code",
      "execution_count": null,
      "metadata": {},
      "outputs": [],
      "source": [
        "def prepare_for_judging_node(state: GraphState):\n",
        "    \"\"\"Chunks long answers and initializes the state for the judging loop.\"\"\"\n",
        "    print(\"--- NODE: Preparing for Judging ---\")\n",
        "    answers = state['answers']\n",
        "    answers_to_rank = []\n",
        "\n",
        "    text_splitter = RecursiveCharacterTextSplitter(\n",
        "        chunk_size=CHUNK_SIZE,\n",
        "        chunk_overlap=CHUNK_OVERLAP,\n",
        "        length_function=len,\n",
        "    )\n",
        "\n",
        "    for answer in answers:\n",
        "        long_answer = answer['answer']\n",
        "        chunks = text_splitter.split_text(long_answer)\n",
        "        answers_to_rank.append({\"model\": answer['model'], \"chunks\": chunks})\n",
        "    \n",
        "    return {\n",
        "        \"answers_to_rank\": answers_to_rank,\n",
        "        \"current_model_index\": 0,\n",
        "        \"current_chunk_index\": 0,\n",
        "        \"running_judgment\": \"No initial judgment.\",\n",
        "    }"
      ]
    },
    {
      "cell_type": "code",
      "execution_count": null,
      "metadata": {},
      "outputs": [],
      "source": [
        "def final_judge_node(state: GraphState):\n",
        "    \"\"\"Generates the final ranking based on the cumulative judgment memory.\"\"\"\n",
        "    print(\"--- NODE: Final Judge Ranking ---\")\n",
        "    question = state['question']\n",
        "    running_judgment = state['running_judgment']\n",
        "    model_names = [ans['model'] for ans in state['answers_to_rank']]\n",
        "\n",
        "    final_ranking_prompt = (\n",
        "        f\"You have completed a detailed evaluation of multiple AI models' answers. \"\n",
        "        f\"The question was: '{question}'. \"\n",
        "        f\"Your final thoughts and comparative analysis are:\\n<final_assessment_context>{running_judgment}</final_assessment_context>\\n\\n\"\n",
        "        f\"Based on this cumulative assessment, provide the definitive ranking of the models from best to worst. \"\n",
        "        f\"The models were: {', '.join(model_names)}. \"\n",
        "        f\"Respond with a JSON object. The object should have a single key, \\\"results\\\", \"\n",
        "        f\"which is a list of the model names in ranked order. Example: {{\\\"results\\\": [\\\"gpt-4o\\\", \\\"gpt-3.5-turbo\\\"]}}\"\n",
        "    )\n",
        "    messages = [{\"role\": \"user\", \"content\": final_ranking_prompt}]\n",
        "    try:\n",
        "        client = OpenAI()\n",
        "        response = client.chat.completions.create(model=JUDGE_MODEL, messages=messages, response_format={\"type\": \"json_object\"})\n",
        "        judgement = response.choices[0].message.content\n",
        "        return {\"judgement\": judgement}\n",
        "    except Exception as e:\n",
        "        return {\"error_message\": f\"Failed to get final judgement: {e}\"}"
      ]
    },
    {
      "cell_type": "code",
      "execution_count": null,
      "metadata": {},
      "outputs": [],
      "source": [
        "def send_chunk_to_judge_node(state: GraphState):\n",
        "    \"\"\"Sends the next chunk of the current answer to the judge model for evaluation.\"\"\"\n",
        "    print(\"--- NODE: Sending Chunk to Judge ---\")\n",
        "    question = state['question']\n",
        "    running_judgment = state['running_judgment']\n",
        "    answers_to_rank = state['answers_to_rank']\n",
        "    model_index = state['current_model_index']\n",
        "    chunk_index = state['current_chunk_index']\n",
        "    \n",
        "    current_model = answers_to_rank[model_index]['model']\n",
        "    current_chunk = answers_to_rank[model_index]['chunks'][chunk_index]\n",
        "    total_chunks = len(answers_to_rank[model_index]['chunks'])\n",
        "\n",
        "    judge_prompt = (\n",
        "        f\"You are an impartial judge. The question is: '{question}'. \"\n",
        "        f\"You are evaluating the answer from model '{current_model}'. \"\n",
        "        f\"Here is chunk {chunk_index + 1} of {total_chunks}. \"\n",
        "        f\"You may have received previous chunks or other models' answers.\\n\\n\"\n",
        "        f\"Current running judgment:\\n<judgment>{running_judgment}</judgment>\\n\\n\"\n",
        "        f\"New chunk to evaluate:\\n<chunk>{current_chunk}</chunk>\\n\\n\"\n",
        "        f\"Please provide your updated assessment based on all content you have seen so far. \"\n",
        "        f\"Your response should be a single paragraph summary of the updated judgment. Do not provide a final ranking yet.\"\n",
        "    )\n",
        "\n",
        "    messages = [{\"role\": \"user\", \"content\": judge_prompt}]\n",
        "    try:\n",
        "        client = OpenAI()\n",
        "        response = client.chat.completions.create(model=JUDGE_MODEL, messages=messages)\n",
        "        updated_judgment = response.choices[0].message.content\n",
        "        return {\"running_judgment\": updated_judgment, \"current_chunk_index\": chunk_index + 1}\n",
        "    except Exception as e:\n",
        "        print(f\"Failed to get judgment for chunk: {e}\")\n",
        "        return {\"error_message\": f\"Failed to get judgment for chunk: {e}\"}"
      ]
    },
    {
      "cell_type": "code",
      "execution_count": null,
      "metadata": {},
      "outputs": [],
      "source": [
        "def judge_answers_node(state: GraphState):\n",
        "    \"\"\"Uses the judge model to evaluate and rank the chunked answers.\"\"\"\n",
        "    print(\"--- NODE: Judging Answers ---\")\n",
        "    question = state['question']\n",
        "    chunked_answers = state['chunked_answers']\n",
        "\n",
        "    all_answers_text = \"\"\n",
        "    for index, response in enumerate(chunked_answers):\n",
        "        # Concatenate all chunks for a given model\n",
        "        full_response_text = \"\\n[CHUNK_SEPARATOR]\\n\".join(response['chunks'])\n",
        "        all_answers_text += f\"--- START OF RESPONSE {index+1} ({response['model']}) ---\\n{full_response_text}\\n--- END OF RESPONSE {index+1} ---\\n\\n\"\n",
        "\n",
        "    judge_prompt = (\n",
        "        f\"You are an impartial judge in a competition between multiple AI models. \"\n",
        "        f\"Your task is to evaluate each model's response to a question based on clarity, depth, and accuracy. \"\n",
        "        f\"The question was: \\\"{question}\\\". \"\n",
        "        f\"Here are the responses, which may be broken into chunks separated by '[CHUNK_SEPARATOR]'. \"\n",
        "        f\"Please read the entire content of each response. \"\n",
        "        f\"Rank them from best to worst and respond with a JSON object. \"\n",
        "        f\"The object should have a single key, \\\"results\\\", which is a list of the competitor numbers (as integers) in ranked order. \"\n",
        "        f\"Example: {{\\\"results\\\": [2, 1, 3]}}\\n\\n\"\n",
        "        f\"Responses to judge:\\n{all_answers_text}\"\n",
        "    )\n",
        "\n",
        "    messages = [{\"role\": \"user\", \"content\": judge_prompt}]\n",
        "\n",
        "    try:\n",
        "        client = OpenAI()\n",
        "        response = client.chat.completions.create(model=JUDGE_MODEL, messages=messages, response_format={\"type\": \"json_object\"})\n",
        "        judgement = response.choices[0].message.content\n",
        "        return {\"judgement\": judgement}\n",
        "    except Exception as e:\n",
        "        return {\"error_message\": f\"Failed to get judgement: {e}\"}"
      ]
    },
    {
      "cell_type": "code",
      "execution_count": null,
      "metadata": {},
      "outputs": [],
      "source": [
        "def check_next_chunk_node(state: GraphState):\n",
        "    answers_to_rank = state['answers_to_rank']\n",
        "    model_index = state['current_model_index']\n",
        "    chunk_index = state['current_chunk_index']\n",
        "    if chunk_index < len(answers_to_rank[model_index]['chunks']):\n",
        "        print(\"--- DECISION: Continue to next chunk for current model ---\")\n",
        "        return \"continue\"\n",
        "    else:\n",
        "        print(\"--- DECISION: All chunks for current model processed ---\")\n",
        "        return \"end_chunk_loop\"\n",
        "\n",
        "def check_next_model_node(state: GraphState):\n",
        "    answers_to_rank = state['answers_to_rank']\n",
        "    model_index = state['current_model_index']\n",
        "    if model_index + 1 < len(answers_to_rank):\n",
        "        print(\"--- DECISION: Continue to next model's answers ---\")\n",
        "        return \"continue\"\n",
        "    else:\n",
        "        print(\"--- DECISION: All models have been judged ---\")\n",
        "        return \"end_all_loops\""
      ]
    },
    {
      "cell_type": "markdown",
      "metadata": {
        "id": "-aRlkKwt93CW"
      },
      "source": [
        "## 5. Construct and Visualize the Graph\n",
        "\n",
        "**Purpose**: To wire the nodes together into a coherent workflow and visualize the resulting graph."
      ]
    },
    {
      "cell_type": "code",
      "execution_count": null,
      "metadata": {
        "colab": {
          "base_uri": "https://localhost:8080/",
          "height": 467
        },
        "id": "_iEgqFDR93CX",
        "outputId": "53516f33-b9e1-44c1-df11-302701bbcf44"
      },
      "outputs": [
        {
          "name": "stdout",
          "output_type": "stream",
          "text": [
            "LangGraph workflow compiled successfully!\n"
          ]
        },
        {
          "data": {
            "image/png": "[encoded data removed]",
            "text/plain": [
              "<IPython.core.display.Image object>"
            ]
          },
          "metadata": {},
          "output_type": "display_data"
        }
      ],
      "source": [
        "workflow = StateGraph(GraphState)\n",
        "\n",
        "# Add all nodes to the graph\n",
        "workflow.add_node(\"generate_question\", generate_question_node)\n",
        "workflow.add_node(\"query_models\", query_models_node)\n",
        "workflow.add_node(\"prepare_for_judging\", prepare_for_judging_node)\n",
        "workflow.add_node(\"send_chunk_to_judge\", send_chunk_to_judge_node)\n",
        "workflow.add_node(\"check_next_chunk\", check_next_chunk_node)\n",
        "workflow.add_node(\"check_next_model\", check_next_model_node)\n",
        "workflow.add_node(\"final_judge\", final_judge_node)\n",
        "\n",
        "# Define the overall workflow edges\n",
        "workflow.add_edge(START, \"generate_question\")\n",
        "workflow.add_edge(\"generate_question\", \"query_models\")\n",
        "# The output of query_models now goes to the new prepare node\n",
        "workflow.add_edge(\"query_models\", \"prepare_for_judging\")\n",
        "\n",
        "# Define the looping logic for the iterative judge\n",
        "# 1. Start the loop by sending the first chunk\n",
        "workflow.add_edge(\"prepare_for_judging\", \"send_chunk_to_judge\")\n",
        "\n",
        "# 2. Check if there are more chunks for the current model\n",
        "workflow.add_conditional_edges(\n",
        "    \"send_chunk_to_judge\",\n",
        "    check_next_chunk_node,\n",
        "    {\n",
        "        # If there are more chunks, loop back to send the next one\n",
        "        \"continue\": \"send_chunk_to_judge\",\n",
        "        # If no more chunks, move on to the next model\n",
        "        \"end_chunk_loop\": \"check_next_model\"\n",
        "    }\n",
        ")\n",
        "\n",
        "# 3. Check if there are more models to judge\n",
        "workflow.add_conditional_edges(\n",
        "    \"check_next_model\",\n",
        "    check_next_model_node,\n",
        "    {\n",
        "        # If there are more models, loop back to the start of the chunk loop\n",
        "        \"continue\": \"send_chunk_to_judge\",\n",
        "        # If all models are judged, proceed to final ranking\n",
        "        \"end_all_loops\": \"final_judge\"\n",
        "    }\n",
        ")\n",
        "\n",
        "# After the loop and final judge, the workflow ends\n",
        "workflow.add_edge(\"final_judge\", END)\n",
        "\n",
        "# Compile the graph into a runnable app\n",
        "app = workflow.compile()\n",
        "\n",
        "print(\"LangGraph workflow compiled successfully!\")\n",
        "\n",
        "# Display the graph visualization\n",
        "try:\n",
        "    display(Image(app.get_graph().draw_mermaid_png()))\n",
        "except Exception as e:\n",
        "    print(f\"Could not display graph: {e}\")"
      ]
    },
    {
      "cell_type": "markdown",
      "metadata": {
        "id": "h66LXSNI93CZ"
      },
      "source": [
        "## 6. Execute the Agent Workflow\n",
        "\n",
        "**Purpose**: To run our newly created LangGraph agent. We prepare the initial state and then invoke the graph."
      ]
    },
    {
      "cell_type": "code",
      "execution_count": 6,
      "metadata": {
        "colab": {
          "base_uri": "https://localhost:8080/"
        },
        "id": "HlAxpEAb93Ca",
        "outputId": "fb1c1322-1820-4894-fa3b-dfd8d3747b3f"
      },
      "outputs": [
        {
          "name": "stdout",
          "output_type": "stream",
          "text": [
            "--- Invoking Agent Workflow ---\n",
            "--- NODE: Generating Question ---\n",
            "\n",
            "--- Output from Node: 'generate_question' ---\n",
            "{'question': 'How does the concept of identity persistence challenge traditional metaphysical notions of the self, and what implications might this have for the development of artificial intelligence that seeks to mimic human cognitive processes?'}\n",
            "--- NODE: Querying Competitor Models ---\n",
            "  - Querying gpt-3.5-turbo...\n",
            "  - Querying gpt-4o...\n",
            "  - Querying gpt-4o-mini...\n",
            "\n",
            "--- Output from Node: 'query_models' ---\n",
            "{'answers': [{'model': 'gpt-3.5-turbo', 'answer': 'The concept of identity persistence challenges traditional metaphysical notions of the self by questioning the idea of a fixed, unchanging identity. Traditional metaphysical theories often posit a unified and consistent self that continues to exist over time, but identity persistence suggests that our sense of self is constantly evolving and can be influenced by external factors.\\n\\nThis has implications for the development of artificial intelligence that seeks to mimic human cognitive processes, as it raises the question of how to incorporate this dynamic aspect of human identity into AI systems. If the self is not a fixed and unchanging entity, then AI programs designed to replicate human cognitive processes must be capable of adapting and evolving in a similar way.\\n\\nFurthermore, the concept of identity persistence challenges the idea of a distinct boundary between the self and external influences, suggesting that our identity is shaped by our interactions with the world around us. This has implications for AI development, as it suggests that AI systems may need to be able to interact with and learn from their environment in order to develop a more nuanced understanding of human identity and behavior.'}, {'model': 'gpt-4o', 'answer': 'The concept of identity persistence challenges traditional metaphysical notions of the self by questioning the assumption that there is a stable, unchanging core that defines a person\\'s identity over time. Traditional views often rely on the idea of a continuous, singular essence or soul that remains constant throughout a person’s life, providing a foundation for personal identity. In contrast, identity persistence suggests that identity is not static but rather an evolving construct influenced by changing experiences, memories, and perceptions.\\n\\nThis dynamic view of identity emphasizes the role of psychological continuity and memory in maintaining a sense of self over time. It aligns more closely with theories like those of philosopher Derek Parfit, who argued that personal identity is not what matters fundamentally, but rather the connectedness and continuity of psychological states.\\n\\nThe implications for the development of artificial intelligence are profound. If identity is not a fixed essence but a fluid and relational construct, then designing AI to mimic human cognition means creating systems capable of adapting and evolving their \"identity\" in response to new information and experiences. This challenges AI developers to move beyond models that simply replicate human behavior to systems that can authentically embody the complex, changing nature of human identity.\\n\\nMoreover, understanding identity as a flexible construct may lead to more advanced AI that can engage in sophisticated relational interactions, learn contextually from past experiences, and even possess a form of self-awareness that reflects an ongoing narrative rather than a static state. This approach not only enhances the potential for creating AI that can integrate more seamlessly into human environments, but also necessitates addressing ethical considerations about the rights and autonomy of AI entities with such capabilities. \\n\\nIn conclusion, embracing identity persistence in AI leads to a focus on adaptability, relationality, and the continuity of experiences, which mirrors the evolving nature of human identity and poses unique challenges and opportunities for AI development.'}, {'model': 'gpt-4o-mini', 'answer': 'The concept of identity persistence raises significant challenges to traditional metaphysical notions of the self, particularly regarding the continuity and permanence of identity over time. Traditionally, metaphysics has often treated the self as a stable, unchanging entity, typically rooted in a physical body or a static essence. However, identity persistence suggests that what we consider the \"self\" is dynamic and can change due to various factors, including experiences, memories, and even the physical makeup of the brain.\\n\\n### Challenges to Traditional Metaphysics\\n\\n1. **Fluidity of Identity**: Identity persistence implies that the self is not a fixed entity but rather a composite of experiences and memories that evolve. This notion challenges the idea of a continuous \"I\" that remains the same throughout life. Philosophers like John Locke have posited that personal identity is linked to consciousness and memory, highlighting that changes in memory can affect identity.\\n\\n2. **Fragmentation of the Self**: Modern perspectives, particularly in psychology and neuroscience, suggest that our identities are multifaceted and can fragment under various circumstances, such as trauma or significant life changes. This contrasts sharply with the traditionally held view of a singular, coherent self.\\n\\n3. **Implications of Non-Identity**: If individuals are not strictly identical to their past selves, this raises questions about moral responsibility, agency, and the essence of personhood. If our identity can frequently change, are we still accountable for actions taken in past states? This might complicate notions of justice, ethics, and personal growth.\\n\\n### Implications for Artificial Intelligence (AI)\\n\\n1. **Understanding Human Cognition**: Developing AI that seeks to mimic human cognitive processes necessitates a richer understanding of how identity persistence shapes thought and behavior. To create AI that can effectively emulate human-like reasoning and emotion, it may need to understand the nuances of memory, experience, and changing identity.\\n\\n2. **Dynamic Personalization**: AI models could improve by embracing a more fluid concept of identity. Rather than being designed around static profiles, AI could adapt continuously, learning and evolving with user interactions and changes in context. This could enable more personalized user experiences, where AI systems are capable of understanding and adapting to the evolving identity of the user.\\n\\n3. **Ethical Considerations**: As AI becomes capable of simulating aspects of human identity, ethical concerns emerge regarding the implications of creating entities that might possess their own forms of identity or consciousness. If a self-aware or identity-persistent AI were developed, questions would arise about rights, personhood, and the moral standing of such entities.\\n\\n4. **Identity in AI Systems**: The challenge of maintaining a coherent identity over time in AI systems becomes crucial. For an AI to build trust and rapport with users, it may need to exhibit a sense of continuity, adjustments based on learned experiences, and adaptability while maintaining a recognizable \\'self\\' — a balance that reflects human identity persistence.\\n\\n5. **Philosophical Implications**: The development of AI that embodies a form of identity persistence might invite philosophical inquiry into the very nature of consciousness, self, and agency. If AI can mimic aspects of persistent identity, it may drive reevaluations of what it means to be human and how identity is defined at a fundamental level.\\n\\nIn summary, the notion of identity persistence presents a complex challenge to traditional views of the self, requiring a reevaluation of our understanding of identity and its implications for a range of fields, particularly in developing AI systems that aspire to perform complex cognitive tasks.'}]}\n",
            "--- NODE: Judging Answers ---\n",
            "\n",
            "--- Output from Node: 'judge_answers' ---\n",
            "{'judgement': '{\"results\": [2, 3, 1]}'}\n",
            "\n",
            "--- Workflow Complete ---\n"
          ]
        }
      ],
      "source": [
        "# Prepare the initial state for the graph.\n",
        "initial_state = {\n",
        "    \"competitor_models\": competitor_models\n",
        "}\n",
        "\n",
        "print(\"--- Invoking Agent Workflow ---\")\n",
        "final_state = None\n",
        "try:\n",
        "    # app.stream() executes the graph and streams the output of each node.\n",
        "    # The 'final_state' variable will be updated after each step, so when\n",
        "    # the loop finishes, it will hold the complete final state.\n",
        "    for event in app.stream(initial_state):\n",
        "        for node_name, updated_state in event.items():\n",
        "            print(f\"\\n--- Output from Node: '{node_name}' ---\")\n",
        "            print(updated_state)\n",
        "            final_state = updated_state # This captures the latest state\n",
        "\n",
        "except Exception as e:\n",
        "    print(f\"An error occurred during the workflow execution: {e}\")\n",
        "\n",
        "print(\"\\n--- Workflow Complete ---\")"
      ]
    },
    {
      "cell_type": "code",
      "execution_count": 7,
      "metadata": {
        "colab": {
          "base_uri": "https://localhost:8080/"
        },
        "id": "jV8fHLj3ARYV",
        "outputId": "ea541ad9-25c1-4731-80f8-65836e40d0a6"
      },
      "outputs": [
        {
          "name": "stdout",
          "output_type": "stream",
          "text": [
            "{'judgement': '{\"results\": [2, 3, 1]}'}\n"
          ]
        }
      ],
      "source": [
        "print(final_state)"
      ]
    },
    {
      "cell_type": "code",
      "execution_count": 7,
      "metadata": {
        "id": "b5sXKmYcA6xS"
      },
      "outputs": [],
      "source": []
    }
  ],
  "metadata": {
    "colab": {
      "provenance": []
    },
    "kernelspec": {
      "display_name": "Python 3",
      "language": "python",
      "name": "python3"
    },
    "language_info": {
      "codemirror_mode": {
        "name": "ipython",
        "version": 3
      },
      "file_extension": ".py",
      "mimetype": "text/x-python",
      "name": "python",
      "nbconvert_exporter": "python",
      "pygments_lexer": "ipython3",
      "version": "3.11.9"
    }
  },
  "nbformat": 4,
  "nbformat_minor": 0
}
